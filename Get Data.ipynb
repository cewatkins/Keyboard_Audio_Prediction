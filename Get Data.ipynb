{
 "cells": [
  {
   "cell_type": "markdown",
   "metadata": {},
   "source": [
    "# Import Packages"
   ]
  },
  {
   "cell_type": "code",
   "execution_count": 1,
   "metadata": {
    "collapsed": true
   },
   "outputs": [],
   "source": [
    "import pandas as pd\n",
    "import pyaudio\n",
    "import numpy as np\n",
    "from IPython import display\n",
    "import os\n",
    "from sklearn.preprocessing import normalize\n",
    "import datetime"
   ]
  },
  {
   "cell_type": "code",
   "execution_count": 2,
   "metadata": {
    "collapsed": true
   },
   "outputs": [],
   "source": [
    "from pynput import keyboard\n",
    "import wave"
   ]
  },
  {
   "cell_type": "code",
   "execution_count": 3,
   "metadata": {},
   "outputs": [
    {
     "data": {
      "text/plain": [
       "{'defaultHighInputLatency': 0.18,\n",
       " 'defaultHighOutputLatency': 0.18,\n",
       " 'defaultLowInputLatency': 0.09,\n",
       " 'defaultLowOutputLatency': 0.09,\n",
       " 'defaultSampleRate': 44100.0,\n",
       " 'hostApi': 0,\n",
       " 'index': 1,\n",
       " 'maxInputChannels': 2,\n",
       " 'maxOutputChannels': 0,\n",
       " 'name': 'Microphone (Logitech USB Microp',\n",
       " 'structVersion': 2}"
      ]
     },
     "execution_count": 3,
     "metadata": {},
     "output_type": "execute_result"
    }
   ],
   "source": [
    "# Should see a default device, otherwise will get an error below\n",
    "pa = pyaudio.PyAudio()\n",
    "pa.get_default_input_device_info()"
   ]
  },
  {
   "cell_type": "markdown",
   "metadata": {},
   "source": [
    "### On keypress, record microphone\n",
    "### On keyrelease, save data"
   ]
  },
  {
   "cell_type": "code",
   "execution_count": 4,
   "metadata": {
    "collapsed": true
   },
   "outputs": [],
   "source": [
    "import threading\n",
    "from time import sleep\n",
    "import queue\n",
    "\n",
    "class KeyAudio(object):\n",
    "    def __init__(self):\n",
    "        print(\"Instantiating...\")\n",
    "        \n",
    "        # I want to record for approximately 300ms for each keypress. This recording should center on the press event.\n",
    "        # <---150ms---> KeyPress <---150ms--->\n",
    "        \n",
    "        self.chunk = 1024\n",
    "        self.format = pyaudio.paInt16\n",
    "        self.channels = 1\n",
    "        self.rate = 44100\n",
    "        self.delta_ms = 25 # Stream read size in milliseconds\n",
    "        self.full_record_ms = 250 # Key press audio recording length in milliseconds\n",
    "        self.post_press_ms = 150 # Recording time after key press in milliseconds\n",
    "        \n",
    "        self.row_size = int(self.rate / self.chunk * self.delta_ms * (1/1000))\n",
    "        \n",
    "        self.p = pyaudio.PyAudio()\n",
    "        self.stream = self.p.open(format = self.format, channels = self.channels, rate = self.rate, input = True, frames_per_buffer = self.chunk)\n",
    "        \n",
    "        self.running = False # Keyboard and Audio Log started flag\n",
    "        \n",
    "        self.frames = [] # A list of delta_ms raw byte samples\n",
    "        self.df_list = [] # Holds list of dictionaries until user saves as dataframe\n",
    "        self.q = queue.Queue() # Use Queue as FIFO for recorded frames\n",
    "        \n",
    "        self.key_cnt = 0 # Track the number of recorded keypresses for this session\n",
    "    \n",
    "    # Start Listening for Keyboard Presses and recording Audio\n",
    "    def startListener(self):\n",
    "        print(\"Starting listener...\")\n",
    "        self.running = True\n",
    "        \n",
    "        # Record microphone in separate thread\n",
    "        threads = []\n",
    "        t = threading.Thread(target=self.log)\n",
    "        threads.append(t)\n",
    "        t.start()\n",
    "\n",
    "        with keyboard.Listener(on_press=self.on_press) as listener:\n",
    "            listener.join()\n",
    "      \n",
    "    # Keyboard Press\n",
    "    def on_press(self, key):\n",
    "        print(key)\n",
    "        \n",
    "        # Escape Pressed\n",
    "        if key == keyboard.Key.esc:\n",
    "            self.running = False\n",
    "            return False # Stop Key Listener\n",
    "        else:\n",
    "            sleep(self.post_press_ms/1000) # Keep recording audio for some delta defined after the key is pressed\n",
    "            \n",
    "            if self.q.qsize() != round(self.full_record_ms/self.delta_ms):\n",
    "                print(\"Error: Incorrect queue size: {}\".format(self.q.qsize()))\n",
    "                return\n",
    "            \n",
    "            self.frames = list(self.q.queue)\n",
    "            frame_bytes = bytearray([byte for row in self.frames for byte in row])\n",
    "            frames_int = np.frombuffer(frame_bytes, dtype=np.int16) # convert to int16\n",
    "            \n",
    "            # Create dictionary for each sample and append to list (used later to create dataframe)\n",
    "            record_sample = [{'key': key, 'data': frames_int, 'raw': frame_bytes, 'timestamp': datetime.datetime.utcnow()}]\n",
    "            self.df_list.extend(record_sample)\n",
    "            \n",
    "            if self.key_cnt % 50 == 49:\n",
    "                print(\"Saving dataframe. Session key count: {}\".format(self.key_cnt))\n",
    "                self.save_dataframe()\n",
    "            \n",
    "            self.key_cnt += 1 # New keypress recorded\n",
    "            \n",
    "    def log(self):\n",
    "        while self.running:\n",
    "            data = self.stream.read(self.chunk * self.row_size) # Raw data in byte format\n",
    "            self.q.put(data)\n",
    "\n",
    "            if self.q.qsize() > round(self.full_record_ms/self.delta_ms):\n",
    "                self.q.get()\n",
    "\n",
    "        # When run complete, stop stream\n",
    "        self.stream.stop_stream()\n",
    "        self.stream.close()\n",
    "        self.p.terminate()\n",
    "    \n",
    "    def save_data_as_wav(self, data, filename=\"file.wav\"):\n",
    "        WAVE_OUTPUT_FILENAME = filename\n",
    "        waveFile = wave.open(WAVE_OUTPUT_FILENAME, 'wb') # 'wb' write only mode\n",
    "        waveFile.setnchannels(self.channels)\n",
    "        waveFile.setsampwidth(self.p.get_sample_size(self.format))\n",
    "        waveFile.setframerate(self.rate)\n",
    "        waveFile.writeframes(data)\n",
    "        waveFile.close()\n",
    "        \n",
    "    def save_dataframe(self, filename='DataSet/data.pkl'):\n",
    "        df = pd.DataFrame.from_records(self.df_list)\n",
    "        \n",
    "        # Get existing data and combine with new data\n",
    "        if os.path.isfile(filename):\n",
    "            df_saved = pd.read_pickle(filename)\n",
    "            df = df_saved.append(df, ignore_index=True)\n",
    "            \n",
    "        # Save to pickle file\n",
    "        df.to_pickle(filename)\n",
    "        \n",
    "        self.df_list = [] # Clear existing list data"
   ]
  },
  {
   "cell_type": "markdown",
   "metadata": {},
   "source": [
    "# Data Sampling\n",
    "#### Hit Esc to stop sampling"
   ]
  },
  {
   "cell_type": "code",
   "execution_count": 58,
   "metadata": {
    "scrolled": true
   },
   "outputs": [
    {
     "name": "stdout",
     "output_type": "stream",
     "text": [
      "Instantiating...\n",
      "Starting listener...\n",
      "'T'\n",
      "'H'\n",
      "'I'\n",
      "'S'\n",
      "Key.space\n",
      "'I'\n",
      "'S'\n",
      "Key.space\n",
      "'A'\n",
      "Key.space\n",
      "'T'\n",
      "'E'\n",
      "'S'\n",
      "'T'\n",
      "Key.space\n",
      "'O'\n",
      "'F'\n",
      "Key.space\n",
      "'T'\n",
      "'H'\n",
      "'E'\n",
      "Key.space\n",
      "'E'\n",
      "'M'\n",
      "'E'\n",
      "'R'\n",
      "'G'\n",
      "'E'\n",
      "'N'\n",
      "'C'\n",
      "'Y'\n",
      "Key.space\n",
      "'B'\n",
      "'R'\n",
      "'O'\n",
      "'A'\n",
      "'D'\n",
      "'C'\n",
      "'A'\n",
      "'S'\n",
      "'T'\n",
      "Key.space\n",
      "'S'\n",
      "'Y'\n",
      "'S'\n",
      "'T'\n",
      "'E'\n",
      "'M'\n",
      "'>'\n",
      "Key.space\n",
      "Saving dataframe. Session key count: 49\n",
      "'N'\n",
      "'O'\n",
      "'W'\n",
      "Key.space\n",
      "'I'\n",
      "Key.space\n",
      "'A'\n",
      "'M'\n",
      "Key.space\n",
      "'J'\n",
      "'U'\n",
      "'S'\n",
      "'T'\n",
      "Key.space\n",
      "'P'\n",
      "'R'\n",
      "'E'\n",
      "'S'\n",
      "'S'\n",
      "'I'\n",
      "'N'\n",
      "'G'\n",
      "Key.space\n",
      "'K'\n",
      "'E'\n",
      "'Y'\n",
      "'S'\n",
      "Key.space\n",
      "'F'\n",
      "'O'\n",
      "'R'\n",
      "Key.space\n",
      "'A'\n",
      "Key.space\n",
      "'W'\n",
      "'H'\n",
      "'I'\n",
      "'L'\n",
      "'E'\n",
      "Key.space\n",
      "'A'\n",
      "'N'\n",
      "'D'\n",
      "Key.space\n",
      "'N'\n",
      "'O'\n",
      "'W'\n",
      "Key.space\n",
      "'I'\n",
      "'M'\n",
      "Saving dataframe. Session key count: 99\n",
      "Key.space\n",
      "'G'\n",
      "'O'\n",
      "'I'\n",
      "'N'\n",
      "'G'\n",
      "Key.space\n",
      "'T'\n",
      "'O'\n",
      "Key.space\n",
      "'P'\n",
      "'R'\n",
      "'E'\n",
      "'S'\n",
      "'S'\n",
      "Key.space\n",
      "'S'\n",
      "'O'\n",
      "'M'\n",
      "'E'\n",
      "Key.space\n",
      "'M'\n",
      "'O'\n",
      "'R'\n",
      "'E'\n",
      "Key.esc\n"
     ]
    }
   ],
   "source": [
    "key = KeyAudio()\n",
    "key.startListener()"
   ]
  },
  {
   "cell_type": "markdown",
   "metadata": {},
   "source": [
    "# Read saved dataframe"
   ]
  },
  {
   "cell_type": "code",
   "execution_count": 5,
   "metadata": {
    "scrolled": true
   },
   "outputs": [
    {
     "name": "stdout",
     "output_type": "stream",
     "text": [
      "150\n"
     ]
    },
    {
     "data": {
      "text/html": [
       "<div>\n",
       "<style>\n",
       "    .dataframe thead tr:only-child th {\n",
       "        text-align: right;\n",
       "    }\n",
       "\n",
       "    .dataframe thead th {\n",
       "        text-align: left;\n",
       "    }\n",
       "\n",
       "    .dataframe tbody tr th {\n",
       "        vertical-align: top;\n",
       "    }\n",
       "</style>\n",
       "<table border=\"1\" class=\"dataframe\">\n",
       "  <thead>\n",
       "    <tr style=\"text-align: right;\">\n",
       "      <th></th>\n",
       "      <th>data</th>\n",
       "      <th>key</th>\n",
       "      <th>raw</th>\n",
       "      <th>timestamp</th>\n",
       "    </tr>\n",
       "  </thead>\n",
       "  <tbody>\n",
       "    <tr>\n",
       "      <th>0</th>\n",
       "      <td>[18, 35, 22, 1, -1, 1, 12, -3, -4, 12, 6, -8, ...</td>\n",
       "      <td>Key.enter</td>\n",
       "      <td>[18, 0, 35, 0, 22, 0, 1, 0, 255, 255, 1, 0, 12...</td>\n",
       "      <td>2018-07-08 15:38:04.345107</td>\n",
       "    </tr>\n",
       "    <tr>\n",
       "      <th>1</th>\n",
       "      <td>[-31, -35, -32, -36, -39, -34, -25, -17, -27, ...</td>\n",
       "      <td>'t'</td>\n",
       "      <td>[225, 255, 221, 255, 224, 255, 220, 255, 217, ...</td>\n",
       "      <td>2018-07-08 15:38:05.837899</td>\n",
       "    </tr>\n",
       "    <tr>\n",
       "      <th>2</th>\n",
       "      <td>[8, 21, -2, 13, 20, 2, 9, 12, 15, 17, 29, 31, ...</td>\n",
       "      <td>'h'</td>\n",
       "      <td>[8, 0, 21, 0, 254, 255, 13, 0, 20, 0, 2, 0, 9,...</td>\n",
       "      <td>2018-07-08 15:38:06.496635</td>\n",
       "    </tr>\n",
       "    <tr>\n",
       "      <th>3</th>\n",
       "      <td>[-16, -8, 4, -5, -20, -12, -2, -3, 1, -9, -27,...</td>\n",
       "      <td>'i'</td>\n",
       "      <td>[240, 255, 248, 255, 4, 0, 251, 255, 236, 255,...</td>\n",
       "      <td>2018-07-08 15:38:07.174468</td>\n",
       "    </tr>\n",
       "    <tr>\n",
       "      <th>4</th>\n",
       "      <td>[-124, -109, -106, -123, -106, -110, -102, -11...</td>\n",
       "      <td>'s'</td>\n",
       "      <td>[132, 255, 147, 255, 150, 255, 133, 255, 150, ...</td>\n",
       "      <td>2018-07-08 15:38:07.337230</td>\n",
       "    </tr>\n",
       "  </tbody>\n",
       "</table>\n",
       "</div>"
      ],
      "text/plain": [
       "                                                data        key  \\\n",
       "0  [18, 35, 22, 1, -1, 1, 12, -3, -4, 12, 6, -8, ...  Key.enter   \n",
       "1  [-31, -35, -32, -36, -39, -34, -25, -17, -27, ...        't'   \n",
       "2  [8, 21, -2, 13, 20, 2, 9, 12, 15, 17, 29, 31, ...        'h'   \n",
       "3  [-16, -8, 4, -5, -20, -12, -2, -3, 1, -9, -27,...        'i'   \n",
       "4  [-124, -109, -106, -123, -106, -110, -102, -11...        's'   \n",
       "\n",
       "                                                 raw  \\\n",
       "0  [18, 0, 35, 0, 22, 0, 1, 0, 255, 255, 1, 0, 12...   \n",
       "1  [225, 255, 221, 255, 224, 255, 220, 255, 217, ...   \n",
       "2  [8, 0, 21, 0, 254, 255, 13, 0, 20, 0, 2, 0, 9,...   \n",
       "3  [240, 255, 248, 255, 4, 0, 251, 255, 236, 255,...   \n",
       "4  [132, 255, 147, 255, 150, 255, 133, 255, 150, ...   \n",
       "\n",
       "                   timestamp  \n",
       "0 2018-07-08 15:38:04.345107  \n",
       "1 2018-07-08 15:38:05.837899  \n",
       "2 2018-07-08 15:38:06.496635  \n",
       "3 2018-07-08 15:38:07.174468  \n",
       "4 2018-07-08 15:38:07.337230  "
      ]
     },
     "execution_count": 5,
     "metadata": {},
     "output_type": "execute_result"
    }
   ],
   "source": [
    "# Read saved list of data from object into a dataframe\n",
    "df = pd.read_pickle('DataSet/data.pkl')\n",
    "print(len(df))\n",
    "df.head()"
   ]
  },
  {
   "cell_type": "markdown",
   "metadata": {},
   "source": [
    "# Plot Data Row"
   ]
  },
  {
   "cell_type": "code",
   "execution_count": 8,
   "metadata": {},
   "outputs": [
    {
     "data": {
      "image/png": "[encoded data removed]",
      "text/plain": [
       "<matplotlib.figure.Figure at 0x1e4e5a5aa58>"
      ]
     },
     "metadata": {},
     "output_type": "display_data"
    }
   ],
   "source": [
    "import matplotlib.pyplot as plt\n",
    "plt.plot(df['data'][3])\n",
    "plt.show()"
   ]
  },
  {
   "cell_type": "markdown",
   "metadata": {},
   "source": [
    "# Save as WAV"
   ]
  },
  {
   "cell_type": "code",
   "execution_count": 66,
   "metadata": {
    "collapsed": true
   },
   "outputs": [],
   "source": [
    "key.save_data_as_wav(df['data'][0])"
   ]
  },
  {
   "cell_type": "code",
   "execution_count": null,
   "metadata": {
    "collapsed": true
   },
   "outputs": [],
   "source": []
  }
 ],
 "metadata": {
  "kernelspec": {
   "display_name": "Python 3",
   "language": "python",
   "name": "python3"
  },
  "language_info": {
   "codemirror_mode": {
    "name": "ipython",
    "version": 3
   },
   "file_extension": ".py",
   "mimetype": "text/x-python",
   "name": "python",
   "nbconvert_exporter": "python",
   "pygments_lexer": "ipython3",
   "version": "3.5.3"
  }
 },
 "nbformat": 4,
 "nbformat_minor": 1
}
