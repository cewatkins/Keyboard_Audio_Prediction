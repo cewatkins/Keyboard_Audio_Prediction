{
 "cells": [
  {
   "cell_type": "markdown",
   "metadata": {},
   "source": [
    "# Import Packages"
   ]
  },
  {
   "cell_type": "code",
   "execution_count": 2,
   "metadata": {
    "collapsed": true
   },
   "outputs": [],
   "source": [
    "import pandas as pd\n",
    "import pyaudio\n",
    "import numpy as np\n",
    "from IPython import display\n",
    "import os\n",
    "from sklearn.preprocessing import normalize\n",
    "import datetime"
   ]
  },
  {
   "cell_type": "code",
   "execution_count": 3,
   "metadata": {
    "collapsed": true
   },
   "outputs": [],
   "source": [
    "from pynput import keyboard\n",
    "import wave"
   ]
  },
  {
   "cell_type": "code",
   "execution_count": 4,
   "metadata": {},
   "outputs": [
    {
     "data": {
      "text/plain": [
       "{'defaultHighInputLatency': 0.18,\n",
       " 'defaultHighOutputLatency': 0.18,\n",
       " 'defaultLowInputLatency': 0.09,\n",
       " 'defaultLowOutputLatency': 0.09,\n",
       " 'defaultSampleRate': 44100.0,\n",
       " 'hostApi': 0,\n",
       " 'index': 1,\n",
       " 'maxInputChannels': 2,\n",
       " 'maxOutputChannels': 0,\n",
       " 'name': 'Microphone (Logitech USB Microp',\n",
       " 'structVersion': 2}"
      ]
     },
     "execution_count": 4,
     "metadata": {},
     "output_type": "execute_result"
    }
   ],
   "source": [
    "# Should see a default device, otherwise will get an error below\n",
    "pa = pyaudio.PyAudio()\n",
    "pa.get_default_input_device_info()"
   ]
  },
  {
   "cell_type": "markdown",
   "metadata": {},
   "source": [
    "### On keypress, record microphone\n",
    "### On keyrelease, save data"
   ]
  },
  {
   "cell_type": "code",
   "execution_count": 5,
   "metadata": {
    "collapsed": true
   },
   "outputs": [],
   "source": [
    "import threading\n",
    "import time\n",
    "import queue\n",
    "\n",
    "class KeyAudio(object):\n",
    "    def __init__(self):\n",
    "        print(\"Instantiating...\")\n",
    "        \n",
    "        # I want to record for approximately 250ms for each keypress. This recording should center on the press event.\n",
    "        # <---200ms---> KeyRelease <---50ms--->\n",
    "        \n",
    "        self.chunk = 1024\n",
    "        self.format = pyaudio.paInt16\n",
    "        self.channels = 1\n",
    "        self.rate = 44100\n",
    "        self.delta_ms = 25 # Stream read size in milliseconds\n",
    "        self.full_record_ms = 250 # Key press audio recording length in milliseconds\n",
    "        self.post_rel_ms = 50 # Recording time after key release in milliseconds\n",
    "        \n",
    "        self.row_size = int(self.rate / self.chunk * self.delta_ms * (1/1000))\n",
    "        \n",
    "        self.p = pyaudio.PyAudio()\n",
    "        self.stream = self.p.open(format = self.format, channels = self.channels, rate = self.rate, input = True, frames_per_buffer = self.chunk)\n",
    "        \n",
    "        self.saving = False # Saving dataframe flag\n",
    "        self.running = False # Keyboard and Audio Log started flag\n",
    "        self.released = True\n",
    "        self.start_time = 0.0 # Time key pressed\n",
    "        self.max_hold_ms = 500 # Maximum time between hold and release for recording to be valid\n",
    "        \n",
    "        self.frames = [] # A list of delta_ms raw byte samples\n",
    "        self.df_list = [] # Holds list of dictionaries until user saves as dataframe\n",
    "        self.q = queue.Queue() # Use Queue as FIFO for recorded frames\n",
    "        \n",
    "        self.key_cnt = 0 # Track the number of recorded keypresses for this session\n",
    "    \n",
    "    # Start Listening for Keyboard Presses and recording Audio\n",
    "    def startListener(self):\n",
    "        print(\"Starting listener...\")\n",
    "        self.running = True\n",
    "        \n",
    "        # Record microphone in separate thread\n",
    "        threads = []\n",
    "        t = threading.Thread(target=self.log)\n",
    "        threads.append(t)\n",
    "        t.start()\n",
    "\n",
    "        with keyboard.Listener(on_press=self.on_press, on_release=self.on_release) as listener:\n",
    "            listener.join()\n",
    "      \n",
    "    # Keyboard Press\n",
    "    def on_press(self, key):\n",
    "        if self.released == True:\n",
    "            self.start_time = time.time()\n",
    "            \n",
    "            self.released = False\n",
    "            \n",
    "    def on_release(self, key):\n",
    "        self.released = True\n",
    "        \n",
    "        # Escape Pressed\n",
    "        if key == keyboard.Key.esc:\n",
    "            self.running = False\n",
    "            return False # Stop Key Listener\n",
    "        else:\n",
    "            # Time between press and release should be less than some delta threshold\n",
    "            if time.time() - self.start_time > self.max_hold_ms/1000:\n",
    "                return\n",
    "            # Don't record data when saving\n",
    "            if self.saving:\n",
    "                return\n",
    "            \n",
    "            print(key)\n",
    "            \n",
    "            time.sleep(self.post_rel_ms/1000) # Keep recording audio for some delta defined after the key is pressed\n",
    "            \n",
    "            if self.q.qsize() != round(self.full_record_ms/self.delta_ms):\n",
    "                print(\"Error: Incorrect queue size: {}\".format(self.q.qsize()))\n",
    "                return\n",
    "            \n",
    "            self.frames = list(self.q.queue)\n",
    "            frame_bytes = bytearray([byte for row in self.frames for byte in row])\n",
    "            frames_int = np.frombuffer(frame_bytes, dtype=np.int16) # convert to int16\n",
    "            \n",
    "            # Create dictionary for each sample and append to list (used later to create dataframe)\n",
    "            record_sample = [{'key': self.key_to_string(key), 'data': frames_int, 'raw': frame_bytes, 'timestamp': datetime.datetime.utcnow()}]\n",
    "            self.df_list.extend(record_sample)\n",
    "            \n",
    "            # Save data to dataframe\n",
    "            if self.key_cnt % 100 == 99:\n",
    "                print(\"Saving dataframe. Session key count: {}\".format(self.key_cnt))\n",
    "                self.save_dataframe()\n",
    "            \n",
    "            self.key_cnt += 1 # New keypress recorded\n",
    "            \n",
    "    def key_to_string(self, key):\n",
    "        key_str = \"\"\n",
    "        if str(type(key)) == \"<enum 'Key'>\":\n",
    "            key_str = key.name # Type <enum 'Key'\n",
    "        else:\n",
    "            key_str = key.char # Type pynput.keyboard._win32.KeyCode\n",
    "        return key_str\n",
    "            \n",
    "    def log(self):\n",
    "        while self.running:\n",
    "            data = self.stream.read(self.chunk * self.row_size) # Raw data in byte format\n",
    "            self.q.put(data)\n",
    "\n",
    "            if self.q.qsize() > round(self.full_record_ms/self.delta_ms):\n",
    "                self.q.get()\n",
    "\n",
    "        # When run complete, stop stream\n",
    "        self.stream.stop_stream()\n",
    "        self.stream.close()\n",
    "        self.p.terminate()\n",
    "    \n",
    "    def save_data_as_wav(self, data, filename=\"file.wav\"):\n",
    "        WAVE_OUTPUT_FILENAME = filename\n",
    "        waveFile = wave.open(WAVE_OUTPUT_FILENAME, 'wb') # 'wb' write only mode\n",
    "        waveFile.setnchannels(self.channels)\n",
    "        waveFile.setsampwidth(self.p.get_sample_size(self.format))\n",
    "        waveFile.setframerate(self.rate)\n",
    "        waveFile.writeframes(data)\n",
    "        waveFile.close()\n",
    "        \n",
    "    def save_dataframe(self, filename='DataSet/data.pkl'):\n",
    "        self.saving = True\n",
    "        df = pd.DataFrame.from_records(self.df_list)\n",
    "        \n",
    "        # Get existing data and combine with new data\n",
    "        if os.path.isfile(filename):\n",
    "            df_saved = pd.read_pickle(filename)\n",
    "            df = df_saved.append(df, ignore_index=True)\n",
    "            \n",
    "        # Save to pickle file\n",
    "        df.to_pickle(filename)\n",
    "        \n",
    "        self.df_list = [] # Clear existing list data\n",
    "        \n",
    "        self.saving = False"
   ]
  },
  {
   "cell_type": "markdown",
   "metadata": {},
   "source": [
    "# Data Sampling\n",
    "#### Hit Esc to stop sampling"
   ]
  },
  {
   "cell_type": "code",
   "execution_count": 17,
   "metadata": {
    "scrolled": true
   },
   "outputs": [
    {
     "name": "stdout",
     "output_type": "stream",
     "text": [
      "Instantiating...\n",
      "Starting listener...\n",
      "Key.space\n"
     ]
    }
   ],
   "source": [
    "key = KeyAudio()\n",
    "key.startListener()"
   ]
  },
  {
   "cell_type": "markdown",
   "metadata": {},
   "source": [
    "# Read saved dataframe"
   ]
  },
  {
   "cell_type": "code",
   "execution_count": 6,
   "metadata": {
    "scrolled": true
   },
   "outputs": [
    {
     "name": "stdout",
     "output_type": "stream",
     "text": [
      "650\n"
     ]
    },
    {
     "data": {
      "text/html": [
       "<div>\n",
       "<style>\n",
       "    .dataframe thead tr:only-child th {\n",
       "        text-align: right;\n",
       "    }\n",
       "\n",
       "    .dataframe thead th {\n",
       "        text-align: left;\n",
       "    }\n",
       "\n",
       "    .dataframe tbody tr th {\n",
       "        vertical-align: top;\n",
       "    }\n",
       "</style>\n",
       "<table border=\"1\" class=\"dataframe\">\n",
       "  <thead>\n",
       "    <tr style=\"text-align: right;\">\n",
       "      <th></th>\n",
       "      <th>data</th>\n",
       "      <th>key</th>\n",
       "      <th>raw</th>\n",
       "      <th>timestamp</th>\n",
       "    </tr>\n",
       "  </thead>\n",
       "  <tbody>\n",
       "    <tr>\n",
       "      <th>0</th>\n",
       "      <td>[-2, -16, -15, -12, 3, 2, 8, 11, -26, -21, -6,...</td>\n",
       "      <td>delete</td>\n",
       "      <td>[254, 255, 240, 255, 241, 255, 244, 255, 3, 0,...</td>\n",
       "      <td>2018-07-08 17:00:03.470304</td>\n",
       "    </tr>\n",
       "    <tr>\n",
       "      <th>1</th>\n",
       "      <td>[7, 6, 2, 17, -1, 1, -17, -9, 2, -4, 9, -6, -2...</td>\n",
       "      <td>t</td>\n",
       "      <td>[7, 0, 6, 0, 2, 0, 17, 0, 255, 255, 1, 0, 239,...</td>\n",
       "      <td>2018-07-08 17:00:10.196903</td>\n",
       "    </tr>\n",
       "    <tr>\n",
       "      <th>2</th>\n",
       "      <td>[47, 49, 47, 40, 44, 51, 43, 35, 30, 38, 35, 4...</td>\n",
       "      <td>h</td>\n",
       "      <td>[47, 0, 49, 0, 47, 0, 40, 0, 44, 0, 51, 0, 43,...</td>\n",
       "      <td>2018-07-08 17:00:10.824195</td>\n",
       "    </tr>\n",
       "    <tr>\n",
       "      <th>3</th>\n",
       "      <td>[-13, -21, -16, -12, -18, -24, -18, -25, -22, ...</td>\n",
       "      <td>i</td>\n",
       "      <td>[243, 255, 235, 255, 240, 255, 244, 255, 238, ...</td>\n",
       "      <td>2018-07-08 17:00:11.529678</td>\n",
       "    </tr>\n",
       "    <tr>\n",
       "      <th>4</th>\n",
       "      <td>[81, 79, 65, 78, 86, 85, 74, 79, 82, 103, 116,...</td>\n",
       "      <td>s</td>\n",
       "      <td>[81, 0, 79, 0, 65, 0, 78, 0, 86, 0, 85, 0, 74,...</td>\n",
       "      <td>2018-07-08 17:00:11.730209</td>\n",
       "    </tr>\n",
       "  </tbody>\n",
       "</table>\n",
       "</div>"
      ],
      "text/plain": [
       "                                                data     key  \\\n",
       "0  [-2, -16, -15, -12, 3, 2, 8, 11, -26, -21, -6,...  delete   \n",
       "1  [7, 6, 2, 17, -1, 1, -17, -9, 2, -4, 9, -6, -2...       t   \n",
       "2  [47, 49, 47, 40, 44, 51, 43, 35, 30, 38, 35, 4...       h   \n",
       "3  [-13, -21, -16, -12, -18, -24, -18, -25, -22, ...       i   \n",
       "4  [81, 79, 65, 78, 86, 85, 74, 79, 82, 103, 116,...       s   \n",
       "\n",
       "                                                 raw  \\\n",
       "0  [254, 255, 240, 255, 241, 255, 244, 255, 3, 0,...   \n",
       "1  [7, 0, 6, 0, 2, 0, 17, 0, 255, 255, 1, 0, 239,...   \n",
       "2  [47, 0, 49, 0, 47, 0, 40, 0, 44, 0, 51, 0, 43,...   \n",
       "3  [243, 255, 235, 255, 240, 255, 244, 255, 238, ...   \n",
       "4  [81, 0, 79, 0, 65, 0, 78, 0, 86, 0, 85, 0, 74,...   \n",
       "\n",
       "                   timestamp  \n",
       "0 2018-07-08 17:00:03.470304  \n",
       "1 2018-07-08 17:00:10.196903  \n",
       "2 2018-07-08 17:00:10.824195  \n",
       "3 2018-07-08 17:00:11.529678  \n",
       "4 2018-07-08 17:00:11.730209  "
      ]
     },
     "execution_count": 6,
     "metadata": {},
     "output_type": "execute_result"
    }
   ],
   "source": [
    "# Read saved list of data from object into a dataframe\n",
    "df = pd.read_pickle('DataSet/data.pkl')\n",
    "print(len(df))\n",
    "df.head()"
   ]
  },
  {
   "cell_type": "markdown",
   "metadata": {},
   "source": [
    "# Plot Data Row"
   ]
  },
  {
   "cell_type": "code",
   "execution_count": 18,
   "metadata": {},
   "outputs": [
    {
     "data": {
      "image/png": "[encoded data removed]",
      "text/plain": [
       "<matplotlib.figure.Figure at 0x1d62db9f8d0>"
      ]
     },
     "metadata": {},
     "output_type": "display_data"
    }
   ],
   "source": [
    "import matplotlib.pyplot as plt\n",
    "plt.plot(df['data'][550])\n",
    "plt.show()"
   ]
  },
  {
   "cell_type": "markdown",
   "metadata": {},
   "source": [
    "# Save as WAV"
   ]
  },
  {
   "cell_type": "code",
   "execution_count": 20,
   "metadata": {},
   "outputs": [
    {
     "name": "stdout",
     "output_type": "stream",
     "text": [
      "Instantiating...\n"
     ]
    }
   ],
   "source": [
    "key = KeyAudio()\n",
    "key.save_data_as_wav(df['data'][550])"
   ]
  },
  {
   "cell_type": "code",
   "execution_count": null,
   "metadata": {
    "collapsed": true
   },
   "outputs": [],
   "source": []
  }
 ],
 "metadata": {
  "kernelspec": {
   "display_name": "Python 3",
   "language": "python",
   "name": "python3"
  },
  "language_info": {
   "codemirror_mode": {
    "name": "ipython",
    "version": 3
   },
   "file_extension": ".py",
   "mimetype": "text/x-python",
   "name": "python",
   "nbconvert_exporter": "python",
   "pygments_lexer": "ipython3",
   "version": "3.5.3"
  }
 },
 "nbformat": 4,
 "nbformat_minor": 1
}
