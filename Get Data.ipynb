{
 "cells": [
  {
   "cell_type": "markdown",
   "metadata": {},
   "source": [
    "# Import Packages"
   ]
  },
  {
   "cell_type": "code",
   "execution_count": 2,
   "metadata": {
    "collapsed": true
   },
   "outputs": [],
   "source": [
    "import pandas as pd\n",
    "import pyaudio\n",
    "import numpy as np\n",
    "from IPython import display\n",
    "import os\n",
    "from sklearn.preprocessing import normalize\n",
    "import datetime"
   ]
  },
  {
   "cell_type": "code",
   "execution_count": 3,
   "metadata": {
    "collapsed": true
   },
   "outputs": [],
   "source": [
    "from pynput import keyboard\n",
    "import wave"
   ]
  },
  {
   "cell_type": "code",
   "execution_count": 4,
   "metadata": {},
   "outputs": [
    {
     "data": {
      "text/plain": [
       "{'defaultHighInputLatency': 0.18,\n",
       " 'defaultHighOutputLatency': 0.18,\n",
       " 'defaultLowInputLatency': 0.09,\n",
       " 'defaultLowOutputLatency': 0.09,\n",
       " 'defaultSampleRate': 44100.0,\n",
       " 'hostApi': 0,\n",
       " 'index': 1,\n",
       " 'maxInputChannels': 2,\n",
       " 'maxOutputChannels': 0,\n",
       " 'name': 'Microphone (Logitech USB Microp',\n",
       " 'structVersion': 2}"
      ]
     },
     "execution_count": 4,
     "metadata": {},
     "output_type": "execute_result"
    }
   ],
   "source": [
    "# Should see a default device, otherwise will get an error below\n",
    "pa = pyaudio.PyAudio()\n",
    "pa.get_default_input_device_info()"
   ]
  },
  {
   "cell_type": "markdown",
   "metadata": {},
   "source": [
    "# Testing"
   ]
  },
  {
   "cell_type": "code",
   "execution_count": 5,
   "metadata": {
    "collapsed": true
   },
   "outputs": [],
   "source": [
    "# I want to record for approximately 200ms for each keypress. This recording should center on the press event.\n",
    "# <---100ms---> KeyPress <---100ms--->\n",
    "chunk = 1024\n",
    "f = pyaudio.paInt16 # Format\n",
    "rate = 44100\n",
    "record_msec = 25\n",
    "\n",
    "row_size = int(rate / chunk * record_msec * (1/1000))\n",
    "\n",
    "p = pyaudio.PyAudio()\n",
    "stream = p.open(format = f, channels = 1, rate = rate, input = True, frames_per_buffer = chunk)\n",
    "\n",
    "frames = []\n",
    "df_list = []"
   ]
  },
  {
   "cell_type": "code",
   "execution_count": 1,
   "metadata": {
    "collapsed": true
   },
   "outputs": [],
   "source": [
    "import threading\n",
    "from time import sleep"
   ]
  },
  {
   "cell_type": "code",
   "execution_count": 7,
   "metadata": {
    "collapsed": true
   },
   "outputs": [],
   "source": [
    "import queue\n",
    "q = queue.Queue() # Use Queue as FIFO for recorded frames"
   ]
  },
  {
   "cell_type": "code",
   "execution_count": 8,
   "metadata": {
    "collapsed": true
   },
   "outputs": [],
   "source": [
    "def worker():\n",
    "    while True:\n",
    "        data = stream.read(chunk * row_size) # Raw data in byte format\n",
    "        q.put(data)\n",
    "        #frames.append(data)\n",
    "\n",
    "        if q.qsize() > 8:\n",
    "            q.get()\n",
    "        #data_int = np.frombuffer(data, dtype=np.int16) # convert to int16\n",
    "\n",
    "    # Create dictionary for each sample and add to list (used later to )\n",
    "    #sample = [{'key': key, 'data': data_int, 'raw': data, 'timestamp': datetime.datetime.utcnow()}]\n",
    "    #self.df_list.extend(sample)\n",
    "    return"
   ]
  },
  {
   "cell_type": "code",
   "execution_count": 9,
   "metadata": {},
   "outputs": [
    {
     "name": "stdout",
     "output_type": "stream",
     "text": [
      "Key.space\n",
      "'H'\n",
      "Key.space\n",
      "'M'\n",
      "'I'\n",
      "Key.down\n",
      "Key.enter\n",
      "Key.ctrl_l\n",
      "'F'\n",
      "'T'\n",
      "'I'\n",
      "'M'\n",
      "'E'\n",
      "Key.enter\n",
      "'I'\n",
      "'M'\n",
      "'P'\n",
      "'O'\n",
      "'R'\n",
      "'T'\n",
      "Key.space\n",
      "'T'\n",
      "'I'\n",
      "'M'\n",
      "'E'\n",
      "'F'\n",
      "'R'\n",
      "'O'\n",
      "'M'\n",
      "Key.space\n",
      "'T'\n",
      "'I'\n",
      "'M'\n",
      "'E'\n",
      "Key.space\n",
      "'I'\n",
      "'M'\n",
      "'P'\n",
      "'O'\n",
      "'R'\n",
      "'T'\n",
      "Key.space\n",
      "'S'\n",
      "'L'\n",
      "'E'\n",
      "'E'\n",
      "'P'\n",
      "Key.esc\n"
     ]
    }
   ],
   "source": [
    "def on_press(key):\n",
    "    print(key)\n",
    "    # Escape Pressed\n",
    "    if key == keyboard.Key.esc:\n",
    "        stream.stop_stream()\n",
    "        stream.close()\n",
    "        p.terminate()\n",
    "        return False\n",
    "    else:\n",
    "        sleep(0.05)\n",
    "        frames = list(q.queue)\n",
    "        waveFile = wave.open(\"test.wav\", 'wb')\n",
    "        waveFile.setnchannels(1)\n",
    "        waveFile.setsampwidth(p.get_sample_size(f))\n",
    "        waveFile.setframerate(rate)\n",
    "        waveFile.writeframes(b''.join(frames))\n",
    "        waveFile.close() \n",
    "\n",
    "threads = []\n",
    "t = threading.Thread(target=worker)\n",
    "threads.append(t)\n",
    "t.start()\n",
    "\n",
    "with keyboard.Listener(on_press=on_press) as listener:\n",
    "    listener.join()"
   ]
  },
  {
   "cell_type": "markdown",
   "metadata": {},
   "source": [
    "### On keypress, record microphone\n",
    "### On keyrelease, save data"
   ]
  },
  {
   "cell_type": "code",
   "execution_count": 6,
   "metadata": {
    "collapsed": true
   },
   "outputs": [],
   "source": [
    "class KeyAudio(object):\n",
    "    def __init__(self):\n",
    "        print(\"Instantiating...\")\n",
    "        \n",
    "        self.chunk = 1024\n",
    "        self.format = pyaudio.paInt16\n",
    "        self.channels = 1\n",
    "        self.rate = 44100\n",
    "        #self.record_seconds = 1\n",
    "        self.record_msec = 100\n",
    "        self.sample_size = int(self.rate*float(self.record_msec/1000.))\n",
    "        \n",
    "        self.row_size = int(self.rate / self.chunk * self.record_msec * (1/1000))\n",
    "        \n",
    "        self.p = pyaudio.PyAudio()\n",
    "        self.stream = self.p.open(format = self.format, \n",
    "        channels = self.channels,\n",
    "        rate = self.rate,\n",
    "        input = True, \n",
    "        frames_per_buffer = self.chunk)\n",
    "        \n",
    "        self.data = self.stream.read(self.chunk)\n",
    "        self.frames = []\n",
    "        self.df_list = []\n",
    "    \n",
    "    def startListener(self):\n",
    "        print(\"Starting listener...\")\n",
    "        \n",
    "        with keyboard.Listener(\n",
    "                on_press=self.on_press,\n",
    "                on_release=self.on_release) as listener:\n",
    "            listener.join()\n",
    "        \n",
    "    def stopListener(self):\n",
    "        pynput.keyboard.Listener.stop\n",
    "        \n",
    "    def on_press(self, key):\n",
    "        if key != keyboard.Key.esc:\n",
    "            self.log(key)\n",
    "            \n",
    "    def on_release(self, key): \n",
    "        if key == keyboard.Key.esc:\n",
    "            self.save_dataframe()\n",
    "            # Stop listener\n",
    "            return False\n",
    "        else:\n",
    "            pass\n",
    "            \n",
    "    def log(self, key):\n",
    "        # Multiplying by row_size gives me the number of chunks necessary to record for record_msec defined on init\n",
    "        data = self.stream.read(self.chunk * self.row_size) # Raw data in byte format\n",
    "        data_int = np.frombuffer(data, dtype=np.int16) # convert to int16\n",
    "\n",
    "        # Create dictionary for each sample and add to list (used later to )\n",
    "        sample = [{'key': key, 'data': data_int, 'raw': data, 'timestamp': datetime.datetime.utcnow()}]\n",
    "        self.df_list.extend(sample)\n",
    "        \n",
    "    def get_dataframe(self):\n",
    "        return self.df_list\n",
    "    \n",
    "    def normalize_data(data):\n",
    "        _max = max([np.max(r) for r in data])\n",
    "        _min = min([np.min(r) for r in data])\n",
    "        normalized = [(r - _min)/(_max - _min) for r in data]\n",
    "        return normalized\n",
    "    \n",
    "    def save_data_as_wav(self, data, filename=\"file.wav\"):\n",
    "        WAVE_OUTPUT_FILENAME = filename\n",
    "        waveFile = wave.open(WAVE_OUTPUT_FILENAME, 'wb') # 'wb' write only mode\n",
    "        waveFile.setnchannels(self.channels)\n",
    "        waveFile.setsampwidth(self.p.get_sample_size(self.format))\n",
    "        waveFile.setframerate(self.rate)\n",
    "        waveFile.writeframes(data)\n",
    "        waveFile.close()\n",
    "        \n",
    "    def save_dataframe(self, filename='DataSet/data.pkl'):\n",
    "        df = pd.DataFrame.from_records(self.get_dataframe())\n",
    "        \n",
    "        # Get existing data and combine with new data\n",
    "        if os.path.isfile(filename):\n",
    "            df_saved = pd.read_pickle(filename)\n",
    "            df = df_saved.append(df, ignore_index=True)\n",
    "            \n",
    "        # Save to pickle file\n",
    "        df.to_pickle(filename)"
   ]
  },
  {
   "cell_type": "markdown",
   "metadata": {},
   "source": [
    "# Data Sampling\n",
    "#### Hit Esc to stop sampling"
   ]
  },
  {
   "cell_type": "code",
   "execution_count": 8,
   "metadata": {
    "scrolled": true
   },
   "outputs": [
    {
     "name": "stdout",
     "output_type": "stream",
     "text": [
      "Instantiating...\n",
      "Starting listener...\n"
     ]
    }
   ],
   "source": [
    "key = KeyAudio()\n",
    "key.startListener()"
   ]
  },
  {
   "cell_type": "markdown",
   "metadata": {},
   "source": [
    "# Read saved dataframe"
   ]
  },
  {
   "cell_type": "code",
   "execution_count": 9,
   "metadata": {
    "scrolled": true
   },
   "outputs": [
    {
     "name": "stdout",
     "output_type": "stream",
     "text": [
      "27770\n"
     ]
    },
    {
     "data": {
      "text/html": [
       "<div>\n",
       "<style>\n",
       "    .dataframe thead tr:only-child th {\n",
       "        text-align: right;\n",
       "    }\n",
       "\n",
       "    .dataframe thead th {\n",
       "        text-align: left;\n",
       "    }\n",
       "\n",
       "    .dataframe tbody tr th {\n",
       "        vertical-align: top;\n",
       "    }\n",
       "</style>\n",
       "<table border=\"1\" class=\"dataframe\">\n",
       "  <thead>\n",
       "    <tr style=\"text-align: right;\">\n",
       "      <th></th>\n",
       "      <th>data</th>\n",
       "      <th>key</th>\n",
       "      <th>raw</th>\n",
       "      <th>timestamp</th>\n",
       "    </tr>\n",
       "  </thead>\n",
       "  <tbody>\n",
       "    <tr>\n",
       "      <th>0</th>\n",
       "      <td>[-39, -13, 32, 65, 76, 78, 83, 93, 99, 106, 12...</td>\n",
       "      <td>Key.space</td>\n",
       "      <td>b'\\xd9\\xff\\xf3\\xff \\x00A\\x00L\\x00N\\x00S\\x00]\\x...</td>\n",
       "      <td>2017-07-29 14:45:19.750098</td>\n",
       "    </tr>\n",
       "    <tr>\n",
       "      <th>1</th>\n",
       "      <td>[0, -9, -14, -14, -7, 9, 31, 41, 33, 34, 58, 7...</td>\n",
       "      <td>Key.enter</td>\n",
       "      <td>b'\\x00\\x00\\xf7\\xff\\xf2\\xff\\xf2\\xff\\xf9\\xff\\t\\x...</td>\n",
       "      <td>2017-07-29 14:45:20.107083</td>\n",
       "    </tr>\n",
       "    <tr>\n",
       "      <th>2</th>\n",
       "      <td>[-219, -216, -208, -200, -194, -189, -180, -17...</td>\n",
       "      <td>Key.space</td>\n",
       "      <td>b'%\\xff(\\xff0\\xff8\\xff&gt;\\xffC\\xffL\\xffV\\xffa\\xf...</td>\n",
       "      <td>2017-07-29 14:45:20.883910</td>\n",
       "    </tr>\n",
       "    <tr>\n",
       "      <th>3</th>\n",
       "      <td>[20, 14, 12, 16, 27, 36, 38, 31, 12, 1, -7, -5...</td>\n",
       "      <td>Key.enter</td>\n",
       "      <td>b'\\x14\\x00\\x0e\\x00\\x0c\\x00\\x10\\x00\\x1b\\x00$\\x0...</td>\n",
       "      <td>2017-07-29 14:45:21.252549</td>\n",
       "    </tr>\n",
       "    <tr>\n",
       "      <th>4</th>\n",
       "      <td>[-433, -438, -435, -430, -420, -409, -396, -38...</td>\n",
       "      <td>Key.space</td>\n",
       "      <td>b'O\\xfeJ\\xfeM\\xfeR\\xfe\\\\\\xfeg\\xfet\\xfe\\x80\\xfe...</td>\n",
       "      <td>2017-07-29 14:45:21.828184</td>\n",
       "    </tr>\n",
       "  </tbody>\n",
       "</table>\n",
       "</div>"
      ],
      "text/plain": [
       "                                                data        key  \\\n",
       "0  [-39, -13, 32, 65, 76, 78, 83, 93, 99, 106, 12...  Key.space   \n",
       "1  [0, -9, -14, -14, -7, 9, 31, 41, 33, 34, 58, 7...  Key.enter   \n",
       "2  [-219, -216, -208, -200, -194, -189, -180, -17...  Key.space   \n",
       "3  [20, 14, 12, 16, 27, 36, 38, 31, 12, 1, -7, -5...  Key.enter   \n",
       "4  [-433, -438, -435, -430, -420, -409, -396, -38...  Key.space   \n",
       "\n",
       "                                                 raw  \\\n",
       "0  b'\\xd9\\xff\\xf3\\xff \\x00A\\x00L\\x00N\\x00S\\x00]\\x...   \n",
       "1  b'\\x00\\x00\\xf7\\xff\\xf2\\xff\\xf2\\xff\\xf9\\xff\\t\\x...   \n",
       "2  b'%\\xff(\\xff0\\xff8\\xff>\\xffC\\xffL\\xffV\\xffa\\xf...   \n",
       "3  b'\\x14\\x00\\x0e\\x00\\x0c\\x00\\x10\\x00\\x1b\\x00$\\x0...   \n",
       "4  b'O\\xfeJ\\xfeM\\xfeR\\xfe\\\\\\xfeg\\xfet\\xfe\\x80\\xfe...   \n",
       "\n",
       "                   timestamp  \n",
       "0 2017-07-29 14:45:19.750098  \n",
       "1 2017-07-29 14:45:20.107083  \n",
       "2 2017-07-29 14:45:20.883910  \n",
       "3 2017-07-29 14:45:21.252549  \n",
       "4 2017-07-29 14:45:21.828184  "
      ]
     },
     "execution_count": 9,
     "metadata": {},
     "output_type": "execute_result"
    }
   ],
   "source": [
    "# Read saved list of data from object into a dataframe\n",
    "df = pd.read_pickle('DataSet/data.pkl')\n",
    "print(len(df))\n",
    "df.head()"
   ]
  },
  {
   "cell_type": "markdown",
   "metadata": {},
   "source": [
    "# Plot Data Row"
   ]
  },
  {
   "cell_type": "code",
   "execution_count": 347,
   "metadata": {},
   "outputs": [
    {
     "data": {
      "image/png": "[encoded data removed]",
      "text/plain": [
       "<matplotlib.figure.Figure at 0x1657b90fa58>"
      ]
     },
     "metadata": {},
     "output_type": "display_data"
    }
   ],
   "source": [
    "import matplotlib.pyplot as plt\n",
    "plt.plot(df['data'][300])\n",
    "plt.show()"
   ]
  },
  {
   "cell_type": "markdown",
   "metadata": {},
   "source": [
    "# Save as WAV"
   ]
  },
  {
   "cell_type": "code",
   "execution_count": 102,
   "metadata": {
    "collapsed": true
   },
   "outputs": [],
   "source": [
    "key.save_data_as_wav(df['data'][0])"
   ]
  },
  {
   "cell_type": "code",
   "execution_count": null,
   "metadata": {
    "collapsed": true
   },
   "outputs": [],
   "source": []
  }
 ],
 "metadata": {
  "kernelspec": {
   "display_name": "Python 3",
   "language": "python",
   "name": "python3"
  },
  "language_info": {
   "codemirror_mode": {
    "name": "ipython",
    "version": 3
   },
   "file_extension": ".py",
   "mimetype": "text/x-python",
   "name": "python",
   "nbconvert_exporter": "python",
   "pygments_lexer": "ipython3",
   "version": "3.5.3"
  }
 },
 "nbformat": 4,
 "nbformat_minor": 1
}
