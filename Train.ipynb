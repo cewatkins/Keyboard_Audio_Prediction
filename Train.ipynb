{
 "cells": [
  {
   "cell_type": "markdown",
   "metadata": {},
   "source": [
    "# Check the Version of TensorFlow and Access to GPU\n",
    "This will check to make sure you have the correct version of TensorFlow and access to a GPU"
   ]
  },
  {
   "cell_type": "markdown",
   "metadata": {},
   "source": [
    "# Todo List\n",
    "- Add several dense layers after convolutional layers\n",
    "- Play with learning rate and batch size\n",
    "- Show single bar chart with different color for truncated keys"
   ]
  },
  {
   "cell_type": "code",
   "execution_count": 1,
   "metadata": {
    "collapsed": true
   },
   "outputs": [],
   "source": [
    "import pandas as pd\n",
    "import numpy as np\n",
    "from sklearn import preprocessing\n",
    "import pickle"
   ]
  },
  {
   "cell_type": "code",
   "execution_count": 2,
   "metadata": {},
   "outputs": [
    {
     "name": "stdout",
     "output_type": "stream",
     "text": [
      "TensorFlow Version: 1.1.0\n",
      "Default GPU Device: /gpu:0\n"
     ]
    }
   ],
   "source": [
    "from distutils.version import LooseVersion\n",
    "import warnings\n",
    "import tensorflow as tf\n",
    "\n",
    "# Check TensorFlow Version\n",
    "assert LooseVersion(tf.__version__) >= LooseVersion('1.0'), 'Please use TensorFlow version 1.0 or newer.  You are using {}'.format(tf.__version__)\n",
    "print('TensorFlow Version: {}'.format(tf.__version__))\n",
    "\n",
    "# Check for a GPU\n",
    "if not tf.test.gpu_device_name():\n",
    "    warnings.warn('No GPU found. Please use a GPU to train your neural network.')\n",
    "else:\n",
    "    print('Default GPU Device: {}'.format(tf.test.gpu_device_name()))"
   ]
  },
  {
   "cell_type": "markdown",
   "metadata": {},
   "source": [
    "# Import Data"
   ]
  },
  {
   "cell_type": "code",
   "execution_count": 3,
   "metadata": {
    "collapsed": true
   },
   "outputs": [],
   "source": [
    "import os\n",
    "dataset_dir = 'DataSet/'"
   ]
  },
  {
   "cell_type": "code",
   "execution_count": 4,
   "metadata": {},
   "outputs": [
    {
     "name": "stdout",
     "output_type": "stream",
     "text": [
      "File: DataSet/2018-07-13_18-39-56_0.pkl, DataSet Length: 500\n",
      "File: DataSet/2018-07-13_18-43-51_0.pkl, DataSet Length: 500\n",
      "File: DataSet/2018-07-13_18-46-04_1.pkl, DataSet Length: 500\n",
      "File: DataSet/2018-07-13_18-47-58_2.pkl, DataSet Length: 500\n",
      "File: DataSet/2018-07-13_18-49-54_3.pkl, DataSet Length: 500\n",
      "File: DataSet/2018-07-13_18-52-16_4.pkl, DataSet Length: 500\n",
      "File: DataSet/2018-07-13_18-54-29_5.pkl, DataSet Length: 500\n",
      "File: DataSet/2018-07-13_18-56-38_6.pkl, DataSet Length: 500\n",
      "File: DataSet/2018-07-13_18-58-30_7.pkl, DataSet Length: 500\n",
      "File: DataSet/2018-07-13_19-00-21_8.pkl, DataSet Length: 500\n",
      "File: DataSet/2018-07-13_19-02-36_9.pkl, DataSet Length: 500\n",
      "File: DataSet/2018-07-13_19-04-42_10.pkl, DataSet Length: 500\n",
      "File: DataSet/2018-07-13_19-06-38_11.pkl, DataSet Length: 500\n",
      "File: DataSet/2018-07-13_19-08-49_12.pkl, DataSet Length: 500\n",
      "File: DataSet/2018-07-13_19-10-48_13.pkl, DataSet Length: 500\n",
      "File: DataSet/2018-07-13_19-12-43_14.pkl, DataSet Length: 500\n",
      "File: DataSet/2018-07-13_19-14-54_15.pkl, DataSet Length: 500\n",
      "File: DataSet/2018-07-13_19-16-54_16.pkl, DataSet Length: 500\n",
      "File: DataSet/2018-07-13_19-19-01_17.pkl, DataSet Length: 500\n",
      "File: DataSet/2018-07-13_19-20-48_18.pkl, DataSet Length: 500\n",
      "File: DataSet/2018-07-13_19-22-54_19.pkl, DataSet Length: 500\n",
      "File: DataSet/2018-07-13_19-22-54_20.pkl, DataSet Length: 500\n",
      "File: DataSet/data_07-08-18.pkl, DataSet Length: 7150\n",
      "File: DataSet/data_07-10-18_work.pkl, DataSet Length: 8700\n",
      "File: DataSet/data_07-13-18.pkl, DataSet Length: 5400\n",
      "Total Length: 32250\n"
     ]
    }
   ],
   "source": [
    "count = 0\n",
    "for filename in os.listdir(dataset_dir):\n",
    "    if filename.endswith(\"test_set.pkl\") or filename.endswith(\"predict.pkl\"):\n",
    "        continue\n",
    "    if filename.endswith(\".pkl\"): \n",
    "        df = pd.read_pickle(os.path.join(dataset_dir, filename))\n",
    "        \n",
    "        if count == 0:\n",
    "            raw_df = df\n",
    "        else:\n",
    "            raw_df = raw_df.append(df, ignore_index=True)\n",
    "            \n",
    "        print('File: {}, DataSet Length: {}'.format(os.path.join(dataset_dir, filename), len(df)))\n",
    "        count += 1\n",
    "    else:\n",
    "        continue\n",
    "print('Total Length: {}'.format(len(raw_df)))"
   ]
  },
  {
   "cell_type": "code",
   "execution_count": 121,
   "metadata": {
    "collapsed": true
   },
   "outputs": [],
   "source": [
    "# # Read saved list of data from object into a dataframe\n",
    "# raw_df = pd.read_pickle('DataSet/data_07-10-18.pkl')\n",
    "# print(len(raw_df))\n",
    "# raw_df.head()"
   ]
  },
  {
   "cell_type": "code",
   "execution_count": 122,
   "metadata": {
    "collapsed": true
   },
   "outputs": [],
   "source": [
    "data_width = len(raw_df['data'][0])"
   ]
  },
  {
   "cell_type": "markdown",
   "metadata": {},
   "source": [
    "# Data Preprocessing"
   ]
  },
  {
   "cell_type": "markdown",
   "metadata": {},
   "source": [
    "#### Filter out key counts less than threshold value"
   ]
  },
  {
   "cell_type": "code",
   "execution_count": 123,
   "metadata": {
    "collapsed": true
   },
   "outputs": [],
   "source": [
    "import collections\n",
    "import matplotlib.pyplot as plt\n",
    "key_count = collections.Counter(raw_df['key'])"
   ]
  },
  {
   "cell_type": "code",
   "execution_count": 124,
   "metadata": {
    "collapsed": true
   },
   "outputs": [],
   "source": [
    "width = 0.5 # Bar width\n",
    "figsize = (15, 4)\n",
    "\n",
    "def plot_key_hist(most_common):\n",
    "    if len(most_common) > 30:\n",
    "        most_common = most_common[:30]\n",
    "        \n",
    "    hist_labels, hist_values = zip(*most_common) # Show only a subset of all keys\n",
    "    indexes = np.arange(len(hist_labels))\n",
    "    plt.figure(figsize=figsize)\n",
    "    plt.bar(indexes, hist_values, width)\n",
    "    plt.xticks(indexes + width * 0.5, hist_labels, rotation='vertical')\n",
    "    plt.show()"
   ]
  },
  {
   "cell_type": "code",
   "execution_count": 125,
   "metadata": {},
   "outputs": [
    {
     "data": {
      "image/png": "[encoded data removed]",
      "text/plain": [
       "<matplotlib.figure.Figure at 0x25ce0a7d518>"
      ]
     },
     "metadata": {},
     "output_type": "display_data"
    }
   ],
   "source": [
    "plot_key_hist(key_count.most_common())"
   ]
  },
  {
   "cell_type": "code",
   "execution_count": 126,
   "metadata": {},
   "outputs": [
    {
     "data": {
      "text/plain": [
       "<bound method Counter.most_common of Counter({'space': 5072, 'e': 3128, 't': 2451, 'a': 2167, 'i': 1883, 'o': 1802, 'n': 1790, 's': 1776, 'r': 1508, 'h': 1126, 'l': 1122, 'd': 894, 'c': 849, 'u': 641, 'm': 633, 'g': 596, 'f': 525, 'p': 488, 'w': 439, 'y': 432, 'b': 395, 'v': 318, 'backspace': 309, '.': 288, ',': 251, 'k': 193, 'enter': 150, 'shift': 120, 'x': 108, \"'\": 77, '0': 72, 'z': 67, 'ctrl_l': 60, '-': 56, '1': 45, '2': 43, 'q': 42, 'delete': 38, 'down': 38, '9': 35, 'j': 27, '3': 25, '5': 21, 'esc': 17, '/': 17, ';': 16, 'left': 16, '7': 15, '6': 14, '4': 14, '8': 14, 'up': 10, 'right': 8, '=': 4, 'tab': 4, '`': 1})>"
      ]
     },
     "execution_count": 126,
     "metadata": {},
     "output_type": "execute_result"
    }
   ],
   "source": [
    "key_count.most_common"
   ]
  },
  {
   "cell_type": "code",
   "execution_count": 127,
   "metadata": {},
   "outputs": [
    {
     "name": "stdout",
     "output_type": "stream",
     "text": [
      "Max Data Size: 14208, Class Count: 8, Threshold: 1775\n"
     ]
    }
   ],
   "source": [
    "# Maximize DataSet Size By Finding Optimal Threshold\n",
    "max_data_size = 0\n",
    "max_class_cnt = 0\n",
    "threshold_max = 0\n",
    "for _, v in key_count.most_common():\n",
    "    threshold = v - 1\n",
    "    min_thresh_cnts = [count for key, count in zip(key_count.keys(), key_count.values()) if count > threshold]\n",
    "    class_cnt = len(min_thresh_cnts)\n",
    "    data_size = min(min_thresh_cnts)*len(min_thresh_cnts)\n",
    "    if data_size > max_data_size:\n",
    "        max_data_size = data_size\n",
    "        max_class_cnt = class_cnt\n",
    "        threshold_max = threshold\n",
    "print('Max Data Size: {}, Class Count: {}, Threshold: {}'.format(max_data_size, max_class_cnt, threshold_max))"
   ]
  },
  {
   "cell_type": "code",
   "execution_count": 128,
   "metadata": {
    "collapsed": true
   },
   "outputs": [],
   "source": [
    "# Manually define threshold\n",
    "#threshold_max = 2166"
   ]
  },
  {
   "cell_type": "code",
   "execution_count": 129,
   "metadata": {
    "collapsed": true
   },
   "outputs": [],
   "source": [
    "# Get list of keys with counts greater than threshold\n",
    "threshold = threshold_max\n",
    "min_thresh_keys = [key for key, count in zip(key_count.keys(), key_count.values()) if count > threshold]\n",
    "\n",
    "# Save list of key classes to pickle\n",
    "pickle.dump(min_thresh_keys, open(os.path.join(dataset_dir, \"key_classes.p\"), \"wb\"))"
   ]
  },
  {
   "cell_type": "code",
   "execution_count": 130,
   "metadata": {
    "collapsed": true
   },
   "outputs": [],
   "source": [
    "min_thresh_df = raw_df[raw_df['key'].isin(min_thresh_keys)] # Filter dataframe to only include keys > threshold"
   ]
  },
  {
   "cell_type": "code",
   "execution_count": 131,
   "metadata": {
    "collapsed": true
   },
   "outputs": [],
   "source": [
    "def trim_max_thresh(grouped_class):\n",
    "    return grouped_class.sample(threshold)"
   ]
  },
  {
   "cell_type": "code",
   "execution_count": 132,
   "metadata": {
    "collapsed": true
   },
   "outputs": [],
   "source": [
    "# Keep same number of samples in each class by throwing away everything past the threshold\n",
    "df = min_thresh_df.groupby(['key']).apply(trim_max_thresh)"
   ]
  },
  {
   "cell_type": "markdown",
   "metadata": {},
   "source": [
    "#### Plot truncated data"
   ]
  },
  {
   "cell_type": "code",
   "execution_count": 133,
   "metadata": {
    "collapsed": true
   },
   "outputs": [],
   "source": [
    "truncated_count = collections.Counter(df['key'])"
   ]
  },
  {
   "cell_type": "code",
   "execution_count": 134,
   "metadata": {},
   "outputs": [
    {
     "data": {
      "image/png": "[encoded data removed]",
      "text/plain": [
       "<matplotlib.figure.Figure at 0x25cace67cc0>"
      ]
     },
     "metadata": {},
     "output_type": "display_data"
    }
   ],
   "source": [
    "plot_key_hist(truncated_count.most_common())"
   ]
  },
  {
   "cell_type": "markdown",
   "metadata": {},
   "source": [
    "### Shuffle data"
   ]
  },
  {
   "cell_type": "code",
   "execution_count": 135,
   "metadata": {
    "collapsed": true
   },
   "outputs": [],
   "source": [
    "df = df.sample(frac=1).reset_index(drop=True)"
   ]
  },
  {
   "cell_type": "markdown",
   "metadata": {},
   "source": [
    "### One Hot Encode Classes\n",
    "<img src=\"assets/one_hot_encoding.jpg\" style=\"width: 200px;\"/>"
   ]
  },
  {
   "cell_type": "code",
   "execution_count": 136,
   "metadata": {
    "collapsed": true
   },
   "outputs": [],
   "source": [
    "n_classes = len(set(df['key']))\n",
    "\n",
    "labels_str = [str(key) for key in df['key']]\n",
    "lb = preprocessing.LabelBinarizer() # Create encoder\n",
    "lb.fit(list(set(labels_str)))\n",
    "labels = lb.transform(labels_str)"
   ]
  },
  {
   "cell_type": "code",
   "execution_count": 137,
   "metadata": {},
   "outputs": [
    {
     "data": {
      "text/plain": [
       "array(['a', 'e', 'i', 'n', 'o', 's', 'space', 't'],\n",
       "      dtype='<U5')"
      ]
     },
     "execution_count": 137,
     "metadata": {},
     "output_type": "execute_result"
    }
   ],
   "source": [
    "lb.classes_"
   ]
  },
  {
   "cell_type": "code",
   "execution_count": 138,
   "metadata": {
    "collapsed": true
   },
   "outputs": [],
   "source": [
    "# Save label set\n",
    "pickle.dump(lb.classes_, open(os.path.join(dataset_dir, 'labels.p'), \"wb\"))"
   ]
  },
  {
   "cell_type": "markdown",
   "metadata": {},
   "source": [
    "### Cross Validation: Training, Validation, and Test Sets"
   ]
  },
  {
   "cell_type": "code",
   "execution_count": 139,
   "metadata": {
    "collapsed": true
   },
   "outputs": [],
   "source": [
    "input_data = df['data'].values\n",
    "input_data = np.stack(input_data, axis=0)"
   ]
  },
  {
   "cell_type": "code",
   "execution_count": 140,
   "metadata": {
    "collapsed": true
   },
   "outputs": [],
   "source": [
    "from sklearn.model_selection import train_test_split\n",
    "train_features, temp_features, train_labels, temp_labels = train_test_split(input_data, labels, test_size=0.2, random_state=42)\n",
    "test_features, valid_features, test_labels, valid_labels = train_test_split(temp_features, temp_labels, test_size=0.5, random_state=42)"
   ]
  },
  {
   "cell_type": "markdown",
   "metadata": {},
   "source": [
    "### Normalize Data\n",
    "Normalization should be performed on the training set. All other test sets should be normalized to parameters fit from the training set's scaler."
   ]
  },
  {
   "cell_type": "markdown",
   "metadata": {},
   "source": [
    "#### Normalize Training Set and Fit Scaler"
   ]
  },
  {
   "cell_type": "code",
   "execution_count": 67,
   "metadata": {},
   "outputs": [
    {
     "name": "stderr",
     "output_type": "stream",
     "text": [
      "C:\\Users\\stephen\\AppData\\Local\\conda\\conda\\envs\\tfgpu1.1\\lib\\site-packages\\sklearn\\utils\\validation.py:444: DataConversionWarning: Data with input dtype int16 was converted to float64 by MinMaxScaler.\n",
      "  warnings.warn(msg, DataConversionWarning)\n"
     ]
    }
   ],
   "source": [
    "\"\"\"\n",
    "Careful with MinMaxScaler. \n",
    "You specifically wan't to use the fit then transform or fit_transform function on the training set only.\n",
    "On any of the test cross validation sets or prediction data, you don't want to fit() or fit_transform().\n",
    "This would reset the fit of the scaler that we fit with the training set data.\n",
    "Use the transform() function on the test sets.\n",
    "\"\"\"\n",
    "scaler = preprocessing.MinMaxScaler(feature_range=(0,1))\n",
    "scaler.fit(train_features) # Compute the minimum and maximum to be used for later scaling.\n",
    "train_features = scaler.fit_transform(train_features)"
   ]
  },
  {
   "cell_type": "code",
   "execution_count": 68,
   "metadata": {},
   "outputs": [
    {
     "data": {
      "text/plain": [
       "(11360, 10240)"
      ]
     },
     "execution_count": 68,
     "metadata": {},
     "output_type": "execute_result"
    }
   ],
   "source": [
    "train_features.shape"
   ]
  },
  {
   "cell_type": "code",
   "execution_count": 69,
   "metadata": {},
   "outputs": [
    {
     "data": {
      "text/plain": [
       "(11360, 10240, 1)"
      ]
     },
     "execution_count": 69,
     "metadata": {},
     "output_type": "execute_result"
    }
   ],
   "source": [
    "# Reshape for 1 channel of audio data\n",
    "train_features = train_features.reshape((train_features.shape[0], train_features.shape[1], 1))\n",
    "# labels = labels.reshape((labels.shape[0], labels.shape[1], 1))\n",
    "train_features.shape"
   ]
  },
  {
   "cell_type": "code",
   "execution_count": 70,
   "metadata": {
    "collapsed": true
   },
   "outputs": [],
   "source": [
    "# Save scaler for later scaling on test sets. scaler.fit() saved the min max values\n",
    "pickle.dump(scaler, open(os.path.join(dataset_dir, 'scaler.p'), \"wb\"))"
   ]
  },
  {
   "cell_type": "markdown",
   "metadata": {},
   "source": [
    "#### Normalize Validation Set"
   ]
  },
  {
   "cell_type": "code",
   "execution_count": 86,
   "metadata": {
    "collapsed": true
   },
   "outputs": [],
   "source": [
    "valid_features = scaler.transform(valid_features) # Don't use fit_transform on test sets\n",
    "\n",
    "# Reshape for 1 channel of audio data\n",
    "valid_features = valid_features.reshape((valid_features.shape[0], valid_features.shape[1], 1))"
   ]
  },
  {
   "cell_type": "markdown",
   "metadata": {},
   "source": [
    "# Define Network"
   ]
  },
  {
   "cell_type": "markdown",
   "metadata": {},
   "source": [
    "### Input"
   ]
  },
  {
   "cell_type": "code",
   "execution_count": 71,
   "metadata": {
    "collapsed": true
   },
   "outputs": [],
   "source": [
    "def model_inputs(data_width, n_classes):\n",
    "    \"\"\"\n",
    "    Create the model inputs\n",
    "    :param data_width: The total number of samples in the recorded data point\n",
    "    :param n_classes: Number of Classes\n",
    "    :return: Tuple of (tensor of input audio data, key press labels, learning rate, keep_prob)\n",
    "    \"\"\"\n",
    "    # TODO: Add audio channels to input\n",
    "    \n",
    "    with tf.name_scope(\"Inputs\"):\n",
    "        audio_inputs = tf.placeholder(tf.float32, [None, data_width, 1], name='inputs')\n",
    "    with tf.name_scope(\"Targets\"):\n",
    "        key_labels = tf.placeholder(tf.float32, [None, n_classes], name='labels')\n",
    "    learning_rate = tf.placeholder(tf.float32, name='learning_rate')\n",
    "    keep_prob = tf.placeholder(tf.float32, name='keep_probability')\n",
    "\n",
    "    return audio_inputs, key_labels, learning_rate, keep_prob"
   ]
  },
  {
   "cell_type": "markdown",
   "metadata": {},
   "source": [
    "### Get Batches"
   ]
  },
  {
   "cell_type": "code",
   "execution_count": 72,
   "metadata": {
    "collapsed": true
   },
   "outputs": [],
   "source": [
    "def get_batches(features, labels, batch_size):\n",
    "    \"\"\"\n",
    "    Split features and labels into batches\n",
    "    \"\"\"\n",
    "    for start in range(0, len(features), batch_size):\n",
    "        end = min(start + batch_size, len(features))\n",
    "        yield features[start:end], labels[start:end]"
   ]
  },
  {
   "cell_type": "markdown",
   "metadata": {},
   "source": [
    "### Network"
   ]
  },
  {
   "cell_type": "code",
   "execution_count": 73,
   "metadata": {
    "collapsed": true
   },
   "outputs": [],
   "source": [
    "def network(X, keep_prob, n_classes):\n",
    "    \"\"\"\n",
    "    Create the network\n",
    "    :param X: Tensor of input recording(s)\n",
    "    :param keep_prob: Tensor for the keep probability\n",
    "    :param n_classes: Number of Classes\n",
    "    :return: Tuple of (tensor output of the classifier, tensor logits of the classifier)\n",
    "    \"\"\"    \n",
    "    # Hyperparameters\n",
    "    alpha = 0.2\n",
    "    h_dim = 32\n",
    "    \n",
    "    #print(\"X: {}\".format(X.shape))\n",
    "     \n",
    "    with tf.name_scope(\"Hidden_Layer1\"):\n",
    "        #h1 = tf.layers.dense(X, h_dim, activation=None)\n",
    "        h1 = tf.layers.conv1d(X, h_dim, 200, 10, 'same', activation=None)\n",
    "        h1 = tf.layers.max_pooling1d(h1, 5, 2, 'same')\n",
    "        h1 = tf.nn.dropout(h1, keep_prob) # Regularization\n",
    "        h1 = tf.maximum(h1*alpha, h1) # Leaky ReLu\n",
    "        h1 = tf.layers.batch_normalization(h1)\n",
    "        \n",
    "    #print(\"h1: {}\".format(h1.shape))\n",
    "\n",
    "    with tf.name_scope(\"Hidden_Layer2\"):\n",
    "        #h2 = tf.layers.dense(h1, h_dim, activation=None)\n",
    "        h2 = tf.layers.conv1d(h1, h_dim*2, 50, 5, 'same', activation=None)\n",
    "        #h2 = tf.layers.maxpool2d(h2, 5, 2, 'same')\n",
    "        h2 = tf.nn.dropout(h2, keep_prob) # Regularization        \n",
    "        h2 = tf.maximum(h2*alpha, h2) # Leaky ReLu\n",
    "        h2 = tf.layers.batch_normalization(h2)\n",
    "        \n",
    "    #print(\"h2: {}\".format(h2.shape))\n",
    "\n",
    "    with tf.name_scope(\"Hidden_Layer3\"):\n",
    "        #h3 = tf.layers.dense(h2, h_dim, activation=None)\n",
    "        h3 = tf.layers.conv1d(h2, h_dim*3, 20, 2, 'same', activation=None)\n",
    "        #h3 = tf.layers.maxpool2d(h3, 3, 2, 'same')\n",
    "        h3 = tf.nn.dropout(h3, keep_prob) # Regularization\n",
    "        h3 = tf.maximum(h3*alpha, h3) # Leaky ReLu\n",
    "        h3 = tf.layers.batch_normalization(h3)\n",
    "        \n",
    "    with tf.name_scope(\"Hidden_Layer4\"):\n",
    "        h4 = tf.layers.conv1d(h3, h_dim*4, 10, 1, 'same', activation=None)\n",
    "        h4 = tf.nn.dropout(h4, keep_prob) # Regularization\n",
    "        h4 = tf.maximum(h4*alpha, h4) # Leaky ReLu\n",
    "        h4 = tf.layers.batch_normalization(h4)\n",
    "    \n",
    "    \n",
    "    \n",
    "    with tf.name_scope(\"Output\"):\n",
    "        flat_dim = int(h4.get_shape()[1])*int(h4.get_shape()[2])\n",
    "        flat = tf.reshape(h4, [-1, flat_dim])\n",
    "        #print(\"flat: {}\".format(flat.shape))\n",
    "        logits = tf.layers.dense(flat, n_classes, activation=None, name='logits')\n",
    "        #print(\"logits: {}\".format(logits.shape))\n",
    "        #out = tf.nn.softmax(logits, name='softmax_out')\n",
    "\n",
    "    return logits"
   ]
  },
  {
   "cell_type": "markdown",
   "metadata": {},
   "source": [
    "### Show Stats"
   ]
  },
  {
   "cell_type": "code",
   "execution_count": 88,
   "metadata": {
    "collapsed": true
   },
   "outputs": [],
   "source": [
    "def print_stats(session, feature_batch, label_batch, cost, accuracy, esi):\n",
    "    \"\"\"\n",
    "    Print information about loss and validation accuracy\n",
    "    : session: Current TensorFlow session\n",
    "    : feature_batch: Batch of Numpy image data\n",
    "    : label_batch: Batch of Numpy label data\n",
    "    : cost: TensorFlow cost function\n",
    "    : accuracy: TensorFlow accuracy function\n",
    "    : esi: Epochs since the last improvement\n",
    "    \"\"\"\n",
    "    with tf.name_scope(\"Validation_Stats\"):\n",
    "        validation_loss = session.run(cost, feed_dict={x: feature_batch, y: label_batch, keep_prob: 1.0})\n",
    "        validation_accuracy = session.run(accuracy, feed_dict={x: valid_features, y: valid_labels, keep_prob: 1.0})\n",
    "        train_accuracy = session.run(accuracy, feed_dict={x: train_features[:1000], y: train_labels[:1000], keep_prob: 1.0})\n",
    "        print(\"Train Accuracy: {0:0.4f}, Validation Accuracy: {1:0.4f}, Validation Loss: {2:0.4f}, ESI: {3}\".format(train_accuracy, validation_accuracy, validation_loss, esi))\n",
    "        return validation_accuracy"
   ]
  },
  {
   "cell_type": "markdown",
   "metadata": {},
   "source": [
    "### Build Neural Network"
   ]
  },
  {
   "cell_type": "code",
   "execution_count": 89,
   "metadata": {
    "collapsed": true
   },
   "outputs": [],
   "source": [
    "# Remove previous weights, bias, inputs, etc..\n",
    "tf.reset_default_graph()\n",
    "\n",
    "# Inputs\n",
    "x, y, learn_rate, keep_prob = model_inputs(data_width, n_classes)\n",
    "\n",
    "#Model\n",
    "logits = network(x, keep_prob, n_classes)\n",
    "\n",
    "with tf.name_scope(\"Cost\"):\n",
    "    # Cost and Optimizer\n",
    "    cost = tf.reduce_mean(tf.nn.softmax_cross_entropy_with_logits(logits=logits, labels=y, name='loss'), name='cost')\n",
    "    \n",
    "with tf.name_scope(\"Train\"):\n",
    "    optimizer = tf.train.AdamOptimizer(learn_rate, name='optimizer').minimize(cost)\n",
    "\n",
    "with tf.name_scope(\"Accuracy\"):\n",
    "    # Accuracy\n",
    "    correct_pred = tf.equal(tf.argmax(logits, 1), tf.argmax(y, 1), name='prediction')\n",
    "    accuracy = tf.reduce_mean(tf.cast(correct_pred, tf.float32), name='accuracy')\n",
    "    \n",
    "predicted = tf.nn.softmax(logits, name='predicted')"
   ]
  },
  {
   "cell_type": "markdown",
   "metadata": {},
   "source": [
    "### Write out the graph for TensorBoard"
   ]
  },
  {
   "cell_type": "code",
   "execution_count": 90,
   "metadata": {
    "collapsed": true
   },
   "outputs": [],
   "source": [
    "with tf.Session() as sess:\n",
    "    sess.run(tf.global_variables_initializer())\n",
    "    file_writer = tf.summary.FileWriter('./logs/2', sess.graph)"
   ]
  },
  {
   "cell_type": "markdown",
   "metadata": {},
   "source": [
    "### Hyperparameters"
   ]
  },
  {
   "cell_type": "code",
   "execution_count": 91,
   "metadata": {
    "collapsed": true
   },
   "outputs": [],
   "source": [
    "epochs = 5000\n",
    "batch_size = 16\n",
    "keep_probability = 0.40\n",
    "learning_rate = 0.0001"
   ]
  },
  {
   "cell_type": "markdown",
   "metadata": {},
   "source": [
    "# Train Neural Network"
   ]
  },
  {
   "cell_type": "code",
   "execution_count": 92,
   "metadata": {},
   "outputs": [
    {
     "name": "stdout",
     "output_type": "stream",
     "text": [
      "12.5%\n"
     ]
    }
   ],
   "source": [
    "# Accuracy to beat (Min of 3 classes)\n",
    "print(\"{:.3}%\".format((1/n_classes)*100))"
   ]
  },
  {
   "cell_type": "code",
   "execution_count": 93,
   "metadata": {
    "scrolled": true
   },
   "outputs": [
    {
     "name": "stdout",
     "output_type": "stream",
     "text": [
      "Epoch 0: Train Accuracy: 0.1120, Validation Accuracy: 0.1190, Validation Loss: 2.0857, ESI: 0\n",
      "Epoch 1: Train Accuracy: 0.1220, Validation Accuracy: 0.1338, Validation Loss: 2.0836, ESI: 0\n",
      "Epoch 2: Train Accuracy: 0.1120, Validation Accuracy: 0.1190, Validation Loss: 2.0862, ESI: 0\n",
      "Epoch 3: Train Accuracy: 0.1230, Validation Accuracy: 0.1190, Validation Loss: 2.0830, ESI: 1\n",
      "Epoch 4: Train Accuracy: 0.1120, Validation Accuracy: 0.1190, Validation Loss: 2.0885, ESI: 2\n",
      "Epoch 5: Train Accuracy: 0.1720, Validation Accuracy: 0.1613, Validation Loss: 2.0835, ESI: 3\n",
      "Epoch 6: Train Accuracy: 0.1320, Validation Accuracy: 0.1268, Validation Loss: 2.0877, ESI: 0\n",
      "Epoch 7: Train Accuracy: 0.1430, Validation Accuracy: 0.1387, Validation Loss: 2.0837, ESI: 1\n",
      "Epoch 8: Train Accuracy: 0.1290, Validation Accuracy: 0.1415, Validation Loss: 2.0919, ESI: 2\n",
      "Epoch 9: Train Accuracy: 0.3000, Validation Accuracy: 0.2951, Validation Loss: 1.9239, ESI: 3\n",
      "Epoch 10: Train Accuracy: 0.3170, Validation Accuracy: 0.3246, Validation Loss: 1.8477, ESI: 0\n",
      "Epoch 11: Train Accuracy: 0.3970, Validation Accuracy: 0.3732, Validation Loss: 1.7612, ESI: 0\n",
      "Epoch 12: Train Accuracy: 0.4370, Validation Accuracy: 0.4211, Validation Loss: 1.5507, ESI: 0\n",
      "Epoch 13: Train Accuracy: 0.4730, Validation Accuracy: 0.4577, Validation Loss: 1.4309, ESI: 0\n",
      "Epoch 14: Train Accuracy: 0.5200, Validation Accuracy: 0.4817, Validation Loss: 1.2471, ESI: 0\n",
      "Epoch 15: Train Accuracy: 0.5250, Validation Accuracy: 0.5007, Validation Loss: 1.1284, ESI: 0\n",
      "Epoch 16: Train Accuracy: 0.5310, Validation Accuracy: 0.5021, Validation Loss: 1.1380, ESI: 0\n",
      "Epoch 17: Train Accuracy: 0.5500, Validation Accuracy: 0.5232, Validation Loss: 1.0622, ESI: 0\n",
      "Epoch 18: Train Accuracy: 0.5520, Validation Accuracy: 0.5211, Validation Loss: 1.0126, ESI: 0\n",
      "Epoch 19: Train Accuracy: 0.5580, Validation Accuracy: 0.5232, Validation Loss: 1.0010, ESI: 1\n",
      "Epoch 20: Train Accuracy: 0.5500, Validation Accuracy: 0.5282, Validation Loss: 0.9844, ESI: 2\n",
      "Epoch 21: Train Accuracy: 0.5570, Validation Accuracy: 0.5239, Validation Loss: 0.9798, ESI: 0\n",
      "Epoch 22: Train Accuracy: 0.5530, Validation Accuracy: 0.5345, Validation Loss: 1.0038, ESI: 1\n",
      "Epoch 23: Train Accuracy: 0.5830, Validation Accuracy: 0.5415, Validation Loss: 0.9479, ESI: 0\n",
      "Epoch 24: Train Accuracy: 0.5850, Validation Accuracy: 0.5486, Validation Loss: 0.8972, ESI: 0\n",
      "Epoch 25: Train Accuracy: 0.5580, Validation Accuracy: 0.5324, Validation Loss: 1.0000, ESI: 0\n",
      "Epoch 26: Train Accuracy: 0.5840, Validation Accuracy: 0.5458, Validation Loss: 0.9278, ESI: 1\n",
      "Epoch 27: Train Accuracy: 0.6000, Validation Accuracy: 0.5746, Validation Loss: 0.9053, ESI: 2\n",
      "Epoch 28: Train Accuracy: 0.6160, Validation Accuracy: 0.5704, Validation Loss: 0.8922, ESI: 0\n",
      "Epoch 29: Train Accuracy: 0.6240, Validation Accuracy: 0.5845, Validation Loss: 0.8226, ESI: 1\n",
      "Epoch 30: Train Accuracy: 0.6130, Validation Accuracy: 0.5768, Validation Loss: 0.8267, ESI: 0\n",
      "Epoch 31: Train Accuracy: 0.6100, Validation Accuracy: 0.5718, Validation Loss: 0.8394, ESI: 1\n",
      "Epoch 32: Train Accuracy: 0.6370, Validation Accuracy: 0.5901, Validation Loss: 0.7828, ESI: 2\n",
      "Epoch 33: Train Accuracy: 0.6240, Validation Accuracy: 0.5972, Validation Loss: 0.7836, ESI: 0\n",
      "Epoch 34: Train Accuracy: 0.6230, Validation Accuracy: 0.5880, Validation Loss: 0.7964, ESI: 0\n",
      "Epoch 35: Train Accuracy: 0.6370, Validation Accuracy: 0.5894, Validation Loss: 0.7886, ESI: 1\n",
      "Epoch 36: Train Accuracy: 0.6300, Validation Accuracy: 0.5923, Validation Loss: 0.8186, ESI: 2\n",
      "Epoch 37: Train Accuracy: 0.6540, Validation Accuracy: 0.6085, Validation Loss: 0.7465, ESI: 3\n",
      "Epoch 38: Train Accuracy: 0.6610, Validation Accuracy: 0.6190, Validation Loss: 0.7060, ESI: 0\n",
      "Epoch 39: Train Accuracy: 0.6500, Validation Accuracy: 0.6056, Validation Loss: 0.7335, ESI: 0\n",
      "Epoch 40: Train Accuracy: 0.6510, Validation Accuracy: 0.6246, Validation Loss: 0.7001, ESI: 1\n",
      "Epoch 41: Train Accuracy: 0.6720, Validation Accuracy: 0.6261, Validation Loss: 0.6765, ESI: 0\n",
      "Epoch 42: Train Accuracy: 0.6710, Validation Accuracy: 0.6268, Validation Loss: 0.7142, ESI: 0\n",
      "Epoch 43: Train Accuracy: 0.6750, Validation Accuracy: 0.6331, Validation Loss: 0.7056, ESI: 0\n",
      "Epoch 44: Train Accuracy: 0.6550, Validation Accuracy: 0.6162, Validation Loss: 0.7073, ESI: 0\n",
      "Epoch 45: Train Accuracy: 0.6500, Validation Accuracy: 0.6148, Validation Loss: 0.7663, ESI: 1\n",
      "Epoch 46: Train Accuracy: 0.6740, Validation Accuracy: 0.6310, Validation Loss: 0.6755, ESI: 2\n",
      "Epoch 47: Train Accuracy: 0.7040, Validation Accuracy: 0.6338, Validation Loss: 0.6218, ESI: 3\n",
      "Epoch 48: Train Accuracy: 0.6860, Validation Accuracy: 0.6437, Validation Loss: 0.6456, ESI: 0\n",
      "Epoch 49: Train Accuracy: 0.6980, Validation Accuracy: 0.6338, Validation Loss: 0.6346, ESI: 0\n",
      "Epoch 50: Train Accuracy: 0.7060, Validation Accuracy: 0.6472, Validation Loss: 0.6515, ESI: 1\n",
      "Epoch 51: Train Accuracy: 0.6950, Validation Accuracy: 0.6493, Validation Loss: 0.6034, ESI: 0\n",
      "Epoch 52: Train Accuracy: 0.7130, Validation Accuracy: 0.6549, Validation Loss: 0.5982, ESI: 0\n",
      "Epoch 53: Train Accuracy: 0.7140, Validation Accuracy: 0.6585, Validation Loss: 0.5918, ESI: 0\n",
      "Epoch 54: Train Accuracy: 0.6840, Validation Accuracy: 0.6521, Validation Loss: 0.6060, ESI: 0\n",
      "Epoch 55: Train Accuracy: 0.6970, Validation Accuracy: 0.6437, Validation Loss: 0.5777, ESI: 1\n",
      "Epoch 56: Train Accuracy: 0.7060, Validation Accuracy: 0.6472, Validation Loss: 0.5476, ESI: 2\n",
      "Epoch 57: Train Accuracy: 0.7280, Validation Accuracy: 0.6570, Validation Loss: 0.5423, ESI: 3\n",
      "Epoch 58: Train Accuracy: 0.7180, Validation Accuracy: 0.6634, Validation Loss: 0.5464, ESI: 4\n",
      "Epoch 59: Train Accuracy: 0.7160, Validation Accuracy: 0.6641, Validation Loss: 0.5497, ESI: 0\n",
      "Epoch 60: Train Accuracy: 0.7010, Validation Accuracy: 0.6514, Validation Loss: 0.5480, ESI: 0\n",
      "Epoch 61: Train Accuracy: 0.7340, Validation Accuracy: 0.6732, Validation Loss: 0.4918, ESI: 1\n",
      "Epoch 62: Train Accuracy: 0.7380, Validation Accuracy: 0.6613, Validation Loss: 0.4687, ESI: 0\n",
      "Epoch 63: Train Accuracy: 0.7260, Validation Accuracy: 0.6613, Validation Loss: 0.4994, ESI: 1\n",
      "Epoch 64: Train Accuracy: 0.7040, Validation Accuracy: 0.6577, Validation Loss: 0.5557, ESI: 2\n",
      "Epoch 65: Train Accuracy: 0.7320, Validation Accuracy: 0.6655, Validation Loss: 0.4814, ESI: 3\n",
      "Epoch 66: Train Accuracy: 0.7490, Validation Accuracy: 0.6789, Validation Loss: 0.4874, ESI: 4\n",
      "Epoch 67: Train Accuracy: 0.7260, Validation Accuracy: 0.6768, Validation Loss: 0.4889, ESI: 0\n",
      "Epoch 68: Train Accuracy: 0.7400, Validation Accuracy: 0.6796, Validation Loss: 0.4461, ESI: 1\n",
      "Epoch 69: Train Accuracy: 0.7400, Validation Accuracy: 0.6782, Validation Loss: 0.4761, ESI: 0\n",
      "Epoch 70: Train Accuracy: 0.7420, Validation Accuracy: 0.6732, Validation Loss: 0.4631, ESI: 1\n",
      "Epoch 71: Train Accuracy: 0.7560, Validation Accuracy: 0.6901, Validation Loss: 0.4819, ESI: 2\n",
      "Epoch 72: Train Accuracy: 0.7550, Validation Accuracy: 0.6796, Validation Loss: 0.4685, ESI: 0\n",
      "Epoch 73: Train Accuracy: 0.7380, Validation Accuracy: 0.6768, Validation Loss: 0.4857, ESI: 1\n",
      "Epoch 74: Train Accuracy: 0.7440, Validation Accuracy: 0.6859, Validation Loss: 0.4851, ESI: 2\n",
      "Epoch 75: Train Accuracy: 0.7480, Validation Accuracy: 0.6831, Validation Loss: 0.4553, ESI: 3\n",
      "Epoch 76: Train Accuracy: 0.7470, Validation Accuracy: 0.6831, Validation Loss: 0.4715, ESI: 4\n",
      "Epoch 77: Train Accuracy: 0.7600, Validation Accuracy: 0.6915, Validation Loss: 0.4582, ESI: 5\n",
      "Epoch 78: Train Accuracy: 0.7640, Validation Accuracy: 0.6880, Validation Loss: 0.4530, ESI: 0\n",
      "Epoch 79: Train Accuracy: 0.7590, Validation Accuracy: 0.6923, Validation Loss: 0.4752, ESI: 1\n",
      "Epoch 80: Train Accuracy: 0.7530, Validation Accuracy: 0.6944, Validation Loss: 0.5104, ESI: 0\n",
      "Epoch 81: Train Accuracy: 0.7690, Validation Accuracy: 0.7063, Validation Loss: 0.4606, ESI: 0\n",
      "Epoch 82: Train Accuracy: 0.7620, Validation Accuracy: 0.6880, Validation Loss: 0.4891, ESI: 0\n",
      "Epoch 83: Train Accuracy: 0.7540, Validation Accuracy: 0.6915, Validation Loss: 0.4981, ESI: 1\n",
      "Epoch 84: Train Accuracy: 0.7740, Validation Accuracy: 0.6944, Validation Loss: 0.4495, ESI: 2\n",
      "Epoch 85: Train Accuracy: 0.7660, Validation Accuracy: 0.7070, Validation Loss: 0.4470, ESI: 3\n",
      "Epoch 86: Train Accuracy: 0.7660, Validation Accuracy: 0.7056, Validation Loss: 0.4312, ESI: 0\n"
     ]
    },
    {
     "name": "stdout",
     "output_type": "stream",
     "text": [
      "Epoch 87: Train Accuracy: 0.7840, Validation Accuracy: 0.7000, Validation Loss: 0.4167, ESI: 1\n",
      "Epoch 88: Train Accuracy: 0.7810, Validation Accuracy: 0.6993, Validation Loss: 0.4427, ESI: 2\n",
      "Epoch 89: Train Accuracy: 0.7790, Validation Accuracy: 0.7106, Validation Loss: 0.4447, ESI: 3\n",
      "Epoch 90: Train Accuracy: 0.7710, Validation Accuracy: 0.7127, Validation Loss: 0.4735, ESI: 0\n",
      "Epoch 91: Train Accuracy: 0.7830, Validation Accuracy: 0.7106, Validation Loss: 0.4300, ESI: 0\n",
      "Epoch 92: Train Accuracy: 0.7810, Validation Accuracy: 0.7070, Validation Loss: 0.3978, ESI: 1\n",
      "Epoch 93: Train Accuracy: 0.7730, Validation Accuracy: 0.7056, Validation Loss: 0.4127, ESI: 2\n",
      "Epoch 94: Train Accuracy: 0.7800, Validation Accuracy: 0.7085, Validation Loss: 0.3951, ESI: 3\n",
      "Epoch 95: Train Accuracy: 0.8000, Validation Accuracy: 0.7127, Validation Loss: 0.3879, ESI: 4\n",
      "Epoch 96: Train Accuracy: 0.7910, Validation Accuracy: 0.7099, Validation Loss: 0.4055, ESI: 0\n",
      "Epoch 97: Train Accuracy: 0.7910, Validation Accuracy: 0.7099, Validation Loss: 0.4161, ESI: 1\n",
      "Epoch 98: Train Accuracy: 0.8010, Validation Accuracy: 0.7148, Validation Loss: 0.3864, ESI: 2\n",
      "Epoch 99: Train Accuracy: 0.7900, Validation Accuracy: 0.7042, Validation Loss: 0.3855, ESI: 0\n",
      "Epoch 100: Train Accuracy: 0.7990, Validation Accuracy: 0.7176, Validation Loss: 0.3630, ESI: 1\n",
      "Epoch 101: Train Accuracy: 0.7870, Validation Accuracy: 0.7155, Validation Loss: 0.3711, ESI: 0\n",
      "Epoch 102: Train Accuracy: 0.8020, Validation Accuracy: 0.7204, Validation Loss: 0.3687, ESI: 1\n",
      "Epoch 103: Train Accuracy: 0.7850, Validation Accuracy: 0.7141, Validation Loss: 0.4006, ESI: 0\n",
      "Epoch 104: Train Accuracy: 0.7880, Validation Accuracy: 0.7176, Validation Loss: 0.3662, ESI: 1\n",
      "Epoch 105: Train Accuracy: 0.7980, Validation Accuracy: 0.7099, Validation Loss: 0.3618, ESI: 2\n",
      "Epoch 106: Train Accuracy: 0.7910, Validation Accuracy: 0.7099, Validation Loss: 0.3527, ESI: 3\n",
      "Epoch 107: Train Accuracy: 0.7890, Validation Accuracy: 0.7225, Validation Loss: 0.3948, ESI: 4\n",
      "Epoch 108: Train Accuracy: 0.7960, Validation Accuracy: 0.7211, Validation Loss: 0.3421, ESI: 0\n",
      "Epoch 109: Train Accuracy: 0.7990, Validation Accuracy: 0.7155, Validation Loss: 0.3488, ESI: 1\n",
      "Epoch 110: Train Accuracy: 0.8060, Validation Accuracy: 0.7239, Validation Loss: 0.3269, ESI: 2\n",
      "Epoch 111: Train Accuracy: 0.7950, Validation Accuracy: 0.7183, Validation Loss: 0.2997, ESI: 0\n",
      "Epoch 112: Train Accuracy: 0.8180, Validation Accuracy: 0.7246, Validation Loss: 0.3252, ESI: 1\n",
      "Epoch 113: Train Accuracy: 0.8000, Validation Accuracy: 0.7303, Validation Loss: 0.3691, ESI: 0\n",
      "Epoch 114: Train Accuracy: 0.8070, Validation Accuracy: 0.7303, Validation Loss: 0.3602, ESI: 0\n",
      "Epoch 115: Train Accuracy: 0.8050, Validation Accuracy: 0.7275, Validation Loss: 0.3320, ESI: 1\n",
      "Epoch 116: Train Accuracy: 0.8130, Validation Accuracy: 0.7324, Validation Loss: 0.3199, ESI: 2\n",
      "Epoch 117: Train Accuracy: 0.8120, Validation Accuracy: 0.7246, Validation Loss: 0.3239, ESI: 0\n",
      "Epoch 118: Train Accuracy: 0.8230, Validation Accuracy: 0.7338, Validation Loss: 0.3156, ESI: 1\n",
      "Epoch 119: Train Accuracy: 0.8080, Validation Accuracy: 0.7303, Validation Loss: 0.3509, ESI: 0\n",
      "Epoch 120: Train Accuracy: 0.8210, Validation Accuracy: 0.7317, Validation Loss: 0.3440, ESI: 1\n",
      "Epoch 121: Train Accuracy: 0.8150, Validation Accuracy: 0.7254, Validation Loss: 0.3509, ESI: 2\n",
      "Epoch 122: Train Accuracy: 0.7940, Validation Accuracy: 0.7303, Validation Loss: 0.3892, ESI: 3\n",
      "Epoch 123: Train Accuracy: 0.8180, Validation Accuracy: 0.7324, Validation Loss: 0.2937, ESI: 4\n",
      "Epoch 124: Train Accuracy: 0.8050, Validation Accuracy: 0.7197, Validation Loss: 0.3996, ESI: 5\n",
      "Epoch 125: Train Accuracy: 0.8200, Validation Accuracy: 0.7303, Validation Loss: 0.3611, ESI: 6\n",
      "Epoch 126: Train Accuracy: 0.8300, Validation Accuracy: 0.7415, Validation Loss: 0.3176, ESI: 7\n",
      "Epoch 127: Train Accuracy: 0.8100, Validation Accuracy: 0.7317, Validation Loss: 0.3548, ESI: 0\n",
      "Epoch 128: Train Accuracy: 0.8200, Validation Accuracy: 0.7359, Validation Loss: 0.3507, ESI: 1\n",
      "Epoch 129: Train Accuracy: 0.8350, Validation Accuracy: 0.7380, Validation Loss: 0.3109, ESI: 2\n",
      "Epoch 130: Train Accuracy: 0.8290, Validation Accuracy: 0.7408, Validation Loss: 0.3104, ESI: 3\n",
      "Epoch 131: Train Accuracy: 0.8250, Validation Accuracy: 0.7345, Validation Loss: 0.3095, ESI: 4\n",
      "Epoch 132: Train Accuracy: 0.8350, Validation Accuracy: 0.7458, Validation Loss: 0.3107, ESI: 5\n",
      "Epoch 133: Train Accuracy: 0.8240, Validation Accuracy: 0.7472, Validation Loss: 0.3108, ESI: 0\n",
      "Epoch 134: Train Accuracy: 0.8280, Validation Accuracy: 0.7345, Validation Loss: 0.3379, ESI: 0\n",
      "Epoch 135: Train Accuracy: 0.8150, Validation Accuracy: 0.7352, Validation Loss: 0.3092, ESI: 1\n",
      "Epoch 136: Train Accuracy: 0.8420, Validation Accuracy: 0.7486, Validation Loss: 0.2909, ESI: 2\n",
      "Epoch 137: Train Accuracy: 0.8320, Validation Accuracy: 0.7401, Validation Loss: 0.2896, ESI: 0\n",
      "Epoch 138: Train Accuracy: 0.8390, Validation Accuracy: 0.7451, Validation Loss: 0.2917, ESI: 1\n",
      "Epoch 139: Train Accuracy: 0.8370, Validation Accuracy: 0.7472, Validation Loss: 0.2974, ESI: 2\n",
      "Epoch 140: Train Accuracy: 0.8290, Validation Accuracy: 0.7408, Validation Loss: 0.2982, ESI: 3\n",
      "Epoch 141: Train Accuracy: 0.8310, Validation Accuracy: 0.7437, Validation Loss: 0.3174, ESI: 4\n",
      "Epoch 142: Train Accuracy: 0.8400, Validation Accuracy: 0.7507, Validation Loss: 0.2940, ESI: 5\n",
      "Epoch 143: Train Accuracy: 0.8400, Validation Accuracy: 0.7465, Validation Loss: 0.3103, ESI: 0\n",
      "Epoch 144: Train Accuracy: 0.8420, Validation Accuracy: 0.7423, Validation Loss: 0.2960, ESI: 1\n",
      "Epoch 145: Train Accuracy: 0.8370, Validation Accuracy: 0.7387, Validation Loss: 0.3110, ESI: 2\n",
      "Epoch 146: Train Accuracy: 0.8520, Validation Accuracy: 0.7479, Validation Loss: 0.2706, ESI: 3\n",
      "Epoch 147: Train Accuracy: 0.8450, Validation Accuracy: 0.7444, Validation Loss: 0.3110, ESI: 4\n",
      "Epoch 148: Train Accuracy: 0.8330, Validation Accuracy: 0.7401, Validation Loss: 0.3648, ESI: 5\n",
      "Epoch 149: Train Accuracy: 0.8400, Validation Accuracy: 0.7444, Validation Loss: 0.3078, ESI: 6\n",
      "Epoch 150: Train Accuracy: 0.8370, Validation Accuracy: 0.7373, Validation Loss: 0.3087, ESI: 7\n",
      "Epoch 151: Train Accuracy: 0.8530, Validation Accuracy: 0.7472, Validation Loss: 0.2926, ESI: 8\n",
      "Epoch 152: Train Accuracy: 0.8440, Validation Accuracy: 0.7465, Validation Loss: 0.3248, ESI: 9\n",
      "Epoch 153: Train Accuracy: 0.8540, Validation Accuracy: 0.7472, Validation Loss: 0.2764, ESI: 10\n",
      "Epoch 154: Train Accuracy: 0.8460, Validation Accuracy: 0.7458, Validation Loss: 0.2774, ESI: 11\n",
      "Epoch 155: Train Accuracy: 0.8520, Validation Accuracy: 0.7563, Validation Loss: 0.2893, ESI: 12\n",
      "Epoch 156: Train Accuracy: 0.8400, Validation Accuracy: 0.7549, Validation Loss: 0.2740, ESI: 0\n",
      "Epoch 157: Train Accuracy: 0.8510, Validation Accuracy: 0.7472, Validation Loss: 0.2786, ESI: 1\n",
      "Epoch 158: Train Accuracy: 0.8560, Validation Accuracy: 0.7556, Validation Loss: 0.2672, ESI: 2\n",
      "Epoch 159: Train Accuracy: 0.8620, Validation Accuracy: 0.7493, Validation Loss: 0.2527, ESI: 3\n",
      "Epoch 160: Train Accuracy: 0.8450, Validation Accuracy: 0.7500, Validation Loss: 0.2641, ESI: 4\n",
      "Epoch 161: Train Accuracy: 0.8470, Validation Accuracy: 0.7535, Validation Loss: 0.2925, ESI: 5\n",
      "Epoch 162: Train Accuracy: 0.8430, Validation Accuracy: 0.7500, Validation Loss: 0.2634, ESI: 6\n",
      "Epoch 163: Train Accuracy: 0.8420, Validation Accuracy: 0.7493, Validation Loss: 0.2767, ESI: 7\n",
      "Epoch 164: Train Accuracy: 0.8530, Validation Accuracy: 0.7592, Validation Loss: 0.2766, ESI: 8\n",
      "Epoch 165: Train Accuracy: 0.8440, Validation Accuracy: 0.7556, Validation Loss: 0.3065, ESI: 0\n",
      "Epoch 166: Train Accuracy: 0.8560, Validation Accuracy: 0.7627, Validation Loss: 0.2452, ESI: 1\n",
      "Epoch 167: Train Accuracy: 0.8480, Validation Accuracy: 0.7521, Validation Loss: 0.2935, ESI: 0\n",
      "Epoch 168: Train Accuracy: 0.8490, Validation Accuracy: 0.7500, Validation Loss: 0.2940, ESI: 1\n",
      "Epoch 169: Train Accuracy: 0.8620, Validation Accuracy: 0.7634, Validation Loss: 0.2553, ESI: 2\n",
      "Epoch 170: Train Accuracy: 0.8470, Validation Accuracy: 0.7535, Validation Loss: 0.2763, ESI: 0\n",
      "Epoch 171: Train Accuracy: 0.8470, Validation Accuracy: 0.7613, Validation Loss: 0.2738, ESI: 1\n",
      "Epoch 172: Train Accuracy: 0.8620, Validation Accuracy: 0.7563, Validation Loss: 0.2752, ESI: 2\n"
     ]
    },
    {
     "name": "stdout",
     "output_type": "stream",
     "text": [
      "Epoch 173: Train Accuracy: 0.8490, Validation Accuracy: 0.7620, Validation Loss: 0.2749, ESI: 3\n",
      "Epoch 174: Train Accuracy: 0.8520, Validation Accuracy: 0.7627, Validation Loss: 0.2185, ESI: 4\n",
      "Epoch 175: Train Accuracy: 0.8480, Validation Accuracy: 0.7606, Validation Loss: 0.2631, ESI: 5\n",
      "Epoch 176: Train Accuracy: 0.8560, Validation Accuracy: 0.7535, Validation Loss: 0.2755, ESI: 6\n",
      "Epoch 177: Train Accuracy: 0.8540, Validation Accuracy: 0.7648, Validation Loss: 0.2928, ESI: 7\n",
      "Epoch 178: Train Accuracy: 0.8450, Validation Accuracy: 0.7535, Validation Loss: 0.2889, ESI: 0\n",
      "Epoch 179: Train Accuracy: 0.8460, Validation Accuracy: 0.7613, Validation Loss: 0.3002, ESI: 1\n",
      "Epoch 180: Train Accuracy: 0.8500, Validation Accuracy: 0.7549, Validation Loss: 0.2750, ESI: 2\n",
      "Epoch 181: Train Accuracy: 0.8600, Validation Accuracy: 0.7662, Validation Loss: 0.2561, ESI: 3\n",
      "Epoch 182: Train Accuracy: 0.8580, Validation Accuracy: 0.7634, Validation Loss: 0.2594, ESI: 0\n",
      "Epoch 183: Train Accuracy: 0.8500, Validation Accuracy: 0.7606, Validation Loss: 0.2526, ESI: 1\n",
      "Epoch 184: Train Accuracy: 0.8530, Validation Accuracy: 0.7655, Validation Loss: 0.2679, ESI: 2\n",
      "Epoch 185: Train Accuracy: 0.8650, Validation Accuracy: 0.7711, Validation Loss: 0.2505, ESI: 3\n",
      "Epoch 186: Train Accuracy: 0.8530, Validation Accuracy: 0.7592, Validation Loss: 0.2487, ESI: 0\n",
      "Epoch 187: Train Accuracy: 0.8490, Validation Accuracy: 0.7676, Validation Loss: 0.2480, ESI: 1\n",
      "Epoch 188: Train Accuracy: 0.8630, Validation Accuracy: 0.7725, Validation Loss: 0.2887, ESI: 2\n",
      "Epoch 189: Train Accuracy: 0.8660, Validation Accuracy: 0.7662, Validation Loss: 0.2553, ESI: 0\n",
      "Epoch 190: Train Accuracy: 0.8640, Validation Accuracy: 0.7662, Validation Loss: 0.2455, ESI: 1\n",
      "Epoch 191: Train Accuracy: 0.8660, Validation Accuracy: 0.7627, Validation Loss: 0.2429, ESI: 2\n",
      "Epoch 192: Train Accuracy: 0.8560, Validation Accuracy: 0.7669, Validation Loss: 0.2451, ESI: 3\n",
      "Epoch 193: Train Accuracy: 0.8460, Validation Accuracy: 0.7585, Validation Loss: 0.2668, ESI: 4\n",
      "Epoch 194: Train Accuracy: 0.8550, Validation Accuracy: 0.7620, Validation Loss: 0.2663, ESI: 5\n",
      "Epoch 195: Train Accuracy: 0.8580, Validation Accuracy: 0.7676, Validation Loss: 0.2257, ESI: 6\n",
      "Epoch 196: Train Accuracy: 0.8600, Validation Accuracy: 0.7641, Validation Loss: 0.2184, ESI: 7\n",
      "Epoch 197: Train Accuracy: 0.8630, Validation Accuracy: 0.7704, Validation Loss: 0.2181, ESI: 8\n",
      "Epoch 198: Train Accuracy: 0.8680, Validation Accuracy: 0.7704, Validation Loss: 0.2416, ESI: 9\n",
      "Epoch 199: Train Accuracy: 0.8590, Validation Accuracy: 0.7683, Validation Loss: 0.2347, ESI: 10\n",
      "Epoch 200: Train Accuracy: 0.8570, Validation Accuracy: 0.7556, Validation Loss: 0.2656, ESI: 11\n",
      "Epoch 201: Train Accuracy: 0.8630, Validation Accuracy: 0.7577, Validation Loss: 0.2311, ESI: 12\n",
      "Epoch 202: Train Accuracy: 0.8640, Validation Accuracy: 0.7690, Validation Loss: 0.2121, ESI: 13\n",
      "Epoch 203: Train Accuracy: 0.8710, Validation Accuracy: 0.7782, Validation Loss: 0.2419, ESI: 14\n",
      "Epoch 204: Train Accuracy: 0.8800, Validation Accuracy: 0.7739, Validation Loss: 0.2096, ESI: 0\n",
      "Epoch 205: Train Accuracy: 0.8560, Validation Accuracy: 0.7606, Validation Loss: 0.2459, ESI: 1\n",
      "Epoch 206: Train Accuracy: 0.8580, Validation Accuracy: 0.7620, Validation Loss: 0.2914, ESI: 2\n",
      "Epoch 207: Train Accuracy: 0.8640, Validation Accuracy: 0.7718, Validation Loss: 0.2230, ESI: 3\n",
      "Epoch 208: Train Accuracy: 0.8730, Validation Accuracy: 0.7754, Validation Loss: 0.2277, ESI: 4\n",
      "Epoch 209: Train Accuracy: 0.8650, Validation Accuracy: 0.7725, Validation Loss: 0.2274, ESI: 5\n",
      "Epoch 210: Train Accuracy: 0.8790, Validation Accuracy: 0.7683, Validation Loss: 0.2156, ESI: 6\n",
      "Epoch 211: Train Accuracy: 0.8670, Validation Accuracy: 0.7754, Validation Loss: 0.2221, ESI: 7\n",
      "Epoch 212: Train Accuracy: 0.8590, Validation Accuracy: 0.7718, Validation Loss: 0.2492, ESI: 8\n",
      "Epoch 213: Train Accuracy: 0.8660, Validation Accuracy: 0.7627, Validation Loss: 0.2490, ESI: 9\n",
      "Epoch 214: Train Accuracy: 0.8710, Validation Accuracy: 0.7634, Validation Loss: 0.2544, ESI: 10\n",
      "Epoch 215: Train Accuracy: 0.8590, Validation Accuracy: 0.7634, Validation Loss: 0.2849, ESI: 11\n",
      "Epoch 216: Train Accuracy: 0.8680, Validation Accuracy: 0.7768, Validation Loss: 0.2104, ESI: 12\n",
      "Epoch 217: Train Accuracy: 0.8720, Validation Accuracy: 0.7754, Validation Loss: 0.2171, ESI: 13\n",
      "Epoch 218: Train Accuracy: 0.8740, Validation Accuracy: 0.7768, Validation Loss: 0.2273, ESI: 14\n",
      "Epoch 219: Train Accuracy: 0.8870, Validation Accuracy: 0.7746, Validation Loss: 0.2398, ESI: 15\n",
      "Epoch 220: Train Accuracy: 0.8660, Validation Accuracy: 0.7592, Validation Loss: 0.2614, ESI: 16\n",
      "Epoch 221: Train Accuracy: 0.8570, Validation Accuracy: 0.7704, Validation Loss: 0.2781, ESI: 17\n",
      "Epoch 222: Train Accuracy: 0.8770, Validation Accuracy: 0.7732, Validation Loss: 0.2303, ESI: 18\n",
      "Epoch 223: Train Accuracy: 0.8610, Validation Accuracy: 0.7592, Validation Loss: 0.2542, ESI: 19\n",
      "Epoch 224: Train Accuracy: 0.8770, Validation Accuracy: 0.7718, Validation Loss: 0.2048, ESI: 20\n",
      "Epoch 225: Train Accuracy: 0.8680, Validation Accuracy: 0.7697, Validation Loss: 0.2238, ESI: 21\n",
      "Epoch 226: Train Accuracy: 0.8690, Validation Accuracy: 0.7732, Validation Loss: 0.1997, ESI: 22\n",
      "Epoch 227: Train Accuracy: 0.8670, Validation Accuracy: 0.7732, Validation Loss: 0.2442, ESI: 23\n",
      "Epoch 228: Train Accuracy: 0.8740, Validation Accuracy: 0.7768, Validation Loss: 0.2274, ESI: 24\n",
      "Epoch 229: Train Accuracy: 0.8790, Validation Accuracy: 0.7866, Validation Loss: 0.1980, ESI: 25\n",
      "Epoch 230: Train Accuracy: 0.8590, Validation Accuracy: 0.7746, Validation Loss: 0.2397, ESI: 0\n",
      "Epoch 231: Train Accuracy: 0.8800, Validation Accuracy: 0.7789, Validation Loss: 0.2133, ESI: 1\n",
      "Epoch 232: Train Accuracy: 0.8810, Validation Accuracy: 0.7824, Validation Loss: 0.2285, ESI: 2\n",
      "Epoch 233: Train Accuracy: 0.8790, Validation Accuracy: 0.7824, Validation Loss: 0.2241, ESI: 3\n",
      "Epoch 234: Train Accuracy: 0.8810, Validation Accuracy: 0.7775, Validation Loss: 0.2153, ESI: 4\n",
      "Epoch 235: Train Accuracy: 0.8830, Validation Accuracy: 0.7803, Validation Loss: 0.2043, ESI: 5\n",
      "Epoch 236: Train Accuracy: 0.8710, Validation Accuracy: 0.7817, Validation Loss: 0.2188, ESI: 6\n",
      "Epoch 237: Train Accuracy: 0.8820, Validation Accuracy: 0.7817, Validation Loss: 0.2276, ESI: 7\n",
      "Epoch 238: Train Accuracy: 0.8670, Validation Accuracy: 0.7690, Validation Loss: 0.2550, ESI: 8\n",
      "Epoch 239: Train Accuracy: 0.8790, Validation Accuracy: 0.7782, Validation Loss: 0.2218, ESI: 9\n",
      "Epoch 240: Train Accuracy: 0.8770, Validation Accuracy: 0.7824, Validation Loss: 0.2155, ESI: 10\n",
      "Epoch 241: Train Accuracy: 0.8840, Validation Accuracy: 0.7838, Validation Loss: 0.2225, ESI: 11\n",
      "Epoch 242: Train Accuracy: 0.8800, Validation Accuracy: 0.7831, Validation Loss: 0.2303, ESI: 12\n",
      "Epoch 243: Train Accuracy: 0.8650, Validation Accuracy: 0.7704, Validation Loss: 0.2035, ESI: 13\n",
      "Epoch 244: Train Accuracy: 0.8740, Validation Accuracy: 0.7754, Validation Loss: 0.2133, ESI: 14\n",
      "Epoch 245: Train Accuracy: 0.8630, Validation Accuracy: 0.7655, Validation Loss: 0.2158, ESI: 15\n",
      "Epoch 246: Train Accuracy: 0.8800, Validation Accuracy: 0.7803, Validation Loss: 0.2190, ESI: 16\n",
      "Epoch 247: Train Accuracy: 0.8650, Validation Accuracy: 0.7697, Validation Loss: 0.2612, ESI: 17\n",
      "Epoch 248: Train Accuracy: 0.8810, Validation Accuracy: 0.7845, Validation Loss: 0.2425, ESI: 18\n",
      "Epoch 249: Train Accuracy: 0.8800, Validation Accuracy: 0.7915, Validation Loss: 0.2094, ESI: 19\n",
      "Epoch 250: Train Accuracy: 0.8790, Validation Accuracy: 0.7789, Validation Loss: 0.2146, ESI: 0\n",
      "Epoch 251: Train Accuracy: 0.8730, Validation Accuracy: 0.7775, Validation Loss: 0.2081, ESI: 1\n",
      "Epoch 252: Train Accuracy: 0.8770, Validation Accuracy: 0.7887, Validation Loss: 0.2403, ESI: 2\n",
      "Epoch 253: Train Accuracy: 0.8770, Validation Accuracy: 0.7894, Validation Loss: 0.2114, ESI: 3\n",
      "Epoch 254: Train Accuracy: 0.8720, Validation Accuracy: 0.7831, Validation Loss: 0.2242, ESI: 4\n",
      "Epoch 255: Train Accuracy: 0.8620, Validation Accuracy: 0.7669, Validation Loss: 0.2573, ESI: 5\n",
      "Epoch 256: Train Accuracy: 0.8820, Validation Accuracy: 0.7789, Validation Loss: 0.2301, ESI: 6\n",
      "Epoch 257: Train Accuracy: 0.8800, Validation Accuracy: 0.7880, Validation Loss: 0.2013, ESI: 7\n",
      "Epoch 258: Train Accuracy: 0.8840, Validation Accuracy: 0.7859, Validation Loss: 0.2246, ESI: 8\n",
      "Epoch 259: Train Accuracy: 0.8830, Validation Accuracy: 0.7768, Validation Loss: 0.2348, ESI: 9\n",
      "Epoch 260: Train Accuracy: 0.8840, Validation Accuracy: 0.7859, Validation Loss: 0.2494, ESI: 10\n",
      "Epoch 261: Train Accuracy: 0.8830, Validation Accuracy: 0.7831, Validation Loss: 0.1981, ESI: 11\n",
      "Epoch 262: Train Accuracy: 0.8880, Validation Accuracy: 0.7873, Validation Loss: 0.2186, ESI: 12\n",
      "Epoch 263: Train Accuracy: 0.8860, Validation Accuracy: 0.7852, Validation Loss: 0.2146, ESI: 13\n",
      "Epoch 264: Train Accuracy: 0.8790, Validation Accuracy: 0.7838, Validation Loss: 0.2424, ESI: 14\n",
      "Epoch 265: Train Accuracy: 0.8840, Validation Accuracy: 0.7845, Validation Loss: 0.2049, ESI: 15\n",
      "Epoch 266: Train Accuracy: 0.8640, Validation Accuracy: 0.7641, Validation Loss: 0.2180, ESI: 16\n",
      "Epoch 267: Train Accuracy: 0.8710, Validation Accuracy: 0.7803, Validation Loss: 0.2169, ESI: 17\n",
      "Epoch 268: Train Accuracy: 0.8780, Validation Accuracy: 0.7810, Validation Loss: 0.2100, ESI: 18\n",
      "Epoch 269: Train Accuracy: 0.8800, Validation Accuracy: 0.7866, Validation Loss: 0.2107, ESI: 19\n",
      "Epoch 270: Train Accuracy: 0.8880, Validation Accuracy: 0.7852, Validation Loss: 0.2259, ESI: 20\n",
      "Epoch 271: Train Accuracy: 0.8840, Validation Accuracy: 0.7894, Validation Loss: 0.1952, ESI: 21\n",
      "Epoch 272: Train Accuracy: 0.8750, Validation Accuracy: 0.7810, Validation Loss: 0.2229, ESI: 22\n",
      "Epoch 273: Train Accuracy: 0.8820, Validation Accuracy: 0.7838, Validation Loss: 0.1959, ESI: 23\n",
      "Epoch 274: Train Accuracy: 0.8840, Validation Accuracy: 0.7866, Validation Loss: 0.2077, ESI: 24\n",
      "Epoch 275: Train Accuracy: 0.8850, Validation Accuracy: 0.7746, Validation Loss: 0.2039, ESI: 25\n",
      "Epoch 276: Train Accuracy: 0.8830, Validation Accuracy: 0.7887, Validation Loss: 0.1894, ESI: 26\n",
      "Epoch 277: Train Accuracy: 0.8830, Validation Accuracy: 0.7887, Validation Loss: 0.1906, ESI: 27\n",
      "Epoch 278: Train Accuracy: 0.8860, Validation Accuracy: 0.7817, Validation Loss: 0.1985, ESI: 28\n",
      "Epoch 279: Train Accuracy: 0.8770, Validation Accuracy: 0.7873, Validation Loss: 0.1962, ESI: 29\n",
      "Epoch 280: Train Accuracy: 0.8840, Validation Accuracy: 0.7859, Validation Loss: 0.2077, ESI: 30\n",
      "Epoch 281: Train Accuracy: 0.8740, Validation Accuracy: 0.7831, Validation Loss: 0.2082, ESI: 31\n",
      "Epoch 282: Train Accuracy: 0.8770, Validation Accuracy: 0.7838, Validation Loss: 0.2040, ESI: 32\n",
      "Epoch 283: Train Accuracy: 0.8780, Validation Accuracy: 0.7838, Validation Loss: 0.2075, ESI: 33\n",
      "Epoch 284: Train Accuracy: 0.8730, Validation Accuracy: 0.7880, Validation Loss: 0.2017, ESI: 34\n"
     ]
    },
    {
     "ename": "KeyboardInterrupt",
     "evalue": "",
     "output_type": "error",
     "traceback": [
      "\u001b[1;31m---------------------------------------------------------------------------\u001b[0m",
      "\u001b[1;31mKeyboardInterrupt\u001b[0m                         Traceback (most recent call last)",
      "\u001b[1;32m<ipython-input-93-672a6bc189c5>\u001b[0m in \u001b[0;36m<module>\u001b[1;34m()\u001b[0m\n\u001b[0;32m     13\u001b[0m                                            \u001b[0my\u001b[0m\u001b[1;33m:\u001b[0m \u001b[0mbatch_labels\u001b[0m\u001b[1;33m,\u001b[0m\u001b[1;33m\u001b[0m\u001b[0m\n\u001b[0;32m     14\u001b[0m                                            \u001b[0mlearn_rate\u001b[0m\u001b[1;33m:\u001b[0m \u001b[0mlearning_rate\u001b[0m\u001b[1;33m,\u001b[0m\u001b[1;33m\u001b[0m\u001b[0m\n\u001b[1;32m---> 15\u001b[1;33m                                            keep_prob: keep_probability})\n\u001b[0m\u001b[0;32m     16\u001b[0m         \u001b[1;32mif\u001b[0m \u001b[0mepoch\u001b[0m \u001b[1;33m%\u001b[0m \u001b[1;36m1\u001b[0m \u001b[1;33m==\u001b[0m \u001b[1;36m0\u001b[0m\u001b[1;33m:\u001b[0m\u001b[1;33m\u001b[0m\u001b[0m\n\u001b[0;32m     17\u001b[0m             \u001b[0mprint\u001b[0m\u001b[1;33m(\u001b[0m\u001b[1;34m'Epoch {}: '\u001b[0m\u001b[1;33m.\u001b[0m\u001b[0mformat\u001b[0m\u001b[1;33m(\u001b[0m\u001b[0mepoch\u001b[0m\u001b[1;33m)\u001b[0m\u001b[1;33m,\u001b[0m \u001b[0mend\u001b[0m\u001b[1;33m=\u001b[0m\u001b[1;34m''\u001b[0m\u001b[1;33m)\u001b[0m\u001b[1;33m\u001b[0m\u001b[0m\n",
      "\u001b[1;32m~\\AppData\\Local\\conda\\conda\\envs\\tfgpu1.1\\lib\\site-packages\\tensorflow\\python\\client\\session.py\u001b[0m in \u001b[0;36mrun\u001b[1;34m(self, fetches, feed_dict, options, run_metadata)\u001b[0m\n\u001b[0;32m    776\u001b[0m     \u001b[1;32mtry\u001b[0m\u001b[1;33m:\u001b[0m\u001b[1;33m\u001b[0m\u001b[0m\n\u001b[0;32m    777\u001b[0m       result = self._run(None, fetches, feed_dict, options_ptr,\n\u001b[1;32m--> 778\u001b[1;33m                          run_metadata_ptr)\n\u001b[0m\u001b[0;32m    779\u001b[0m       \u001b[1;32mif\u001b[0m \u001b[0mrun_metadata\u001b[0m\u001b[1;33m:\u001b[0m\u001b[1;33m\u001b[0m\u001b[0m\n\u001b[0;32m    780\u001b[0m         \u001b[0mproto_data\u001b[0m \u001b[1;33m=\u001b[0m \u001b[0mtf_session\u001b[0m\u001b[1;33m.\u001b[0m\u001b[0mTF_GetBuffer\u001b[0m\u001b[1;33m(\u001b[0m\u001b[0mrun_metadata_ptr\u001b[0m\u001b[1;33m)\u001b[0m\u001b[1;33m\u001b[0m\u001b[0m\n",
      "\u001b[1;32m~\\AppData\\Local\\conda\\conda\\envs\\tfgpu1.1\\lib\\site-packages\\tensorflow\\python\\client\\session.py\u001b[0m in \u001b[0;36m_run\u001b[1;34m(self, handle, fetches, feed_dict, options, run_metadata)\u001b[0m\n\u001b[0;32m    980\u001b[0m     \u001b[1;32mif\u001b[0m \u001b[0mfinal_fetches\u001b[0m \u001b[1;32mor\u001b[0m \u001b[0mfinal_targets\u001b[0m\u001b[1;33m:\u001b[0m\u001b[1;33m\u001b[0m\u001b[0m\n\u001b[0;32m    981\u001b[0m       results = self._do_run(handle, final_targets, final_fetches,\n\u001b[1;32m--> 982\u001b[1;33m                              feed_dict_string, options, run_metadata)\n\u001b[0m\u001b[0;32m    983\u001b[0m     \u001b[1;32melse\u001b[0m\u001b[1;33m:\u001b[0m\u001b[1;33m\u001b[0m\u001b[0m\n\u001b[0;32m    984\u001b[0m       \u001b[0mresults\u001b[0m \u001b[1;33m=\u001b[0m \u001b[1;33m[\u001b[0m\u001b[1;33m]\u001b[0m\u001b[1;33m\u001b[0m\u001b[0m\n",
      "\u001b[1;32m~\\AppData\\Local\\conda\\conda\\envs\\tfgpu1.1\\lib\\site-packages\\tensorflow\\python\\client\\session.py\u001b[0m in \u001b[0;36m_do_run\u001b[1;34m(self, handle, target_list, fetch_list, feed_dict, options, run_metadata)\u001b[0m\n\u001b[0;32m   1030\u001b[0m     \u001b[1;32mif\u001b[0m \u001b[0mhandle\u001b[0m \u001b[1;32mis\u001b[0m \u001b[1;32mNone\u001b[0m\u001b[1;33m:\u001b[0m\u001b[1;33m\u001b[0m\u001b[0m\n\u001b[0;32m   1031\u001b[0m       return self._do_call(_run_fn, self._session, feed_dict, fetch_list,\n\u001b[1;32m-> 1032\u001b[1;33m                            target_list, options, run_metadata)\n\u001b[0m\u001b[0;32m   1033\u001b[0m     \u001b[1;32melse\u001b[0m\u001b[1;33m:\u001b[0m\u001b[1;33m\u001b[0m\u001b[0m\n\u001b[0;32m   1034\u001b[0m       return self._do_call(_prun_fn, self._session, handle, feed_dict,\n",
      "\u001b[1;32m~\\AppData\\Local\\conda\\conda\\envs\\tfgpu1.1\\lib\\site-packages\\tensorflow\\python\\client\\session.py\u001b[0m in \u001b[0;36m_do_call\u001b[1;34m(self, fn, *args)\u001b[0m\n\u001b[0;32m   1037\u001b[0m   \u001b[1;32mdef\u001b[0m \u001b[0m_do_call\u001b[0m\u001b[1;33m(\u001b[0m\u001b[0mself\u001b[0m\u001b[1;33m,\u001b[0m \u001b[0mfn\u001b[0m\u001b[1;33m,\u001b[0m \u001b[1;33m*\u001b[0m\u001b[0margs\u001b[0m\u001b[1;33m)\u001b[0m\u001b[1;33m:\u001b[0m\u001b[1;33m\u001b[0m\u001b[0m\n\u001b[0;32m   1038\u001b[0m     \u001b[1;32mtry\u001b[0m\u001b[1;33m:\u001b[0m\u001b[1;33m\u001b[0m\u001b[0m\n\u001b[1;32m-> 1039\u001b[1;33m       \u001b[1;32mreturn\u001b[0m \u001b[0mfn\u001b[0m\u001b[1;33m(\u001b[0m\u001b[1;33m*\u001b[0m\u001b[0margs\u001b[0m\u001b[1;33m)\u001b[0m\u001b[1;33m\u001b[0m\u001b[0m\n\u001b[0m\u001b[0;32m   1040\u001b[0m     \u001b[1;32mexcept\u001b[0m \u001b[0merrors\u001b[0m\u001b[1;33m.\u001b[0m\u001b[0mOpError\u001b[0m \u001b[1;32mas\u001b[0m \u001b[0me\u001b[0m\u001b[1;33m:\u001b[0m\u001b[1;33m\u001b[0m\u001b[0m\n\u001b[0;32m   1041\u001b[0m       \u001b[0mmessage\u001b[0m \u001b[1;33m=\u001b[0m \u001b[0mcompat\u001b[0m\u001b[1;33m.\u001b[0m\u001b[0mas_text\u001b[0m\u001b[1;33m(\u001b[0m\u001b[0me\u001b[0m\u001b[1;33m.\u001b[0m\u001b[0mmessage\u001b[0m\u001b[1;33m)\u001b[0m\u001b[1;33m\u001b[0m\u001b[0m\n",
      "\u001b[1;32m~\\AppData\\Local\\conda\\conda\\envs\\tfgpu1.1\\lib\\site-packages\\tensorflow\\python\\client\\session.py\u001b[0m in \u001b[0;36m_run_fn\u001b[1;34m(session, feed_dict, fetch_list, target_list, options, run_metadata)\u001b[0m\n\u001b[0;32m   1019\u001b[0m         return tf_session.TF_Run(session, options,\n\u001b[0;32m   1020\u001b[0m                                  \u001b[0mfeed_dict\u001b[0m\u001b[1;33m,\u001b[0m \u001b[0mfetch_list\u001b[0m\u001b[1;33m,\u001b[0m \u001b[0mtarget_list\u001b[0m\u001b[1;33m,\u001b[0m\u001b[1;33m\u001b[0m\u001b[0m\n\u001b[1;32m-> 1021\u001b[1;33m                                  status, run_metadata)\n\u001b[0m\u001b[0;32m   1022\u001b[0m \u001b[1;33m\u001b[0m\u001b[0m\n\u001b[0;32m   1023\u001b[0m     \u001b[1;32mdef\u001b[0m \u001b[0m_prun_fn\u001b[0m\u001b[1;33m(\u001b[0m\u001b[0msession\u001b[0m\u001b[1;33m,\u001b[0m \u001b[0mhandle\u001b[0m\u001b[1;33m,\u001b[0m \u001b[0mfeed_dict\u001b[0m\u001b[1;33m,\u001b[0m \u001b[0mfetch_list\u001b[0m\u001b[1;33m)\u001b[0m\u001b[1;33m:\u001b[0m\u001b[1;33m\u001b[0m\u001b[0m\n",
      "\u001b[1;31mKeyboardInterrupt\u001b[0m: "
     ]
    }
   ],
   "source": [
    "max_validation_accuracy = 0.0\n",
    "epochs_since_improvement = 0\n",
    "saver = tf.train.Saver()\n",
    "with tf.Session() as sess:\n",
    "    # Initialize the variables\n",
    "    sess.run(tf.global_variables_initializer())\n",
    "    \n",
    "    # Training cycle\n",
    "    for epoch in range(epochs):\n",
    "        # Loop over all batches\n",
    "        for batch_features, batch_labels in get_batches(train_features, train_labels, batch_size):\n",
    "            sess.run(optimizer, feed_dict={x: batch_features, \n",
    "                                           y: batch_labels, \n",
    "                                           learn_rate: learning_rate, \n",
    "                                           keep_prob: keep_probability})\n",
    "        if epoch % 1 == 0:\n",
    "            print('Epoch {}: '.format(epoch), end='')\n",
    "            validation_accuracy = print_stats(sess, batch_features, batch_labels, cost, accuracy, epochs_since_improvement)         \n",
    "        \n",
    "            if validation_accuracy > max_validation_accuracy:\n",
    "                max_validation_accuracy = validation_accuracy\n",
    "                epochs_since_improvement = 0\n",
    "                saver.save(sess, \"checkpoints/model.ckpt\")\n",
    "            else:\n",
    "                epochs_since_improvement += 1"
   ]
  },
  {
   "cell_type": "markdown",
   "metadata": {},
   "source": [
    "# Test Set Accuracy"
   ]
  },
  {
   "cell_type": "code",
   "execution_count": 142,
   "metadata": {
    "collapsed": true
   },
   "outputs": [],
   "source": [
    "scaler = pickle.load(open(os.path.join(dataset_dir, 'scaler.p'), \"rb\")) # Load saved normalization scaler\n",
    "normalized_data = scaler.transform(test_features) # Don't use fit_transform on test sets\n",
    "\n",
    "# Reshape for 1 channel of audio data\n",
    "normalized_data = normalized_data.reshape((normalized_data.shape[0], normalized_data.shape[1], 1))"
   ]
  },
  {
   "cell_type": "code",
   "execution_count": 143,
   "metadata": {},
   "outputs": [
    {
     "name": "stdout",
     "output_type": "stream",
     "text": [
      "INFO:tensorflow:Restoring parameters from checkpoints\\model.ckpt\n",
      "Test Accuracy: 0.841\n"
     ]
    }
   ],
   "source": [
    "tf.reset_default_graph()\n",
    "\n",
    "loader = tf.train.import_meta_graph('checkpoints/model.ckpt.meta')\n",
    "with tf.Session() as sess:\n",
    "    loader.restore(sess, tf.train.latest_checkpoint('checkpoints'))\n",
    "    \n",
    "    graph = tf.get_default_graph()\n",
    "    \n",
    "    x = graph.get_tensor_by_name(\"Inputs/inputs:0\")\n",
    "    y = graph.get_tensor_by_name(\"Targets/labels:0\")\n",
    "    keep_prob = graph.get_tensor_by_name(\"keep_probability:0\")\n",
    "    accuracy = graph.get_tensor_by_name(\"Accuracy/accuracy:0\")\n",
    "    \n",
    "    test_accuracy = sess.run(accuracy, feed_dict={x: normalized_data, y: test_labels, keep_prob: 1.0})\n",
    "    print(\"Test Accuracy: {0:0.3f}\".format(test_accuracy))\n",
    "        "
   ]
  },
  {
   "cell_type": "markdown",
   "metadata": {
    "collapsed": true
   },
   "source": [
    "# Test Model"
   ]
  },
  {
   "cell_type": "code",
   "execution_count": 5,
   "metadata": {
    "collapsed": true
   },
   "outputs": [],
   "source": [
    "test_set = pd.read_pickle(os.path.join(dataset_dir, \"predict.pkl\"))\n",
    "min_thresh_keys = pickle.load(open(os.path.join(dataset_dir, \"key_classes.p\"), \"rb\"))\n",
    "test_set = test_set[test_set['key'].isin(min_thresh_keys)] # Filter dataframe to only include keys > threshold\n",
    "data_width = len(test_set['data'].values[0])"
   ]
  },
  {
   "cell_type": "code",
   "execution_count": 23,
   "metadata": {
    "collapsed": true
   },
   "outputs": [],
   "source": [
    "# input_data = test_set['data'].values[3:4]\n",
    "# input_data = np.stack(input_data, axis=0)\n",
    "\n",
    "# scaler = pickle.load(open(os.path.join(dataset_dir, 'scaler.p'), \"rb\"))\n",
    "# normalized_data = scaler.transform(input_data)\n",
    "\n",
    "# # Reshape for 1 channel of audio data\n",
    "# normalized_data = normalized_data.reshape((normalized_data.shape[0], normalized_data.shape[1], 1))"
   ]
  },
  {
   "cell_type": "code",
   "execution_count": 19,
   "metadata": {
    "collapsed": true
   },
   "outputs": [],
   "source": [
    "# normalized_data[0]"
   ]
  },
  {
   "cell_type": "code",
   "execution_count": null,
   "metadata": {
    "collapsed": true
   },
   "outputs": [],
   "source": []
  },
  {
   "cell_type": "code",
   "execution_count": null,
   "metadata": {
    "collapsed": true
   },
   "outputs": [],
   "source": []
  },
  {
   "cell_type": "code",
   "execution_count": 6,
   "metadata": {
    "collapsed": true
   },
   "outputs": [],
   "source": [
    "input_data = test_set['data'].values\n",
    "input_data = np.stack(input_data, axis=0)\n",
    "\n",
    "scaler = pickle.load(open(os.path.join(dataset_dir, 'scaler.p'), \"rb\"))\n",
    "normalized_data = scaler.transform(input_data)\n",
    "\n",
    "normalized_data = normalized_data.reshape((normalized_data.shape[0], normalized_data.shape[1], 1))"
   ]
  },
  {
   "cell_type": "code",
   "execution_count": 7,
   "metadata": {},
   "outputs": [
    {
     "name": "stdout",
     "output_type": "stream",
     "text": [
      "INFO:tensorflow:Restoring parameters from checkpoints\\model.ckpt\n"
     ]
    }
   ],
   "source": [
    "loader = tf.train.import_meta_graph('checkpoints/model.ckpt.meta')\n",
    "with tf.Session() as sess:\n",
    "    loader.restore(sess, tf.train.latest_checkpoint('checkpoints'))\n",
    "    \n",
    "    graph = tf.get_default_graph()\n",
    "    \n",
    "    x = graph.get_tensor_by_name(\"Inputs/inputs:0\")\n",
    "    keep_prob = graph.get_tensor_by_name(\"keep_probability:0\")\n",
    "    predicted = graph.get_tensor_by_name(\"predicted:0\")\n",
    "    \n",
    "    feed_dict = {x: normalized_data, keep_prob: 1.0}\n",
    "    prediction = sess.run(predicted, feed_dict=feed_dict).squeeze()"
   ]
  },
  {
   "cell_type": "code",
   "execution_count": 25,
   "metadata": {},
   "outputs": [
    {
     "data": {
      "text/plain": [
       "array(['e'], dtype=object)"
      ]
     },
     "execution_count": 25,
     "metadata": {},
     "output_type": "execute_result"
    }
   ],
   "source": [
    "# test_set['key'].values[3:4]"
   ]
  },
  {
   "cell_type": "code",
   "execution_count": 26,
   "metadata": {},
   "outputs": [
    {
     "data": {
      "text/plain": [
       "'e'"
      ]
     },
     "execution_count": 26,
     "metadata": {},
     "output_type": "execute_result"
    }
   ],
   "source": [
    "# labels[np.argmax(prediction)]"
   ]
  },
  {
   "cell_type": "code",
   "execution_count": 8,
   "metadata": {
    "collapsed": true
   },
   "outputs": [],
   "source": [
    "labels = pickle.load(open(os.path.join(dataset_dir, 'labels.p'), \"rb\"))"
   ]
  },
  {
   "cell_type": "code",
   "execution_count": 9,
   "metadata": {},
   "outputs": [
    {
     "name": "stdout",
     "output_type": "stream",
     "text": [
      "Key: a, Prediction: space, Probability: 0.99\n",
      "Key: e, Prediction: e, Probability: 0.86\n",
      "Key: i, Prediction: s, Probability: 0.37\n",
      "Key: n, Prediction: s, Probability: 0.49\n",
      "Key: o, Prediction: e, Probability: 0.64\n",
      "Key: s, Prediction: e, Probability: 0.95\n",
      "Key: space, Prediction: e, Probability: 0.69\n",
      "Key: t, Prediction: e, Probability: 0.42\n",
      "Key: e, Prediction: space, Probability: 0.49\n",
      "Key: i, Prediction: n, Probability: 0.64\n",
      "Key: a, Prediction: e, Probability: 0.62\n",
      "Key: n, Prediction: i, Probability: 0.91\n",
      "Key: o, Prediction: n, Probability: 0.91\n",
      "Key: s, Prediction: n, Probability: 0.64\n",
      "Key: space, Prediction: space, Probability: 1.00\n",
      "Key: e, Prediction: t, Probability: 0.50\n",
      "Key: space, Prediction: e, Probability: 0.66\n",
      "Key: s, Prediction: e, Probability: 0.72\n",
      "Key: a, Prediction: space, Probability: 0.95\n",
      "Key: t, Prediction: e, Probability: 0.99\n",
      "Key: i, Prediction: n, Probability: 0.84\n",
      "Key: e, Prediction: e, Probability: 0.51\n",
      "Key: n, Prediction: n, Probability: 0.95\n",
      "Key: o, Prediction: n, Probability: 0.61\n",
      "Key: s, Prediction: n, Probability: 0.64\n",
      "Key: a, Prediction: t, Probability: 0.46\n",
      "Key: t, Prediction: t, Probability: 0.83\n",
      "Key: e, Prediction: e, Probability: 0.96\n",
      "Key: space, Prediction: e, Probability: 0.88\n",
      "Key: n, Prediction: n, Probability: 0.90\n",
      "Key: s, Prediction: e, Probability: 0.68\n",
      "Key: n, Prediction: n, Probability: 0.44\n",
      "Key: a, Prediction: e, Probability: 0.64\n",
      "Key: t, Prediction: t, Probability: 0.73\n",
      "Key: space, Prediction: space, Probability: 1.00\n",
      "Key: i, Prediction: n, Probability: 0.98\n",
      "Key: e, Prediction: s, Probability: 0.44\n",
      "Key: t, Prediction: n, Probability: 0.44\n",
      "Key: a, Prediction: e, Probability: 0.75\n",
      "Key: n, Prediction: n, Probability: 0.90\n",
      "Key: e, Prediction: space, Probability: 0.97\n",
      "Key: space, Prediction: e, Probability: 0.73\n",
      "Key: i, Prediction: i, Probability: 0.95\n",
      "Key: o, Prediction: space, Probability: 0.92\n",
      "Key: i, Prediction: o, Probability: 0.59\n",
      "Key: o, Prediction: i, Probability: 0.66\n",
      "Key: a, Prediction: s, Probability: 0.35\n",
      "Key: o, Prediction: i, Probability: 0.93\n",
      "Key: e, Prediction: i, Probability: 0.95\n",
      "Key: s, Prediction: space, Probability: 0.45\n",
      "Key: a, Prediction: t, Probability: 0.36\n",
      "Key: space, Prediction: t, Probability: 0.44\n",
      "Key: e, Prediction: e, Probability: 0.35\n",
      "Key: t, Prediction: o, Probability: 0.27\n",
      "Key: a, Prediction: n, Probability: 0.74\n",
      "Key: e, Prediction: t, Probability: 0.53\n",
      "Key: e, Prediction: t, Probability: 0.32\n",
      "Key: s, Prediction: e, Probability: 0.66\n",
      "Key: a, Prediction: s, Probability: 0.58\n",
      "Key: o, Prediction: s, Probability: 0.80\n",
      "Key: i, Prediction: i, Probability: 0.74\n",
      "Key: t, Prediction: e, Probability: 0.50\n",
      "Key: e, Prediction: n, Probability: 0.48\n",
      "Key: n, Prediction: i, Probability: 0.56\n",
      "Key: o, Prediction: n, Probability: 0.94\n",
      "Key: s, Prediction: t, Probability: 0.49\n",
      "Key: o, Prediction: n, Probability: 0.60\n",
      "Key: a, Prediction: e, Probability: 0.96\n",
      "Key: t, Prediction: e, Probability: 0.42\n",
      "Key: e, Prediction: n, Probability: 0.79\n",
      "Key: a, Prediction: s, Probability: 0.57\n",
      "Key: s, Prediction: s, Probability: 0.63\n",
      "Key: i, Prediction: n, Probability: 0.70\n",
      "Key: o, Prediction: space, Probability: 0.62\n",
      "Key: a, Prediction: e, Probability: 0.92\n",
      "Key: n, Prediction: o, Probability: 0.53\n",
      "Key: i, Prediction: n, Probability: 0.81\n",
      "Key: t, Prediction: t, Probability: 0.79\n",
      "Key: e, Prediction: i, Probability: 0.72\n",
      "Key: t, Prediction: e, Probability: 0.89\n",
      "Key: i, Prediction: t, Probability: 0.79\n",
      "Key: a, Prediction: e, Probability: 0.35\n",
      "Key: n, Prediction: n, Probability: 0.49\n",
      "Key: e, Prediction: e, Probability: 0.38\n",
      "Key: t, Prediction: t, Probability: 0.90\n",
      "Key: o, Prediction: i, Probability: 0.65\n",
      "Key: i, Prediction: n, Probability: 0.95\n",
      "Key: a, Prediction: e, Probability: 0.56\n",
      "Key: e, Prediction: e, Probability: 0.85\n",
      "Key: n, Prediction: i, Probability: 0.50\n",
      "Key: t, Prediction: t, Probability: 0.66\n",
      "Key: a, Prediction: e, Probability: 0.76\n",
      "Key: n, Prediction: o, Probability: 0.25\n",
      "Key: e, Prediction: e, Probability: 0.61\n",
      "Key: i, Prediction: t, Probability: 0.66\n",
      "Key: n, Prediction: t, Probability: 0.92\n",
      "Key: a, Prediction: t, Probability: 0.28\n",
      "Key: t, Prediction: e, Probability: 0.67\n",
      "Key: e, Prediction: o, Probability: 0.37\n",
      "Key: n, Prediction: i, Probability: 0.78\n",
      "Accuracy: 0.22\n"
     ]
    }
   ],
   "source": [
    "correct_cnt = 0\n",
    "for i, r in enumerate(prediction):\n",
    "    actual_key = test_set['key'].values[i]\n",
    "    pred_key = labels[np.argmax(r)]\n",
    "    print('Key: {0}, Prediction: {1}, Probability: {2:0.2f}'.format(actual_key, pred_key, r[np.argmax(r)]))\n",
    "    if actual_key == pred_key:\n",
    "        correct_cnt += 1\n",
    "print('Accuracy: {}'.format(correct_cnt/len(test_set)))"
   ]
  },
  {
   "cell_type": "code",
   "execution_count": null,
   "metadata": {
    "collapsed": true
   },
   "outputs": [],
   "source": []
  },
  {
   "cell_type": "code",
   "execution_count": null,
   "metadata": {
    "collapsed": true
   },
   "outputs": [],
   "source": []
  },
  {
   "cell_type": "code",
   "execution_count": null,
   "metadata": {
    "collapsed": true
   },
   "outputs": [],
   "source": []
  }
 ],
 "metadata": {
  "kernelspec": {
   "display_name": "Python 3",
   "language": "python",
   "name": "python3"
  },
  "language_info": {
   "codemirror_mode": {
    "name": "ipython",
    "version": 3
   },
   "file_extension": ".py",
   "mimetype": "text/x-python",
   "name": "python",
   "nbconvert_exporter": "python",
   "pygments_lexer": "ipython3",
   "version": "3.5.3"
  }
 },
 "nbformat": 4,
 "nbformat_minor": 2
}
