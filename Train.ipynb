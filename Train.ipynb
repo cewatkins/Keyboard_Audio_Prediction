{
 "cells": [
  {
   "cell_type": "markdown",
   "metadata": {},
   "source": [
    "# Check the Version of TensorFlow and Access to GPU\n",
    "This will check to make sure you have the correct version of TensorFlow and access to a GPU"
   ]
  },
  {
   "cell_type": "markdown",
   "metadata": {},
   "source": [
    "# Todo List\n",
    "- Save normalized data so it doesn't need to be normalized each time\n",
    "- Batch norm after ReLu\n",
    "- Dense layers instead of CNNs\n",
    "- Add several dense layers after convolutional layers\n",
    "- Shuffle dataset\n",
    "- Play with learning rate and batch size"
   ]
  },
  {
   "cell_type": "code",
   "execution_count": 1,
   "metadata": {
    "collapsed": true
   },
   "outputs": [],
   "source": [
    "import pandas as pd\n",
    "import numpy as np\n",
    "from sklearn import preprocessing"
   ]
  },
  {
   "cell_type": "code",
   "execution_count": 2,
   "metadata": {},
   "outputs": [
    {
     "name": "stdout",
     "output_type": "stream",
     "text": [
      "TensorFlow Version: 1.1.0\n",
      "Default GPU Device: /gpu:0\n"
     ]
    }
   ],
   "source": [
    "from distutils.version import LooseVersion\n",
    "import warnings\n",
    "import tensorflow as tf\n",
    "\n",
    "# Check TensorFlow Version\n",
    "assert LooseVersion(tf.__version__) >= LooseVersion('1.0'), 'Please use TensorFlow version 1.0 or newer.  You are using {}'.format(tf.__version__)\n",
    "print('TensorFlow Version: {}'.format(tf.__version__))\n",
    "\n",
    "# Check for a GPU\n",
    "if not tf.test.gpu_device_name():\n",
    "    warnings.warn('No GPU found. Please use a GPU to train your neural network.')\n",
    "else:\n",
    "    print('Default GPU Device: {}'.format(tf.test.gpu_device_name()))"
   ]
  },
  {
   "cell_type": "markdown",
   "metadata": {},
   "source": [
    "# Import Data"
   ]
  },
  {
   "cell_type": "code",
   "execution_count": 3,
   "metadata": {
    "collapsed": true
   },
   "outputs": [],
   "source": [
    "import os\n",
    "dataset_dir = 'DataSet/'"
   ]
  },
  {
   "cell_type": "code",
   "execution_count": 4,
   "metadata": {},
   "outputs": [
    {
     "name": "stdout",
     "output_type": "stream",
     "text": [
      "File: DataSet/2018-07-13_18-39-56_0.pkl, DataSet Length: 500\n",
      "File: DataSet/2018-07-13_18-43-51_0.pkl, DataSet Length: 500\n",
      "File: DataSet/2018-07-13_18-46-04_1.pkl, DataSet Length: 500\n",
      "File: DataSet/2018-07-13_18-47-58_2.pkl, DataSet Length: 500\n",
      "File: DataSet/2018-07-13_18-49-54_3.pkl, DataSet Length: 500\n",
      "File: DataSet/2018-07-13_18-52-16_4.pkl, DataSet Length: 500\n",
      "File: DataSet/2018-07-13_18-54-29_5.pkl, DataSet Length: 500\n",
      "File: DataSet/2018-07-13_18-56-38_6.pkl, DataSet Length: 500\n",
      "File: DataSet/2018-07-13_18-58-30_7.pkl, DataSet Length: 500\n",
      "File: DataSet/2018-07-13_19-00-21_8.pkl, DataSet Length: 500\n",
      "File: DataSet/2018-07-13_19-02-36_9.pkl, DataSet Length: 500\n",
      "File: DataSet/2018-07-13_19-04-42_10.pkl, DataSet Length: 500\n",
      "File: DataSet/2018-07-13_19-06-38_11.pkl, DataSet Length: 500\n",
      "File: DataSet/2018-07-13_19-08-49_12.pkl, DataSet Length: 500\n",
      "File: DataSet/2018-07-13_19-10-48_13.pkl, DataSet Length: 500\n",
      "File: DataSet/2018-07-13_19-12-43_14.pkl, DataSet Length: 500\n",
      "File: DataSet/2018-07-13_19-14-54_15.pkl, DataSet Length: 500\n",
      "File: DataSet/2018-07-13_19-16-54_16.pkl, DataSet Length: 500\n",
      "File: DataSet/2018-07-13_19-19-01_17.pkl, DataSet Length: 500\n",
      "File: DataSet/2018-07-13_19-20-48_18.pkl, DataSet Length: 500\n",
      "File: DataSet/2018-07-13_19-22-54_19.pkl, DataSet Length: 500\n",
      "File: DataSet/data_07-08-18.pkl, DataSet Length: 7150\n",
      "File: DataSet/data_07-10-18_work.pkl, DataSet Length: 8700\n",
      "File: DataSet/data_07-13-18.pkl, DataSet Length: 5400\n",
      "Total Length: 31750\n"
     ]
    }
   ],
   "source": [
    "count = 0\n",
    "for filename in os.listdir(dataset_dir):\n",
    "    if filename.endswith(\".pkl\"): \n",
    "        df = pd.read_pickle(os.path.join(dataset_dir, filename))\n",
    "        \n",
    "        if count == 0:\n",
    "            raw_df = df\n",
    "        else:\n",
    "            raw_df = raw_df.append(df, ignore_index=True)\n",
    "            \n",
    "        print('File: {}, DataSet Length: {}'.format(os.path.join(dataset_dir, filename), len(df)))\n",
    "        count += 1\n",
    "    else:\n",
    "        continue\n",
    "print('Total Length: {}'.format(len(raw_df)))"
   ]
  },
  {
   "cell_type": "code",
   "execution_count": 5,
   "metadata": {
    "collapsed": true
   },
   "outputs": [],
   "source": [
    "# # Read saved list of data from object into a dataframe\n",
    "# raw_df = pd.read_pickle('DataSet/data_07-10-18.pkl')\n",
    "# print(len(raw_df))\n",
    "# raw_df.head()"
   ]
  },
  {
   "cell_type": "code",
   "execution_count": 6,
   "metadata": {
    "collapsed": true
   },
   "outputs": [],
   "source": [
    "data_width = len(raw_df['data'][0])"
   ]
  },
  {
   "cell_type": "markdown",
   "metadata": {},
   "source": [
    "# Data Preprocessing"
   ]
  },
  {
   "cell_type": "markdown",
   "metadata": {},
   "source": [
    "#### Filter out key counts less than threshold value"
   ]
  },
  {
   "cell_type": "code",
   "execution_count": 7,
   "metadata": {
    "collapsed": true
   },
   "outputs": [],
   "source": [
    "import collections\n",
    "import matplotlib.pyplot as plt\n",
    "key_count = collections.Counter(raw_df['key'])"
   ]
  },
  {
   "cell_type": "code",
   "execution_count": 8,
   "metadata": {
    "collapsed": true
   },
   "outputs": [],
   "source": [
    "width = 0.5 # Bar width\n",
    "figsize = (15, 4)\n",
    "\n",
    "def plot_key_hist(most_common):\n",
    "    if len(most_common) > 30:\n",
    "        most_common = most_common[:30]\n",
    "        \n",
    "    hist_labels, hist_values = zip(*most_common) # Show only a subset of all keys\n",
    "    indexes = np.arange(len(hist_labels))\n",
    "    plt.figure(figsize=figsize)\n",
    "    plt.bar(indexes, hist_values, width)\n",
    "    plt.xticks(indexes + width * 0.5, hist_labels, rotation='vertical')\n",
    "    plt.show()"
   ]
  },
  {
   "cell_type": "code",
   "execution_count": 9,
   "metadata": {},
   "outputs": [
    {
     "data": {
      "image/png": "[encoded data removed]",
      "text/plain": [
       "<matplotlib.figure.Figure at 0x1e17dac8198>"
      ]
     },
     "metadata": {},
     "output_type": "display_data"
    }
   ],
   "source": [
    "plot_key_hist(key_count.most_common())"
   ]
  },
  {
   "cell_type": "code",
   "execution_count": 10,
   "metadata": {},
   "outputs": [
    {
     "data": {
      "text/plain": [
       "<bound method Counter.most_common of Counter({'space': 4990, 'e': 3070, 't': 2414, 'a': 2135, 'i': 1858, 'o': 1774, 'n': 1766, 's': 1738, 'r': 1490, 'h': 1109, 'l': 1102, 'd': 877, 'c': 837, 'u': 629, 'm': 623, 'g': 591, 'f': 517, 'p': 479, 'w': 431, 'y': 429, 'b': 392, 'v': 311, 'backspace': 309, '.': 283, ',': 246, 'k': 188, 'enter': 148, 'shift': 120, 'x': 107, \"'\": 76, '0': 69, 'z': 67, 'ctrl_l': 60, '-': 54, '1': 45, '2': 43, 'q': 42, 'down': 38, 'delete': 38, '9': 35, 'j': 26, '3': 24, '5': 20, '/': 17, 'esc': 17, 'left': 16, ';': 16, '7': 15, '8': 14, '6': 14, '4': 14, 'up': 10, 'right': 8, '=': 4, 'tab': 4, '`': 1})>"
      ]
     },
     "execution_count": 10,
     "metadata": {},
     "output_type": "execute_result"
    }
   ],
   "source": [
    "key_count.most_common"
   ]
  },
  {
   "cell_type": "code",
   "execution_count": 11,
   "metadata": {},
   "outputs": [
    {
     "name": "stdout",
     "output_type": "stream",
     "text": [
      "Max Data Size: 13904, Class Count: 8, Threshold: 1737\n"
     ]
    }
   ],
   "source": [
    "# Maximize DataSet Size By Finding Optimal Threshold\n",
    "max_data_size = 0\n",
    "max_class_cnt = 0\n",
    "threshold_max = 0\n",
    "for _, v in key_count.most_common():\n",
    "    threshold = v - 1\n",
    "    min_thresh_cnts = [count for key, count in zip(key_count.keys(), key_count.values()) if count > threshold]\n",
    "    class_cnt = len(min_thresh_cnts)\n",
    "    data_size = min(min_thresh_cnts)*len(min_thresh_cnts)\n",
    "    if data_size > max_data_size:\n",
    "        max_data_size = data_size\n",
    "        max_class_cnt = class_cnt\n",
    "        threshold_max = threshold\n",
    "print('Max Data Size: {}, Class Count: {}, Threshold: {}'.format(max_data_size, max_class_cnt, threshold_max))"
   ]
  },
  {
   "cell_type": "code",
   "execution_count": 12,
   "metadata": {
    "collapsed": true
   },
   "outputs": [],
   "source": [
    "# Get list of keys with counts greater than threshold\n",
    "threshold = threshold_max\n",
    "min_thresh_keys = [key for key, count in zip(key_count.keys(), key_count.values()) if count > threshold]"
   ]
  },
  {
   "cell_type": "code",
   "execution_count": 13,
   "metadata": {
    "collapsed": true
   },
   "outputs": [],
   "source": [
    "min_thresh_df = raw_df[raw_df['key'].isin(min_thresh_keys)] # Filter dataframe to only include keys > threshold"
   ]
  },
  {
   "cell_type": "code",
   "execution_count": 14,
   "metadata": {
    "collapsed": true
   },
   "outputs": [],
   "source": [
    "def trim_max_thresh(grouped_class):\n",
    "    return grouped_class.sample(threshold)"
   ]
  },
  {
   "cell_type": "code",
   "execution_count": 15,
   "metadata": {
    "collapsed": true
   },
   "outputs": [],
   "source": [
    "# Keep same number of samples in each class by throwing away everything past the threshold\n",
    "df = min_thresh_df.groupby(['key']).apply(trim_max_thresh)"
   ]
  },
  {
   "cell_type": "markdown",
   "metadata": {},
   "source": [
    "#### Plot truncated data"
   ]
  },
  {
   "cell_type": "code",
   "execution_count": 16,
   "metadata": {
    "collapsed": true
   },
   "outputs": [],
   "source": [
    "truncated_count = collections.Counter(df['key'])"
   ]
  },
  {
   "cell_type": "code",
   "execution_count": 17,
   "metadata": {},
   "outputs": [
    {
     "data": {
      "image/png": "[encoded data removed]",
      "text/plain": [
       "<matplotlib.figure.Figure at 0x1e18e922240>"
      ]
     },
     "metadata": {},
     "output_type": "display_data"
    }
   ],
   "source": [
    "plot_key_hist(truncated_count.most_common())"
   ]
  },
  {
   "cell_type": "markdown",
   "metadata": {},
   "source": [
    "### Shuffle data"
   ]
  },
  {
   "cell_type": "code",
   "execution_count": 18,
   "metadata": {
    "collapsed": true
   },
   "outputs": [],
   "source": [
    "df = df.sample(frac=1).reset_index(drop=True)"
   ]
  },
  {
   "cell_type": "markdown",
   "metadata": {},
   "source": [
    "## Skip to Load If Normalized Data Already Exists on Disk"
   ]
  },
  {
   "cell_type": "markdown",
   "metadata": {},
   "source": [
    "#### Normalize Data"
   ]
  },
  {
   "cell_type": "code",
   "execution_count": 19,
   "metadata": {},
   "outputs": [
    {
     "data": {
      "text/plain": [
       "numpy.ndarray"
      ]
     },
     "execution_count": 19,
     "metadata": {},
     "output_type": "execute_result"
    }
   ],
   "source": [
    "type(df['data'][0])"
   ]
  },
  {
   "cell_type": "code",
   "execution_count": 20,
   "metadata": {
    "collapsed": true
   },
   "outputs": [],
   "source": [
    "input_data = df['data'].values\n",
    "input_data = np.stack(input_data, axis=0)"
   ]
  },
  {
   "cell_type": "code",
   "execution_count": 21,
   "metadata": {},
   "outputs": [
    {
     "name": "stderr",
     "output_type": "stream",
     "text": [
      "C:\\Users\\stephen\\AppData\\Local\\conda\\conda\\envs\\tfgpu1.1\\lib\\site-packages\\sklearn\\utils\\validation.py:444: DataConversionWarning: Data with input dtype int16 was converted to float64 by MinMaxScaler.\n",
      "  warnings.warn(msg, DataConversionWarning)\n"
     ]
    }
   ],
   "source": [
    "scaler = preprocessing.MinMaxScaler(feature_range=(0,1))\n",
    "normalized_data = scaler.fit_transform(input_data)"
   ]
  },
  {
   "cell_type": "markdown",
   "metadata": {},
   "source": [
    "#### One Hot Encode Classes"
   ]
  },
  {
   "cell_type": "code",
   "execution_count": 22,
   "metadata": {
    "collapsed": true
   },
   "outputs": [],
   "source": [
    "n_classes = len(set(df['key']))"
   ]
  },
  {
   "cell_type": "code",
   "execution_count": 23,
   "metadata": {
    "collapsed": true
   },
   "outputs": [],
   "source": [
    "labels_str = [str(key) for key in df['key']]\n",
    "lb = preprocessing.LabelBinarizer() # Create encoder\n",
    "lb.fit(list(set(labels_str)))\n",
    "labels = lb.transform(labels_str)"
   ]
  },
  {
   "cell_type": "code",
   "execution_count": 24,
   "metadata": {},
   "outputs": [
    {
     "data": {
      "text/plain": [
       "array(['a', 'e', 'i', 'n', 'o', 's', 'space', 't'],\n",
       "      dtype='<U5')"
      ]
     },
     "execution_count": 24,
     "metadata": {},
     "output_type": "execute_result"
    }
   ],
   "source": [
    "lb.classes_"
   ]
  },
  {
   "cell_type": "markdown",
   "metadata": {},
   "source": [
    "#### Split Training and Validation Data"
   ]
  },
  {
   "cell_type": "markdown",
   "metadata": {},
   "source": [
    "Reshape to add 1 channel"
   ]
  },
  {
   "cell_type": "code",
   "execution_count": 25,
   "metadata": {},
   "outputs": [
    {
     "data": {
      "text/plain": [
       "(13896, 10240, 1)"
      ]
     },
     "execution_count": 25,
     "metadata": {},
     "output_type": "execute_result"
    }
   ],
   "source": [
    "normalized_data = normalized_data.reshape((normalized_data.shape[0], normalized_data.shape[1], 1))\n",
    "# labels = labels.reshape((labels.shape[0], labels.shape[1], 1))\n",
    "normalized_data.shape"
   ]
  },
  {
   "cell_type": "code",
   "execution_count": 26,
   "metadata": {
    "collapsed": true
   },
   "outputs": [],
   "source": [
    "from sklearn.model_selection import train_test_split\n",
    "train_features, valid_features, train_labels, valid_labels = train_test_split(\n",
    "    normalized_data, \n",
    "    labels, \n",
    "    test_size=0.1, \n",
    "    random_state=42)"
   ]
  },
  {
   "cell_type": "markdown",
   "metadata": {},
   "source": [
    "# Define Network"
   ]
  },
  {
   "cell_type": "markdown",
   "metadata": {},
   "source": [
    "### Input"
   ]
  },
  {
   "cell_type": "code",
   "execution_count": 27,
   "metadata": {
    "collapsed": true
   },
   "outputs": [],
   "source": [
    "def model_inputs(data_width, n_classes):\n",
    "    \"\"\"\n",
    "    Create the model inputs\n",
    "    :param data_width: The total number of samples in the recorded data point\n",
    "    :param n_classes: Number of Classes\n",
    "    :return: Tuple of (tensor of input audio data, key press labels, learning rate, keep_prob)\n",
    "    \"\"\"\n",
    "    # TODO: Add audio channels to input\n",
    "    \n",
    "    with tf.name_scope(\"Inputs\"):\n",
    "        audio_inputs = tf.placeholder(tf.float32, [None, data_width, 1], name='inputs')\n",
    "    with tf.name_scope(\"Targets\"):\n",
    "        key_labels = tf.placeholder(tf.float32, [None, n_classes], name='labels')\n",
    "    learning_rate = tf.placeholder(tf.float32, name='learning_rate')\n",
    "    keep_prob = tf.placeholder(tf.float32, name='keep_probability')\n",
    "\n",
    "    return audio_inputs, key_labels, learning_rate, keep_prob"
   ]
  },
  {
   "cell_type": "markdown",
   "metadata": {},
   "source": [
    "### Get Batches"
   ]
  },
  {
   "cell_type": "code",
   "execution_count": 28,
   "metadata": {
    "collapsed": true
   },
   "outputs": [],
   "source": [
    "def get_batches(features, labels, batch_size):\n",
    "    \"\"\"\n",
    "    Split features and labels into batches\n",
    "    \"\"\"\n",
    "    for start in range(0, len(features), batch_size):\n",
    "        end = min(start + batch_size, len(features))\n",
    "        yield features[start:end], labels[start:end]"
   ]
  },
  {
   "cell_type": "markdown",
   "metadata": {},
   "source": [
    "### Network"
   ]
  },
  {
   "cell_type": "code",
   "execution_count": 69,
   "metadata": {
    "collapsed": true
   },
   "outputs": [],
   "source": [
    "def network(X, keep_prob, n_classes):\n",
    "    \"\"\"\n",
    "    Create the network\n",
    "    :param X: Tensor of input recording(s)\n",
    "    :param keep_prob: Tensor for the keep probability\n",
    "    :param n_classes: Number of Classes\n",
    "    :return: Tuple of (tensor output of the classifier, tensor logits of the classifier)\n",
    "    \"\"\"    \n",
    "    # Hyperparameters\n",
    "    alpha = 0.2\n",
    "    h_dim = 16\n",
    "    \n",
    "    #print(\"X: {}\".format(X.shape))\n",
    "     \n",
    "    with tf.name_scope(\"Hidden_Layer1\"):\n",
    "        #h1 = tf.layers.dense(X, h_dim, activation=None)\n",
    "        h1 = tf.layers.conv1d(X, h_dim, 100, 10, 'same', activation=None)\n",
    "        #h1 = tf.layers.maxpool2d(h1, 5, 2, 'same')\n",
    "        h1 = tf.nn.dropout(h1, keep_prob) # Regularization\n",
    "        h1 = tf.maximum(h1*alpha, h1) # Leaky ReLu\n",
    "        h1 = tf.layers.batch_normalization(h1)\n",
    "        \n",
    "    #print(\"h1: {}\".format(h1.shape))\n",
    "\n",
    "    with tf.name_scope(\"Hidden_Layer2\"):\n",
    "        #h2 = tf.layers.dense(h1, h_dim, activation=None)\n",
    "        h2 = tf.layers.conv1d(h1, h_dim*2, 50, 5, 'same', activation=None)\n",
    "        #h2 = tf.layers.maxpool2d(h2, 5, 2, 'same')\n",
    "        h2 = tf.nn.dropout(h2, keep_prob) # Regularization        \n",
    "        h2 = tf.maximum(h2*alpha, h2) # Leaky ReLu\n",
    "        h2 = tf.layers.batch_normalization(h2)\n",
    "        \n",
    "    #print(\"h2: {}\".format(h2.shape))\n",
    "\n",
    "    with tf.name_scope(\"Hidden_Layer3\"):\n",
    "        #h3 = tf.layers.dense(h2, h_dim, activation=None)\n",
    "        h3 = tf.layers.conv1d(h2, h_dim*3, 25, 2, 'same', activation=None)\n",
    "        #h3 = tf.layers.maxpool2d(h3, 3, 2, 'same')\n",
    "        h3 = tf.nn.dropout(h3, keep_prob) # Regularization\n",
    "        h3 = tf.maximum(h3*alpha, h3) # Leaky ReLu\n",
    "        h3 = tf.layers.batch_normalization(h3)\n",
    "        \n",
    "    with tf.name_scope(\"Hidden_Layer4\"):\n",
    "        h4 = tf.layers.conv1d(h3, h_dim*4, 10, 1, 'same', activation=None)\n",
    "        h4 = tf.nn.dropout(h4, keep_prob) # Regularization\n",
    "        h4 = tf.maximum(h4*alpha, h4) # Leaky ReLu\n",
    "        h4 = tf.layers.batch_normalization(h4)\n",
    "    \n",
    "    \n",
    "    \n",
    "    with tf.name_scope(\"Output\"):\n",
    "        flat_dim = int(h4.get_shape()[1])*int(h4.get_shape()[2])\n",
    "        flat = tf.reshape(h4, [-1, flat_dim])\n",
    "        #print(\"flat: {}\".format(flat.shape))\n",
    "        logits = tf.layers.dense(flat, n_classes, activation=None, name='logits')\n",
    "        #print(\"logits: {}\".format(logits.shape))\n",
    "        #out = tf.nn.softmax(logits, name='softmax_out')\n",
    "\n",
    "    return logits"
   ]
  },
  {
   "cell_type": "markdown",
   "metadata": {},
   "source": [
    "### Show Stats"
   ]
  },
  {
   "cell_type": "code",
   "execution_count": 70,
   "metadata": {
    "collapsed": true
   },
   "outputs": [],
   "source": [
    "def print_stats(session, feature_batch, label_batch, cost, accuracy):\n",
    "    \"\"\"\n",
    "    Print information about loss and validation accuracy\n",
    "    : session: Current TensorFlow session\n",
    "    : feature_batch: Batch of Numpy image data\n",
    "    : label_batch: Batch of Numpy label data\n",
    "    : cost: TensorFlow cost function\n",
    "    : accuracy: TensorFlow accuracy function\n",
    "    \"\"\"\n",
    "    with tf.name_scope(\"Validation_Stats\"):\n",
    "        validation_loss = session.run(cost, feed_dict={x: feature_batch, y: label_batch, keep_prob: 1.0})\n",
    "        validation_accuracy = session.run(accuracy, feed_dict={x: valid_features, y: valid_labels, keep_prob: 1.0})\n",
    "        train_accuracy = session.run(accuracy, feed_dict={x: train_features[:1000], y: train_labels[:1000], keep_prob: 1.0})\n",
    "        print(\"Train Accuracy: {}, Validation Accuracy: {}, Validation Loss: {}\".format(train_accuracy, validation_accuracy, validation_loss))"
   ]
  },
  {
   "cell_type": "markdown",
   "metadata": {},
   "source": [
    "### Build Neural Network"
   ]
  },
  {
   "cell_type": "code",
   "execution_count": 71,
   "metadata": {},
   "outputs": [],
   "source": [
    "# Remove previous weights, bias, inputs, etc..\n",
    "tf.reset_default_graph()\n",
    "\n",
    "# Inputs\n",
    "x, y, learn_rate, keep_prob = model_inputs(data_width, n_classes)\n",
    "\n",
    "#Model\n",
    "logits = network(x, keep_prob, n_classes)\n",
    "\n",
    "with tf.name_scope(\"Cost\"):\n",
    "    # Cost and Optimizer\n",
    "    cost = tf.reduce_mean(tf.nn.softmax_cross_entropy_with_logits(logits=logits, labels=y, name='loss'), name='cost')\n",
    "    \n",
    "with tf.name_scope(\"Train\"):\n",
    "    optimizer = tf.train.AdamOptimizer(learn_rate, name='optimizer').minimize(cost)\n",
    "\n",
    "with tf.name_scope(\"Accuracy\"):\n",
    "    # Accuracy\n",
    "    correct_pred = tf.equal(tf.argmax(logits, 1), tf.argmax(y, 1), name='prediction')\n",
    "    accuracy = tf.reduce_mean(tf.cast(correct_pred, tf.float32), name='accuracy')"
   ]
  },
  {
   "cell_type": "markdown",
   "metadata": {},
   "source": [
    "### Write out the graph for TensorBoard"
   ]
  },
  {
   "cell_type": "code",
   "execution_count": 72,
   "metadata": {
    "collapsed": true
   },
   "outputs": [],
   "source": [
    "with tf.Session() as sess:\n",
    "    sess.run(tf.global_variables_initializer())\n",
    "    file_writer = tf.summary.FileWriter('./logs/2', sess.graph)"
   ]
  },
  {
   "cell_type": "markdown",
   "metadata": {},
   "source": [
    "### Hyperparameters"
   ]
  },
  {
   "cell_type": "code",
   "execution_count": 73,
   "metadata": {
    "collapsed": true
   },
   "outputs": [],
   "source": [
    "epochs = 5000\n",
    "batch_size = 8\n",
    "keep_probability = 0.80\n",
    "learning_rate = 0.0001"
   ]
  },
  {
   "cell_type": "markdown",
   "metadata": {},
   "source": [
    "# Train Neural Network"
   ]
  },
  {
   "cell_type": "code",
   "execution_count": 74,
   "metadata": {},
   "outputs": [
    {
     "name": "stdout",
     "output_type": "stream",
     "text": [
      "12.5%\n"
     ]
    }
   ],
   "source": [
    "# Accuracy to beat (Min of 3 classes)\n",
    "print(\"{:.3}%\".format((1/n_classes)*100))"
   ]
  },
  {
   "cell_type": "code",
   "execution_count": 75,
   "metadata": {
    "scrolled": true
   },
   "outputs": [
    {
     "name": "stdout",
     "output_type": "stream",
     "text": [
      "Training...\n",
      "Epoch 0: Train Accuracy: 0.11100000143051147, Validation Accuracy: 0.12086330354213715, Validation Loss: 2.0788094997406006\n",
      "Epoch 1: Train Accuracy: 0.11100000143051147, Validation Accuracy: 0.12086330354213715, Validation Loss: 2.0759968757629395\n",
      "Epoch 2: Train Accuracy: 0.3009999990463257, Validation Accuracy: 0.2798561453819275, Validation Loss: 1.8462070226669312\n",
      "Epoch 3: Train Accuracy: 0.39800000190734863, Validation Accuracy: 0.3827338218688965, Validation Loss: 1.30994713306427\n",
      "Epoch 4: Train Accuracy: 0.48799997568130493, Validation Accuracy: 0.49280571937561035, Validation Loss: 1.0393019914627075\n",
      "Epoch 5: Train Accuracy: 0.5289999842643738, Validation Accuracy: 0.5251798629760742, Validation Loss: 0.8665015697479248\n",
      "Epoch 6: Train Accuracy: 0.5600000023841858, Validation Accuracy: 0.5482014417648315, Validation Loss: 0.8854858875274658\n",
      "Epoch 7: Train Accuracy: 0.5680000185966492, Validation Accuracy: 0.5532374382019043, Validation Loss: 0.7198375463485718\n",
      "Epoch 8: Train Accuracy: 0.5889999866485596, Validation Accuracy: 0.5726618766784668, Validation Loss: 0.7162207365036011\n",
      "Epoch 9: Train Accuracy: 0.6049999594688416, Validation Accuracy: 0.5784173011779785, Validation Loss: 0.6519940495491028\n",
      "Epoch 10: Train Accuracy: 0.6200000643730164, Validation Accuracy: 0.5906475186347961, Validation Loss: 0.6625261902809143\n",
      "Epoch 11: Train Accuracy: 0.6369999647140503, Validation Accuracy: 0.6122302412986755, Validation Loss: 0.5432682633399963\n",
      "Epoch 12: Train Accuracy: 0.659000039100647, Validation Accuracy: 0.6115108728408813, Validation Loss: 0.6448947787284851\n",
      "Epoch 13: Train Accuracy: 0.6599999666213989, Validation Accuracy: 0.6187050342559814, Validation Loss: 0.6169244050979614\n",
      "Epoch 14: Train Accuracy: 0.6809999942779541, Validation Accuracy: 0.6316547393798828, Validation Loss: 0.49568939208984375\n",
      "Epoch 15: Train Accuracy: 0.6930000185966492, Validation Accuracy: 0.632374107837677, Validation Loss: 0.47794097661972046\n",
      "Epoch 16: Train Accuracy: 0.6979999542236328, Validation Accuracy: 0.6489208340644836, Validation Loss: 0.4168347120285034\n",
      "Epoch 17: Train Accuracy: 0.7190000414848328, Validation Accuracy: 0.6467626094818115, Validation Loss: 0.5119682550430298\n",
      "Epoch 18: Train Accuracy: 0.7279999852180481, Validation Accuracy: 0.6539568305015564, Validation Loss: 0.4039073884487152\n",
      "Epoch 19: Train Accuracy: 0.7299999594688416, Validation Accuracy: 0.6568344831466675, Validation Loss: 0.27654892206192017\n",
      "Epoch 20: Train Accuracy: 0.7540000677108765, Validation Accuracy: 0.666906476020813, Validation Loss: 0.21167820692062378\n",
      "Epoch 21: Train Accuracy: 0.7610000967979431, Validation Accuracy: 0.6712230443954468, Validation Loss: 0.32462969422340393\n",
      "Epoch 22: Train Accuracy: 0.7630000114440918, Validation Accuracy: 0.6776978373527527, Validation Loss: 0.2878234088420868\n",
      "Epoch 23: Train Accuracy: 0.753000020980835, Validation Accuracy: 0.6733812689781189, Validation Loss: 0.19559288024902344\n",
      "Epoch 24: Train Accuracy: 0.7890000343322754, Validation Accuracy: 0.6870504021644592, Validation Loss: 0.1942913681268692\n",
      "Epoch 25: Train Accuracy: 0.7739999890327454, Validation Accuracy: 0.6697841882705688, Validation Loss: 0.1928727924823761\n",
      "Epoch 26: Train Accuracy: 0.7960000038146973, Validation Accuracy: 0.6856115460395813, Validation Loss: 0.1515953540802002\n",
      "Epoch 27: Train Accuracy: 0.8040000200271606, Validation Accuracy: 0.690647542476654, Validation Loss: 0.18870142102241516\n",
      "Epoch 28: Train Accuracy: 0.8090000748634338, Validation Accuracy: 0.691366970539093, Validation Loss: 0.29549044370651245\n",
      "Epoch 29: Train Accuracy: 0.8100000619888306, Validation Accuracy: 0.6892085671424866, Validation Loss: 0.1533258557319641\n",
      "Epoch 30: Train Accuracy: 0.8110000491142273, Validation Accuracy: 0.7014387845993042, Validation Loss: 0.14042435586452484\n",
      "Epoch 31: Train Accuracy: 0.8129999041557312, Validation Accuracy: 0.6906474232673645, Validation Loss: 0.14693446457386017\n",
      "Epoch 32: Train Accuracy: 0.8320000171661377, Validation Accuracy: 0.7086330652236938, Validation Loss: 0.1785474568605423\n",
      "Epoch 33: Train Accuracy: 0.8360000252723694, Validation Accuracy: 0.7050359845161438, Validation Loss: 0.1669735610485077\n",
      "Epoch 34: Train Accuracy: 0.8339999914169312, Validation Accuracy: 0.6978417038917542, Validation Loss: 0.0896926075220108\n",
      "Epoch 35: Train Accuracy: 0.8259999752044678, Validation Accuracy: 0.7028776407241821, Validation Loss: 0.09912195056676865\n",
      "Epoch 36: Train Accuracy: 0.8509999513626099, Validation Accuracy: 0.7107914090156555, Validation Loss: 0.13553336262702942\n",
      "Epoch 37: Train Accuracy: 0.8420000076293945, Validation Accuracy: 0.7165467739105225, Validation Loss: 0.07575146853923798\n",
      "Epoch 38: Train Accuracy: 0.8519999980926514, Validation Accuracy: 0.705755352973938, Validation Loss: 0.12444046139717102\n",
      "Epoch 39: Train Accuracy: 0.847000002861023, Validation Accuracy: 0.7129496335983276, Validation Loss: 0.09143811464309692\n",
      "Epoch 40: Train Accuracy: 0.8470000624656677, Validation Accuracy: 0.7122302055358887, Validation Loss: 0.061435963958501816\n",
      "Epoch 41: Train Accuracy: 0.8639999628067017, Validation Accuracy: 0.7071942090988159, Validation Loss: 0.08326331526041031\n",
      "Epoch 42: Train Accuracy: 0.8609999418258667, Validation Accuracy: 0.7100719213485718, Validation Loss: 0.07572997361421585\n",
      "Epoch 43: Train Accuracy: 0.843000054359436, Validation Accuracy: 0.6978417038917542, Validation Loss: 0.021698221564292908\n",
      "Epoch 44: Train Accuracy: 0.8530000448226929, Validation Accuracy: 0.7122302055358887, Validation Loss: 0.06433054059743881\n",
      "Epoch 45: Train Accuracy: 0.8750000596046448, Validation Accuracy: 0.7143884897232056, Validation Loss: 0.06267086416482925\n",
      "Epoch 46: Train Accuracy: 0.8870000839233398, Validation Accuracy: 0.7115107774734497, Validation Loss: 0.057935573160648346\n",
      "Epoch 47: Train Accuracy: 0.8810000419616699, Validation Accuracy: 0.7143884897232056, Validation Loss: 0.036723267287015915\n",
      "Epoch 48: Train Accuracy: 0.8810000419616699, Validation Accuracy: 0.7165467739105225, Validation Loss: 0.030319275334477425\n",
      "Epoch 49: Train Accuracy: 0.8880000114440918, Validation Accuracy: 0.7187050580978394, Validation Loss: 0.054226502776145935\n",
      "Epoch 50: Train Accuracy: 0.8790000081062317, Validation Accuracy: 0.7107913494110107, Validation Loss: 0.06342707574367523\n",
      "Epoch 51: Train Accuracy: 0.8960000276565552, Validation Accuracy: 0.7208632826805115, Validation Loss: 0.05597052350640297\n",
      "Epoch 52: Train Accuracy: 0.8780001401901245, Validation Accuracy: 0.7122301459312439, Validation Loss: 0.03778849542140961\n",
      "Epoch 53: Train Accuracy: 0.8819999694824219, Validation Accuracy: 0.7122301459312439, Validation Loss: 0.05812336876988411\n",
      "Epoch 54: Train Accuracy: 0.9089999794960022, Validation Accuracy: 0.7201438546180725, Validation Loss: 0.07786133885383606\n",
      "Epoch 55: Train Accuracy: 0.8830000162124634, Validation Accuracy: 0.7071942687034607, Validation Loss: 0.040198519825935364\n",
      "Epoch 56: Train Accuracy: 0.902999997138977, Validation Accuracy: 0.730215847492218, Validation Loss: 0.0493939071893692\n",
      "Epoch 57: Train Accuracy: 0.8910000324249268, Validation Accuracy: 0.7143884301185608, Validation Loss: 0.027684923261404037\n",
      "Epoch 58: Train Accuracy: 0.8939999341964722, Validation Accuracy: 0.7136690616607666, Validation Loss: 0.03687549754977226\n",
      "Epoch 59: Train Accuracy: 0.902999997138977, Validation Accuracy: 0.7280575633049011, Validation Loss: 0.019929219037294388\n",
      "Epoch 60: Train Accuracy: 0.9010000824928284, Validation Accuracy: 0.7237409949302673, Validation Loss: 0.03455163538455963\n",
      "Epoch 61: Train Accuracy: 0.9019999504089355, Validation Accuracy: 0.7165467143058777, Validation Loss: 0.023394864052534103\n",
      "Epoch 62: Train Accuracy: 0.9110000133514404, Validation Accuracy: 0.7122302055358887, Validation Loss: 0.022630203515291214\n",
      "Epoch 63: Train Accuracy: 0.9200000166893005, Validation Accuracy: 0.7129496335983276, Validation Loss: 0.05021245777606964\n",
      "Epoch 64: Train Accuracy: 0.9110000133514404, Validation Accuracy: 0.7158272862434387, Validation Loss: 0.01995275169610977\n",
      "Epoch 65: Train Accuracy: 0.918999969959259, Validation Accuracy: 0.7187050580978394, Validation Loss: 0.019146647304296494\n",
      "Epoch 66: Train Accuracy: 0.9179999828338623, Validation Accuracy: 0.7201438546180725, Validation Loss: 0.028776172548532486\n"
     ]
    },
    {
     "name": "stdout",
     "output_type": "stream",
     "text": [
      "Epoch 67: Train Accuracy: 0.9229999780654907, Validation Accuracy: 0.7215827107429504, Validation Loss: 0.02108955755829811\n",
      "Epoch 68: Train Accuracy: 0.9180000424385071, Validation Accuracy: 0.7201438546180725, Validation Loss: 0.05029941722750664\n",
      "Epoch 69: Train Accuracy: 0.9180000424385071, Validation Accuracy: 0.7201438546180725, Validation Loss: 0.03517947345972061\n",
      "Epoch 70: Train Accuracy: 0.9239999651908875, Validation Accuracy: 0.7151079177856445, Validation Loss: 0.025195274502038956\n",
      "Epoch 71: Train Accuracy: 0.9230000376701355, Validation Accuracy: 0.7230215668678284, Validation Loss: 0.028114547953009605\n",
      "Epoch 72: Train Accuracy: 0.9220000505447388, Validation Accuracy: 0.7273381352424622, Validation Loss: 0.022327108308672905\n",
      "Epoch 73: Train Accuracy: 0.9169999957084656, Validation Accuracy: 0.7258992791175842, Validation Loss: 0.031027846038341522\n",
      "Epoch 74: Train Accuracy: 0.9280000329017639, Validation Accuracy: 0.7201438546180725, Validation Loss: 0.02005869522690773\n",
      "Epoch 75: Train Accuracy: 0.9420000910758972, Validation Accuracy: 0.7302157878875732, Validation Loss: 0.04355202615261078\n",
      "Epoch 76: Train Accuracy: 0.9279999732971191, Validation Accuracy: 0.7201438546180725, Validation Loss: 0.021135907620191574\n",
      "Epoch 77: Train Accuracy: 0.937000036239624, Validation Accuracy: 0.7381294965744019, Validation Loss: 0.1039341613650322\n",
      "Epoch 78: Train Accuracy: 0.9160000681877136, Validation Accuracy: 0.7136690616607666, Validation Loss: 0.026090970262885094\n",
      "Epoch 79: Train Accuracy: 0.9410001039505005, Validation Accuracy: 0.7309352159500122, Validation Loss: 0.07472773641347885\n",
      "Epoch 80: Train Accuracy: 0.9429999589920044, Validation Accuracy: 0.730935275554657, Validation Loss: 0.04957298934459686\n",
      "Epoch 81: Train Accuracy: 0.9300000071525574, Validation Accuracy: 0.7201439142227173, Validation Loss: 0.011874652467668056\n",
      "Epoch 82: Train Accuracy: 0.953000009059906, Validation Accuracy: 0.7388489842414856, Validation Loss: 0.016766764223575592\n",
      "Epoch 83: Train Accuracy: 0.9279999732971191, Validation Accuracy: 0.7194244265556335, Validation Loss: 0.012860691174864769\n",
      "Epoch 84: Train Accuracy: 0.9430000185966492, Validation Accuracy: 0.7395683526992798, Validation Loss: 0.03654221072793007\n",
      "Epoch 85: Train Accuracy: 0.9460000991821289, Validation Accuracy: 0.7287769913673401, Validation Loss: 0.008824004791676998\n",
      "Epoch 86: Train Accuracy: 0.9340000152587891, Validation Accuracy: 0.729496419429779, Validation Loss: 0.016895076259970665\n",
      "Epoch 87: Train Accuracy: 0.9470000863075256, Validation Accuracy: 0.730935275554657, Validation Loss: 0.05169110745191574\n",
      "Epoch 88: Train Accuracy: 0.9350000023841858, Validation Accuracy: 0.7266187071800232, Validation Loss: 0.022141482681035995\n",
      "Epoch 89: Train Accuracy: 0.9570000767707825, Validation Accuracy: 0.7208632826805115, Validation Loss: 0.05233814939856529\n",
      "Epoch 90: Train Accuracy: 0.9620000123977661, Validation Accuracy: 0.7251798510551453, Validation Loss: 0.036450546234846115\n",
      "Epoch 91: Train Accuracy: 0.956000030040741, Validation Accuracy: 0.7287769913673401, Validation Loss: 0.032888833433389664\n",
      "Epoch 92: Train Accuracy: 0.9500000476837158, Validation Accuracy: 0.7345324158668518, Validation Loss: 0.04524402320384979\n",
      "Epoch 93: Train Accuracy: 0.9629999995231628, Validation Accuracy: 0.7374100089073181, Validation Loss: 0.1433345526456833\n",
      "Epoch 94: Train Accuracy: 0.955000102519989, Validation Accuracy: 0.729496419429779, Validation Loss: 0.023794125765562057\n",
      "Epoch 95: Train Accuracy: 0.9580000042915344, Validation Accuracy: 0.7446042895317078, Validation Loss: 0.024018343538045883\n",
      "Epoch 96: Train Accuracy: 0.9550000429153442, Validation Accuracy: 0.7287769913673401, Validation Loss: 0.009289957582950592\n",
      "Epoch 97: Train Accuracy: 0.9580000638961792, Validation Accuracy: 0.730935275554657, Validation Loss: 0.014473111368715763\n",
      "Epoch 98: Train Accuracy: 0.9419999718666077, Validation Accuracy: 0.7251798510551453, Validation Loss: 0.01858130656182766\n",
      "Epoch 99: Train Accuracy: 0.9649999737739563, Validation Accuracy: 0.7374100685119629, Validation Loss: 0.024761872366070747\n",
      "Epoch 100: Train Accuracy: 0.9580000638961792, Validation Accuracy: 0.7366906404495239, Validation Loss: 0.04882200062274933\n",
      "Epoch 101: Train Accuracy: 0.9630000591278076, Validation Accuracy: 0.734532356262207, Validation Loss: 0.01174848061054945\n",
      "Epoch 102: Train Accuracy: 0.9500000476837158, Validation Accuracy: 0.7251797914505005, Validation Loss: 0.09759745746850967\n",
      "Epoch 103: Train Accuracy: 0.9690000414848328, Validation Accuracy: 0.7417266368865967, Validation Loss: 0.02752804383635521\n",
      "Epoch 104: Train Accuracy: 0.9660000801086426, Validation Accuracy: 0.735971212387085, Validation Loss: 0.01716095767915249\n",
      "Epoch 105: Train Accuracy: 0.9570000767707825, Validation Accuracy: 0.7374100685119629, Validation Loss: 0.0357731357216835\n",
      "Epoch 106: Train Accuracy: 0.9639999866485596, Validation Accuracy: 0.7424460053443909, Validation Loss: 0.054125577211380005\n",
      "Epoch 107: Train Accuracy: 0.9620000123977661, Validation Accuracy: 0.740287721157074, Validation Loss: 0.031273987144231796\n",
      "Epoch 108: Train Accuracy: 0.9650000333786011, Validation Accuracy: 0.7366907000541687, Validation Loss: 0.04762483015656471\n",
      "Epoch 109: Train Accuracy: 0.9649999737739563, Validation Accuracy: 0.7489208579063416, Validation Loss: 0.052306387573480606\n",
      "Epoch 110: Train Accuracy: 0.9709999561309814, Validation Accuracy: 0.7374101281166077, Validation Loss: 0.0446084663271904\n",
      "Epoch 111: Train Accuracy: 0.953000009059906, Validation Accuracy: 0.7287769913673401, Validation Loss: 0.015574383549392223\n",
      "Epoch 112: Train Accuracy: 0.9609999656677246, Validation Accuracy: 0.7330935597419739, Validation Loss: 0.014033250510692596\n",
      "Epoch 113: Train Accuracy: 0.9720000624656677, Validation Accuracy: 0.7381295561790466, Validation Loss: 0.014051107689738274\n",
      "Epoch 114: Train Accuracy: 0.9570000171661377, Validation Accuracy: 0.7338129878044128, Validation Loss: 0.054290492087602615\n",
      "Epoch 115: Train Accuracy: 0.9520000219345093, Validation Accuracy: 0.7474820017814636, Validation Loss: 0.008541813120245934\n",
      "Epoch 116: Train Accuracy: 0.972000002861023, Validation Accuracy: 0.7424460649490356, Validation Loss: 0.013658933341503143\n",
      "Epoch 117: Train Accuracy: 0.968000054359436, Validation Accuracy: 0.7482013702392578, Validation Loss: 0.006756093818694353\n",
      "Epoch 118: Train Accuracy: 0.9650000333786011, Validation Accuracy: 0.7532374858856201, Validation Loss: 0.01385335810482502\n",
      "Epoch 119: Train Accuracy: 0.9570000171661377, Validation Accuracy: 0.7438848614692688, Validation Loss: 0.01381625421345234\n",
      "Epoch 120: Train Accuracy: 0.9650000333786011, Validation Accuracy: 0.7438849210739136, Validation Loss: 0.03895074874162674\n",
      "Epoch 121: Train Accuracy: 0.9760000109672546, Validation Accuracy: 0.7510790824890137, Validation Loss: 0.02170422300696373\n",
      "Epoch 122: Train Accuracy: 0.9700000882148743, Validation Accuracy: 0.7489208579063416, Validation Loss: 0.023805592209100723\n",
      "Epoch 123: Train Accuracy: 0.9750000834465027, Validation Accuracy: 0.7402878403663635, Validation Loss: 0.04490353539586067\n",
      "Epoch 124: Train Accuracy: 0.9649999737739563, Validation Accuracy: 0.7388489842414856, Validation Loss: 0.007894336245954037\n",
      "Epoch 125: Train Accuracy: 0.9730000495910645, Validation Accuracy: 0.7446043491363525, Validation Loss: 0.023080255836248398\n",
      "Epoch 126: Train Accuracy: 0.9789999127388, Validation Accuracy: 0.7453237175941467, Validation Loss: 0.03348936513066292\n",
      "Epoch 127: Train Accuracy: 0.9670000672340393, Validation Accuracy: 0.7438848614692688, Validation Loss: 0.020610054954886436\n",
      "Epoch 128: Train Accuracy: 0.9729999899864197, Validation Accuracy: 0.7374100089073181, Validation Loss: 0.014430643059313297\n",
      "Epoch 129: Train Accuracy: 0.9729999899864197, Validation Accuracy: 0.734532356262207, Validation Loss: 0.026030344888567924\n",
      "Epoch 130: Train Accuracy: 0.9760000109672546, Validation Accuracy: 0.7431654930114746, Validation Loss: 0.010335423983633518\n",
      "Epoch 131: Train Accuracy: 0.9779999852180481, Validation Accuracy: 0.7510790824890137, Validation Loss: 0.01294681429862976\n",
      "Epoch 132: Train Accuracy: 0.9690001010894775, Validation Accuracy: 0.7446043491363525, Validation Loss: 0.0125746363773942\n"
     ]
    },
    {
     "name": "stdout",
     "output_type": "stream",
     "text": [
      "Epoch 133: Train Accuracy: 0.9790000915527344, Validation Accuracy: 0.7381295561790466, Validation Loss: 0.11133968830108643\n",
      "Epoch 134: Train Accuracy: 0.9779999852180481, Validation Accuracy: 0.7330935597419739, Validation Loss: 0.03806617110967636\n",
      "Epoch 135: Train Accuracy: 0.9760000109672546, Validation Accuracy: 0.7460431456565857, Validation Loss: 0.006760152522474527\n",
      "Epoch 136: Train Accuracy: 0.9740000367164612, Validation Accuracy: 0.7489208579063416, Validation Loss: 0.01501463819295168\n",
      "Epoch 137: Train Accuracy: 0.9779999852180481, Validation Accuracy: 0.7532373666763306, Validation Loss: 0.04385601729154587\n",
      "Epoch 138: Train Accuracy: 0.9819999933242798, Validation Accuracy: 0.7453237771987915, Validation Loss: 0.07641462236642838\n"
     ]
    },
    {
     "ename": "KeyboardInterrupt",
     "evalue": "",
     "output_type": "error",
     "traceback": [
      "\u001b[1;31m---------------------------------------------------------------------------\u001b[0m",
      "\u001b[1;31mKeyboardInterrupt\u001b[0m                         Traceback (most recent call last)",
      "\u001b[1;32m<ipython-input-75-1582e972384e>\u001b[0m in \u001b[0;36m<module>\u001b[1;34m()\u001b[0m\n\u001b[0;32m     13\u001b[0m                                            \u001b[0my\u001b[0m\u001b[1;33m:\u001b[0m \u001b[0mbatch_labels\u001b[0m\u001b[1;33m,\u001b[0m\u001b[1;33m\u001b[0m\u001b[0m\n\u001b[0;32m     14\u001b[0m                                            \u001b[0mlearn_rate\u001b[0m\u001b[1;33m:\u001b[0m \u001b[0mlearning_rate\u001b[0m\u001b[1;33m,\u001b[0m\u001b[1;33m\u001b[0m\u001b[0m\n\u001b[1;32m---> 15\u001b[1;33m                                            keep_prob: keep_probability})\n\u001b[0m\u001b[0;32m     16\u001b[0m         \u001b[1;32mif\u001b[0m \u001b[0mepoch\u001b[0m \u001b[1;33m%\u001b[0m \u001b[1;36m1\u001b[0m \u001b[1;33m==\u001b[0m \u001b[1;36m0\u001b[0m\u001b[1;33m:\u001b[0m\u001b[1;33m\u001b[0m\u001b[0m\n\u001b[0;32m     17\u001b[0m             \u001b[0mprint\u001b[0m\u001b[1;33m(\u001b[0m\u001b[1;34m'Epoch {}: '\u001b[0m\u001b[1;33m.\u001b[0m\u001b[0mformat\u001b[0m\u001b[1;33m(\u001b[0m\u001b[0mepoch\u001b[0m\u001b[1;33m)\u001b[0m\u001b[1;33m,\u001b[0m \u001b[0mend\u001b[0m\u001b[1;33m=\u001b[0m\u001b[1;34m''\u001b[0m\u001b[1;33m)\u001b[0m\u001b[1;33m\u001b[0m\u001b[0m\n",
      "\u001b[1;32m~\\AppData\\Local\\conda\\conda\\envs\\tfgpu1.1\\lib\\site-packages\\tensorflow\\python\\client\\session.py\u001b[0m in \u001b[0;36mrun\u001b[1;34m(self, fetches, feed_dict, options, run_metadata)\u001b[0m\n\u001b[0;32m    776\u001b[0m     \u001b[1;32mtry\u001b[0m\u001b[1;33m:\u001b[0m\u001b[1;33m\u001b[0m\u001b[0m\n\u001b[0;32m    777\u001b[0m       result = self._run(None, fetches, feed_dict, options_ptr,\n\u001b[1;32m--> 778\u001b[1;33m                          run_metadata_ptr)\n\u001b[0m\u001b[0;32m    779\u001b[0m       \u001b[1;32mif\u001b[0m \u001b[0mrun_metadata\u001b[0m\u001b[1;33m:\u001b[0m\u001b[1;33m\u001b[0m\u001b[0m\n\u001b[0;32m    780\u001b[0m         \u001b[0mproto_data\u001b[0m \u001b[1;33m=\u001b[0m \u001b[0mtf_session\u001b[0m\u001b[1;33m.\u001b[0m\u001b[0mTF_GetBuffer\u001b[0m\u001b[1;33m(\u001b[0m\u001b[0mrun_metadata_ptr\u001b[0m\u001b[1;33m)\u001b[0m\u001b[1;33m\u001b[0m\u001b[0m\n",
      "\u001b[1;32m~\\AppData\\Local\\conda\\conda\\envs\\tfgpu1.1\\lib\\site-packages\\tensorflow\\python\\client\\session.py\u001b[0m in \u001b[0;36m_run\u001b[1;34m(self, handle, fetches, feed_dict, options, run_metadata)\u001b[0m\n\u001b[0;32m    980\u001b[0m     \u001b[1;32mif\u001b[0m \u001b[0mfinal_fetches\u001b[0m \u001b[1;32mor\u001b[0m \u001b[0mfinal_targets\u001b[0m\u001b[1;33m:\u001b[0m\u001b[1;33m\u001b[0m\u001b[0m\n\u001b[0;32m    981\u001b[0m       results = self._do_run(handle, final_targets, final_fetches,\n\u001b[1;32m--> 982\u001b[1;33m                              feed_dict_string, options, run_metadata)\n\u001b[0m\u001b[0;32m    983\u001b[0m     \u001b[1;32melse\u001b[0m\u001b[1;33m:\u001b[0m\u001b[1;33m\u001b[0m\u001b[0m\n\u001b[0;32m    984\u001b[0m       \u001b[0mresults\u001b[0m \u001b[1;33m=\u001b[0m \u001b[1;33m[\u001b[0m\u001b[1;33m]\u001b[0m\u001b[1;33m\u001b[0m\u001b[0m\n",
      "\u001b[1;32m~\\AppData\\Local\\conda\\conda\\envs\\tfgpu1.1\\lib\\site-packages\\tensorflow\\python\\client\\session.py\u001b[0m in \u001b[0;36m_do_run\u001b[1;34m(self, handle, target_list, fetch_list, feed_dict, options, run_metadata)\u001b[0m\n\u001b[0;32m   1030\u001b[0m     \u001b[1;32mif\u001b[0m \u001b[0mhandle\u001b[0m \u001b[1;32mis\u001b[0m \u001b[1;32mNone\u001b[0m\u001b[1;33m:\u001b[0m\u001b[1;33m\u001b[0m\u001b[0m\n\u001b[0;32m   1031\u001b[0m       return self._do_call(_run_fn, self._session, feed_dict, fetch_list,\n\u001b[1;32m-> 1032\u001b[1;33m                            target_list, options, run_metadata)\n\u001b[0m\u001b[0;32m   1033\u001b[0m     \u001b[1;32melse\u001b[0m\u001b[1;33m:\u001b[0m\u001b[1;33m\u001b[0m\u001b[0m\n\u001b[0;32m   1034\u001b[0m       return self._do_call(_prun_fn, self._session, handle, feed_dict,\n",
      "\u001b[1;32m~\\AppData\\Local\\conda\\conda\\envs\\tfgpu1.1\\lib\\site-packages\\tensorflow\\python\\client\\session.py\u001b[0m in \u001b[0;36m_do_call\u001b[1;34m(self, fn, *args)\u001b[0m\n\u001b[0;32m   1037\u001b[0m   \u001b[1;32mdef\u001b[0m \u001b[0m_do_call\u001b[0m\u001b[1;33m(\u001b[0m\u001b[0mself\u001b[0m\u001b[1;33m,\u001b[0m \u001b[0mfn\u001b[0m\u001b[1;33m,\u001b[0m \u001b[1;33m*\u001b[0m\u001b[0margs\u001b[0m\u001b[1;33m)\u001b[0m\u001b[1;33m:\u001b[0m\u001b[1;33m\u001b[0m\u001b[0m\n\u001b[0;32m   1038\u001b[0m     \u001b[1;32mtry\u001b[0m\u001b[1;33m:\u001b[0m\u001b[1;33m\u001b[0m\u001b[0m\n\u001b[1;32m-> 1039\u001b[1;33m       \u001b[1;32mreturn\u001b[0m \u001b[0mfn\u001b[0m\u001b[1;33m(\u001b[0m\u001b[1;33m*\u001b[0m\u001b[0margs\u001b[0m\u001b[1;33m)\u001b[0m\u001b[1;33m\u001b[0m\u001b[0m\n\u001b[0m\u001b[0;32m   1040\u001b[0m     \u001b[1;32mexcept\u001b[0m \u001b[0merrors\u001b[0m\u001b[1;33m.\u001b[0m\u001b[0mOpError\u001b[0m \u001b[1;32mas\u001b[0m \u001b[0me\u001b[0m\u001b[1;33m:\u001b[0m\u001b[1;33m\u001b[0m\u001b[0m\n\u001b[0;32m   1041\u001b[0m       \u001b[0mmessage\u001b[0m \u001b[1;33m=\u001b[0m \u001b[0mcompat\u001b[0m\u001b[1;33m.\u001b[0m\u001b[0mas_text\u001b[0m\u001b[1;33m(\u001b[0m\u001b[0me\u001b[0m\u001b[1;33m.\u001b[0m\u001b[0mmessage\u001b[0m\u001b[1;33m)\u001b[0m\u001b[1;33m\u001b[0m\u001b[0m\n",
      "\u001b[1;32m~\\AppData\\Local\\conda\\conda\\envs\\tfgpu1.1\\lib\\site-packages\\tensorflow\\python\\client\\session.py\u001b[0m in \u001b[0;36m_run_fn\u001b[1;34m(session, feed_dict, fetch_list, target_list, options, run_metadata)\u001b[0m\n\u001b[0;32m   1019\u001b[0m         return tf_session.TF_Run(session, options,\n\u001b[0;32m   1020\u001b[0m                                  \u001b[0mfeed_dict\u001b[0m\u001b[1;33m,\u001b[0m \u001b[0mfetch_list\u001b[0m\u001b[1;33m,\u001b[0m \u001b[0mtarget_list\u001b[0m\u001b[1;33m,\u001b[0m\u001b[1;33m\u001b[0m\u001b[0m\n\u001b[1;32m-> 1021\u001b[1;33m                                  status, run_metadata)\n\u001b[0m\u001b[0;32m   1022\u001b[0m \u001b[1;33m\u001b[0m\u001b[0m\n\u001b[0;32m   1023\u001b[0m     \u001b[1;32mdef\u001b[0m \u001b[0m_prun_fn\u001b[0m\u001b[1;33m(\u001b[0m\u001b[0msession\u001b[0m\u001b[1;33m,\u001b[0m \u001b[0mhandle\u001b[0m\u001b[1;33m,\u001b[0m \u001b[0mfeed_dict\u001b[0m\u001b[1;33m,\u001b[0m \u001b[0mfetch_list\u001b[0m\u001b[1;33m)\u001b[0m\u001b[1;33m:\u001b[0m\u001b[1;33m\u001b[0m\u001b[0m\n",
      "\u001b[1;31mKeyboardInterrupt\u001b[0m: "
     ]
    }
   ],
   "source": [
    "save_model_path = './key_classification'\n",
    "\n",
    "print('Training...')\n",
    "with tf.Session() as sess:\n",
    "    # Initialize the variables\n",
    "    sess.run(tf.global_variables_initializer())\n",
    "    \n",
    "    # Training cycle\n",
    "    for epoch in range(epochs):\n",
    "        # Loop over all batches\n",
    "        for batch_features, batch_labels in get_batches(train_features, train_labels, batch_size):\n",
    "            sess.run(optimizer, feed_dict={x: batch_features, \n",
    "                                           y: batch_labels, \n",
    "                                           learn_rate: learning_rate, \n",
    "                                           keep_prob: keep_probability})\n",
    "        if epoch % 1 == 0:\n",
    "            print('Epoch {}: '.format(epoch), end='')\n",
    "            print_stats(sess, batch_features, batch_labels, cost, accuracy)         \n",
    "            \n",
    "    saver = tf.train.Saver()\n",
    "    save_path = saver.save(sess, save_model_path)"
   ]
  },
  {
   "cell_type": "markdown",
   "metadata": {
    "collapsed": true
   },
   "source": [
    "### Test Model"
   ]
  },
  {
   "cell_type": "code",
   "execution_count": null,
   "metadata": {
    "collapsed": true
   },
   "outputs": [],
   "source": [
    "loaded_graph = tf.Graph()\n",
    "\n",
    "with tf.Session(graph=loaded_graph) as sess:"
   ]
  }
 ],
 "metadata": {
  "kernelspec": {
   "display_name": "Python 3",
   "language": "python",
   "name": "python3"
  },
  "language_info": {
   "codemirror_mode": {
    "name": "ipython",
    "version": 3
   },
   "file_extension": ".py",
   "mimetype": "text/x-python",
   "name": "python",
   "nbconvert_exporter": "python",
   "pygments_lexer": "ipython3",
   "version": "3.5.3"
  }
 },
 "nbformat": 4,
 "nbformat_minor": 2
}
