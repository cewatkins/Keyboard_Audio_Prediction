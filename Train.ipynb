{
 "cells": [
  {
   "cell_type": "markdown",
   "metadata": {},
   "source": [
    "# Check the Version of TensorFlow and Access to GPU\n",
    "This will check to make sure you have the correct version of TensorFlow and access to a GPU"
   ]
  },
  {
   "cell_type": "markdown",
   "metadata": {},
   "source": [
    "# Todo List\n",
    "- Add several dense layers after convolutional layers\n",
    "- Play with learning rate and batch size"
   ]
  },
  {
   "cell_type": "code",
   "execution_count": 1,
   "metadata": {
    "collapsed": true
   },
   "outputs": [],
   "source": [
    "import pandas as pd\n",
    "import numpy as np\n",
    "from sklearn import preprocessing\n",
    "import pickle"
   ]
  },
  {
   "cell_type": "code",
   "execution_count": 2,
   "metadata": {},
   "outputs": [
    {
     "name": "stdout",
     "output_type": "stream",
     "text": [
      "TensorFlow Version: 1.1.0\n",
      "Default GPU Device: /gpu:0\n"
     ]
    }
   ],
   "source": [
    "from distutils.version import LooseVersion\n",
    "import warnings\n",
    "import tensorflow as tf\n",
    "\n",
    "# Check TensorFlow Version\n",
    "assert LooseVersion(tf.__version__) >= LooseVersion('1.0'), 'Please use TensorFlow version 1.0 or newer.  You are using {}'.format(tf.__version__)\n",
    "print('TensorFlow Version: {}'.format(tf.__version__))\n",
    "\n",
    "# Check for a GPU\n",
    "if not tf.test.gpu_device_name():\n",
    "    warnings.warn('No GPU found. Please use a GPU to train your neural network.')\n",
    "else:\n",
    "    print('Default GPU Device: {}'.format(tf.test.gpu_device_name()))"
   ]
  },
  {
   "cell_type": "markdown",
   "metadata": {},
   "source": [
    "# Import Data"
   ]
  },
  {
   "cell_type": "code",
   "execution_count": 3,
   "metadata": {
    "collapsed": true
   },
   "outputs": [],
   "source": [
    "import os\n",
    "dataset_dir = 'DataSet/'"
   ]
  },
  {
   "cell_type": "code",
   "execution_count": 24,
   "metadata": {},
   "outputs": [
    {
     "name": "stdout",
     "output_type": "stream",
     "text": [
      "File: DataSet/2018-07-13_18-39-56_0.pkl, DataSet Length: 500\n",
      "File: DataSet/2018-07-13_18-43-51_0.pkl, DataSet Length: 500\n",
      "File: DataSet/2018-07-13_18-46-04_1.pkl, DataSet Length: 500\n",
      "File: DataSet/2018-07-13_18-47-58_2.pkl, DataSet Length: 500\n",
      "File: DataSet/2018-07-13_18-49-54_3.pkl, DataSet Length: 500\n",
      "File: DataSet/2018-07-13_18-52-16_4.pkl, DataSet Length: 500\n",
      "File: DataSet/2018-07-13_18-54-29_5.pkl, DataSet Length: 500\n",
      "File: DataSet/2018-07-13_18-56-38_6.pkl, DataSet Length: 500\n",
      "File: DataSet/2018-07-13_18-58-30_7.pkl, DataSet Length: 500\n",
      "File: DataSet/2018-07-13_19-00-21_8.pkl, DataSet Length: 500\n",
      "File: DataSet/2018-07-13_19-02-36_9.pkl, DataSet Length: 500\n",
      "File: DataSet/2018-07-13_19-04-42_10.pkl, DataSet Length: 500\n",
      "File: DataSet/2018-07-13_19-06-38_11.pkl, DataSet Length: 500\n",
      "File: DataSet/2018-07-13_19-08-49_12.pkl, DataSet Length: 500\n",
      "File: DataSet/2018-07-13_19-10-48_13.pkl, DataSet Length: 500\n",
      "File: DataSet/2018-07-13_19-12-43_14.pkl, DataSet Length: 500\n",
      "File: DataSet/2018-07-13_19-14-54_15.pkl, DataSet Length: 500\n",
      "File: DataSet/2018-07-13_19-16-54_16.pkl, DataSet Length: 500\n",
      "File: DataSet/2018-07-13_19-19-01_17.pkl, DataSet Length: 500\n",
      "File: DataSet/2018-07-13_19-20-48_18.pkl, DataSet Length: 500\n",
      "File: DataSet/2018-07-13_19-22-54_19.pkl, DataSet Length: 500\n",
      "File: DataSet/2018-07-13_19-22-54_20.pkl, DataSet Length: 500\n",
      "File: DataSet/data_07-08-18.pkl, DataSet Length: 7150\n",
      "File: DataSet/data_07-10-18_work.pkl, DataSet Length: 8700\n",
      "File: DataSet/data_07-13-18.pkl, DataSet Length: 5400\n",
      "Total Length: 32250\n"
     ]
    }
   ],
   "source": [
    "count = 0\n",
    "for filename in os.listdir(dataset_dir):\n",
    "    if filename.endswith(\"test_set.pkl\"):\n",
    "        continue\n",
    "    if filename.endswith(\".pkl\"): \n",
    "        df = pd.read_pickle(os.path.join(dataset_dir, filename))\n",
    "        \n",
    "        if count == 0:\n",
    "            raw_df = df\n",
    "        else:\n",
    "            raw_df = raw_df.append(df, ignore_index=True)\n",
    "            \n",
    "        print('File: {}, DataSet Length: {}'.format(os.path.join(dataset_dir, filename), len(df)))\n",
    "        count += 1\n",
    "    else:\n",
    "        continue\n",
    "print('Total Length: {}'.format(len(raw_df)))"
   ]
  },
  {
   "cell_type": "code",
   "execution_count": 25,
   "metadata": {
    "collapsed": true
   },
   "outputs": [],
   "source": [
    "# # Read saved list of data from object into a dataframe\n",
    "# raw_df = pd.read_pickle('DataSet/data_07-10-18.pkl')\n",
    "# print(len(raw_df))\n",
    "# raw_df.head()"
   ]
  },
  {
   "cell_type": "code",
   "execution_count": 26,
   "metadata": {
    "collapsed": true
   },
   "outputs": [],
   "source": [
    "data_width = len(raw_df['data'][0])"
   ]
  },
  {
   "cell_type": "markdown",
   "metadata": {},
   "source": [
    "# Data Preprocessing"
   ]
  },
  {
   "cell_type": "markdown",
   "metadata": {},
   "source": [
    "#### Filter out key counts less than threshold value"
   ]
  },
  {
   "cell_type": "code",
   "execution_count": 27,
   "metadata": {
    "collapsed": true
   },
   "outputs": [],
   "source": [
    "import collections\n",
    "import matplotlib.pyplot as plt\n",
    "key_count = collections.Counter(raw_df['key'])"
   ]
  },
  {
   "cell_type": "code",
   "execution_count": 28,
   "metadata": {
    "collapsed": true
   },
   "outputs": [],
   "source": [
    "width = 0.5 # Bar width\n",
    "figsize = (15, 4)\n",
    "\n",
    "def plot_key_hist(most_common):\n",
    "    if len(most_common) > 30:\n",
    "        most_common = most_common[:30]\n",
    "        \n",
    "    hist_labels, hist_values = zip(*most_common) # Show only a subset of all keys\n",
    "    indexes = np.arange(len(hist_labels))\n",
    "    plt.figure(figsize=figsize)\n",
    "    plt.bar(indexes, hist_values, width)\n",
    "    plt.xticks(indexes + width * 0.5, hist_labels, rotation='vertical')\n",
    "    plt.show()"
   ]
  },
  {
   "cell_type": "code",
   "execution_count": 29,
   "metadata": {},
   "outputs": [
    {
     "data": {
      "image/png": "[encoded data removed]",
      "text/plain": [
       "<matplotlib.figure.Figure at 0x20bff72ef60>"
      ]
     },
     "metadata": {},
     "output_type": "display_data"
    }
   ],
   "source": [
    "plot_key_hist(key_count.most_common())"
   ]
  },
  {
   "cell_type": "code",
   "execution_count": 30,
   "metadata": {},
   "outputs": [
    {
     "data": {
      "text/plain": [
       "<bound method Counter.most_common of Counter({'space': 5072, 'e': 3128, 't': 2451, 'a': 2167, 'i': 1883, 'o': 1802, 'n': 1790, 's': 1776, 'r': 1508, 'h': 1126, 'l': 1122, 'd': 894, 'c': 849, 'u': 641, 'm': 633, 'g': 596, 'f': 525, 'p': 488, 'w': 439, 'y': 432, 'b': 395, 'v': 318, 'backspace': 309, '.': 288, ',': 251, 'k': 193, 'enter': 150, 'shift': 120, 'x': 108, \"'\": 77, '0': 72, 'z': 67, 'ctrl_l': 60, '-': 56, '1': 45, '2': 43, 'q': 42, 'down': 38, 'delete': 38, '9': 35, 'j': 27, '3': 25, '5': 21, 'esc': 17, '/': 17, ';': 16, 'left': 16, '7': 15, '4': 14, '6': 14, '8': 14, 'up': 10, 'right': 8, '=': 4, 'tab': 4, '`': 1})>"
      ]
     },
     "execution_count": 30,
     "metadata": {},
     "output_type": "execute_result"
    }
   ],
   "source": [
    "key_count.most_common"
   ]
  },
  {
   "cell_type": "code",
   "execution_count": 31,
   "metadata": {},
   "outputs": [
    {
     "name": "stdout",
     "output_type": "stream",
     "text": [
      "Max Data Size: 14208, Class Count: 8, Threshold: 1775\n"
     ]
    }
   ],
   "source": [
    "# Maximize DataSet Size By Finding Optimal Threshold\n",
    "max_data_size = 0\n",
    "max_class_cnt = 0\n",
    "threshold_max = 0\n",
    "for _, v in key_count.most_common():\n",
    "    threshold = v - 1\n",
    "    min_thresh_cnts = [count for key, count in zip(key_count.keys(), key_count.values()) if count > threshold]\n",
    "    class_cnt = len(min_thresh_cnts)\n",
    "    data_size = min(min_thresh_cnts)*len(min_thresh_cnts)\n",
    "    if data_size > max_data_size:\n",
    "        max_data_size = data_size\n",
    "        max_class_cnt = class_cnt\n",
    "        threshold_max = threshold\n",
    "print('Max Data Size: {}, Class Count: {}, Threshold: {}'.format(max_data_size, max_class_cnt, threshold_max))"
   ]
  },
  {
   "cell_type": "code",
   "execution_count": 32,
   "metadata": {
    "collapsed": true
   },
   "outputs": [],
   "source": [
    "# Manually define threshold\n",
    "threshold_max = 2166"
   ]
  },
  {
   "cell_type": "code",
   "execution_count": 33,
   "metadata": {
    "collapsed": true
   },
   "outputs": [],
   "source": [
    "# Get list of keys with counts greater than threshold\n",
    "threshold = threshold_max\n",
    "min_thresh_keys = [key for key, count in zip(key_count.keys(), key_count.values()) if count > threshold]\n",
    "\n",
    "# Save list of key classes to pickle\n",
    "pickle.dump(min_thresh_keys, open(os.path.join(dataset_dir, \"key_classes.p\"), \"wb\"))"
   ]
  },
  {
   "cell_type": "code",
   "execution_count": 34,
   "metadata": {
    "collapsed": true
   },
   "outputs": [],
   "source": [
    "min_thresh_df = raw_df[raw_df['key'].isin(min_thresh_keys)] # Filter dataframe to only include keys > threshold"
   ]
  },
  {
   "cell_type": "code",
   "execution_count": 35,
   "metadata": {
    "collapsed": true
   },
   "outputs": [],
   "source": [
    "def trim_max_thresh(grouped_class):\n",
    "    return grouped_class.sample(threshold)"
   ]
  },
  {
   "cell_type": "code",
   "execution_count": 36,
   "metadata": {
    "collapsed": true
   },
   "outputs": [],
   "source": [
    "# Keep same number of samples in each class by throwing away everything past the threshold\n",
    "df = min_thresh_df.groupby(['key']).apply(trim_max_thresh)"
   ]
  },
  {
   "cell_type": "markdown",
   "metadata": {},
   "source": [
    "#### Plot truncated data"
   ]
  },
  {
   "cell_type": "code",
   "execution_count": 37,
   "metadata": {
    "collapsed": true
   },
   "outputs": [],
   "source": [
    "truncated_count = collections.Counter(df['key'])"
   ]
  },
  {
   "cell_type": "code",
   "execution_count": 38,
   "metadata": {},
   "outputs": [
    {
     "data": {
      "image/png": "[encoded data removed]",
      "text/plain": [
       "<matplotlib.figure.Figure at 0x20c07624320>"
      ]
     },
     "metadata": {},
     "output_type": "display_data"
    }
   ],
   "source": [
    "plot_key_hist(truncated_count.most_common())"
   ]
  },
  {
   "cell_type": "markdown",
   "metadata": {},
   "source": [
    "### Shuffle data"
   ]
  },
  {
   "cell_type": "code",
   "execution_count": 39,
   "metadata": {
    "collapsed": true
   },
   "outputs": [],
   "source": [
    "df = df.sample(frac=1).reset_index(drop=True)"
   ]
  },
  {
   "cell_type": "markdown",
   "metadata": {},
   "source": [
    "## Skip to Load If Normalized Data Already Exists on Disk"
   ]
  },
  {
   "cell_type": "markdown",
   "metadata": {},
   "source": [
    "#### Normalize Data"
   ]
  },
  {
   "cell_type": "code",
   "execution_count": 40,
   "metadata": {
    "collapsed": true
   },
   "outputs": [],
   "source": [
    "input_data = df['data'].values\n",
    "input_data = np.stack(input_data, axis=0)"
   ]
  },
  {
   "cell_type": "code",
   "execution_count": 41,
   "metadata": {},
   "outputs": [
    {
     "name": "stderr",
     "output_type": "stream",
     "text": [
      "C:\\Users\\stephen\\AppData\\Local\\conda\\conda\\envs\\tfgpu1.1\\lib\\site-packages\\sklearn\\utils\\validation.py:444: DataConversionWarning: Data with input dtype int16 was converted to float64 by MinMaxScaler.\n",
      "  warnings.warn(msg, DataConversionWarning)\n"
     ]
    }
   ],
   "source": [
    "scaler = preprocessing.MinMaxScaler(feature_range=(0,1))\n",
    "scaler.fit(input_data) # Compute the minimum and maximum to be used for later scaling.\n",
    "normalized_data = scaler.fit_transform(input_data)"
   ]
  },
  {
   "cell_type": "code",
   "execution_count": 55,
   "metadata": {},
   "outputs": [
    {
     "data": {
      "text/plain": [
       "(8664, 10240)"
      ]
     },
     "execution_count": 55,
     "metadata": {},
     "output_type": "execute_result"
    }
   ],
   "source": [
    "normalized_data.shape"
   ]
  },
  {
   "cell_type": "code",
   "execution_count": 56,
   "metadata": {
    "collapsed": true
   },
   "outputs": [],
   "source": [
    "# Save scaler for later scaling on test set. scaler.fit() saved the min max values\n",
    "pickle.dump(scaler, open(os.path.join(dataset_dir, 'scaler.p'), \"wb\"))"
   ]
  },
  {
   "cell_type": "markdown",
   "metadata": {},
   "source": [
    "#### One Hot Encode Classes"
   ]
  },
  {
   "cell_type": "code",
   "execution_count": 24,
   "metadata": {
    "collapsed": true
   },
   "outputs": [],
   "source": [
    "n_classes = len(set(df['key']))"
   ]
  },
  {
   "cell_type": "code",
   "execution_count": 25,
   "metadata": {
    "collapsed": true
   },
   "outputs": [],
   "source": [
    "labels_str = [str(key) for key in df['key']]\n",
    "lb = preprocessing.LabelBinarizer() # Create encoder\n",
    "lb.fit(list(set(labels_str)))\n",
    "labels = lb.transform(labels_str)"
   ]
  },
  {
   "cell_type": "code",
   "execution_count": 26,
   "metadata": {},
   "outputs": [
    {
     "data": {
      "text/plain": [
       "array(['a', 'e', 'space', 't'],\n",
       "      dtype='<U5')"
      ]
     },
     "execution_count": 26,
     "metadata": {},
     "output_type": "execute_result"
    }
   ],
   "source": [
    "lb.classes_"
   ]
  },
  {
   "cell_type": "code",
   "execution_count": 27,
   "metadata": {
    "collapsed": true
   },
   "outputs": [],
   "source": [
    "# Save label set\n",
    "pickle.dump(lb.classes_, open(os.path.join(dataset_dir, 'labels.p'), \"wb\"))"
   ]
  },
  {
   "cell_type": "markdown",
   "metadata": {},
   "source": [
    "#### Split Training and Validation Data"
   ]
  },
  {
   "cell_type": "markdown",
   "metadata": {},
   "source": [
    "Reshape to add 1 channel"
   ]
  },
  {
   "cell_type": "code",
   "execution_count": 28,
   "metadata": {},
   "outputs": [
    {
     "data": {
      "text/plain": [
       "(8664, 10240, 1)"
      ]
     },
     "execution_count": 28,
     "metadata": {},
     "output_type": "execute_result"
    }
   ],
   "source": [
    "normalized_data = normalized_data.reshape((normalized_data.shape[0], normalized_data.shape[1], 1))\n",
    "# labels = labels.reshape((labels.shape[0], labels.shape[1], 1))\n",
    "normalized_data.shape"
   ]
  },
  {
   "cell_type": "code",
   "execution_count": 29,
   "metadata": {
    "collapsed": true
   },
   "outputs": [],
   "source": [
    "from sklearn.model_selection import train_test_split\n",
    "train_features, temp_features, train_labels, temp_labels = train_test_split(normalized_data, labels, test_size=0.2, random_state=42)\n",
    "test_features, valid_features, test_labels, valid_labels = train_test_split(normalized_data, labels, test_size=0.5, random_state=42)"
   ]
  },
  {
   "cell_type": "markdown",
   "metadata": {},
   "source": [
    "# Define Network"
   ]
  },
  {
   "cell_type": "markdown",
   "metadata": {},
   "source": [
    "### Input"
   ]
  },
  {
   "cell_type": "code",
   "execution_count": 30,
   "metadata": {
    "collapsed": true
   },
   "outputs": [],
   "source": [
    "def model_inputs(data_width, n_classes):\n",
    "    \"\"\"\n",
    "    Create the model inputs\n",
    "    :param data_width: The total number of samples in the recorded data point\n",
    "    :param n_classes: Number of Classes\n",
    "    :return: Tuple of (tensor of input audio data, key press labels, learning rate, keep_prob)\n",
    "    \"\"\"\n",
    "    # TODO: Add audio channels to input\n",
    "    \n",
    "    with tf.name_scope(\"Inputs\"):\n",
    "        audio_inputs = tf.placeholder(tf.float32, [None, data_width, 1], name='inputs')\n",
    "    with tf.name_scope(\"Targets\"):\n",
    "        key_labels = tf.placeholder(tf.float32, [None, n_classes], name='labels')\n",
    "    learning_rate = tf.placeholder(tf.float32, name='learning_rate')\n",
    "    keep_prob = tf.placeholder(tf.float32, name='keep_probability')\n",
    "\n",
    "    return audio_inputs, key_labels, learning_rate, keep_prob"
   ]
  },
  {
   "cell_type": "markdown",
   "metadata": {},
   "source": [
    "### Get Batches"
   ]
  },
  {
   "cell_type": "code",
   "execution_count": 31,
   "metadata": {
    "collapsed": true
   },
   "outputs": [],
   "source": [
    "def get_batches(features, labels, batch_size):\n",
    "    \"\"\"\n",
    "    Split features and labels into batches\n",
    "    \"\"\"\n",
    "    for start in range(0, len(features), batch_size):\n",
    "        end = min(start + batch_size, len(features))\n",
    "        yield features[start:end], labels[start:end]"
   ]
  },
  {
   "cell_type": "markdown",
   "metadata": {},
   "source": [
    "### Network"
   ]
  },
  {
   "cell_type": "code",
   "execution_count": 32,
   "metadata": {
    "collapsed": true
   },
   "outputs": [],
   "source": [
    "def network(X, keep_prob, n_classes):\n",
    "    \"\"\"\n",
    "    Create the network\n",
    "    :param X: Tensor of input recording(s)\n",
    "    :param keep_prob: Tensor for the keep probability\n",
    "    :param n_classes: Number of Classes\n",
    "    :return: Tuple of (tensor output of the classifier, tensor logits of the classifier)\n",
    "    \"\"\"    \n",
    "    # Hyperparameters\n",
    "    alpha = 0.2\n",
    "    h_dim = 32\n",
    "    \n",
    "    #print(\"X: {}\".format(X.shape))\n",
    "     \n",
    "    with tf.name_scope(\"Hidden_Layer1\"):\n",
    "        #h1 = tf.layers.dense(X, h_dim, activation=None)\n",
    "        h1 = tf.layers.conv1d(X, h_dim, 200, 10, 'same', activation=None)\n",
    "        h1 = tf.layers.max_pooling1d(h1, 5, 2, 'same')\n",
    "        h1 = tf.nn.dropout(h1, keep_prob) # Regularization\n",
    "        h1 = tf.maximum(h1*alpha, h1) # Leaky ReLu\n",
    "        h1 = tf.layers.batch_normalization(h1)\n",
    "        \n",
    "    #print(\"h1: {}\".format(h1.shape))\n",
    "\n",
    "    with tf.name_scope(\"Hidden_Layer2\"):\n",
    "        #h2 = tf.layers.dense(h1, h_dim, activation=None)\n",
    "        h2 = tf.layers.conv1d(h1, h_dim*2, 50, 5, 'same', activation=None)\n",
    "        #h2 = tf.layers.maxpool2d(h2, 5, 2, 'same')\n",
    "        h2 = tf.nn.dropout(h2, keep_prob) # Regularization        \n",
    "        h2 = tf.maximum(h2*alpha, h2) # Leaky ReLu\n",
    "        h2 = tf.layers.batch_normalization(h2)\n",
    "        \n",
    "    #print(\"h2: {}\".format(h2.shape))\n",
    "\n",
    "    with tf.name_scope(\"Hidden_Layer3\"):\n",
    "        #h3 = tf.layers.dense(h2, h_dim, activation=None)\n",
    "        h3 = tf.layers.conv1d(h2, h_dim*3, 20, 2, 'same', activation=None)\n",
    "        #h3 = tf.layers.maxpool2d(h3, 3, 2, 'same')\n",
    "        h3 = tf.nn.dropout(h3, keep_prob) # Regularization\n",
    "        h3 = tf.maximum(h3*alpha, h3) # Leaky ReLu\n",
    "        h3 = tf.layers.batch_normalization(h3)\n",
    "        \n",
    "    with tf.name_scope(\"Hidden_Layer4\"):\n",
    "        h4 = tf.layers.conv1d(h3, h_dim*4, 10, 1, 'same', activation=None)\n",
    "        h4 = tf.nn.dropout(h4, keep_prob) # Regularization\n",
    "        h4 = tf.maximum(h4*alpha, h4) # Leaky ReLu\n",
    "        h4 = tf.layers.batch_normalization(h4)\n",
    "    \n",
    "    \n",
    "    \n",
    "    with tf.name_scope(\"Output\"):\n",
    "        flat_dim = int(h4.get_shape()[1])*int(h4.get_shape()[2])\n",
    "        flat = tf.reshape(h4, [-1, flat_dim])\n",
    "        #print(\"flat: {}\".format(flat.shape))\n",
    "        logits = tf.layers.dense(flat, n_classes, activation=None, name='logits')\n",
    "        #print(\"logits: {}\".format(logits.shape))\n",
    "        #out = tf.nn.softmax(logits, name='softmax_out')\n",
    "\n",
    "    return logits"
   ]
  },
  {
   "cell_type": "markdown",
   "metadata": {},
   "source": [
    "### Show Stats"
   ]
  },
  {
   "cell_type": "code",
   "execution_count": 33,
   "metadata": {
    "collapsed": true
   },
   "outputs": [],
   "source": [
    "def print_stats(session, feature_batch, label_batch, cost, accuracy, esi):\n",
    "    \"\"\"\n",
    "    Print information about loss and validation accuracy\n",
    "    : session: Current TensorFlow session\n",
    "    : feature_batch: Batch of Numpy image data\n",
    "    : label_batch: Batch of Numpy label data\n",
    "    : cost: TensorFlow cost function\n",
    "    : accuracy: TensorFlow accuracy function\n",
    "    : esi: Epochs since the last improvement\n",
    "    \"\"\"\n",
    "    with tf.name_scope(\"Validation_Stats\"):\n",
    "        validation_loss = session.run(cost, feed_dict={x: feature_batch, y: label_batch, keep_prob: 1.0})\n",
    "        validation_accuracy = session.run(accuracy, feed_dict={x: valid_features, y: valid_labels, keep_prob: 1.0})\n",
    "        train_accuracy = session.run(accuracy, feed_dict={x: train_features[:1000], y: train_labels[:1000], keep_prob: 1.0})\n",
    "        print(\"Train Accuracy: {0:0.4f}, Validation Accuracy: {1:0.4f}, Validation Loss: {2:0.4f}, ESI: {3}\".format(train_accuracy, validation_accuracy, validation_loss, esi))\n",
    "        return validation_accuracy"
   ]
  },
  {
   "cell_type": "markdown",
   "metadata": {},
   "source": [
    "### Build Neural Network"
   ]
  },
  {
   "cell_type": "code",
   "execution_count": 34,
   "metadata": {
    "collapsed": true
   },
   "outputs": [],
   "source": [
    "# Remove previous weights, bias, inputs, etc..\n",
    "tf.reset_default_graph()\n",
    "\n",
    "# Inputs\n",
    "x, y, learn_rate, keep_prob = model_inputs(data_width, n_classes)\n",
    "\n",
    "#Model\n",
    "logits = network(x, keep_prob, n_classes)\n",
    "\n",
    "with tf.name_scope(\"Cost\"):\n",
    "    # Cost and Optimizer\n",
    "    cost = tf.reduce_mean(tf.nn.softmax_cross_entropy_with_logits(logits=logits, labels=y, name='loss'), name='cost')\n",
    "    \n",
    "with tf.name_scope(\"Train\"):\n",
    "    optimizer = tf.train.AdamOptimizer(learn_rate, name='optimizer').minimize(cost)\n",
    "\n",
    "with tf.name_scope(\"Accuracy\"):\n",
    "    # Accuracy\n",
    "    correct_pred = tf.equal(tf.argmax(logits, 1), tf.argmax(y, 1), name='prediction')\n",
    "    accuracy = tf.reduce_mean(tf.cast(correct_pred, tf.float32), name='accuracy')\n",
    "    \n",
    "predicted = tf.nn.softmax(logits, name='predicted')"
   ]
  },
  {
   "cell_type": "markdown",
   "metadata": {},
   "source": [
    "### Write out the graph for TensorBoard"
   ]
  },
  {
   "cell_type": "code",
   "execution_count": 35,
   "metadata": {
    "collapsed": true
   },
   "outputs": [],
   "source": [
    "with tf.Session() as sess:\n",
    "    sess.run(tf.global_variables_initializer())\n",
    "    file_writer = tf.summary.FileWriter('./logs/2', sess.graph)"
   ]
  },
  {
   "cell_type": "markdown",
   "metadata": {},
   "source": [
    "### Hyperparameters"
   ]
  },
  {
   "cell_type": "code",
   "execution_count": 36,
   "metadata": {
    "collapsed": true
   },
   "outputs": [],
   "source": [
    "epochs = 5000\n",
    "batch_size = 16\n",
    "keep_probability = 0.40\n",
    "learning_rate = 0.0001"
   ]
  },
  {
   "cell_type": "markdown",
   "metadata": {},
   "source": [
    "# Train Neural Network"
   ]
  },
  {
   "cell_type": "code",
   "execution_count": 37,
   "metadata": {},
   "outputs": [
    {
     "name": "stdout",
     "output_type": "stream",
     "text": [
      "25.0%\n"
     ]
    }
   ],
   "source": [
    "# Accuracy to beat (Min of 3 classes)\n",
    "print(\"{:.3}%\".format((1/n_classes)*100))"
   ]
  },
  {
   "cell_type": "code",
   "execution_count": 38,
   "metadata": {
    "scrolled": true
   },
   "outputs": [
    {
     "name": "stdout",
     "output_type": "stream",
     "text": [
      "Epoch 0: Train Accuracy: 0.2440, Validation Accuracy: 0.2562, Validation Loss: 1.3829, ESI: 0\n",
      "Epoch 1: Train Accuracy: 0.2440, Validation Accuracy: 0.2562, Validation Loss: 1.3738, ESI: 0\n",
      "Epoch 2: Train Accuracy: 0.2760, Validation Accuracy: 0.2507, Validation Loss: 1.3690, ESI: 0\n",
      "Epoch 3: Train Accuracy: 0.4160, Validation Accuracy: 0.4030, Validation Loss: 1.3673, ESI: 1\n",
      "Epoch 4: Train Accuracy: 0.4700, Validation Accuracy: 0.4437, Validation Loss: 1.2514, ESI: 0\n",
      "Epoch 5: Train Accuracy: 0.5260, Validation Accuracy: 0.5007, Validation Loss: 1.1894, ESI: 0\n",
      "Epoch 6: Train Accuracy: 0.5620, Validation Accuracy: 0.5323, Validation Loss: 1.1743, ESI: 0\n",
      "Epoch 7: Train Accuracy: 0.5590, Validation Accuracy: 0.5321, Validation Loss: 1.0834, ESI: 0\n",
      "Epoch 8: Train Accuracy: 0.6250, Validation Accuracy: 0.6080, Validation Loss: 1.1592, ESI: 1\n",
      "Epoch 9: Train Accuracy: 0.6640, Validation Accuracy: 0.6503, Validation Loss: 1.0415, ESI: 0\n",
      "Epoch 10: Train Accuracy: 0.7060, Validation Accuracy: 0.6925, Validation Loss: 0.5630, ESI: 0\n",
      "Epoch 11: Train Accuracy: 0.7390, Validation Accuracy: 0.7348, Validation Loss: 0.6633, ESI: 0\n",
      "Epoch 12: Train Accuracy: 0.7010, Validation Accuracy: 0.6971, Validation Loss: 0.5248, ESI: 0\n",
      "Epoch 13: Train Accuracy: 0.7410, Validation Accuracy: 0.7389, Validation Loss: 0.5927, ESI: 1\n",
      "Epoch 14: Train Accuracy: 0.7580, Validation Accuracy: 0.7479, Validation Loss: 0.5539, ESI: 0\n",
      "Epoch 15: Train Accuracy: 0.7320, Validation Accuracy: 0.7410, Validation Loss: 0.5001, ESI: 0\n",
      "Epoch 16: Train Accuracy: 0.7650, Validation Accuracy: 0.7606, Validation Loss: 0.5214, ESI: 1\n",
      "Epoch 17: Train Accuracy: 0.7680, Validation Accuracy: 0.7657, Validation Loss: 0.5012, ESI: 0\n",
      "Epoch 18: Train Accuracy: 0.7900, Validation Accuracy: 0.7763, Validation Loss: 0.5769, ESI: 0\n",
      "Epoch 19: Train Accuracy: 0.7860, Validation Accuracy: 0.7782, Validation Loss: 0.4602, ESI: 0\n",
      "Epoch 20: Train Accuracy: 0.7860, Validation Accuracy: 0.7814, Validation Loss: 0.4829, ESI: 0\n",
      "Epoch 21: Train Accuracy: 0.7800, Validation Accuracy: 0.7759, Validation Loss: 0.4025, ESI: 0\n",
      "Epoch 22: Train Accuracy: 0.7990, Validation Accuracy: 0.7881, Validation Loss: 0.4637, ESI: 1\n",
      "Epoch 23: Train Accuracy: 0.8070, Validation Accuracy: 0.7964, Validation Loss: 0.4997, ESI: 0\n",
      "Epoch 24: Train Accuracy: 0.8080, Validation Accuracy: 0.7941, Validation Loss: 0.4325, ESI: 0\n",
      "Epoch 25: Train Accuracy: 0.8060, Validation Accuracy: 0.7909, Validation Loss: 0.4725, ESI: 1\n",
      "Epoch 26: Train Accuracy: 0.8160, Validation Accuracy: 0.7913, Validation Loss: 0.4395, ESI: 2\n",
      "Epoch 27: Train Accuracy: 0.8210, Validation Accuracy: 0.8006, Validation Loss: 0.4479, ESI: 3\n",
      "Epoch 28: Train Accuracy: 0.8000, Validation Accuracy: 0.7934, Validation Loss: 0.3043, ESI: 0\n",
      "Epoch 29: Train Accuracy: 0.8290, Validation Accuracy: 0.8172, Validation Loss: 0.4580, ESI: 1\n",
      "Epoch 30: Train Accuracy: 0.8070, Validation Accuracy: 0.8052, Validation Loss: 0.3351, ESI: 0\n",
      "Epoch 31: Train Accuracy: 0.8270, Validation Accuracy: 0.8183, Validation Loss: 0.4062, ESI: 1\n",
      "Epoch 32: Train Accuracy: 0.8140, Validation Accuracy: 0.8070, Validation Loss: 0.3177, ESI: 0\n",
      "Epoch 33: Train Accuracy: 0.8220, Validation Accuracy: 0.8114, Validation Loss: 0.3287, ESI: 1\n",
      "Epoch 34: Train Accuracy: 0.8320, Validation Accuracy: 0.8153, Validation Loss: 0.3521, ESI: 2\n",
      "Epoch 35: Train Accuracy: 0.8360, Validation Accuracy: 0.8232, Validation Loss: 0.3861, ESI: 3\n",
      "Epoch 36: Train Accuracy: 0.8210, Validation Accuracy: 0.8024, Validation Loss: 0.3607, ESI: 0\n",
      "Epoch 37: Train Accuracy: 0.8470, Validation Accuracy: 0.8354, Validation Loss: 0.4125, ESI: 1\n",
      "Epoch 38: Train Accuracy: 0.8490, Validation Accuracy: 0.8377, Validation Loss: 0.3677, ESI: 0\n",
      "Epoch 39: Train Accuracy: 0.8510, Validation Accuracy: 0.8407, Validation Loss: 0.3839, ESI: 0\n",
      "Epoch 40: Train Accuracy: 0.8370, Validation Accuracy: 0.8292, Validation Loss: 0.4633, ESI: 0\n",
      "Epoch 41: Train Accuracy: 0.8410, Validation Accuracy: 0.8356, Validation Loss: 0.4095, ESI: 1\n",
      "Epoch 42: Train Accuracy: 0.8540, Validation Accuracy: 0.8423, Validation Loss: 0.4485, ESI: 2\n",
      "Epoch 43: Train Accuracy: 0.7820, Validation Accuracy: 0.7770, Validation Loss: 0.2323, ESI: 0\n",
      "Epoch 44: Train Accuracy: 0.8470, Validation Accuracy: 0.8377, Validation Loss: 0.4263, ESI: 1\n",
      "Epoch 45: Train Accuracy: 0.8540, Validation Accuracy: 0.8444, Validation Loss: 0.4616, ESI: 2\n",
      "Epoch 46: Train Accuracy: 0.8550, Validation Accuracy: 0.8442, Validation Loss: 0.3517, ESI: 0\n",
      "Epoch 47: Train Accuracy: 0.8580, Validation Accuracy: 0.8407, Validation Loss: 0.3589, ESI: 1\n",
      "Epoch 48: Train Accuracy: 0.8550, Validation Accuracy: 0.8479, Validation Loss: 0.3329, ESI: 2\n",
      "Epoch 49: Train Accuracy: 0.8620, Validation Accuracy: 0.8525, Validation Loss: 0.4174, ESI: 0\n",
      "Epoch 50: Train Accuracy: 0.8430, Validation Accuracy: 0.8292, Validation Loss: 0.3040, ESI: 0\n",
      "Epoch 51: Train Accuracy: 0.8620, Validation Accuracy: 0.8502, Validation Loss: 0.4111, ESI: 1\n",
      "Epoch 52: Train Accuracy: 0.8150, Validation Accuracy: 0.8128, Validation Loss: 0.2248, ESI: 2\n",
      "Epoch 53: Train Accuracy: 0.8260, Validation Accuracy: 0.8153, Validation Loss: 0.2766, ESI: 3\n",
      "Epoch 54: Train Accuracy: 0.8690, Validation Accuracy: 0.8610, Validation Loss: 0.4960, ESI: 4\n",
      "Epoch 55: Train Accuracy: 0.8690, Validation Accuracy: 0.8564, Validation Loss: 0.3568, ESI: 0\n",
      "Epoch 56: Train Accuracy: 0.8590, Validation Accuracy: 0.8536, Validation Loss: 0.4321, ESI: 1\n",
      "Epoch 57: Train Accuracy: 0.8720, Validation Accuracy: 0.8631, Validation Loss: 0.3817, ESI: 2\n",
      "Epoch 58: Train Accuracy: 0.8500, Validation Accuracy: 0.8476, Validation Loss: 0.4111, ESI: 0\n",
      "Epoch 59: Train Accuracy: 0.8700, Validation Accuracy: 0.8636, Validation Loss: 0.3854, ESI: 1\n",
      "Epoch 60: Train Accuracy: 0.8380, Validation Accuracy: 0.8299, Validation Loss: 0.1876, ESI: 0\n",
      "Epoch 61: Train Accuracy: 0.8510, Validation Accuracy: 0.8536, Validation Loss: 0.2848, ESI: 1\n",
      "Epoch 62: Train Accuracy: 0.8750, Validation Accuracy: 0.8596, Validation Loss: 0.3407, ESI: 2\n",
      "Epoch 63: Train Accuracy: 0.8610, Validation Accuracy: 0.8599, Validation Loss: 0.4383, ESI: 3\n",
      "Epoch 64: Train Accuracy: 0.8710, Validation Accuracy: 0.8601, Validation Loss: 0.3241, ESI: 4\n",
      "Epoch 65: Train Accuracy: 0.8640, Validation Accuracy: 0.8569, Validation Loss: 0.3390, ESI: 5\n",
      "Epoch 66: Train Accuracy: 0.8750, Validation Accuracy: 0.8610, Validation Loss: 0.3590, ESI: 6\n",
      "Epoch 67: Train Accuracy: 0.8690, Validation Accuracy: 0.8636, Validation Loss: 0.3404, ESI: 7\n",
      "Epoch 68: Train Accuracy: 0.8820, Validation Accuracy: 0.8740, Validation Loss: 0.3735, ESI: 8\n",
      "Epoch 69: Train Accuracy: 0.8590, Validation Accuracy: 0.8451, Validation Loss: 0.2718, ESI: 0\n",
      "Epoch 70: Train Accuracy: 0.8670, Validation Accuracy: 0.8566, Validation Loss: 0.2640, ESI: 1\n",
      "Epoch 71: Train Accuracy: 0.8840, Validation Accuracy: 0.8696, Validation Loss: 0.3275, ESI: 2\n",
      "Epoch 72: Train Accuracy: 0.8880, Validation Accuracy: 0.8680, Validation Loss: 0.4054, ESI: 3\n",
      "Epoch 73: Train Accuracy: 0.8870, Validation Accuracy: 0.8742, Validation Loss: 0.3778, ESI: 4\n",
      "Epoch 74: Train Accuracy: 0.8880, Validation Accuracy: 0.8758, Validation Loss: 0.4024, ESI: 0\n",
      "Epoch 75: Train Accuracy: 0.8920, Validation Accuracy: 0.8800, Validation Loss: 0.3339, ESI: 0\n",
      "Epoch 76: Train Accuracy: 0.8740, Validation Accuracy: 0.8675, Validation Loss: 0.2819, ESI: 0\n",
      "Epoch 77: Train Accuracy: 0.8810, Validation Accuracy: 0.8705, Validation Loss: 0.2933, ESI: 1\n",
      "Epoch 78: Train Accuracy: 0.8920, Validation Accuracy: 0.8774, Validation Loss: 0.3399, ESI: 2\n",
      "Epoch 79: Train Accuracy: 0.8780, Validation Accuracy: 0.8737, Validation Loss: 0.4057, ESI: 3\n",
      "Epoch 80: Train Accuracy: 0.8930, Validation Accuracy: 0.8760, Validation Loss: 0.2718, ESI: 4\n",
      "Epoch 81: Train Accuracy: 0.8760, Validation Accuracy: 0.8615, Validation Loss: 0.2553, ESI: 5\n",
      "Epoch 82: Train Accuracy: 0.8930, Validation Accuracy: 0.8763, Validation Loss: 0.2306, ESI: 6\n",
      "Epoch 83: Train Accuracy: 0.8880, Validation Accuracy: 0.8811, Validation Loss: 0.3209, ESI: 7\n",
      "Epoch 84: Train Accuracy: 0.8930, Validation Accuracy: 0.8860, Validation Loss: 0.3660, ESI: 0\n",
      "Epoch 85: Train Accuracy: 0.8940, Validation Accuracy: 0.8795, Validation Loss: 0.2920, ESI: 0\n",
      "Epoch 86: Train Accuracy: 0.8910, Validation Accuracy: 0.8779, Validation Loss: 0.3209, ESI: 1\n"
     ]
    },
    {
     "name": "stdout",
     "output_type": "stream",
     "text": [
      "Epoch 87: Train Accuracy: 0.8880, Validation Accuracy: 0.8813, Validation Loss: 0.2987, ESI: 2\n",
      "Epoch 88: Train Accuracy: 0.8900, Validation Accuracy: 0.8793, Validation Loss: 0.2729, ESI: 3\n",
      "Epoch 89: Train Accuracy: 0.9000, Validation Accuracy: 0.8857, Validation Loss: 0.3473, ESI: 4\n",
      "Epoch 90: Train Accuracy: 0.8870, Validation Accuracy: 0.8807, Validation Loss: 0.3314, ESI: 5\n",
      "Epoch 91: Train Accuracy: 0.9050, Validation Accuracy: 0.8913, Validation Loss: 0.3921, ESI: 6\n",
      "Epoch 92: Train Accuracy: 0.9150, Validation Accuracy: 0.8943, Validation Loss: 0.3423, ESI: 0\n",
      "Epoch 93: Train Accuracy: 0.9040, Validation Accuracy: 0.8860, Validation Loss: 0.3923, ESI: 0\n",
      "Epoch 94: Train Accuracy: 0.9070, Validation Accuracy: 0.8867, Validation Loss: 0.2569, ESI: 1\n",
      "Epoch 95: Train Accuracy: 0.8950, Validation Accuracy: 0.8857, Validation Loss: 0.3076, ESI: 2\n",
      "Epoch 96: Train Accuracy: 0.8910, Validation Accuracy: 0.8837, Validation Loss: 0.3199, ESI: 3\n",
      "Epoch 97: Train Accuracy: 0.9030, Validation Accuracy: 0.8892, Validation Loss: 0.3766, ESI: 4\n",
      "Epoch 98: Train Accuracy: 0.9000, Validation Accuracy: 0.8917, Validation Loss: 0.3406, ESI: 5\n",
      "Epoch 99: Train Accuracy: 0.9050, Validation Accuracy: 0.8887, Validation Loss: 0.2772, ESI: 6\n",
      "Epoch 100: Train Accuracy: 0.9020, Validation Accuracy: 0.8920, Validation Loss: 0.3386, ESI: 7\n",
      "Epoch 101: Train Accuracy: 0.9030, Validation Accuracy: 0.8940, Validation Loss: 0.4203, ESI: 8\n",
      "Epoch 102: Train Accuracy: 0.9080, Validation Accuracy: 0.8938, Validation Loss: 0.3328, ESI: 9\n",
      "Epoch 103: Train Accuracy: 0.9050, Validation Accuracy: 0.8910, Validation Loss: 0.2962, ESI: 10\n",
      "Epoch 104: Train Accuracy: 0.9140, Validation Accuracy: 0.8980, Validation Loss: 0.3483, ESI: 11\n",
      "Epoch 105: Train Accuracy: 0.9030, Validation Accuracy: 0.8920, Validation Loss: 0.3246, ESI: 0\n",
      "Epoch 106: Train Accuracy: 0.9080, Validation Accuracy: 0.8922, Validation Loss: 0.3045, ESI: 1\n",
      "Epoch 107: Train Accuracy: 0.9120, Validation Accuracy: 0.8940, Validation Loss: 0.2636, ESI: 2\n",
      "Epoch 108: Train Accuracy: 0.9150, Validation Accuracy: 0.9019, Validation Loss: 0.3794, ESI: 3\n",
      "Epoch 109: Train Accuracy: 0.9040, Validation Accuracy: 0.8906, Validation Loss: 0.3194, ESI: 0\n",
      "Epoch 110: Train Accuracy: 0.8850, Validation Accuracy: 0.8804, Validation Loss: 0.3346, ESI: 1\n",
      "Epoch 111: Train Accuracy: 0.9070, Validation Accuracy: 0.8957, Validation Loss: 0.2719, ESI: 2\n",
      "Epoch 112: Train Accuracy: 0.9140, Validation Accuracy: 0.8929, Validation Loss: 0.2721, ESI: 3\n",
      "Epoch 113: Train Accuracy: 0.9180, Validation Accuracy: 0.9005, Validation Loss: 0.3939, ESI: 4\n",
      "Epoch 114: Train Accuracy: 0.8980, Validation Accuracy: 0.8915, Validation Loss: 0.2659, ESI: 5\n",
      "Epoch 115: Train Accuracy: 0.9100, Validation Accuracy: 0.8984, Validation Loss: 0.2698, ESI: 6\n",
      "Epoch 116: Train Accuracy: 0.8880, Validation Accuracy: 0.8841, Validation Loss: 0.3230, ESI: 7\n",
      "Epoch 117: Train Accuracy: 0.9110, Validation Accuracy: 0.8987, Validation Loss: 0.3071, ESI: 8\n",
      "Epoch 118: Train Accuracy: 0.9070, Validation Accuracy: 0.8950, Validation Loss: 0.2502, ESI: 9\n",
      "Epoch 119: Train Accuracy: 0.9110, Validation Accuracy: 0.8924, Validation Loss: 0.3547, ESI: 10\n",
      "Epoch 120: Train Accuracy: 0.9180, Validation Accuracy: 0.8991, Validation Loss: 0.3124, ESI: 11\n",
      "Epoch 121: Train Accuracy: 0.9250, Validation Accuracy: 0.9081, Validation Loss: 0.3310, ESI: 12\n",
      "Epoch 122: Train Accuracy: 0.9140, Validation Accuracy: 0.9014, Validation Loss: 0.3210, ESI: 0\n",
      "Epoch 123: Train Accuracy: 0.9110, Validation Accuracy: 0.8938, Validation Loss: 0.1807, ESI: 1\n",
      "Epoch 124: Train Accuracy: 0.9110, Validation Accuracy: 0.8994, Validation Loss: 0.2253, ESI: 2\n",
      "Epoch 125: Train Accuracy: 0.9120, Validation Accuracy: 0.8975, Validation Loss: 0.2349, ESI: 3\n",
      "Epoch 126: Train Accuracy: 0.9180, Validation Accuracy: 0.9044, Validation Loss: 0.2660, ESI: 4\n",
      "Epoch 127: Train Accuracy: 0.9080, Validation Accuracy: 0.8922, Validation Loss: 0.1965, ESI: 5\n",
      "Epoch 128: Train Accuracy: 0.9140, Validation Accuracy: 0.8982, Validation Loss: 0.2179, ESI: 6\n",
      "Epoch 129: Train Accuracy: 0.9200, Validation Accuracy: 0.9026, Validation Loss: 0.2611, ESI: 7\n",
      "Epoch 130: Train Accuracy: 0.9270, Validation Accuracy: 0.9067, Validation Loss: 0.3568, ESI: 8\n",
      "Epoch 131: Train Accuracy: 0.9090, Validation Accuracy: 0.8964, Validation Loss: 0.4233, ESI: 9\n",
      "Epoch 132: Train Accuracy: 0.9190, Validation Accuracy: 0.9012, Validation Loss: 0.2539, ESI: 10\n",
      "Epoch 133: Train Accuracy: 0.9190, Validation Accuracy: 0.9047, Validation Loss: 0.2879, ESI: 11\n",
      "Epoch 134: Train Accuracy: 0.9240, Validation Accuracy: 0.9056, Validation Loss: 0.3121, ESI: 12\n",
      "Epoch 135: Train Accuracy: 0.9080, Validation Accuracy: 0.9019, Validation Loss: 0.2606, ESI: 13\n",
      "Epoch 136: Train Accuracy: 0.9250, Validation Accuracy: 0.9051, Validation Loss: 0.2168, ESI: 14\n",
      "Epoch 137: Train Accuracy: 0.9200, Validation Accuracy: 0.9056, Validation Loss: 0.2579, ESI: 15\n",
      "Epoch 138: Train Accuracy: 0.9070, Validation Accuracy: 0.8987, Validation Loss: 0.1960, ESI: 16\n",
      "Epoch 139: Train Accuracy: 0.9200, Validation Accuracy: 0.9051, Validation Loss: 0.2068, ESI: 17\n",
      "Epoch 140: Train Accuracy: 0.9070, Validation Accuracy: 0.8973, Validation Loss: 0.2057, ESI: 18\n",
      "Epoch 141: Train Accuracy: 0.9120, Validation Accuracy: 0.9058, Validation Loss: 0.2646, ESI: 19\n",
      "Epoch 142: Train Accuracy: 0.9170, Validation Accuracy: 0.9033, Validation Loss: 0.3083, ESI: 20\n",
      "Epoch 143: Train Accuracy: 0.9160, Validation Accuracy: 0.8957, Validation Loss: 0.3053, ESI: 21\n",
      "Epoch 144: Train Accuracy: 0.9220, Validation Accuracy: 0.9030, Validation Loss: 0.2274, ESI: 22\n",
      "Epoch 145: Train Accuracy: 0.9240, Validation Accuracy: 0.9074, Validation Loss: 0.2320, ESI: 23\n",
      "Epoch 146: Train Accuracy: 0.9260, Validation Accuracy: 0.9102, Validation Loss: 0.3697, ESI: 24\n",
      "Epoch 147: Train Accuracy: 0.9140, Validation Accuracy: 0.9044, Validation Loss: 0.2340, ESI: 0\n",
      "Epoch 148: Train Accuracy: 0.9230, Validation Accuracy: 0.9065, Validation Loss: 0.2334, ESI: 1\n",
      "Epoch 149: Train Accuracy: 0.9320, Validation Accuracy: 0.9120, Validation Loss: 0.1764, ESI: 2\n",
      "Epoch 150: Train Accuracy: 0.9190, Validation Accuracy: 0.9079, Validation Loss: 0.3065, ESI: 0\n",
      "Epoch 151: Train Accuracy: 0.9290, Validation Accuracy: 0.9042, Validation Loss: 0.1925, ESI: 1\n",
      "Epoch 152: Train Accuracy: 0.9200, Validation Accuracy: 0.9081, Validation Loss: 0.1853, ESI: 2\n",
      "Epoch 153: Train Accuracy: 0.9320, Validation Accuracy: 0.9137, Validation Loss: 0.2552, ESI: 3\n",
      "Epoch 154: Train Accuracy: 0.9270, Validation Accuracy: 0.9125, Validation Loss: 0.1844, ESI: 0\n",
      "Epoch 155: Train Accuracy: 0.9270, Validation Accuracy: 0.9081, Validation Loss: 0.1920, ESI: 1\n",
      "Epoch 156: Train Accuracy: 0.9230, Validation Accuracy: 0.9065, Validation Loss: 0.1819, ESI: 2\n",
      "Epoch 157: Train Accuracy: 0.9200, Validation Accuracy: 0.9063, Validation Loss: 0.2854, ESI: 3\n",
      "Epoch 158: Train Accuracy: 0.9250, Validation Accuracy: 0.9086, Validation Loss: 0.2536, ESI: 4\n",
      "Epoch 159: Train Accuracy: 0.9280, Validation Accuracy: 0.9139, Validation Loss: 0.3726, ESI: 5\n",
      "Epoch 160: Train Accuracy: 0.9240, Validation Accuracy: 0.9102, Validation Loss: 0.2067, ESI: 0\n",
      "Epoch 161: Train Accuracy: 0.9260, Validation Accuracy: 0.9114, Validation Loss: 0.2367, ESI: 1\n",
      "Epoch 162: Train Accuracy: 0.9260, Validation Accuracy: 0.9042, Validation Loss: 0.1900, ESI: 2\n",
      "Epoch 163: Train Accuracy: 0.9280, Validation Accuracy: 0.9095, Validation Loss: 0.2279, ESI: 3\n",
      "Epoch 164: Train Accuracy: 0.9250, Validation Accuracy: 0.9097, Validation Loss: 0.1954, ESI: 4\n",
      "Epoch 165: Train Accuracy: 0.9280, Validation Accuracy: 0.9134, Validation Loss: 0.2174, ESI: 5\n",
      "Epoch 166: Train Accuracy: 0.9290, Validation Accuracy: 0.9088, Validation Loss: 0.1677, ESI: 6\n",
      "Epoch 167: Train Accuracy: 0.9250, Validation Accuracy: 0.9109, Validation Loss: 0.1496, ESI: 7\n",
      "Epoch 168: Train Accuracy: 0.9250, Validation Accuracy: 0.9118, Validation Loss: 0.1876, ESI: 8\n",
      "Epoch 169: Train Accuracy: 0.9260, Validation Accuracy: 0.9084, Validation Loss: 0.2200, ESI: 9\n",
      "Epoch 170: Train Accuracy: 0.9230, Validation Accuracy: 0.9111, Validation Loss: 0.2542, ESI: 10\n",
      "Epoch 171: Train Accuracy: 0.9340, Validation Accuracy: 0.9169, Validation Loss: 0.1948, ESI: 11\n",
      "Epoch 172: Train Accuracy: 0.9340, Validation Accuracy: 0.9162, Validation Loss: 0.2376, ESI: 0\n"
     ]
    },
    {
     "name": "stdout",
     "output_type": "stream",
     "text": [
      "Epoch 173: Train Accuracy: 0.9310, Validation Accuracy: 0.9153, Validation Loss: 0.1746, ESI: 1\n",
      "Epoch 174: Train Accuracy: 0.9240, Validation Accuracy: 0.9148, Validation Loss: 0.2511, ESI: 2\n",
      "Epoch 175: Train Accuracy: 0.9180, Validation Accuracy: 0.9072, Validation Loss: 0.1557, ESI: 3\n",
      "Epoch 176: Train Accuracy: 0.9310, Validation Accuracy: 0.9144, Validation Loss: 0.2328, ESI: 4\n",
      "Epoch 177: Train Accuracy: 0.9280, Validation Accuracy: 0.9151, Validation Loss: 0.2907, ESI: 5\n",
      "Epoch 178: Train Accuracy: 0.9430, Validation Accuracy: 0.9187, Validation Loss: 0.2187, ESI: 6\n",
      "Epoch 179: Train Accuracy: 0.9310, Validation Accuracy: 0.9144, Validation Loss: 0.2663, ESI: 0\n",
      "Epoch 180: Train Accuracy: 0.9210, Validation Accuracy: 0.9125, Validation Loss: 0.3297, ESI: 1\n",
      "Epoch 181: Train Accuracy: 0.9360, Validation Accuracy: 0.9181, Validation Loss: 0.2489, ESI: 2\n",
      "Epoch 182: Train Accuracy: 0.9250, Validation Accuracy: 0.9104, Validation Loss: 0.2252, ESI: 3\n",
      "Epoch 183: Train Accuracy: 0.9320, Validation Accuracy: 0.9174, Validation Loss: 0.4112, ESI: 4\n",
      "Epoch 184: Train Accuracy: 0.9360, Validation Accuracy: 0.9176, Validation Loss: 0.2986, ESI: 5\n",
      "Epoch 185: Train Accuracy: 0.9310, Validation Accuracy: 0.9107, Validation Loss: 0.1768, ESI: 6\n",
      "Epoch 186: Train Accuracy: 0.9420, Validation Accuracy: 0.9217, Validation Loss: 0.2382, ESI: 7\n",
      "Epoch 187: Train Accuracy: 0.9310, Validation Accuracy: 0.9157, Validation Loss: 0.2006, ESI: 0\n",
      "Epoch 188: Train Accuracy: 0.9320, Validation Accuracy: 0.9157, Validation Loss: 0.2108, ESI: 1\n",
      "Epoch 189: Train Accuracy: 0.9390, Validation Accuracy: 0.9169, Validation Loss: 0.1705, ESI: 2\n",
      "Epoch 190: Train Accuracy: 0.9280, Validation Accuracy: 0.9130, Validation Loss: 0.1902, ESI: 3\n",
      "Epoch 191: Train Accuracy: 0.9340, Validation Accuracy: 0.9174, Validation Loss: 0.2081, ESI: 4\n",
      "Epoch 192: Train Accuracy: 0.9300, Validation Accuracy: 0.9144, Validation Loss: 0.1249, ESI: 5\n",
      "Epoch 193: Train Accuracy: 0.9310, Validation Accuracy: 0.9139, Validation Loss: 0.1481, ESI: 6\n",
      "Epoch 194: Train Accuracy: 0.9410, Validation Accuracy: 0.9178, Validation Loss: 0.2700, ESI: 7\n",
      "Epoch 195: Train Accuracy: 0.9360, Validation Accuracy: 0.9146, Validation Loss: 0.1235, ESI: 8\n",
      "Epoch 196: Train Accuracy: 0.9320, Validation Accuracy: 0.9160, Validation Loss: 0.1545, ESI: 9\n",
      "Epoch 197: Train Accuracy: 0.9260, Validation Accuracy: 0.9153, Validation Loss: 0.2080, ESI: 10\n",
      "Epoch 198: Train Accuracy: 0.9250, Validation Accuracy: 0.9104, Validation Loss: 0.1336, ESI: 11\n",
      "Epoch 199: Train Accuracy: 0.9160, Validation Accuracy: 0.9037, Validation Loss: 0.0844, ESI: 12\n",
      "Epoch 200: Train Accuracy: 0.9330, Validation Accuracy: 0.9127, Validation Loss: 0.1420, ESI: 13\n",
      "Epoch 201: Train Accuracy: 0.9330, Validation Accuracy: 0.9151, Validation Loss: 0.1747, ESI: 14\n",
      "Epoch 202: Train Accuracy: 0.9320, Validation Accuracy: 0.9164, Validation Loss: 0.1382, ESI: 15\n",
      "Epoch 203: Train Accuracy: 0.9240, Validation Accuracy: 0.9141, Validation Loss: 0.1568, ESI: 16\n",
      "Epoch 204: Train Accuracy: 0.9270, Validation Accuracy: 0.9146, Validation Loss: 0.2663, ESI: 17\n",
      "Epoch 205: Train Accuracy: 0.9350, Validation Accuracy: 0.9217, Validation Loss: 0.3380, ESI: 18\n",
      "Epoch 206: Train Accuracy: 0.9400, Validation Accuracy: 0.9206, Validation Loss: 0.1460, ESI: 0\n",
      "Epoch 207: Train Accuracy: 0.9230, Validation Accuracy: 0.9153, Validation Loss: 0.1592, ESI: 1\n",
      "Epoch 208: Train Accuracy: 0.9340, Validation Accuracy: 0.9201, Validation Loss: 0.1845, ESI: 2\n",
      "Epoch 209: Train Accuracy: 0.9260, Validation Accuracy: 0.9137, Validation Loss: 0.1365, ESI: 3\n",
      "Epoch 210: Train Accuracy: 0.9370, Validation Accuracy: 0.9215, Validation Loss: 0.2152, ESI: 4\n",
      "Epoch 211: Train Accuracy: 0.9450, Validation Accuracy: 0.9257, Validation Loss: 0.2383, ESI: 5\n",
      "Epoch 212: Train Accuracy: 0.9370, Validation Accuracy: 0.9194, Validation Loss: 0.2027, ESI: 0\n",
      "Epoch 213: Train Accuracy: 0.9340, Validation Accuracy: 0.9227, Validation Loss: 0.2916, ESI: 1\n",
      "Epoch 214: Train Accuracy: 0.9430, Validation Accuracy: 0.9282, Validation Loss: 0.1980, ESI: 2\n",
      "Epoch 215: Train Accuracy: 0.9370, Validation Accuracy: 0.9217, Validation Loss: 0.1634, ESI: 0\n",
      "Epoch 216: Train Accuracy: 0.9430, Validation Accuracy: 0.9243, Validation Loss: 0.1482, ESI: 1\n",
      "Epoch 217: Train Accuracy: 0.9340, Validation Accuracy: 0.9201, Validation Loss: 0.1160, ESI: 2\n",
      "Epoch 218: Train Accuracy: 0.9260, Validation Accuracy: 0.9130, Validation Loss: 0.1846, ESI: 3\n",
      "Epoch 219: Train Accuracy: 0.9430, Validation Accuracy: 0.9245, Validation Loss: 0.1796, ESI: 4\n",
      "Epoch 220: Train Accuracy: 0.9400, Validation Accuracy: 0.9268, Validation Loss: 0.2816, ESI: 5\n",
      "Epoch 221: Train Accuracy: 0.9250, Validation Accuracy: 0.9127, Validation Loss: 0.1112, ESI: 6\n",
      "Epoch 222: Train Accuracy: 0.9320, Validation Accuracy: 0.9220, Validation Loss: 0.2880, ESI: 7\n",
      "Epoch 223: Train Accuracy: 0.9420, Validation Accuracy: 0.9194, Validation Loss: 0.2170, ESI: 8\n",
      "Epoch 224: Train Accuracy: 0.9310, Validation Accuracy: 0.9231, Validation Loss: 0.2772, ESI: 9\n",
      "Epoch 225: Train Accuracy: 0.9410, Validation Accuracy: 0.9241, Validation Loss: 0.0852, ESI: 10\n",
      "Epoch 226: Train Accuracy: 0.9440, Validation Accuracy: 0.9252, Validation Loss: 0.1435, ESI: 11\n",
      "Epoch 227: Train Accuracy: 0.9330, Validation Accuracy: 0.9211, Validation Loss: 0.2085, ESI: 12\n",
      "Epoch 228: Train Accuracy: 0.9280, Validation Accuracy: 0.9201, Validation Loss: 0.1777, ESI: 13\n",
      "Epoch 229: Train Accuracy: 0.9370, Validation Accuracy: 0.9151, Validation Loss: 0.1469, ESI: 14\n",
      "Epoch 230: Train Accuracy: 0.9350, Validation Accuracy: 0.9211, Validation Loss: 0.1184, ESI: 15\n",
      "Epoch 231: Train Accuracy: 0.9350, Validation Accuracy: 0.9229, Validation Loss: 0.1517, ESI: 16\n",
      "Epoch 232: Train Accuracy: 0.9330, Validation Accuracy: 0.9206, Validation Loss: 0.1872, ESI: 17\n",
      "Epoch 233: Train Accuracy: 0.9390, Validation Accuracy: 0.9241, Validation Loss: 0.1895, ESI: 18\n",
      "Epoch 234: Train Accuracy: 0.9270, Validation Accuracy: 0.9183, Validation Loss: 0.1041, ESI: 19\n",
      "Epoch 235: Train Accuracy: 0.9480, Validation Accuracy: 0.9266, Validation Loss: 0.1492, ESI: 20\n",
      "Epoch 236: Train Accuracy: 0.9380, Validation Accuracy: 0.9252, Validation Loss: 0.1542, ESI: 21\n",
      "Epoch 237: Train Accuracy: 0.9380, Validation Accuracy: 0.9259, Validation Loss: 0.1999, ESI: 22\n",
      "Epoch 238: Train Accuracy: 0.9420, Validation Accuracy: 0.9245, Validation Loss: 0.1373, ESI: 23\n",
      "Epoch 239: Train Accuracy: 0.9420, Validation Accuracy: 0.9201, Validation Loss: 0.1776, ESI: 24\n",
      "Epoch 240: Train Accuracy: 0.9330, Validation Accuracy: 0.9208, Validation Loss: 0.1075, ESI: 25\n",
      "Epoch 241: Train Accuracy: 0.9400, Validation Accuracy: 0.9187, Validation Loss: 0.1254, ESI: 26\n",
      "Epoch 242: Train Accuracy: 0.9370, Validation Accuracy: 0.9213, Validation Loss: 0.1023, ESI: 27\n",
      "Epoch 243: Train Accuracy: 0.9490, Validation Accuracy: 0.9312, Validation Loss: 0.1355, ESI: 28\n",
      "Epoch 244: Train Accuracy: 0.9470, Validation Accuracy: 0.9266, Validation Loss: 0.1955, ESI: 0\n",
      "Epoch 245: Train Accuracy: 0.9380, Validation Accuracy: 0.9197, Validation Loss: 0.0886, ESI: 1\n",
      "Epoch 246: Train Accuracy: 0.9430, Validation Accuracy: 0.9284, Validation Loss: 0.1999, ESI: 2\n",
      "Epoch 247: Train Accuracy: 0.9350, Validation Accuracy: 0.9211, Validation Loss: 0.1184, ESI: 3\n",
      "Epoch 248: Train Accuracy: 0.9400, Validation Accuracy: 0.9261, Validation Loss: 0.1724, ESI: 4\n",
      "Epoch 249: Train Accuracy: 0.9370, Validation Accuracy: 0.9266, Validation Loss: 0.2238, ESI: 5\n",
      "Epoch 250: Train Accuracy: 0.9440, Validation Accuracy: 0.9224, Validation Loss: 0.1219, ESI: 6\n",
      "Epoch 251: Train Accuracy: 0.9440, Validation Accuracy: 0.9277, Validation Loss: 0.1998, ESI: 7\n",
      "Epoch 252: Train Accuracy: 0.9320, Validation Accuracy: 0.9254, Validation Loss: 0.1731, ESI: 8\n",
      "Epoch 253: Train Accuracy: 0.9350, Validation Accuracy: 0.9250, Validation Loss: 0.1490, ESI: 9\n",
      "Epoch 254: Train Accuracy: 0.9280, Validation Accuracy: 0.9197, Validation Loss: 0.0676, ESI: 10\n",
      "Epoch 255: Train Accuracy: 0.9480, Validation Accuracy: 0.9294, Validation Loss: 0.1943, ESI: 11\n",
      "Epoch 256: Train Accuracy: 0.9400, Validation Accuracy: 0.9282, Validation Loss: 0.1697, ESI: 12\n",
      "Epoch 257: Train Accuracy: 0.9400, Validation Accuracy: 0.9261, Validation Loss: 0.1101, ESI: 13\n",
      "Epoch 258: Train Accuracy: 0.9200, Validation Accuracy: 0.9132, Validation Loss: 0.0981, ESI: 14\n",
      "Epoch 259: Train Accuracy: 0.9370, Validation Accuracy: 0.9220, Validation Loss: 0.1025, ESI: 15\n",
      "Epoch 260: Train Accuracy: 0.9270, Validation Accuracy: 0.9160, Validation Loss: 0.0581, ESI: 16\n",
      "Epoch 261: Train Accuracy: 0.9430, Validation Accuracy: 0.9254, Validation Loss: 0.0838, ESI: 17\n",
      "Epoch 262: Train Accuracy: 0.9480, Validation Accuracy: 0.9264, Validation Loss: 0.0945, ESI: 18\n",
      "Epoch 263: Train Accuracy: 0.9340, Validation Accuracy: 0.9185, Validation Loss: 0.0666, ESI: 19\n",
      "Epoch 264: Train Accuracy: 0.9450, Validation Accuracy: 0.9261, Validation Loss: 0.1023, ESI: 20\n",
      "Epoch 265: Train Accuracy: 0.9450, Validation Accuracy: 0.9259, Validation Loss: 0.0979, ESI: 21\n",
      "Epoch 266: Train Accuracy: 0.9410, Validation Accuracy: 0.9243, Validation Loss: 0.1059, ESI: 22\n",
      "Epoch 267: Train Accuracy: 0.9430, Validation Accuracy: 0.9245, Validation Loss: 0.2013, ESI: 23\n",
      "Epoch 268: Train Accuracy: 0.9410, Validation Accuracy: 0.9217, Validation Loss: 0.0862, ESI: 24\n",
      "Epoch 269: Train Accuracy: 0.9450, Validation Accuracy: 0.9227, Validation Loss: 0.1430, ESI: 25\n",
      "Epoch 270: Train Accuracy: 0.9520, Validation Accuracy: 0.9340, Validation Loss: 0.1520, ESI: 26\n",
      "Epoch 271: Train Accuracy: 0.9300, Validation Accuracy: 0.9181, Validation Loss: 0.0696, ESI: 0\n",
      "Epoch 272: Train Accuracy: 0.9510, Validation Accuracy: 0.9282, Validation Loss: 0.1227, ESI: 1\n",
      "Epoch 273: Train Accuracy: 0.9460, Validation Accuracy: 0.9277, Validation Loss: 0.1239, ESI: 2\n",
      "Epoch 274: Train Accuracy: 0.9480, Validation Accuracy: 0.9333, Validation Loss: 0.1787, ESI: 3\n",
      "Epoch 275: Train Accuracy: 0.9510, Validation Accuracy: 0.9337, Validation Loss: 0.1335, ESI: 4\n",
      "Epoch 276: Train Accuracy: 0.9380, Validation Accuracy: 0.9224, Validation Loss: 0.0705, ESI: 5\n",
      "Epoch 277: Train Accuracy: 0.9480, Validation Accuracy: 0.9243, Validation Loss: 0.1082, ESI: 6\n",
      "Epoch 278: Train Accuracy: 0.9450, Validation Accuracy: 0.9243, Validation Loss: 0.1211, ESI: 7\n",
      "Epoch 279: Train Accuracy: 0.9440, Validation Accuracy: 0.9287, Validation Loss: 0.0976, ESI: 8\n",
      "Epoch 280: Train Accuracy: 0.9470, Validation Accuracy: 0.9296, Validation Loss: 0.0831, ESI: 9\n",
      "Epoch 281: Train Accuracy: 0.9360, Validation Accuracy: 0.9229, Validation Loss: 0.0753, ESI: 10\n",
      "Epoch 282: Train Accuracy: 0.9510, Validation Accuracy: 0.9294, Validation Loss: 0.0902, ESI: 11\n",
      "Epoch 283: Train Accuracy: 0.9330, Validation Accuracy: 0.9243, Validation Loss: 0.1003, ESI: 12\n",
      "Epoch 284: Train Accuracy: 0.9390, Validation Accuracy: 0.9259, Validation Loss: 0.0763, ESI: 13\n",
      "Epoch 285: Train Accuracy: 0.9470, Validation Accuracy: 0.9298, Validation Loss: 0.0796, ESI: 14\n",
      "Epoch 286: Train Accuracy: 0.9380, Validation Accuracy: 0.9271, Validation Loss: 0.1161, ESI: 15\n",
      "Epoch 287: Train Accuracy: 0.9380, Validation Accuracy: 0.9222, Validation Loss: 0.0720, ESI: 16\n",
      "Epoch 288: Train Accuracy: 0.9330, Validation Accuracy: 0.9236, Validation Loss: 0.0860, ESI: 17\n",
      "Epoch 289: Train Accuracy: 0.9420, Validation Accuracy: 0.9264, Validation Loss: 0.0971, ESI: 18\n",
      "Epoch 290: Train Accuracy: 0.9460, Validation Accuracy: 0.9271, Validation Loss: 0.1490, ESI: 19\n",
      "Epoch 291: Train Accuracy: 0.9430, Validation Accuracy: 0.9282, Validation Loss: 0.0971, ESI: 20\n",
      "Epoch 292: Train Accuracy: 0.9390, Validation Accuracy: 0.9190, Validation Loss: 0.0704, ESI: 21\n",
      "Epoch 293: Train Accuracy: 0.9510, Validation Accuracy: 0.9305, Validation Loss: 0.1124, ESI: 22\n",
      "Epoch 294: Train Accuracy: 0.9520, Validation Accuracy: 0.9326, Validation Loss: 0.1206, ESI: 23\n",
      "Epoch 295: Train Accuracy: 0.9470, Validation Accuracy: 0.9337, Validation Loss: 0.2117, ESI: 24\n",
      "Epoch 296: Train Accuracy: 0.9460, Validation Accuracy: 0.9324, Validation Loss: 0.1511, ESI: 25\n",
      "Epoch 297: Train Accuracy: 0.9420, Validation Accuracy: 0.9284, Validation Loss: 0.0718, ESI: 26\n",
      "Epoch 298: Train Accuracy: 0.9460, Validation Accuracy: 0.9298, Validation Loss: 0.0997, ESI: 27\n",
      "Epoch 299: Train Accuracy: 0.9550, Validation Accuracy: 0.9335, Validation Loss: 0.1225, ESI: 28\n",
      "Epoch 300: Train Accuracy: 0.9530, Validation Accuracy: 0.9363, Validation Loss: 0.1517, ESI: 29\n",
      "Epoch 301: Train Accuracy: 0.9510, Validation Accuracy: 0.9303, Validation Loss: 0.1217, ESI: 0\n",
      "Epoch 302: Train Accuracy: 0.9560, Validation Accuracy: 0.9361, Validation Loss: 0.1489, ESI: 1\n",
      "Epoch 303: Train Accuracy: 0.9420, Validation Accuracy: 0.9301, Validation Loss: 0.0844, ESI: 2\n",
      "Epoch 304: Train Accuracy: 0.9430, Validation Accuracy: 0.9282, Validation Loss: 0.1423, ESI: 3\n",
      "Epoch 305: Train Accuracy: 0.9550, Validation Accuracy: 0.9344, Validation Loss: 0.1144, ESI: 4\n",
      "Epoch 306: Train Accuracy: 0.9420, Validation Accuracy: 0.9259, Validation Loss: 0.1213, ESI: 5\n",
      "Epoch 307: Train Accuracy: 0.9530, Validation Accuracy: 0.9347, Validation Loss: 0.1592, ESI: 6\n",
      "Epoch 308: Train Accuracy: 0.9440, Validation Accuracy: 0.9268, Validation Loss: 0.0687, ESI: 7\n",
      "Epoch 309: Train Accuracy: 0.9440, Validation Accuracy: 0.9310, Validation Loss: 0.1731, ESI: 8\n",
      "Epoch 310: Train Accuracy: 0.9450, Validation Accuracy: 0.9289, Validation Loss: 0.0776, ESI: 9\n",
      "Epoch 311: Train Accuracy: 0.9490, Validation Accuracy: 0.9319, Validation Loss: 0.1123, ESI: 10\n",
      "Epoch 312: Train Accuracy: 0.9520, Validation Accuracy: 0.9335, Validation Loss: 0.0860, ESI: 11\n",
      "Epoch 313: Train Accuracy: 0.9540, Validation Accuracy: 0.9363, Validation Loss: 0.1588, ESI: 12\n",
      "Epoch 314: Train Accuracy: 0.9540, Validation Accuracy: 0.9377, Validation Loss: 0.1048, ESI: 13\n",
      "Epoch 315: Train Accuracy: 0.9470, Validation Accuracy: 0.9280, Validation Loss: 0.0864, ESI: 0\n",
      "Epoch 316: Train Accuracy: 0.9480, Validation Accuracy: 0.9314, Validation Loss: 0.0555, ESI: 1\n",
      "Epoch 317: Train Accuracy: 0.9620, Validation Accuracy: 0.9370, Validation Loss: 0.0618, ESI: 2\n",
      "Epoch 318: Train Accuracy: 0.9480, Validation Accuracy: 0.9296, Validation Loss: 0.1182, ESI: 3\n",
      "Epoch 319: Train Accuracy: 0.9530, Validation Accuracy: 0.9358, Validation Loss: 0.1240, ESI: 4\n",
      "Epoch 320: Train Accuracy: 0.9510, Validation Accuracy: 0.9324, Validation Loss: 0.0681, ESI: 5\n",
      "Epoch 321: Train Accuracy: 0.9530, Validation Accuracy: 0.9333, Validation Loss: 0.1078, ESI: 6\n",
      "Epoch 322: Train Accuracy: 0.9510, Validation Accuracy: 0.9319, Validation Loss: 0.0803, ESI: 7\n",
      "Epoch 323: Train Accuracy: 0.9560, Validation Accuracy: 0.9363, Validation Loss: 0.1634, ESI: 8\n",
      "Epoch 324: Train Accuracy: 0.9570, Validation Accuracy: 0.9384, Validation Loss: 0.2754, ESI: 9\n",
      "Epoch 325: Train Accuracy: 0.9540, Validation Accuracy: 0.9340, Validation Loss: 0.0740, ESI: 0\n",
      "Epoch 326: Train Accuracy: 0.9520, Validation Accuracy: 0.9303, Validation Loss: 0.1023, ESI: 1\n",
      "Epoch 327: Train Accuracy: 0.9540, Validation Accuracy: 0.9321, Validation Loss: 0.0722, ESI: 2\n",
      "Epoch 328: Train Accuracy: 0.9560, Validation Accuracy: 0.9344, Validation Loss: 0.0814, ESI: 3\n",
      "Epoch 329: Train Accuracy: 0.9550, Validation Accuracy: 0.9381, Validation Loss: 0.1063, ESI: 4\n",
      "Epoch 330: Train Accuracy: 0.9400, Validation Accuracy: 0.9224, Validation Loss: 0.0556, ESI: 5\n",
      "Epoch 331: Train Accuracy: 0.9530, Validation Accuracy: 0.9347, Validation Loss: 0.1378, ESI: 6\n",
      "Epoch 332: Train Accuracy: 0.9560, Validation Accuracy: 0.9333, Validation Loss: 0.1362, ESI: 7\n",
      "Epoch 333: Train Accuracy: 0.9560, Validation Accuracy: 0.9333, Validation Loss: 0.0876, ESI: 8\n",
      "Epoch 334: Train Accuracy: 0.9560, Validation Accuracy: 0.9398, Validation Loss: 0.1500, ESI: 9\n",
      "Epoch 335: Train Accuracy: 0.9550, Validation Accuracy: 0.9333, Validation Loss: 0.0498, ESI: 0\n",
      "Epoch 336: Train Accuracy: 0.9500, Validation Accuracy: 0.9294, Validation Loss: 0.0657, ESI: 1\n",
      "Epoch 337: Train Accuracy: 0.9580, Validation Accuracy: 0.9398, Validation Loss: 0.1298, ESI: 2\n",
      "Epoch 338: Train Accuracy: 0.9630, Validation Accuracy: 0.9428, Validation Loss: 0.1273, ESI: 0\n",
      "Epoch 339: Train Accuracy: 0.9580, Validation Accuracy: 0.9398, Validation Loss: 0.1559, ESI: 0\n",
      "Epoch 340: Train Accuracy: 0.9500, Validation Accuracy: 0.9331, Validation Loss: 0.0962, ESI: 1\n",
      "Epoch 341: Train Accuracy: 0.9590, Validation Accuracy: 0.9391, Validation Loss: 0.1563, ESI: 2\n",
      "Epoch 342: Train Accuracy: 0.9520, Validation Accuracy: 0.9324, Validation Loss: 0.0722, ESI: 3\n"
     ]
    },
    {
     "name": "stdout",
     "output_type": "stream",
     "text": [
      "Epoch 343: Train Accuracy: 0.9550, Validation Accuracy: 0.9372, Validation Loss: 0.1409, ESI: 4\n",
      "Epoch 344: Train Accuracy: 0.9520, Validation Accuracy: 0.9307, Validation Loss: 0.0367, ESI: 5\n",
      "Epoch 345: Train Accuracy: 0.9580, Validation Accuracy: 0.9381, Validation Loss: 0.0906, ESI: 6\n",
      "Epoch 346: Train Accuracy: 0.9520, Validation Accuracy: 0.9349, Validation Loss: 0.1210, ESI: 7\n",
      "Epoch 347: Train Accuracy: 0.9520, Validation Accuracy: 0.9370, Validation Loss: 0.0778, ESI: 8\n",
      "Epoch 348: Train Accuracy: 0.9550, Validation Accuracy: 0.9342, Validation Loss: 0.0928, ESI: 9\n",
      "Epoch 349: Train Accuracy: 0.9570, Validation Accuracy: 0.9404, Validation Loss: 0.0984, ESI: 10\n",
      "Epoch 350: Train Accuracy: 0.9560, Validation Accuracy: 0.9326, Validation Loss: 0.1116, ESI: 11\n",
      "Epoch 351: Train Accuracy: 0.9450, Validation Accuracy: 0.9273, Validation Loss: 0.0397, ESI: 12\n",
      "Epoch 352: Train Accuracy: 0.9590, Validation Accuracy: 0.9363, Validation Loss: 0.0790, ESI: 13\n",
      "Epoch 353: Train Accuracy: 0.9620, Validation Accuracy: 0.9372, Validation Loss: 0.0910, ESI: 14\n",
      "Epoch 354: Train Accuracy: 0.9500, Validation Accuracy: 0.9296, Validation Loss: 0.0602, ESI: 15\n",
      "Epoch 355: Train Accuracy: 0.9530, Validation Accuracy: 0.9349, Validation Loss: 0.1243, ESI: 16\n",
      "Epoch 356: Train Accuracy: 0.9580, Validation Accuracy: 0.9340, Validation Loss: 0.0931, ESI: 17\n",
      "Epoch 357: Train Accuracy: 0.9560, Validation Accuracy: 0.9377, Validation Loss: 0.1179, ESI: 18\n",
      "Epoch 358: Train Accuracy: 0.9570, Validation Accuracy: 0.9372, Validation Loss: 0.1012, ESI: 19\n",
      "Epoch 359: Train Accuracy: 0.9560, Validation Accuracy: 0.9370, Validation Loss: 0.0674, ESI: 20\n",
      "Epoch 360: Train Accuracy: 0.9630, Validation Accuracy: 0.9425, Validation Loss: 0.0911, ESI: 21\n",
      "Epoch 361: Train Accuracy: 0.9560, Validation Accuracy: 0.9367, Validation Loss: 0.0855, ESI: 22\n",
      "Epoch 362: Train Accuracy: 0.9590, Validation Accuracy: 0.9344, Validation Loss: 0.1041, ESI: 23\n",
      "Epoch 363: Train Accuracy: 0.9560, Validation Accuracy: 0.9388, Validation Loss: 0.1668, ESI: 24\n",
      "Epoch 364: Train Accuracy: 0.9560, Validation Accuracy: 0.9361, Validation Loss: 0.0699, ESI: 25\n",
      "Epoch 365: Train Accuracy: 0.9580, Validation Accuracy: 0.9374, Validation Loss: 0.1192, ESI: 26\n",
      "Epoch 366: Train Accuracy: 0.9550, Validation Accuracy: 0.9384, Validation Loss: 0.0697, ESI: 27\n",
      "Epoch 367: Train Accuracy: 0.9560, Validation Accuracy: 0.9370, Validation Loss: 0.1208, ESI: 28\n",
      "Epoch 368: Train Accuracy: 0.9510, Validation Accuracy: 0.9342, Validation Loss: 0.0797, ESI: 29\n",
      "Epoch 369: Train Accuracy: 0.9540, Validation Accuracy: 0.9384, Validation Loss: 0.0789, ESI: 30\n",
      "Epoch 370: Train Accuracy: 0.9640, Validation Accuracy: 0.9439, Validation Loss: 0.1340, ESI: 31\n",
      "Epoch 371: Train Accuracy: 0.9630, Validation Accuracy: 0.9398, Validation Loss: 0.1007, ESI: 0\n",
      "Epoch 372: Train Accuracy: 0.9450, Validation Accuracy: 0.9312, Validation Loss: 0.0623, ESI: 1\n",
      "Epoch 373: Train Accuracy: 0.9630, Validation Accuracy: 0.9411, Validation Loss: 0.0714, ESI: 2\n",
      "Epoch 374: Train Accuracy: 0.9570, Validation Accuracy: 0.9365, Validation Loss: 0.0711, ESI: 3\n",
      "Epoch 375: Train Accuracy: 0.9620, Validation Accuracy: 0.9372, Validation Loss: 0.0805, ESI: 4\n",
      "Epoch 376: Train Accuracy: 0.9590, Validation Accuracy: 0.9407, Validation Loss: 0.0897, ESI: 5\n",
      "Epoch 377: Train Accuracy: 0.9610, Validation Accuracy: 0.9414, Validation Loss: 0.0605, ESI: 6\n",
      "Epoch 378: Train Accuracy: 0.9560, Validation Accuracy: 0.9374, Validation Loss: 0.1013, ESI: 7\n",
      "Epoch 379: Train Accuracy: 0.9580, Validation Accuracy: 0.9379, Validation Loss: 0.1022, ESI: 8\n",
      "Epoch 380: Train Accuracy: 0.9600, Validation Accuracy: 0.9409, Validation Loss: 0.1041, ESI: 9\n",
      "Epoch 381: Train Accuracy: 0.9510, Validation Accuracy: 0.9340, Validation Loss: 0.0877, ESI: 10\n",
      "Epoch 382: Train Accuracy: 0.9460, Validation Accuracy: 0.9287, Validation Loss: 0.0561, ESI: 11\n",
      "Epoch 383: Train Accuracy: 0.9520, Validation Accuracy: 0.9351, Validation Loss: 0.0855, ESI: 12\n",
      "Epoch 384: Train Accuracy: 0.9520, Validation Accuracy: 0.9296, Validation Loss: 0.0811, ESI: 13\n",
      "Epoch 385: Train Accuracy: 0.9580, Validation Accuracy: 0.9421, Validation Loss: 0.1319, ESI: 14\n",
      "Epoch 386: Train Accuracy: 0.9570, Validation Accuracy: 0.9374, Validation Loss: 0.0868, ESI: 15\n",
      "Epoch 387: Train Accuracy: 0.9630, Validation Accuracy: 0.9358, Validation Loss: 0.0677, ESI: 16\n",
      "Epoch 388: Train Accuracy: 0.9560, Validation Accuracy: 0.9305, Validation Loss: 0.1040, ESI: 17\n",
      "Epoch 389: Train Accuracy: 0.9650, Validation Accuracy: 0.9411, Validation Loss: 0.1132, ESI: 18\n",
      "Epoch 390: Train Accuracy: 0.9530, Validation Accuracy: 0.9310, Validation Loss: 0.0688, ESI: 19\n",
      "Epoch 391: Train Accuracy: 0.9610, Validation Accuracy: 0.9351, Validation Loss: 0.0485, ESI: 20\n",
      "Epoch 392: Train Accuracy: 0.9640, Validation Accuracy: 0.9437, Validation Loss: 0.1035, ESI: 21\n",
      "Epoch 393: Train Accuracy: 0.9600, Validation Accuracy: 0.9409, Validation Loss: 0.1135, ESI: 22\n",
      "Epoch 394: Train Accuracy: 0.9610, Validation Accuracy: 0.9448, Validation Loss: 0.1372, ESI: 23\n",
      "Epoch 395: Train Accuracy: 0.9550, Validation Accuracy: 0.9398, Validation Loss: 0.0470, ESI: 0\n",
      "Epoch 396: Train Accuracy: 0.9560, Validation Accuracy: 0.9393, Validation Loss: 0.1363, ESI: 1\n",
      "Epoch 397: Train Accuracy: 0.9640, Validation Accuracy: 0.9444, Validation Loss: 0.0798, ESI: 2\n",
      "Epoch 398: Train Accuracy: 0.9630, Validation Accuracy: 0.9425, Validation Loss: 0.0554, ESI: 3\n",
      "Epoch 399: Train Accuracy: 0.9590, Validation Accuracy: 0.9407, Validation Loss: 0.0957, ESI: 4\n",
      "Epoch 400: Train Accuracy: 0.9570, Validation Accuracy: 0.9377, Validation Loss: 0.0929, ESI: 5\n",
      "Epoch 401: Train Accuracy: 0.9560, Validation Accuracy: 0.9402, Validation Loss: 0.1182, ESI: 6\n",
      "Epoch 402: Train Accuracy: 0.9610, Validation Accuracy: 0.9391, Validation Loss: 0.0544, ESI: 7\n",
      "Epoch 403: Train Accuracy: 0.9630, Validation Accuracy: 0.9409, Validation Loss: 0.0830, ESI: 8\n",
      "Epoch 404: Train Accuracy: 0.9670, Validation Accuracy: 0.9441, Validation Loss: 0.0797, ESI: 9\n",
      "Epoch 405: Train Accuracy: 0.9520, Validation Accuracy: 0.9358, Validation Loss: 0.0506, ESI: 10\n",
      "Epoch 406: Train Accuracy: 0.9590, Validation Accuracy: 0.9356, Validation Loss: 0.0509, ESI: 11\n",
      "Epoch 407: Train Accuracy: 0.9700, Validation Accuracy: 0.9423, Validation Loss: 0.0950, ESI: 12\n",
      "Epoch 408: Train Accuracy: 0.9560, Validation Accuracy: 0.9337, Validation Loss: 0.0324, ESI: 13\n",
      "Epoch 409: Train Accuracy: 0.9650, Validation Accuracy: 0.9439, Validation Loss: 0.0796, ESI: 14\n",
      "Epoch 410: Train Accuracy: 0.9670, Validation Accuracy: 0.9448, Validation Loss: 0.1404, ESI: 15\n",
      "Epoch 411: Train Accuracy: 0.9640, Validation Accuracy: 0.9439, Validation Loss: 0.1319, ESI: 16\n",
      "Epoch 412: Train Accuracy: 0.9630, Validation Accuracy: 0.9423, Validation Loss: 0.0865, ESI: 17\n",
      "Epoch 413: Train Accuracy: 0.9660, Validation Accuracy: 0.9428, Validation Loss: 0.0829, ESI: 18\n",
      "Epoch 414: Train Accuracy: 0.9650, Validation Accuracy: 0.9407, Validation Loss: 0.0669, ESI: 19\n",
      "Epoch 415: Train Accuracy: 0.9640, Validation Accuracy: 0.9434, Validation Loss: 0.1046, ESI: 20\n",
      "Epoch 416: Train Accuracy: 0.9630, Validation Accuracy: 0.9423, Validation Loss: 0.1178, ESI: 21\n",
      "Epoch 417: Train Accuracy: 0.9660, Validation Accuracy: 0.9421, Validation Loss: 0.0657, ESI: 22\n",
      "Epoch 418: Train Accuracy: 0.9680, Validation Accuracy: 0.9444, Validation Loss: 0.0797, ESI: 23\n",
      "Epoch 419: Train Accuracy: 0.9680, Validation Accuracy: 0.9430, Validation Loss: 0.0677, ESI: 24\n",
      "Epoch 420: Train Accuracy: 0.9690, Validation Accuracy: 0.9467, Validation Loss: 0.1404, ESI: 25\n",
      "Epoch 421: Train Accuracy: 0.9650, Validation Accuracy: 0.9423, Validation Loss: 0.0713, ESI: 0\n",
      "Epoch 422: Train Accuracy: 0.9590, Validation Accuracy: 0.9393, Validation Loss: 0.0692, ESI: 1\n",
      "Epoch 423: Train Accuracy: 0.9660, Validation Accuracy: 0.9448, Validation Loss: 0.0757, ESI: 2\n",
      "Epoch 424: Train Accuracy: 0.9640, Validation Accuracy: 0.9434, Validation Loss: 0.1613, ESI: 3\n",
      "Epoch 425: Train Accuracy: 0.9690, Validation Accuracy: 0.9448, Validation Loss: 0.0881, ESI: 4\n",
      "Epoch 426: Train Accuracy: 0.9680, Validation Accuracy: 0.9423, Validation Loss: 0.0899, ESI: 5\n",
      "Epoch 427: Train Accuracy: 0.9670, Validation Accuracy: 0.9444, Validation Loss: 0.1639, ESI: 6\n"
     ]
    },
    {
     "name": "stdout",
     "output_type": "stream",
     "text": [
      "Epoch 428: Train Accuracy: 0.9630, Validation Accuracy: 0.9418, Validation Loss: 0.0537, ESI: 7\n",
      "Epoch 429: Train Accuracy: 0.9530, Validation Accuracy: 0.9384, Validation Loss: 0.0621, ESI: 8\n",
      "Epoch 430: Train Accuracy: 0.9530, Validation Accuracy: 0.9381, Validation Loss: 0.0876, ESI: 9\n",
      "Epoch 431: Train Accuracy: 0.9630, Validation Accuracy: 0.9379, Validation Loss: 0.0681, ESI: 10\n",
      "Epoch 432: Train Accuracy: 0.9610, Validation Accuracy: 0.9423, Validation Loss: 0.0923, ESI: 11\n",
      "Epoch 433: Train Accuracy: 0.9570, Validation Accuracy: 0.9404, Validation Loss: 0.0857, ESI: 12\n",
      "Epoch 434: Train Accuracy: 0.9560, Validation Accuracy: 0.9372, Validation Loss: 0.0974, ESI: 13\n",
      "Epoch 435: Train Accuracy: 0.9620, Validation Accuracy: 0.9409, Validation Loss: 0.0724, ESI: 14\n",
      "Epoch 436: Train Accuracy: 0.9670, Validation Accuracy: 0.9439, Validation Loss: 0.0638, ESI: 15\n",
      "Epoch 437: Train Accuracy: 0.9660, Validation Accuracy: 0.9446, Validation Loss: 0.1448, ESI: 16\n",
      "Epoch 438: Train Accuracy: 0.9630, Validation Accuracy: 0.9395, Validation Loss: 0.0491, ESI: 17\n",
      "Epoch 439: Train Accuracy: 0.9710, Validation Accuracy: 0.9439, Validation Loss: 0.0873, ESI: 18\n",
      "Epoch 440: Train Accuracy: 0.9590, Validation Accuracy: 0.9416, Validation Loss: 0.0733, ESI: 19\n",
      "Epoch 441: Train Accuracy: 0.9710, Validation Accuracy: 0.9428, Validation Loss: 0.0804, ESI: 20\n",
      "Epoch 442: Train Accuracy: 0.9610, Validation Accuracy: 0.9372, Validation Loss: 0.0576, ESI: 21\n",
      "Epoch 443: Train Accuracy: 0.9620, Validation Accuracy: 0.9409, Validation Loss: 0.1021, ESI: 22\n",
      "Epoch 444: Train Accuracy: 0.9550, Validation Accuracy: 0.9374, Validation Loss: 0.0411, ESI: 23\n",
      "Epoch 445: Train Accuracy: 0.9630, Validation Accuracy: 0.9464, Validation Loss: 0.2007, ESI: 24\n",
      "Epoch 446: Train Accuracy: 0.9630, Validation Accuracy: 0.9418, Validation Loss: 0.0818, ESI: 25\n",
      "Epoch 447: Train Accuracy: 0.9690, Validation Accuracy: 0.9481, Validation Loss: 0.1136, ESI: 26\n",
      "Epoch 448: Train Accuracy: 0.9650, Validation Accuracy: 0.9455, Validation Loss: 0.0701, ESI: 0\n",
      "Epoch 449: Train Accuracy: 0.9610, Validation Accuracy: 0.9391, Validation Loss: 0.0615, ESI: 1\n",
      "Epoch 450: Train Accuracy: 0.9650, Validation Accuracy: 0.9476, Validation Loss: 0.1238, ESI: 2\n",
      "Epoch 451: Train Accuracy: 0.9600, Validation Accuracy: 0.9404, Validation Loss: 0.0680, ESI: 3\n",
      "Epoch 452: Train Accuracy: 0.9600, Validation Accuracy: 0.9402, Validation Loss: 0.1501, ESI: 4\n",
      "Epoch 453: Train Accuracy: 0.9670, Validation Accuracy: 0.9434, Validation Loss: 0.0821, ESI: 5\n",
      "Epoch 454: Train Accuracy: 0.9640, Validation Accuracy: 0.9428, Validation Loss: 0.0600, ESI: 6\n",
      "Epoch 455: Train Accuracy: 0.9630, Validation Accuracy: 0.9421, Validation Loss: 0.0546, ESI: 7\n",
      "Epoch 456: Train Accuracy: 0.9670, Validation Accuracy: 0.9432, Validation Loss: 0.0856, ESI: 8\n",
      "Epoch 457: Train Accuracy: 0.9640, Validation Accuracy: 0.9402, Validation Loss: 0.0715, ESI: 9\n",
      "Epoch 458: Train Accuracy: 0.9520, Validation Accuracy: 0.9374, Validation Loss: 0.0321, ESI: 10\n",
      "Epoch 459: Train Accuracy: 0.9700, Validation Accuracy: 0.9492, Validation Loss: 0.0795, ESI: 11\n",
      "Epoch 460: Train Accuracy: 0.9640, Validation Accuracy: 0.9451, Validation Loss: 0.1287, ESI: 0\n",
      "Epoch 461: Train Accuracy: 0.9640, Validation Accuracy: 0.9441, Validation Loss: 0.0487, ESI: 1\n",
      "Epoch 462: Train Accuracy: 0.9620, Validation Accuracy: 0.9411, Validation Loss: 0.0737, ESI: 2\n",
      "Epoch 463: Train Accuracy: 0.9650, Validation Accuracy: 0.9423, Validation Loss: 0.0368, ESI: 3\n",
      "Epoch 464: Train Accuracy: 0.9680, Validation Accuracy: 0.9481, Validation Loss: 0.0655, ESI: 4\n",
      "Epoch 465: Train Accuracy: 0.9690, Validation Accuracy: 0.9464, Validation Loss: 0.0708, ESI: 5\n",
      "Epoch 466: Train Accuracy: 0.9650, Validation Accuracy: 0.9446, Validation Loss: 0.0436, ESI: 6\n",
      "Epoch 467: Train Accuracy: 0.9660, Validation Accuracy: 0.9476, Validation Loss: 0.0858, ESI: 7\n",
      "Epoch 468: Train Accuracy: 0.9640, Validation Accuracy: 0.9391, Validation Loss: 0.0544, ESI: 8\n",
      "Epoch 469: Train Accuracy: 0.9630, Validation Accuracy: 0.9409, Validation Loss: 0.0432, ESI: 9\n",
      "Epoch 470: Train Accuracy: 0.9610, Validation Accuracy: 0.9367, Validation Loss: 0.0765, ESI: 10\n",
      "Epoch 471: Train Accuracy: 0.9670, Validation Accuracy: 0.9437, Validation Loss: 0.0777, ESI: 11\n",
      "Epoch 472: Train Accuracy: 0.9660, Validation Accuracy: 0.9441, Validation Loss: 0.0709, ESI: 12\n",
      "Epoch 473: Train Accuracy: 0.9750, Validation Accuracy: 0.9469, Validation Loss: 0.1061, ESI: 13\n",
      "Epoch 474: Train Accuracy: 0.9680, Validation Accuracy: 0.9428, Validation Loss: 0.0578, ESI: 14\n",
      "Epoch 475: Train Accuracy: 0.9620, Validation Accuracy: 0.9344, Validation Loss: 0.0294, ESI: 15\n",
      "Epoch 476: Train Accuracy: 0.9680, Validation Accuracy: 0.9481, Validation Loss: 0.1893, ESI: 16\n",
      "Epoch 477: Train Accuracy: 0.9630, Validation Accuracy: 0.9464, Validation Loss: 0.0910, ESI: 17\n",
      "Epoch 478: Train Accuracy: 0.9640, Validation Accuracy: 0.9434, Validation Loss: 0.0637, ESI: 18\n",
      "Epoch 479: Train Accuracy: 0.9670, Validation Accuracy: 0.9434, Validation Loss: 0.0572, ESI: 19\n",
      "Epoch 480: Train Accuracy: 0.9600, Validation Accuracy: 0.9437, Validation Loss: 0.1702, ESI: 20\n",
      "Epoch 481: Train Accuracy: 0.9600, Validation Accuracy: 0.9451, Validation Loss: 0.0747, ESI: 21\n",
      "Epoch 482: Train Accuracy: 0.9610, Validation Accuracy: 0.9439, Validation Loss: 0.1081, ESI: 22\n",
      "Epoch 483: Train Accuracy: 0.9740, Validation Accuracy: 0.9485, Validation Loss: 0.1466, ESI: 23\n",
      "Epoch 484: Train Accuracy: 0.9680, Validation Accuracy: 0.9462, Validation Loss: 0.0366, ESI: 24\n",
      "Epoch 485: Train Accuracy: 0.9660, Validation Accuracy: 0.9469, Validation Loss: 0.0813, ESI: 25\n",
      "Epoch 486: Train Accuracy: 0.9690, Validation Accuracy: 0.9474, Validation Loss: 0.0541, ESI: 26\n",
      "Epoch 487: Train Accuracy: 0.9690, Validation Accuracy: 0.9483, Validation Loss: 0.0504, ESI: 27\n",
      "Epoch 488: Train Accuracy: 0.9640, Validation Accuracy: 0.9460, Validation Loss: 0.0487, ESI: 28\n",
      "Epoch 489: Train Accuracy: 0.9680, Validation Accuracy: 0.9474, Validation Loss: 0.0821, ESI: 29\n",
      "Epoch 490: Train Accuracy: 0.9650, Validation Accuracy: 0.9460, Validation Loss: 0.0530, ESI: 30\n",
      "Epoch 491: Train Accuracy: 0.9730, Validation Accuracy: 0.9488, Validation Loss: 0.0740, ESI: 31\n",
      "Epoch 492: Train Accuracy: 0.9660, Validation Accuracy: 0.9471, Validation Loss: 0.0941, ESI: 32\n",
      "Epoch 493: Train Accuracy: 0.9660, Validation Accuracy: 0.9467, Validation Loss: 0.0779, ESI: 33\n",
      "Epoch 494: Train Accuracy: 0.9640, Validation Accuracy: 0.9428, Validation Loss: 0.1089, ESI: 34\n",
      "Epoch 495: Train Accuracy: 0.9680, Validation Accuracy: 0.9444, Validation Loss: 0.0510, ESI: 35\n",
      "Epoch 496: Train Accuracy: 0.9600, Validation Accuracy: 0.9446, Validation Loss: 0.0783, ESI: 36\n",
      "Epoch 497: Train Accuracy: 0.9660, Validation Accuracy: 0.9423, Validation Loss: 0.0556, ESI: 37\n",
      "Epoch 498: Train Accuracy: 0.9620, Validation Accuracy: 0.9439, Validation Loss: 0.0995, ESI: 38\n",
      "Epoch 499: Train Accuracy: 0.9610, Validation Accuracy: 0.9423, Validation Loss: 0.0545, ESI: 39\n",
      "Epoch 500: Train Accuracy: 0.9610, Validation Accuracy: 0.9451, Validation Loss: 0.0871, ESI: 40\n",
      "Epoch 501: Train Accuracy: 0.9660, Validation Accuracy: 0.9458, Validation Loss: 0.0740, ESI: 41\n",
      "Epoch 502: Train Accuracy: 0.9600, Validation Accuracy: 0.9434, Validation Loss: 0.0626, ESI: 42\n",
      "Epoch 503: Train Accuracy: 0.9650, Validation Accuracy: 0.9439, Validation Loss: 0.0592, ESI: 43\n",
      "Epoch 504: Train Accuracy: 0.9740, Validation Accuracy: 0.9476, Validation Loss: 0.0424, ESI: 44\n",
      "Epoch 505: Train Accuracy: 0.9580, Validation Accuracy: 0.9398, Validation Loss: 0.0588, ESI: 45\n",
      "Epoch 506: Train Accuracy: 0.9750, Validation Accuracy: 0.9485, Validation Loss: 0.0417, ESI: 46\n",
      "Epoch 507: Train Accuracy: 0.9700, Validation Accuracy: 0.9471, Validation Loss: 0.0601, ESI: 47\n",
      "Epoch 508: Train Accuracy: 0.9680, Validation Accuracy: 0.9471, Validation Loss: 0.0379, ESI: 48\n",
      "Epoch 509: Train Accuracy: 0.9660, Validation Accuracy: 0.9434, Validation Loss: 0.0536, ESI: 49\n",
      "Epoch 510: Train Accuracy: 0.9600, Validation Accuracy: 0.9418, Validation Loss: 0.0475, ESI: 50\n",
      "Epoch 511: Train Accuracy: 0.9710, Validation Accuracy: 0.9476, Validation Loss: 0.1168, ESI: 51\n",
      "Epoch 512: Train Accuracy: 0.9640, Validation Accuracy: 0.9437, Validation Loss: 0.0611, ESI: 52\n"
     ]
    },
    {
     "name": "stdout",
     "output_type": "stream",
     "text": [
      "Epoch 513: Train Accuracy: 0.9730, Validation Accuracy: 0.9497, Validation Loss: 0.0535, ESI: 53\n",
      "Epoch 514: Train Accuracy: 0.9620, Validation Accuracy: 0.9407, Validation Loss: 0.0397, ESI: 0\n",
      "Epoch 515: Train Accuracy: 0.9640, Validation Accuracy: 0.9409, Validation Loss: 0.0419, ESI: 1\n",
      "Epoch 516: Train Accuracy: 0.9590, Validation Accuracy: 0.9428, Validation Loss: 0.0663, ESI: 2\n",
      "Epoch 517: Train Accuracy: 0.9670, Validation Accuracy: 0.9441, Validation Loss: 0.0323, ESI: 3\n",
      "Epoch 518: Train Accuracy: 0.9750, Validation Accuracy: 0.9518, Validation Loss: 0.0722, ESI: 4\n",
      "Epoch 519: Train Accuracy: 0.9740, Validation Accuracy: 0.9471, Validation Loss: 0.0759, ESI: 0\n",
      "Epoch 520: Train Accuracy: 0.9710, Validation Accuracy: 0.9481, Validation Loss: 0.0607, ESI: 1\n",
      "Epoch 521: Train Accuracy: 0.9720, Validation Accuracy: 0.9485, Validation Loss: 0.0859, ESI: 2\n",
      "Epoch 522: Train Accuracy: 0.9680, Validation Accuracy: 0.9469, Validation Loss: 0.0466, ESI: 3\n",
      "Epoch 523: Train Accuracy: 0.9640, Validation Accuracy: 0.9453, Validation Loss: 0.0361, ESI: 4\n",
      "Epoch 524: Train Accuracy: 0.9680, Validation Accuracy: 0.9501, Validation Loss: 0.0623, ESI: 5\n",
      "Epoch 525: Train Accuracy: 0.9710, Validation Accuracy: 0.9485, Validation Loss: 0.0478, ESI: 6\n",
      "Epoch 526: Train Accuracy: 0.9710, Validation Accuracy: 0.9483, Validation Loss: 0.0580, ESI: 7\n",
      "Epoch 527: Train Accuracy: 0.9680, Validation Accuracy: 0.9458, Validation Loss: 0.0366, ESI: 8\n",
      "Epoch 528: Train Accuracy: 0.9750, Validation Accuracy: 0.9520, Validation Loss: 0.1128, ESI: 9\n",
      "Epoch 529: Train Accuracy: 0.9680, Validation Accuracy: 0.9476, Validation Loss: 0.0428, ESI: 0\n",
      "Epoch 530: Train Accuracy: 0.9670, Validation Accuracy: 0.9476, Validation Loss: 0.0778, ESI: 1\n",
      "Epoch 531: Train Accuracy: 0.9650, Validation Accuracy: 0.9460, Validation Loss: 0.0486, ESI: 2\n",
      "Epoch 532: Train Accuracy: 0.9640, Validation Accuracy: 0.9469, Validation Loss: 0.0889, ESI: 3\n",
      "Epoch 533: Train Accuracy: 0.9740, Validation Accuracy: 0.9478, Validation Loss: 0.0485, ESI: 4\n",
      "Epoch 534: Train Accuracy: 0.9720, Validation Accuracy: 0.9518, Validation Loss: 0.0568, ESI: 5\n",
      "Epoch 535: Train Accuracy: 0.9740, Validation Accuracy: 0.9504, Validation Loss: 0.1562, ESI: 6\n",
      "Epoch 536: Train Accuracy: 0.9710, Validation Accuracy: 0.9467, Validation Loss: 0.1019, ESI: 7\n",
      "Epoch 537: Train Accuracy: 0.9670, Validation Accuracy: 0.9455, Validation Loss: 0.0485, ESI: 8\n",
      "Epoch 538: Train Accuracy: 0.9730, Validation Accuracy: 0.9504, Validation Loss: 0.0767, ESI: 9\n",
      "Epoch 539: Train Accuracy: 0.9610, Validation Accuracy: 0.9444, Validation Loss: 0.0270, ESI: 10\n",
      "Epoch 540: Train Accuracy: 0.9700, Validation Accuracy: 0.9499, Validation Loss: 0.0830, ESI: 11\n",
      "Epoch 541: Train Accuracy: 0.9700, Validation Accuracy: 0.9464, Validation Loss: 0.0417, ESI: 12\n",
      "Epoch 542: Train Accuracy: 0.9660, Validation Accuracy: 0.9439, Validation Loss: 0.0945, ESI: 13\n",
      "Epoch 543: Train Accuracy: 0.9700, Validation Accuracy: 0.9492, Validation Loss: 0.0554, ESI: 14\n",
      "Epoch 544: Train Accuracy: 0.9670, Validation Accuracy: 0.9499, Validation Loss: 0.0609, ESI: 15\n",
      "Epoch 545: Train Accuracy: 0.9710, Validation Accuracy: 0.9464, Validation Loss: 0.0408, ESI: 16\n",
      "Epoch 546: Train Accuracy: 0.9690, Validation Accuracy: 0.9506, Validation Loss: 0.0581, ESI: 17\n",
      "Epoch 547: Train Accuracy: 0.9730, Validation Accuracy: 0.9499, Validation Loss: 0.0508, ESI: 18\n",
      "Epoch 548: Train Accuracy: 0.9660, Validation Accuracy: 0.9464, Validation Loss: 0.0478, ESI: 19\n",
      "Epoch 549: Train Accuracy: 0.9690, Validation Accuracy: 0.9474, Validation Loss: 0.0288, ESI: 20\n",
      "Epoch 550: Train Accuracy: 0.9760, Validation Accuracy: 0.9520, Validation Loss: 0.0586, ESI: 21\n",
      "Epoch 551: Train Accuracy: 0.9740, Validation Accuracy: 0.9488, Validation Loss: 0.0467, ESI: 22\n",
      "Epoch 552: Train Accuracy: 0.9720, Validation Accuracy: 0.9462, Validation Loss: 0.0383, ESI: 23\n",
      "Epoch 553: Train Accuracy: 0.9700, Validation Accuracy: 0.9460, Validation Loss: 0.0381, ESI: 24\n",
      "Epoch 554: Train Accuracy: 0.9800, Validation Accuracy: 0.9531, Validation Loss: 0.0833, ESI: 25\n",
      "Epoch 555: Train Accuracy: 0.9700, Validation Accuracy: 0.9497, Validation Loss: 0.0350, ESI: 0\n",
      "Epoch 556: Train Accuracy: 0.9660, Validation Accuracy: 0.9497, Validation Loss: 0.0760, ESI: 1\n",
      "Epoch 557: Train Accuracy: 0.9690, Validation Accuracy: 0.9485, Validation Loss: 0.0445, ESI: 2\n",
      "Epoch 558: Train Accuracy: 0.9730, Validation Accuracy: 0.9499, Validation Loss: 0.0510, ESI: 3\n",
      "Epoch 559: Train Accuracy: 0.9740, Validation Accuracy: 0.9522, Validation Loss: 0.0677, ESI: 4\n",
      "Epoch 560: Train Accuracy: 0.9760, Validation Accuracy: 0.9499, Validation Loss: 0.0708, ESI: 5\n",
      "Epoch 561: Train Accuracy: 0.9690, Validation Accuracy: 0.9462, Validation Loss: 0.0384, ESI: 6\n",
      "Epoch 562: Train Accuracy: 0.9730, Validation Accuracy: 0.9488, Validation Loss: 0.0398, ESI: 7\n",
      "Epoch 563: Train Accuracy: 0.9770, Validation Accuracy: 0.9504, Validation Loss: 0.0351, ESI: 8\n",
      "Epoch 564: Train Accuracy: 0.9650, Validation Accuracy: 0.9458, Validation Loss: 0.0235, ESI: 9\n",
      "Epoch 565: Train Accuracy: 0.9660, Validation Accuracy: 0.9474, Validation Loss: 0.0683, ESI: 10\n",
      "Epoch 566: Train Accuracy: 0.9720, Validation Accuracy: 0.9476, Validation Loss: 0.0237, ESI: 11\n",
      "Epoch 567: Train Accuracy: 0.9770, Validation Accuracy: 0.9494, Validation Loss: 0.0308, ESI: 12\n",
      "Epoch 568: Train Accuracy: 0.9740, Validation Accuracy: 0.9520, Validation Loss: 0.0431, ESI: 13\n",
      "Epoch 569: Train Accuracy: 0.9680, Validation Accuracy: 0.9467, Validation Loss: 0.0646, ESI: 14\n",
      "Epoch 570: Train Accuracy: 0.9740, Validation Accuracy: 0.9520, Validation Loss: 0.1306, ESI: 15\n",
      "Epoch 571: Train Accuracy: 0.9680, Validation Accuracy: 0.9478, Validation Loss: 0.0424, ESI: 16\n",
      "Epoch 572: Train Accuracy: 0.9700, Validation Accuracy: 0.9501, Validation Loss: 0.0326, ESI: 17\n",
      "Epoch 573: Train Accuracy: 0.9710, Validation Accuracy: 0.9488, Validation Loss: 0.0334, ESI: 18\n",
      "Epoch 574: Train Accuracy: 0.9760, Validation Accuracy: 0.9494, Validation Loss: 0.0386, ESI: 19\n",
      "Epoch 575: Train Accuracy: 0.9690, Validation Accuracy: 0.9490, Validation Loss: 0.0347, ESI: 20\n",
      "Epoch 576: Train Accuracy: 0.9730, Validation Accuracy: 0.9513, Validation Loss: 0.0684, ESI: 21\n",
      "Epoch 577: Train Accuracy: 0.9680, Validation Accuracy: 0.9490, Validation Loss: 0.1167, ESI: 22\n",
      "Epoch 578: Train Accuracy: 0.9720, Validation Accuracy: 0.9469, Validation Loss: 0.0230, ESI: 23\n",
      "Epoch 579: Train Accuracy: 0.9680, Validation Accuracy: 0.9499, Validation Loss: 0.0553, ESI: 24\n",
      "Epoch 580: Train Accuracy: 0.9750, Validation Accuracy: 0.9508, Validation Loss: 0.0772, ESI: 25\n",
      "Epoch 581: Train Accuracy: 0.9720, Validation Accuracy: 0.9485, Validation Loss: 0.0432, ESI: 26\n",
      "Epoch 582: Train Accuracy: 0.9670, Validation Accuracy: 0.9458, Validation Loss: 0.0465, ESI: 27\n",
      "Epoch 583: Train Accuracy: 0.9740, Validation Accuracy: 0.9499, Validation Loss: 0.0581, ESI: 28\n",
      "Epoch 584: Train Accuracy: 0.9690, Validation Accuracy: 0.9469, Validation Loss: 0.0329, ESI: 29\n",
      "Epoch 585: Train Accuracy: 0.9710, Validation Accuracy: 0.9458, Validation Loss: 0.0297, ESI: 30\n",
      "Epoch 586: Train Accuracy: 0.9730, Validation Accuracy: 0.9518, Validation Loss: 0.0531, ESI: 31\n",
      "Epoch 587: Train Accuracy: 0.9750, Validation Accuracy: 0.9543, Validation Loss: 0.0487, ESI: 32\n",
      "Epoch 588: Train Accuracy: 0.9700, Validation Accuracy: 0.9490, Validation Loss: 0.0435, ESI: 0\n",
      "Epoch 589: Train Accuracy: 0.9690, Validation Accuracy: 0.9446, Validation Loss: 0.0188, ESI: 1\n",
      "Epoch 590: Train Accuracy: 0.9700, Validation Accuracy: 0.9501, Validation Loss: 0.0446, ESI: 2\n",
      "Epoch 591: Train Accuracy: 0.9690, Validation Accuracy: 0.9499, Validation Loss: 0.0317, ESI: 3\n",
      "Epoch 592: Train Accuracy: 0.9710, Validation Accuracy: 0.9485, Validation Loss: 0.0507, ESI: 4\n",
      "Epoch 593: Train Accuracy: 0.9710, Validation Accuracy: 0.9483, Validation Loss: 0.0199, ESI: 5\n",
      "Epoch 594: Train Accuracy: 0.9720, Validation Accuracy: 0.9490, Validation Loss: 0.0682, ESI: 6\n",
      "Epoch 595: Train Accuracy: 0.9710, Validation Accuracy: 0.9460, Validation Loss: 0.0449, ESI: 7\n",
      "Epoch 596: Train Accuracy: 0.9770, Validation Accuracy: 0.9538, Validation Loss: 0.0816, ESI: 8\n",
      "Epoch 597: Train Accuracy: 0.9760, Validation Accuracy: 0.9538, Validation Loss: 0.0898, ESI: 9\n"
     ]
    },
    {
     "name": "stdout",
     "output_type": "stream",
     "text": [
      "Epoch 598: Train Accuracy: 0.9660, Validation Accuracy: 0.9469, Validation Loss: 0.0422, ESI: 10\n",
      "Epoch 599: Train Accuracy: 0.9780, Validation Accuracy: 0.9529, Validation Loss: 0.0386, ESI: 11\n",
      "Epoch 600: Train Accuracy: 0.9730, Validation Accuracy: 0.9511, Validation Loss: 0.0463, ESI: 12\n",
      "Epoch 601: Train Accuracy: 0.9650, Validation Accuracy: 0.9444, Validation Loss: 0.0305, ESI: 13\n",
      "Epoch 602: Train Accuracy: 0.9670, Validation Accuracy: 0.9469, Validation Loss: 0.0377, ESI: 14\n",
      "Epoch 603: Train Accuracy: 0.9720, Validation Accuracy: 0.9481, Validation Loss: 0.0346, ESI: 15\n",
      "Epoch 604: Train Accuracy: 0.9750, Validation Accuracy: 0.9501, Validation Loss: 0.0790, ESI: 16\n",
      "Epoch 605: Train Accuracy: 0.9720, Validation Accuracy: 0.9492, Validation Loss: 0.0272, ESI: 17\n",
      "Epoch 606: Train Accuracy: 0.9620, Validation Accuracy: 0.9474, Validation Loss: 0.0365, ESI: 18\n",
      "Epoch 607: Train Accuracy: 0.9750, Validation Accuracy: 0.9534, Validation Loss: 0.0682, ESI: 19\n",
      "Epoch 608: Train Accuracy: 0.9580, Validation Accuracy: 0.9340, Validation Loss: 0.0216, ESI: 20\n",
      "Epoch 609: Train Accuracy: 0.9680, Validation Accuracy: 0.9501, Validation Loss: 0.0585, ESI: 21\n",
      "Epoch 610: Train Accuracy: 0.9620, Validation Accuracy: 0.9478, Validation Loss: 0.1361, ESI: 22\n",
      "Epoch 611: Train Accuracy: 0.9690, Validation Accuracy: 0.9485, Validation Loss: 0.0657, ESI: 23\n",
      "Epoch 612: Train Accuracy: 0.9680, Validation Accuracy: 0.9474, Validation Loss: 0.0327, ESI: 24\n",
      "Epoch 613: Train Accuracy: 0.9660, Validation Accuracy: 0.9485, Validation Loss: 0.0321, ESI: 25\n",
      "Epoch 614: Train Accuracy: 0.9720, Validation Accuracy: 0.9485, Validation Loss: 0.0327, ESI: 26\n",
      "Epoch 615: Train Accuracy: 0.9640, Validation Accuracy: 0.9474, Validation Loss: 0.0749, ESI: 27\n",
      "Epoch 616: Train Accuracy: 0.9710, Validation Accuracy: 0.9490, Validation Loss: 0.0299, ESI: 28\n",
      "Epoch 617: Train Accuracy: 0.9670, Validation Accuracy: 0.9478, Validation Loss: 0.0230, ESI: 29\n",
      "Epoch 618: Train Accuracy: 0.9680, Validation Accuracy: 0.9462, Validation Loss: 0.0550, ESI: 30\n",
      "Epoch 619: Train Accuracy: 0.9690, Validation Accuracy: 0.9522, Validation Loss: 0.0631, ESI: 31\n",
      "Epoch 620: Train Accuracy: 0.9770, Validation Accuracy: 0.9518, Validation Loss: 0.0304, ESI: 32\n",
      "Epoch 621: Train Accuracy: 0.9650, Validation Accuracy: 0.9455, Validation Loss: 0.0270, ESI: 33\n",
      "Epoch 622: Train Accuracy: 0.9760, Validation Accuracy: 0.9474, Validation Loss: 0.0312, ESI: 34\n",
      "Epoch 623: Train Accuracy: 0.9670, Validation Accuracy: 0.9494, Validation Loss: 0.0918, ESI: 35\n",
      "Epoch 624: Train Accuracy: 0.9640, Validation Accuracy: 0.9476, Validation Loss: 0.0415, ESI: 36\n",
      "Epoch 625: Train Accuracy: 0.9690, Validation Accuracy: 0.9497, Validation Loss: 0.0709, ESI: 37\n",
      "Epoch 626: Train Accuracy: 0.9720, Validation Accuracy: 0.9511, Validation Loss: 0.0562, ESI: 38\n",
      "Epoch 627: Train Accuracy: 0.9640, Validation Accuracy: 0.9448, Validation Loss: 0.0477, ESI: 39\n",
      "Epoch 628: Train Accuracy: 0.9760, Validation Accuracy: 0.9531, Validation Loss: 0.0692, ESI: 40\n",
      "Epoch 629: Train Accuracy: 0.9720, Validation Accuracy: 0.9515, Validation Loss: 0.0403, ESI: 41\n",
      "Epoch 630: Train Accuracy: 0.9760, Validation Accuracy: 0.9527, Validation Loss: 0.0649, ESI: 42\n",
      "Epoch 631: Train Accuracy: 0.9760, Validation Accuracy: 0.9529, Validation Loss: 0.0384, ESI: 43\n",
      "Epoch 632: Train Accuracy: 0.9640, Validation Accuracy: 0.9488, Validation Loss: 0.0492, ESI: 44\n",
      "Epoch 633: Train Accuracy: 0.9660, Validation Accuracy: 0.9474, Validation Loss: 0.0454, ESI: 45\n",
      "Epoch 634: Train Accuracy: 0.9690, Validation Accuracy: 0.9497, Validation Loss: 0.0610, ESI: 46\n",
      "Epoch 635: Train Accuracy: 0.9730, Validation Accuracy: 0.9552, Validation Loss: 0.0859, ESI: 47\n",
      "Epoch 636: Train Accuracy: 0.9670, Validation Accuracy: 0.9499, Validation Loss: 0.0709, ESI: 0\n",
      "Epoch 637: Train Accuracy: 0.9740, Validation Accuracy: 0.9488, Validation Loss: 0.0389, ESI: 1\n",
      "Epoch 638: Train Accuracy: 0.9720, Validation Accuracy: 0.9497, Validation Loss: 0.0334, ESI: 2\n",
      "Epoch 639: Train Accuracy: 0.9670, Validation Accuracy: 0.9444, Validation Loss: 0.0305, ESI: 3\n",
      "Epoch 640: Train Accuracy: 0.9730, Validation Accuracy: 0.9469, Validation Loss: 0.0501, ESI: 4\n",
      "Epoch 641: Train Accuracy: 0.9630, Validation Accuracy: 0.9453, Validation Loss: 0.0473, ESI: 5\n",
      "Epoch 642: Train Accuracy: 0.9770, Validation Accuracy: 0.9506, Validation Loss: 0.0375, ESI: 6\n",
      "Epoch 643: Train Accuracy: 0.9750, Validation Accuracy: 0.9531, Validation Loss: 0.0539, ESI: 7\n",
      "Epoch 644: Train Accuracy: 0.9700, Validation Accuracy: 0.9515, Validation Loss: 0.0350, ESI: 8\n",
      "Epoch 645: Train Accuracy: 0.9700, Validation Accuracy: 0.9469, Validation Loss: 0.0309, ESI: 9\n",
      "Epoch 646: Train Accuracy: 0.9710, Validation Accuracy: 0.9460, Validation Loss: 0.0365, ESI: 10\n",
      "Epoch 647: Train Accuracy: 0.9780, Validation Accuracy: 0.9531, Validation Loss: 0.0534, ESI: 11\n",
      "Epoch 648: Train Accuracy: 0.9790, Validation Accuracy: 0.9527, Validation Loss: 0.0331, ESI: 12\n",
      "Epoch 649: Train Accuracy: 0.9670, Validation Accuracy: 0.9467, Validation Loss: 0.0241, ESI: 13\n",
      "Epoch 650: Train Accuracy: 0.9700, Validation Accuracy: 0.9469, Validation Loss: 0.0330, ESI: 14\n",
      "Epoch 651: Train Accuracy: 0.9720, Validation Accuracy: 0.9460, Validation Loss: 0.0273, ESI: 15\n",
      "Epoch 652: Train Accuracy: 0.9750, Validation Accuracy: 0.9541, Validation Loss: 0.0515, ESI: 16\n",
      "Epoch 653: Train Accuracy: 0.9770, Validation Accuracy: 0.9513, Validation Loss: 0.0213, ESI: 17\n",
      "Epoch 654: Train Accuracy: 0.9710, Validation Accuracy: 0.9492, Validation Loss: 0.0306, ESI: 18\n",
      "Epoch 655: Train Accuracy: 0.9750, Validation Accuracy: 0.9513, Validation Loss: 0.0871, ESI: 19\n",
      "Epoch 656: Train Accuracy: 0.9740, Validation Accuracy: 0.9524, Validation Loss: 0.0495, ESI: 20\n",
      "Epoch 657: Train Accuracy: 0.9700, Validation Accuracy: 0.9494, Validation Loss: 0.0420, ESI: 21\n",
      "Epoch 658: Train Accuracy: 0.9710, Validation Accuracy: 0.9518, Validation Loss: 0.0369, ESI: 22\n",
      "Epoch 659: Train Accuracy: 0.9770, Validation Accuracy: 0.9522, Validation Loss: 0.0781, ESI: 23\n",
      "Epoch 660: Train Accuracy: 0.9690, Validation Accuracy: 0.9464, Validation Loss: 0.0392, ESI: 24\n",
      "Epoch 661: Train Accuracy: 0.9750, Validation Accuracy: 0.9513, Validation Loss: 0.0338, ESI: 25\n",
      "Epoch 662: Train Accuracy: 0.9690, Validation Accuracy: 0.9483, Validation Loss: 0.0397, ESI: 26\n",
      "Epoch 663: Train Accuracy: 0.9730, Validation Accuracy: 0.9492, Validation Loss: 0.0154, ESI: 27\n",
      "Epoch 664: Train Accuracy: 0.9720, Validation Accuracy: 0.9513, Validation Loss: 0.0317, ESI: 28\n",
      "Epoch 665: Train Accuracy: 0.9840, Validation Accuracy: 0.9568, Validation Loss: 0.0468, ESI: 29\n",
      "Epoch 666: Train Accuracy: 0.9790, Validation Accuracy: 0.9536, Validation Loss: 0.0350, ESI: 0\n",
      "Epoch 667: Train Accuracy: 0.9720, Validation Accuracy: 0.9513, Validation Loss: 0.0329, ESI: 1\n",
      "Epoch 668: Train Accuracy: 0.9690, Validation Accuracy: 0.9504, Validation Loss: 0.0214, ESI: 2\n",
      "Epoch 669: Train Accuracy: 0.9750, Validation Accuracy: 0.9541, Validation Loss: 0.0334, ESI: 3\n",
      "Epoch 670: Train Accuracy: 0.9770, Validation Accuracy: 0.9538, Validation Loss: 0.0795, ESI: 4\n",
      "Epoch 671: Train Accuracy: 0.9790, Validation Accuracy: 0.9538, Validation Loss: 0.0584, ESI: 5\n",
      "Epoch 672: Train Accuracy: 0.9780, Validation Accuracy: 0.9531, Validation Loss: 0.0543, ESI: 6\n",
      "Epoch 673: Train Accuracy: 0.9770, Validation Accuracy: 0.9541, Validation Loss: 0.0458, ESI: 7\n",
      "Epoch 674: Train Accuracy: 0.9780, Validation Accuracy: 0.9524, Validation Loss: 0.0466, ESI: 8\n",
      "Epoch 675: Train Accuracy: 0.9800, Validation Accuracy: 0.9524, Validation Loss: 0.0418, ESI: 9\n",
      "Epoch 676: Train Accuracy: 0.9790, Validation Accuracy: 0.9545, Validation Loss: 0.0458, ESI: 10\n",
      "Epoch 677: Train Accuracy: 0.9750, Validation Accuracy: 0.9518, Validation Loss: 0.0487, ESI: 11\n",
      "Epoch 678: Train Accuracy: 0.9750, Validation Accuracy: 0.9531, Validation Loss: 0.0349, ESI: 12\n",
      "Epoch 679: Train Accuracy: 0.9750, Validation Accuracy: 0.9508, Validation Loss: 0.0302, ESI: 13\n",
      "Epoch 680: Train Accuracy: 0.9780, Validation Accuracy: 0.9518, Validation Loss: 0.0450, ESI: 14\n",
      "Epoch 681: Train Accuracy: 0.9760, Validation Accuracy: 0.9538, Validation Loss: 0.0413, ESI: 15\n",
      "Epoch 682: Train Accuracy: 0.9800, Validation Accuracy: 0.9531, Validation Loss: 0.0350, ESI: 16\n"
     ]
    },
    {
     "name": "stdout",
     "output_type": "stream",
     "text": [
      "Epoch 683: Train Accuracy: 0.9750, Validation Accuracy: 0.9522, Validation Loss: 0.0364, ESI: 17\n",
      "Epoch 684: Train Accuracy: 0.9750, Validation Accuracy: 0.9506, Validation Loss: 0.0507, ESI: 18\n",
      "Epoch 685: Train Accuracy: 0.9770, Validation Accuracy: 0.9559, Validation Loss: 0.0717, ESI: 19\n",
      "Epoch 686: Train Accuracy: 0.9730, Validation Accuracy: 0.9545, Validation Loss: 0.1027, ESI: 20\n",
      "Epoch 687: Train Accuracy: 0.9760, Validation Accuracy: 0.9522, Validation Loss: 0.0460, ESI: 21\n",
      "Epoch 688: Train Accuracy: 0.9750, Validation Accuracy: 0.9504, Validation Loss: 0.0329, ESI: 22\n",
      "Epoch 689: Train Accuracy: 0.9770, Validation Accuracy: 0.9541, Validation Loss: 0.0541, ESI: 23\n",
      "Epoch 690: Train Accuracy: 0.9820, Validation Accuracy: 0.9536, Validation Loss: 0.0390, ESI: 24\n",
      "Epoch 691: Train Accuracy: 0.9790, Validation Accuracy: 0.9545, Validation Loss: 0.0719, ESI: 25\n",
      "Epoch 692: Train Accuracy: 0.9750, Validation Accuracy: 0.9524, Validation Loss: 0.0662, ESI: 26\n",
      "Epoch 693: Train Accuracy: 0.9690, Validation Accuracy: 0.9515, Validation Loss: 0.0350, ESI: 27\n",
      "Epoch 694: Train Accuracy: 0.9760, Validation Accuracy: 0.9522, Validation Loss: 0.0215, ESI: 28\n",
      "Epoch 695: Train Accuracy: 0.9730, Validation Accuracy: 0.9541, Validation Loss: 0.0586, ESI: 29\n",
      "Epoch 696: Train Accuracy: 0.9770, Validation Accuracy: 0.9557, Validation Loss: 0.0590, ESI: 30\n",
      "Epoch 697: Train Accuracy: 0.9760, Validation Accuracy: 0.9552, Validation Loss: 0.0527, ESI: 31\n",
      "Epoch 698: Train Accuracy: 0.9780, Validation Accuracy: 0.9559, Validation Loss: 0.0501, ESI: 32\n",
      "Epoch 699: Train Accuracy: 0.9770, Validation Accuracy: 0.9520, Validation Loss: 0.0507, ESI: 33\n",
      "Epoch 700: Train Accuracy: 0.9760, Validation Accuracy: 0.9541, Validation Loss: 0.0699, ESI: 34\n",
      "Epoch 701: Train Accuracy: 0.9730, Validation Accuracy: 0.9515, Validation Loss: 0.0568, ESI: 35\n",
      "Epoch 702: Train Accuracy: 0.9760, Validation Accuracy: 0.9520, Validation Loss: 0.0666, ESI: 36\n",
      "Epoch 703: Train Accuracy: 0.9760, Validation Accuracy: 0.9518, Validation Loss: 0.0366, ESI: 37\n",
      "Epoch 704: Train Accuracy: 0.9740, Validation Accuracy: 0.9497, Validation Loss: 0.0194, ESI: 38\n",
      "Epoch 705: Train Accuracy: 0.9770, Validation Accuracy: 0.9511, Validation Loss: 0.0331, ESI: 39\n",
      "Epoch 706: Train Accuracy: 0.9700, Validation Accuracy: 0.9499, Validation Loss: 0.0258, ESI: 40\n",
      "Epoch 707: Train Accuracy: 0.9750, Validation Accuracy: 0.9543, Validation Loss: 0.0468, ESI: 41\n",
      "Epoch 708: Train Accuracy: 0.9730, Validation Accuracy: 0.9508, Validation Loss: 0.0697, ESI: 42\n",
      "Epoch 709: Train Accuracy: 0.9740, Validation Accuracy: 0.9531, Validation Loss: 0.0624, ESI: 43\n"
     ]
    },
    {
     "ename": "KeyboardInterrupt",
     "evalue": "",
     "output_type": "error",
     "traceback": [
      "\u001b[1;31m---------------------------------------------------------------------------\u001b[0m",
      "\u001b[1;31mKeyboardInterrupt\u001b[0m                         Traceback (most recent call last)",
      "\u001b[1;32m<ipython-input-38-672a6bc189c5>\u001b[0m in \u001b[0;36m<module>\u001b[1;34m()\u001b[0m\n\u001b[0;32m     13\u001b[0m                                            \u001b[0my\u001b[0m\u001b[1;33m:\u001b[0m \u001b[0mbatch_labels\u001b[0m\u001b[1;33m,\u001b[0m\u001b[1;33m\u001b[0m\u001b[0m\n\u001b[0;32m     14\u001b[0m                                            \u001b[0mlearn_rate\u001b[0m\u001b[1;33m:\u001b[0m \u001b[0mlearning_rate\u001b[0m\u001b[1;33m,\u001b[0m\u001b[1;33m\u001b[0m\u001b[0m\n\u001b[1;32m---> 15\u001b[1;33m                                            keep_prob: keep_probability})\n\u001b[0m\u001b[0;32m     16\u001b[0m         \u001b[1;32mif\u001b[0m \u001b[0mepoch\u001b[0m \u001b[1;33m%\u001b[0m \u001b[1;36m1\u001b[0m \u001b[1;33m==\u001b[0m \u001b[1;36m0\u001b[0m\u001b[1;33m:\u001b[0m\u001b[1;33m\u001b[0m\u001b[0m\n\u001b[0;32m     17\u001b[0m             \u001b[0mprint\u001b[0m\u001b[1;33m(\u001b[0m\u001b[1;34m'Epoch {}: '\u001b[0m\u001b[1;33m.\u001b[0m\u001b[0mformat\u001b[0m\u001b[1;33m(\u001b[0m\u001b[0mepoch\u001b[0m\u001b[1;33m)\u001b[0m\u001b[1;33m,\u001b[0m \u001b[0mend\u001b[0m\u001b[1;33m=\u001b[0m\u001b[1;34m''\u001b[0m\u001b[1;33m)\u001b[0m\u001b[1;33m\u001b[0m\u001b[0m\n",
      "\u001b[1;32m~\\AppData\\Local\\conda\\conda\\envs\\tfgpu1.1\\lib\\site-packages\\tensorflow\\python\\client\\session.py\u001b[0m in \u001b[0;36mrun\u001b[1;34m(self, fetches, feed_dict, options, run_metadata)\u001b[0m\n\u001b[0;32m    776\u001b[0m     \u001b[1;32mtry\u001b[0m\u001b[1;33m:\u001b[0m\u001b[1;33m\u001b[0m\u001b[0m\n\u001b[0;32m    777\u001b[0m       result = self._run(None, fetches, feed_dict, options_ptr,\n\u001b[1;32m--> 778\u001b[1;33m                          run_metadata_ptr)\n\u001b[0m\u001b[0;32m    779\u001b[0m       \u001b[1;32mif\u001b[0m \u001b[0mrun_metadata\u001b[0m\u001b[1;33m:\u001b[0m\u001b[1;33m\u001b[0m\u001b[0m\n\u001b[0;32m    780\u001b[0m         \u001b[0mproto_data\u001b[0m \u001b[1;33m=\u001b[0m \u001b[0mtf_session\u001b[0m\u001b[1;33m.\u001b[0m\u001b[0mTF_GetBuffer\u001b[0m\u001b[1;33m(\u001b[0m\u001b[0mrun_metadata_ptr\u001b[0m\u001b[1;33m)\u001b[0m\u001b[1;33m\u001b[0m\u001b[0m\n",
      "\u001b[1;32m~\\AppData\\Local\\conda\\conda\\envs\\tfgpu1.1\\lib\\site-packages\\tensorflow\\python\\client\\session.py\u001b[0m in \u001b[0;36m_run\u001b[1;34m(self, handle, fetches, feed_dict, options, run_metadata)\u001b[0m\n\u001b[0;32m    980\u001b[0m     \u001b[1;32mif\u001b[0m \u001b[0mfinal_fetches\u001b[0m \u001b[1;32mor\u001b[0m \u001b[0mfinal_targets\u001b[0m\u001b[1;33m:\u001b[0m\u001b[1;33m\u001b[0m\u001b[0m\n\u001b[0;32m    981\u001b[0m       results = self._do_run(handle, final_targets, final_fetches,\n\u001b[1;32m--> 982\u001b[1;33m                              feed_dict_string, options, run_metadata)\n\u001b[0m\u001b[0;32m    983\u001b[0m     \u001b[1;32melse\u001b[0m\u001b[1;33m:\u001b[0m\u001b[1;33m\u001b[0m\u001b[0m\n\u001b[0;32m    984\u001b[0m       \u001b[0mresults\u001b[0m \u001b[1;33m=\u001b[0m \u001b[1;33m[\u001b[0m\u001b[1;33m]\u001b[0m\u001b[1;33m\u001b[0m\u001b[0m\n",
      "\u001b[1;32m~\\AppData\\Local\\conda\\conda\\envs\\tfgpu1.1\\lib\\site-packages\\tensorflow\\python\\client\\session.py\u001b[0m in \u001b[0;36m_do_run\u001b[1;34m(self, handle, target_list, fetch_list, feed_dict, options, run_metadata)\u001b[0m\n\u001b[0;32m   1030\u001b[0m     \u001b[1;32mif\u001b[0m \u001b[0mhandle\u001b[0m \u001b[1;32mis\u001b[0m \u001b[1;32mNone\u001b[0m\u001b[1;33m:\u001b[0m\u001b[1;33m\u001b[0m\u001b[0m\n\u001b[0;32m   1031\u001b[0m       return self._do_call(_run_fn, self._session, feed_dict, fetch_list,\n\u001b[1;32m-> 1032\u001b[1;33m                            target_list, options, run_metadata)\n\u001b[0m\u001b[0;32m   1033\u001b[0m     \u001b[1;32melse\u001b[0m\u001b[1;33m:\u001b[0m\u001b[1;33m\u001b[0m\u001b[0m\n\u001b[0;32m   1034\u001b[0m       return self._do_call(_prun_fn, self._session, handle, feed_dict,\n",
      "\u001b[1;32m~\\AppData\\Local\\conda\\conda\\envs\\tfgpu1.1\\lib\\site-packages\\tensorflow\\python\\client\\session.py\u001b[0m in \u001b[0;36m_do_call\u001b[1;34m(self, fn, *args)\u001b[0m\n\u001b[0;32m   1037\u001b[0m   \u001b[1;32mdef\u001b[0m \u001b[0m_do_call\u001b[0m\u001b[1;33m(\u001b[0m\u001b[0mself\u001b[0m\u001b[1;33m,\u001b[0m \u001b[0mfn\u001b[0m\u001b[1;33m,\u001b[0m \u001b[1;33m*\u001b[0m\u001b[0margs\u001b[0m\u001b[1;33m)\u001b[0m\u001b[1;33m:\u001b[0m\u001b[1;33m\u001b[0m\u001b[0m\n\u001b[0;32m   1038\u001b[0m     \u001b[1;32mtry\u001b[0m\u001b[1;33m:\u001b[0m\u001b[1;33m\u001b[0m\u001b[0m\n\u001b[1;32m-> 1039\u001b[1;33m       \u001b[1;32mreturn\u001b[0m \u001b[0mfn\u001b[0m\u001b[1;33m(\u001b[0m\u001b[1;33m*\u001b[0m\u001b[0margs\u001b[0m\u001b[1;33m)\u001b[0m\u001b[1;33m\u001b[0m\u001b[0m\n\u001b[0m\u001b[0;32m   1040\u001b[0m     \u001b[1;32mexcept\u001b[0m \u001b[0merrors\u001b[0m\u001b[1;33m.\u001b[0m\u001b[0mOpError\u001b[0m \u001b[1;32mas\u001b[0m \u001b[0me\u001b[0m\u001b[1;33m:\u001b[0m\u001b[1;33m\u001b[0m\u001b[0m\n\u001b[0;32m   1041\u001b[0m       \u001b[0mmessage\u001b[0m \u001b[1;33m=\u001b[0m \u001b[0mcompat\u001b[0m\u001b[1;33m.\u001b[0m\u001b[0mas_text\u001b[0m\u001b[1;33m(\u001b[0m\u001b[0me\u001b[0m\u001b[1;33m.\u001b[0m\u001b[0mmessage\u001b[0m\u001b[1;33m)\u001b[0m\u001b[1;33m\u001b[0m\u001b[0m\n",
      "\u001b[1;32m~\\AppData\\Local\\conda\\conda\\envs\\tfgpu1.1\\lib\\site-packages\\tensorflow\\python\\client\\session.py\u001b[0m in \u001b[0;36m_run_fn\u001b[1;34m(session, feed_dict, fetch_list, target_list, options, run_metadata)\u001b[0m\n\u001b[0;32m   1019\u001b[0m         return tf_session.TF_Run(session, options,\n\u001b[0;32m   1020\u001b[0m                                  \u001b[0mfeed_dict\u001b[0m\u001b[1;33m,\u001b[0m \u001b[0mfetch_list\u001b[0m\u001b[1;33m,\u001b[0m \u001b[0mtarget_list\u001b[0m\u001b[1;33m,\u001b[0m\u001b[1;33m\u001b[0m\u001b[0m\n\u001b[1;32m-> 1021\u001b[1;33m                                  status, run_metadata)\n\u001b[0m\u001b[0;32m   1022\u001b[0m \u001b[1;33m\u001b[0m\u001b[0m\n\u001b[0;32m   1023\u001b[0m     \u001b[1;32mdef\u001b[0m \u001b[0m_prun_fn\u001b[0m\u001b[1;33m(\u001b[0m\u001b[0msession\u001b[0m\u001b[1;33m,\u001b[0m \u001b[0mhandle\u001b[0m\u001b[1;33m,\u001b[0m \u001b[0mfeed_dict\u001b[0m\u001b[1;33m,\u001b[0m \u001b[0mfetch_list\u001b[0m\u001b[1;33m)\u001b[0m\u001b[1;33m:\u001b[0m\u001b[1;33m\u001b[0m\u001b[0m\n",
      "\u001b[1;31mKeyboardInterrupt\u001b[0m: "
     ]
    }
   ],
   "source": [
    "max_validation_accuracy = 0.0\n",
    "epochs_since_improvement = 0\n",
    "saver = tf.train.Saver()\n",
    "with tf.Session() as sess:\n",
    "    # Initialize the variables\n",
    "    sess.run(tf.global_variables_initializer())\n",
    "    \n",
    "    # Training cycle\n",
    "    for epoch in range(epochs):\n",
    "        # Loop over all batches\n",
    "        for batch_features, batch_labels in get_batches(train_features, train_labels, batch_size):\n",
    "            sess.run(optimizer, feed_dict={x: batch_features, \n",
    "                                           y: batch_labels, \n",
    "                                           learn_rate: learning_rate, \n",
    "                                           keep_prob: keep_probability})\n",
    "        if epoch % 1 == 0:\n",
    "            print('Epoch {}: '.format(epoch), end='')\n",
    "            validation_accuracy = print_stats(sess, batch_features, batch_labels, cost, accuracy, epochs_since_improvement)         \n",
    "        \n",
    "            if validation_accuracy > max_validation_accuracy:\n",
    "                max_validation_accuracy = validation_accuracy\n",
    "                epochs_since_improvement = 0\n",
    "                saver.save(sess, \"checkpoints/model.ckpt\")\n",
    "            else:\n",
    "                epochs_since_improvement += 1"
   ]
  },
  {
   "cell_type": "markdown",
   "metadata": {},
   "source": [
    "# Test Set Accuracy"
   ]
  },
  {
   "cell_type": "code",
   "execution_count": 4,
   "metadata": {},
   "outputs": [
    {
     "name": "stdout",
     "output_type": "stream",
     "text": [
      "INFO:tensorflow:Restoring parameters from checkpoints\\model.ckpt\n"
     ]
    },
    {
     "ename": "NameError",
     "evalue": "name 'test_features' is not defined",
     "output_type": "error",
     "traceback": [
      "\u001b[1;31m---------------------------------------------------------------------------\u001b[0m",
      "\u001b[1;31mNameError\u001b[0m                                 Traceback (most recent call last)",
      "\u001b[1;32m<ipython-input-4-9cd89f7ec555>\u001b[0m in \u001b[0;36m<module>\u001b[1;34m()\u001b[0m\n\u001b[0;32m     10\u001b[0m     \u001b[0maccuracy\u001b[0m \u001b[1;33m=\u001b[0m \u001b[0mgraph\u001b[0m\u001b[1;33m.\u001b[0m\u001b[0mget_tensor_by_name\u001b[0m\u001b[1;33m(\u001b[0m\u001b[1;34m\"Accuracy/accuracy:0\"\u001b[0m\u001b[1;33m)\u001b[0m\u001b[1;33m\u001b[0m\u001b[0m\n\u001b[0;32m     11\u001b[0m \u001b[1;33m\u001b[0m\u001b[0m\n\u001b[1;32m---> 12\u001b[1;33m     \u001b[0mtest_accuracy\u001b[0m \u001b[1;33m=\u001b[0m \u001b[0msess\u001b[0m\u001b[1;33m.\u001b[0m\u001b[0mrun\u001b[0m\u001b[1;33m(\u001b[0m\u001b[0maccuracy\u001b[0m\u001b[1;33m,\u001b[0m \u001b[0mfeed_dict\u001b[0m\u001b[1;33m=\u001b[0m\u001b[1;33m{\u001b[0m\u001b[0mx\u001b[0m\u001b[1;33m:\u001b[0m \u001b[0mtest_features\u001b[0m\u001b[1;33m,\u001b[0m \u001b[0my\u001b[0m\u001b[1;33m:\u001b[0m \u001b[0mtest_labels\u001b[0m\u001b[1;33m,\u001b[0m \u001b[0mkeep_prob\u001b[0m\u001b[1;33m:\u001b[0m \u001b[1;36m1.0\u001b[0m\u001b[1;33m}\u001b[0m\u001b[1;33m)\u001b[0m\u001b[1;33m\u001b[0m\u001b[0m\n\u001b[0m\u001b[0;32m     13\u001b[0m     \u001b[0mprint\u001b[0m\u001b[1;33m(\u001b[0m\u001b[1;34m\"Test Accuracy: {0:0.3f}\"\u001b[0m\u001b[1;33m.\u001b[0m\u001b[0mformat\u001b[0m\u001b[1;33m(\u001b[0m\u001b[0mtest_accuracy\u001b[0m\u001b[1;33m)\u001b[0m\u001b[1;33m)\u001b[0m\u001b[1;33m\u001b[0m\u001b[0m\n\u001b[0;32m     14\u001b[0m \u001b[1;33m\u001b[0m\u001b[0m\n",
      "\u001b[1;31mNameError\u001b[0m: name 'test_features' is not defined"
     ]
    }
   ],
   "source": [
    "loader = tf.train.import_meta_graph('checkpoints/model.ckpt.meta')\n",
    "with tf.Session() as sess:\n",
    "    loader.restore(sess, tf.train.latest_checkpoint('checkpoints'))\n",
    "    \n",
    "    graph = tf.get_default_graph()\n",
    "    \n",
    "    x = graph.get_tensor_by_name(\"Inputs/inputs:0\")\n",
    "    y = graph.get_tensor_by_name(\"Targets/labels:0\")\n",
    "    keep_prob = graph.get_tensor_by_name(\"keep_probability:0\")\n",
    "    accuracy = graph.get_tensor_by_name(\"Accuracy/accuracy:0\")\n",
    "    \n",
    "    test_accuracy = sess.run(accuracy, feed_dict={x: test_features, y: test_labels, keep_prob: 1.0})\n",
    "    print(\"Test Accuracy: {0:0.3f}\".format(test_accuracy))\n",
    "        "
   ]
  },
  {
   "cell_type": "markdown",
   "metadata": {
    "collapsed": true
   },
   "source": [
    "# Test Model"
   ]
  },
  {
   "cell_type": "code",
   "execution_count": 4,
   "metadata": {
    "collapsed": true
   },
   "outputs": [],
   "source": [
    "test_set = pd.read_pickle(os.path.join(dataset_dir, \"test_set.pkl\"))\n",
    "min_thresh_keys = pickle.load(open(os.path.join(dataset_dir, \"key_classes.p\"), \"rb\"))\n",
    "test_set = test_set[test_set['key'].isin(min_thresh_keys)] # Filter dataframe to only include keys > threshold\n",
    "data_width = len(test_set['data'].values[0])"
   ]
  },
  {
   "cell_type": "code",
   "execution_count": 5,
   "metadata": {
    "collapsed": true
   },
   "outputs": [],
   "source": [
    "# input_data = test_set['data'].values[:1]\n",
    "# input_data = np.stack(input_data, axis=0)\n",
    "\n",
    "# scaler = pickle.load(open(os.path.join(dataset_dir, 'scaler.p'), \"rb\"))\n",
    "# normalized_data = scaler.transform(input_data)\n",
    "\n",
    "# normalized_data = normalized_data.reshape((normalized_data.shape[0], normalized_data.shape[1], 1))"
   ]
  },
  {
   "cell_type": "code",
   "execution_count": 6,
   "metadata": {},
   "outputs": [
    {
     "data": {
      "text/plain": [
       "array([[ 0.50742574],\n",
       "       [ 0.51767677],\n",
       "       [ 0.53014184],\n",
       "       ..., \n",
       "       [ 0.51660156],\n",
       "       [ 0.52556237],\n",
       "       [ 0.53426791]])"
      ]
     },
     "execution_count": 6,
     "metadata": {},
     "output_type": "execute_result"
    }
   ],
   "source": [
    "# normalized_data[0]"
   ]
  },
  {
   "cell_type": "code",
   "execution_count": null,
   "metadata": {
    "collapsed": true
   },
   "outputs": [],
   "source": []
  },
  {
   "cell_type": "code",
   "execution_count": null,
   "metadata": {
    "collapsed": true
   },
   "outputs": [],
   "source": []
  },
  {
   "cell_type": "code",
   "execution_count": 6,
   "metadata": {},
   "outputs": [
    {
     "name": "stderr",
     "output_type": "stream",
     "text": [
      "C:\\Users\\stephen\\AppData\\Local\\conda\\conda\\envs\\tfgpu1.1\\lib\\site-packages\\sklearn\\utils\\validation.py:444: DataConversionWarning: Data with input dtype int16 was converted to float64 by MinMaxScaler.\n",
      "  warnings.warn(msg, DataConversionWarning)\n"
     ]
    }
   ],
   "source": [
    "input_data = test_set['data'].values\n",
    "input_data = np.stack(input_data, axis=0)\n",
    "\n",
    "scaler = pickle.load(open(os.path.join(dataset_dir, 'scaler.p'), \"rb\"))\n",
    "normalized_data = scaler.fit_transform(input_data)\n",
    "\n",
    "normalized_data = normalized_data.reshape((normalized_data.shape[0], normalized_data.shape[1], 1))"
   ]
  },
  {
   "cell_type": "code",
   "execution_count": 7,
   "metadata": {},
   "outputs": [
    {
     "name": "stdout",
     "output_type": "stream",
     "text": [
      "INFO:tensorflow:Restoring parameters from checkpoints\\model.ckpt\n"
     ]
    }
   ],
   "source": [
    "loader = tf.train.import_meta_graph('checkpoints/model.ckpt.meta')\n",
    "with tf.Session() as sess:\n",
    "    loader.restore(sess, tf.train.latest_checkpoint('checkpoints'))\n",
    "    \n",
    "    graph = tf.get_default_graph()\n",
    "    \n",
    "    x = graph.get_tensor_by_name(\"Inputs/inputs:0\")\n",
    "    keep_prob = graph.get_tensor_by_name(\"keep_probability:0\")\n",
    "    predicted = graph.get_tensor_by_name(\"predicted:0\")\n",
    "    \n",
    "    feed_dict = {x: normalized_data, keep_prob: 1.0}\n",
    "    prediction = sess.run(predicted, feed_dict=feed_dict).squeeze()"
   ]
  },
  {
   "cell_type": "code",
   "execution_count": 8,
   "metadata": {},
   "outputs": [
    {
     "data": {
      "text/plain": [
       "array([  9.97577012e-01,   2.42067687e-03,   4.27451674e-08,\n",
       "         2.38049984e-06], dtype=float32)"
      ]
     },
     "execution_count": 8,
     "metadata": {},
     "output_type": "execute_result"
    }
   ],
   "source": [
    "prediction"
   ]
  },
  {
   "cell_type": "code",
   "execution_count": 10,
   "metadata": {
    "collapsed": true
   },
   "outputs": [],
   "source": [
    "labels = pickle.load(open(os.path.join(dataset_dir, 'labels.p'), \"rb\"))"
   ]
  },
  {
   "cell_type": "code",
   "execution_count": 11,
   "metadata": {},
   "outputs": [
    {
     "name": "stdout",
     "output_type": "stream",
     "text": [
      "Key: a, Prediction: a, Probability: 0.99\n",
      "Key: t, Prediction: e, Probability: 0.99\n",
      "Key: space, Prediction: space, Probability: 1.00\n",
      "Key: e, Prediction: e, Probability: 1.00\n",
      "Key: a, Prediction: a, Probability: 1.00\n",
      "Key: e, Prediction: e, Probability: 1.00\n",
      "Key: space, Prediction: space, Probability: 1.00\n",
      "Key: e, Prediction: e, Probability: 1.00\n",
      "Key: t, Prediction: t, Probability: 0.99\n",
      "Key: space, Prediction: space, Probability: 1.00\n",
      "Key: a, Prediction: a, Probability: 1.00\n",
      "Key: space, Prediction: space, Probability: 1.00\n",
      "Key: e, Prediction: a, Probability: 0.57\n",
      "Key: space, Prediction: space, Probability: 1.00\n",
      "Key: e, Prediction: e, Probability: 0.99\n",
      "Key: space, Prediction: space, Probability: 0.85\n",
      "Key: t, Prediction: e, Probability: 0.96\n",
      "Key: a, Prediction: a, Probability: 1.00\n",
      "Key: space, Prediction: space, Probability: 1.00\n",
      "Key: e, Prediction: e, Probability: 0.97\n",
      "Key: a, Prediction: a, Probability: 0.87\n",
      "Key: a, Prediction: e, Probability: 1.00\n",
      "Key: space, Prediction: space, Probability: 1.00\n",
      "Key: e, Prediction: t, Probability: 0.67\n",
      "Key: e, Prediction: e, Probability: 0.86\n",
      "Key: space, Prediction: space, Probability: 1.00\n",
      "Key: space, Prediction: space, Probability: 1.00\n",
      "Key: space, Prediction: space, Probability: 1.00\n",
      "Key: e, Prediction: e, Probability: 0.69\n",
      "Key: e, Prediction: e, Probability: 1.00\n",
      "Key: space, Prediction: space, Probability: 1.00\n",
      "Key: e, Prediction: e, Probability: 0.99\n",
      "Key: space, Prediction: space, Probability: 0.94\n",
      "Key: t, Prediction: t, Probability: 0.59\n",
      "Key: a, Prediction: a, Probability: 0.84\n",
      "Key: space, Prediction: space, Probability: 0.93\n",
      "Key: t, Prediction: e, Probability: 0.94\n",
      "Key: e, Prediction: e, Probability: 0.98\n",
      "Key: space, Prediction: space, Probability: 0.96\n",
      "Key: t, Prediction: e, Probability: 1.00\n",
      "Key: e, Prediction: e, Probability: 1.00\n",
      "Key: e, Prediction: e, Probability: 0.99\n",
      "Key: space, Prediction: space, Probability: 1.00\n",
      "Key: e, Prediction: e, Probability: 0.45\n",
      "Key: space, Prediction: space, Probability: 1.00\n",
      "Key: t, Prediction: e, Probability: 0.96\n",
      "Key: a, Prediction: a, Probability: 1.00\n",
      "Key: space, Prediction: space, Probability: 1.00\n",
      "Key: t, Prediction: e, Probability: 0.98\n",
      "Key: e, Prediction: e, Probability: 1.00\n",
      "Key: space, Prediction: space, Probability: 1.00\n",
      "Key: t, Prediction: space, Probability: 0.69\n",
      "Key: a, Prediction: a, Probability: 0.98\n",
      "Key: space, Prediction: space, Probability: 1.00\n",
      "Key: space, Prediction: space, Probability: 1.00\n",
      "Key: e, Prediction: e, Probability: 0.67\n",
      "Key: space, Prediction: space, Probability: 0.93\n",
      "Key: a, Prediction: e, Probability: 0.99\n",
      "Key: space, Prediction: space, Probability: 1.00\n",
      "Key: e, Prediction: e, Probability: 1.00\n",
      "Key: e, Prediction: space, Probability: 0.60\n",
      "Key: e, Prediction: e, Probability: 1.00\n",
      "Key: t, Prediction: t, Probability: 1.00\n",
      "Key: space, Prediction: space, Probability: 1.00\n",
      "Key: a, Prediction: a, Probability: 1.00\n",
      "Key: space, Prediction: space, Probability: 1.00\n",
      "Key: t, Prediction: t, Probability: 0.98\n",
      "Key: a, Prediction: a, Probability: 1.00\n",
      "Key: e, Prediction: e, Probability: 1.00\n",
      "Key: space, Prediction: space, Probability: 0.88\n",
      "Key: e, Prediction: e, Probability: 1.00\n",
      "Key: space, Prediction: space, Probability: 0.97\n",
      "Key: e, Prediction: e, Probability: 1.00\n",
      "Key: space, Prediction: space, Probability: 1.00\n",
      "Key: t, Prediction: t, Probability: 0.94\n",
      "Key: space, Prediction: space, Probability: 1.00\n",
      "Key: a, Prediction: a, Probability: 1.00\n",
      "Key: space, Prediction: space, Probability: 1.00\n",
      "Key: a, Prediction: a, Probability: 1.00\n",
      "Key: e, Prediction: e, Probability: 0.99\n",
      "Key: space, Prediction: e, Probability: 0.92\n",
      "Key: space, Prediction: space, Probability: 1.00\n",
      "Key: e, Prediction: e, Probability: 1.00\n",
      "Key: e, Prediction: e, Probability: 1.00\n",
      "Key: t, Prediction: e, Probability: 0.99\n",
      "Key: space, Prediction: space, Probability: 0.99\n",
      "Key: a, Prediction: a, Probability: 1.00\n",
      "Key: space, Prediction: space, Probability: 1.00\n",
      "Key: t, Prediction: t, Probability: 0.93\n",
      "Key: a, Prediction: a, Probability: 1.00\n",
      "Key: space, Prediction: space, Probability: 1.00\n",
      "Key: a, Prediction: a, Probability: 1.00\n",
      "Key: a, Prediction: a, Probability: 1.00\n",
      "Key: a, Prediction: e, Probability: 1.00\n",
      "Key: space, Prediction: space, Probability: 1.00\n",
      "Key: t, Prediction: e, Probability: 1.00\n",
      "Key: a, Prediction: a, Probability: 1.00\n",
      "Key: e, Prediction: e, Probability: 1.00\n",
      "Key: space, Prediction: space, Probability: 1.00\n",
      "Key: e, Prediction: a, Probability: 0.67\n",
      "Key: space, Prediction: space, Probability: 1.00\n",
      "Key: e, Prediction: e, Probability: 1.00\n",
      "Key: space, Prediction: space, Probability: 1.00\n",
      "Key: t, Prediction: e, Probability: 0.96\n",
      "Key: space, Prediction: space, Probability: 1.00\n",
      "Key: a, Prediction: a, Probability: 1.00\n",
      "Key: a, Prediction: a, Probability: 1.00\n",
      "Key: space, Prediction: space, Probability: 1.00\n",
      "Key: space, Prediction: space, Probability: 0.95\n",
      "Key: e, Prediction: e, Probability: 0.99\n",
      "Key: e, Prediction: e, Probability: 0.80\n",
      "Key: space, Prediction: e, Probability: 0.95\n",
      "Key: a, Prediction: a, Probability: 0.72\n",
      "Key: t, Prediction: space, Probability: 0.56\n",
      "Key: e, Prediction: e, Probability: 1.00\n",
      "Key: space, Prediction: space, Probability: 1.00\n",
      "Key: a, Prediction: a, Probability: 1.00\n",
      "Key: space, Prediction: space, Probability: 1.00\n",
      "Key: e, Prediction: e, Probability: 1.00\n",
      "Key: space, Prediction: space, Probability: 0.99\n",
      "Key: e, Prediction: e, Probability: 0.73\n",
      "Key: space, Prediction: space, Probability: 1.00\n",
      "Key: a, Prediction: a, Probability: 1.00\n",
      "Key: space, Prediction: space, Probability: 1.00\n",
      "Key: t, Prediction: e, Probability: 0.57\n",
      "Key: a, Prediction: a, Probability: 0.78\n",
      "Key: e, Prediction: e, Probability: 1.00\n",
      "Key: space, Prediction: space, Probability: 1.00\n",
      "Key: t, Prediction: t, Probability: 0.98\n",
      "Key: space, Prediction: space, Probability: 1.00\n",
      "Key: e, Prediction: e, Probability: 1.00\n",
      "Key: space, Prediction: space, Probability: 1.00\n",
      "Key: a, Prediction: a, Probability: 1.00\n",
      "Key: t, Prediction: e, Probability: 0.91\n",
      "Key: e, Prediction: e, Probability: 1.00\n",
      "Key: a, Prediction: a, Probability: 0.97\n",
      "Key: space, Prediction: space, Probability: 1.00\n",
      "Key: a, Prediction: a, Probability: 1.00\n",
      "Key: space, Prediction: space, Probability: 1.00\n",
      "Key: t, Prediction: t, Probability: 0.96\n",
      "Key: space, Prediction: space, Probability: 1.00\n",
      "Key: a, Prediction: a, Probability: 0.99\n",
      "Key: t, Prediction: t, Probability: 0.65\n",
      "Key: e, Prediction: e, Probability: 1.00\n",
      "Key: space, Prediction: e, Probability: 1.00\n",
      "Key: space, Prediction: space, Probability: 1.00\n",
      "Key: t, Prediction: t, Probability: 0.54\n",
      "Key: e, Prediction: e, Probability: 1.00\n",
      "Key: space, Prediction: space, Probability: 1.00\n",
      "Key: space, Prediction: space, Probability: 1.00\n",
      "Key: t, Prediction: space, Probability: 0.81\n",
      "Key: space, Prediction: space, Probability: 1.00\n",
      "Key: t, Prediction: space, Probability: 0.60\n",
      "Key: a, Prediction: a, Probability: 1.00\n",
      "Key: t, Prediction: e, Probability: 0.79\n",
      "Key: t, Prediction: a, Probability: 0.99\n",
      "Key: e, Prediction: e, Probability: 0.75\n",
      "Key: space, Prediction: space, Probability: 1.00\n",
      "Key: space, Prediction: space, Probability: 1.00\n",
      "Key: e, Prediction: e, Probability: 1.00\n",
      "Key: space, Prediction: space, Probability: 1.00\n",
      "Key: t, Prediction: a, Probability: 0.82\n",
      "Key: e, Prediction: e, Probability: 0.93\n",
      "Key: a, Prediction: e, Probability: 0.85\n",
      "Key: space, Prediction: space, Probability: 1.00\n",
      "Key: space, Prediction: space, Probability: 1.00\n",
      "Key: space, Prediction: e, Probability: 0.84\n",
      "Key: e, Prediction: e, Probability: 1.00\n",
      "Key: e, Prediction: e, Probability: 1.00\n",
      "Key: t, Prediction: e, Probability: 0.57\n",
      "Key: space, Prediction: space, Probability: 1.00\n",
      "Key: a, Prediction: a, Probability: 1.00\n",
      "Key: space, Prediction: space, Probability: 0.92\n",
      "Key: t, Prediction: e, Probability: 1.00\n",
      "Key: a, Prediction: a, Probability: 1.00\n",
      "Key: e, Prediction: e, Probability: 1.00\n",
      "Key: space, Prediction: e, Probability: 0.97\n",
      "Key: e, Prediction: e, Probability: 1.00\n",
      "Key: space, Prediction: space, Probability: 1.00\n",
      "Key: e, Prediction: e, Probability: 1.00\n",
      "Key: space, Prediction: space, Probability: 1.00\n",
      "Key: t, Prediction: e, Probability: 0.75\n",
      "Key: space, Prediction: space, Probability: 0.99\n",
      "Key: a, Prediction: a, Probability: 1.00\n",
      "Key: space, Prediction: space, Probability: 1.00\n",
      "Key: a, Prediction: a, Probability: 0.54\n",
      "Key: e, Prediction: e, Probability: 1.00\n",
      "Key: space, Prediction: space, Probability: 1.00\n",
      "Key: space, Prediction: space, Probability: 1.00\n",
      "Key: e, Prediction: a, Probability: 0.90\n",
      "Key: space, Prediction: space, Probability: 1.00\n",
      "Key: e, Prediction: a, Probability: 1.00\n",
      "Key: t, Prediction: space, Probability: 0.80\n",
      "Key: space, Prediction: space, Probability: 0.98\n",
      "Key: a, Prediction: a, Probability: 1.00\n",
      "Key: space, Prediction: space, Probability: 1.00\n",
      "Key: t, Prediction: a, Probability: 1.00\n",
      "Key: a, Prediction: a, Probability: 1.00\n",
      "Accuracy: 0.8080808080808081\n"
     ]
    }
   ],
   "source": [
    "correct_cnt = 0\n",
    "for i, r in enumerate(prediction):\n",
    "    actual_key = test_set['key'].values[i]\n",
    "    pred_key = labels[np.argmax(r)]\n",
    "    print('Key: {0}, Prediction: {1}, Probability: {2:0.2f}'.format(actual_key, pred_key, r[np.argmax(r)]))\n",
    "    if actual_key == pred_key:\n",
    "        correct_cnt += 1\n",
    "print('Accuracy: {}'.format(correct_cnt/len(test_set)))"
   ]
  },
  {
   "cell_type": "code",
   "execution_count": null,
   "metadata": {
    "collapsed": true
   },
   "outputs": [],
   "source": []
  },
  {
   "cell_type": "code",
   "execution_count": null,
   "metadata": {
    "collapsed": true
   },
   "outputs": [],
   "source": []
  },
  {
   "cell_type": "code",
   "execution_count": null,
   "metadata": {
    "collapsed": true
   },
   "outputs": [],
   "source": []
  }
 ],
 "metadata": {
  "kernelspec": {
   "display_name": "Python 3",
   "language": "python",
   "name": "python3"
  },
  "language_info": {
   "codemirror_mode": {
    "name": "ipython",
    "version": 3
   },
   "file_extension": ".py",
   "mimetype": "text/x-python",
   "name": "python",
   "nbconvert_exporter": "python",
   "pygments_lexer": "ipython3",
   "version": "3.5.3"
  }
 },
 "nbformat": 4,
 "nbformat_minor": 2
}
