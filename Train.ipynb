{
 "cells": [
  {
   "cell_type": "markdown",
   "metadata": {},
   "source": [
    "# Check the Version of TensorFlow and Access to GPU\n",
    "This will check to make sure you have the correct version of TensorFlow and access to a GPU"
   ]
  },
  {
   "cell_type": "markdown",
   "metadata": {},
   "source": [
    "# Todo List\n",
    "- Save normalized data so it doesn't need to be normalized each time\n",
    "- Batch norm after ReLu\n",
    "- Dense layers instead of CNNs\n",
    "- Add several dense layers after convolutional layers\n",
    "- Shuffle dataset\n",
    "- Play with learning rate and batch size"
   ]
  },
  {
   "cell_type": "code",
   "execution_count": 1,
   "metadata": {
    "collapsed": true
   },
   "outputs": [],
   "source": [
    "import pandas as pd\n",
    "import numpy as np\n",
    "from sklearn import preprocessing"
   ]
  },
  {
   "cell_type": "code",
   "execution_count": 2,
   "metadata": {},
   "outputs": [
    {
     "name": "stdout",
     "output_type": "stream",
     "text": [
      "TensorFlow Version: 1.1.0\n",
      "Default GPU Device: /gpu:0\n"
     ]
    }
   ],
   "source": [
    "from distutils.version import LooseVersion\n",
    "import warnings\n",
    "import tensorflow as tf\n",
    "\n",
    "# Check TensorFlow Version\n",
    "assert LooseVersion(tf.__version__) >= LooseVersion('1.0'), 'Please use TensorFlow version 1.0 or newer.  You are using {}'.format(tf.__version__)\n",
    "print('TensorFlow Version: {}'.format(tf.__version__))\n",
    "\n",
    "# Check for a GPU\n",
    "if not tf.test.gpu_device_name():\n",
    "    warnings.warn('No GPU found. Please use a GPU to train your neural network.')\n",
    "else:\n",
    "    print('Default GPU Device: {}'.format(tf.test.gpu_device_name()))"
   ]
  },
  {
   "cell_type": "markdown",
   "metadata": {},
   "source": [
    "# Import Data"
   ]
  },
  {
   "cell_type": "code",
   "execution_count": 8,
   "metadata": {
    "collapsed": true
   },
   "outputs": [],
   "source": [
    "import os\n",
    "dataset_dir = 'DataSet/'"
   ]
  },
  {
   "cell_type": "code",
   "execution_count": 9,
   "metadata": {},
   "outputs": [
    {
     "name": "stdout",
     "output_type": "stream",
     "text": [
      "File: DataSet/2018-07-13_18-39-56_0.pkl, DataSet Length: 500\n",
      "File: DataSet/2018-07-13_18-43-51_0.pkl, DataSet Length: 500\n",
      "File: DataSet/2018-07-13_18-46-04_1.pkl, DataSet Length: 500\n",
      "File: DataSet/2018-07-13_18-47-58_2.pkl, DataSet Length: 500\n",
      "File: DataSet/2018-07-13_18-49-54_3.pkl, DataSet Length: 500\n",
      "File: DataSet/2018-07-13_18-52-16_4.pkl, DataSet Length: 500\n",
      "File: DataSet/2018-07-13_18-54-29_5.pkl, DataSet Length: 500\n",
      "File: DataSet/2018-07-13_18-56-38_6.pkl, DataSet Length: 500\n",
      "File: DataSet/2018-07-13_18-58-30_7.pkl, DataSet Length: 500\n",
      "File: DataSet/2018-07-13_19-00-21_8.pkl, DataSet Length: 500\n",
      "File: DataSet/2018-07-13_19-02-36_9.pkl, DataSet Length: 500\n",
      "File: DataSet/2018-07-13_19-04-42_10.pkl, DataSet Length: 500\n",
      "File: DataSet/2018-07-13_19-06-38_11.pkl, DataSet Length: 500\n",
      "File: DataSet/2018-07-13_19-08-49_12.pkl, DataSet Length: 500\n",
      "File: DataSet/2018-07-13_19-10-48_13.pkl, DataSet Length: 500\n",
      "File: DataSet/2018-07-13_19-12-43_14.pkl, DataSet Length: 500\n",
      "File: DataSet/2018-07-13_19-14-54_15.pkl, DataSet Length: 500\n",
      "File: DataSet/2018-07-13_19-16-54_16.pkl, DataSet Length: 500\n",
      "File: DataSet/2018-07-13_19-19-01_17.pkl, DataSet Length: 500\n",
      "File: DataSet/2018-07-13_19-20-48_18.pkl, DataSet Length: 500\n",
      "File: DataSet/2018-07-13_19-22-54_19.pkl, DataSet Length: 500\n",
      "File: DataSet/data_07-08-18.pkl, DataSet Length: 7150\n",
      "File: DataSet/data_07-10-18_work.pkl, DataSet Length: 8700\n",
      "File: DataSet/data_07-13-18.pkl, DataSet Length: 5400\n",
      "Total Length: 31750\n"
     ]
    }
   ],
   "source": [
    "count = 0\n",
    "for filename in os.listdir(dataset_dir):\n",
    "    if filename.endswith(\".pkl\"): \n",
    "        df = pd.read_pickle(os.path.join(dataset_dir, filename))\n",
    "        \n",
    "        if count == 0:\n",
    "            raw_df = df\n",
    "        else:\n",
    "            raw_df = raw_df.append(df, ignore_index=True)\n",
    "            \n",
    "        print('File: {}, DataSet Length: {}'.format(os.path.join(dataset_dir, filename), len(df)))\n",
    "        count += 1\n",
    "    else:\n",
    "        continue\n",
    "print('Total Length: {}'.format(len(raw_df)))"
   ]
  },
  {
   "cell_type": "code",
   "execution_count": 10,
   "metadata": {},
   "outputs": [],
   "source": [
    "# # Read saved list of data from object into a dataframe\n",
    "# raw_df = pd.read_pickle('DataSet/data_07-10-18.pkl')\n",
    "# print(len(raw_df))\n",
    "# raw_df.head()"
   ]
  },
  {
   "cell_type": "code",
   "execution_count": 11,
   "metadata": {
    "collapsed": true
   },
   "outputs": [],
   "source": [
    "data_width = len(raw_df['data'][0])"
   ]
  },
  {
   "cell_type": "markdown",
   "metadata": {},
   "source": [
    "# Data Preprocessing"
   ]
  },
  {
   "cell_type": "markdown",
   "metadata": {},
   "source": [
    "#### Filter out key counts less than threshold value"
   ]
  },
  {
   "cell_type": "code",
   "execution_count": 12,
   "metadata": {},
   "outputs": [],
   "source": [
    "import collections\n",
    "import matplotlib.pyplot as plt\n",
    "key_count = collections.Counter(raw_df['key'])"
   ]
  },
  {
   "cell_type": "code",
   "execution_count": 13,
   "metadata": {
    "collapsed": true
   },
   "outputs": [],
   "source": [
    "width = 0.5 # Bar width\n",
    "figsize = (15, 4)\n",
    "\n",
    "def plot_key_hist(most_common):\n",
    "    if len(most_common) > 30:\n",
    "        most_common = most_common[:30]\n",
    "        \n",
    "    hist_labels, hist_values = zip(*most_common) # Show only a subset of all keys\n",
    "    indexes = np.arange(len(hist_labels))\n",
    "    plt.figure(figsize=figsize)\n",
    "    plt.bar(indexes, hist_values, width)\n",
    "    plt.xticks(indexes + width * 0.5, hist_labels, rotation='vertical')\n",
    "    plt.show()"
   ]
  },
  {
   "cell_type": "code",
   "execution_count": 14,
   "metadata": {},
   "outputs": [
    {
     "data": {
      "image/png": "[encoded data removed]",
      "text/plain": [
       "<matplotlib.figure.Figure at 0x15a3d76c400>"
      ]
     },
     "metadata": {},
     "output_type": "display_data"
    }
   ],
   "source": [
    "plot_key_hist(key_count.most_common())"
   ]
  },
  {
   "cell_type": "code",
   "execution_count": 15,
   "metadata": {},
   "outputs": [
    {
     "data": {
      "text/plain": [
       "<bound method Counter.most_common of Counter({'space': 4990, 'e': 3070, 't': 2414, 'a': 2135, 'i': 1858, 'o': 1774, 'n': 1766, 's': 1738, 'r': 1490, 'h': 1109, 'l': 1102, 'd': 877, 'c': 837, 'u': 629, 'm': 623, 'g': 591, 'f': 517, 'p': 479, 'w': 431, 'y': 429, 'b': 392, 'v': 311, 'backspace': 309, '.': 283, ',': 246, 'k': 188, 'enter': 148, 'shift': 120, 'x': 107, \"'\": 76, '0': 69, 'z': 67, 'ctrl_l': 60, '-': 54, '1': 45, '2': 43, 'q': 42, 'delete': 38, 'down': 38, '9': 35, 'j': 26, '3': 24, '5': 20, '/': 17, 'esc': 17, ';': 16, 'left': 16, '7': 15, '6': 14, '8': 14, '4': 14, 'up': 10, 'right': 8, 'tab': 4, '=': 4, '`': 1})>"
      ]
     },
     "execution_count": 15,
     "metadata": {},
     "output_type": "execute_result"
    }
   ],
   "source": [
    "key_count.most_common"
   ]
  },
  {
   "cell_type": "code",
   "execution_count": 16,
   "metadata": {},
   "outputs": [
    {
     "name": "stdout",
     "output_type": "stream",
     "text": [
      "Max Data Size: 13904, Class Count: 8, Threshold: 1737\n"
     ]
    }
   ],
   "source": [
    "# Maximize DataSet Size By Finding Optimal Threshold\n",
    "max_data_size = 0\n",
    "max_class_cnt = 0\n",
    "threshold_max = 0\n",
    "for _, v in key_count.most_common():\n",
    "    threshold = v - 1\n",
    "    min_thresh_cnts = [count for key, count in zip(key_count.keys(), key_count.values()) if count > threshold]\n",
    "    class_cnt = len(min_thresh_cnts)\n",
    "    data_size = min(min_thresh_cnts)*len(min_thresh_cnts)\n",
    "    if data_size > max_data_size:\n",
    "        max_data_size = data_size\n",
    "        max_class_cnt = class_cnt\n",
    "        threshold_max = threshold\n",
    "print('Max Data Size: {}, Class Count: {}, Threshold: {}'.format(max_data_size, max_class_cnt, threshold_max))"
   ]
  },
  {
   "cell_type": "code",
   "execution_count": 17,
   "metadata": {
    "collapsed": true
   },
   "outputs": [],
   "source": [
    "# Get list of keys with counts greater than threshold\n",
    "threshold = threshold_max\n",
    "min_thresh_keys = [key for key, count in zip(key_count.keys(), key_count.values()) if count > threshold]"
   ]
  },
  {
   "cell_type": "code",
   "execution_count": 18,
   "metadata": {
    "collapsed": true
   },
   "outputs": [],
   "source": [
    "min_thresh_df = raw_df[raw_df['key'].isin(min_thresh_keys)] # Filter dataframe to only include keys > threshold"
   ]
  },
  {
   "cell_type": "code",
   "execution_count": 19,
   "metadata": {
    "collapsed": true
   },
   "outputs": [],
   "source": [
    "def trim_max_thresh(grouped_class):\n",
    "    return grouped_class.sample(threshold)"
   ]
  },
  {
   "cell_type": "code",
   "execution_count": 20,
   "metadata": {
    "collapsed": true
   },
   "outputs": [],
   "source": [
    "# Keep same number of samples in each class by throwing away everything past the threshold\n",
    "df = min_thresh_df.groupby(['key']).apply(trim_max_thresh)"
   ]
  },
  {
   "cell_type": "markdown",
   "metadata": {},
   "source": [
    "#### Plot truncated data"
   ]
  },
  {
   "cell_type": "code",
   "execution_count": 21,
   "metadata": {
    "collapsed": true
   },
   "outputs": [],
   "source": [
    "truncated_count = collections.Counter(df['key'])"
   ]
  },
  {
   "cell_type": "code",
   "execution_count": 22,
   "metadata": {},
   "outputs": [
    {
     "data": {
      "image/png": "[encoded data removed]",
      "text/plain": [
       "<matplotlib.figure.Figure at 0x15a2495eb00>"
      ]
     },
     "metadata": {},
     "output_type": "display_data"
    }
   ],
   "source": [
    "plot_key_hist(truncated_count.most_common())"
   ]
  },
  {
   "cell_type": "markdown",
   "metadata": {},
   "source": [
    "### Shuffle data"
   ]
  },
  {
   "cell_type": "code",
   "execution_count": 47,
   "metadata": {
    "collapsed": true
   },
   "outputs": [],
   "source": [
    "df = df.sample(frac=1).reset_index(drop=True)"
   ]
  },
  {
   "cell_type": "markdown",
   "metadata": {},
   "source": [
    "## Skip to Load If Normalized Data Already Exists on Disk"
   ]
  },
  {
   "cell_type": "markdown",
   "metadata": {},
   "source": [
    "#### Normalize Data"
   ]
  },
  {
   "cell_type": "code",
   "execution_count": 76,
   "metadata": {},
   "outputs": [
    {
     "data": {
      "text/plain": [
       "numpy.ndarray"
      ]
     },
     "execution_count": 76,
     "metadata": {},
     "output_type": "execute_result"
    }
   ],
   "source": [
    "type(df['data'][0])"
   ]
  },
  {
   "cell_type": "code",
   "execution_count": 96,
   "metadata": {},
   "outputs": [],
   "source": [
    "input_data = df['data'].values\n",
    "input_data = np.stack(input_data, axis=0)"
   ]
  },
  {
   "cell_type": "code",
   "execution_count": 85,
   "metadata": {},
   "outputs": [
    {
     "name": "stderr",
     "output_type": "stream",
     "text": [
      "C:\\Users\\stephen\\AppData\\Local\\conda\\conda\\envs\\tfgpu1.1\\lib\\site-packages\\sklearn\\utils\\validation.py:444: DataConversionWarning: Data with input dtype int16 was converted to float64 by MinMaxScaler.\n",
      "  warnings.warn(msg, DataConversionWarning)\n"
     ]
    }
   ],
   "source": [
    "scaler = preprocessing.MinMaxScaler(feature_range=(0,1))\n",
    "normalized_data = scaler.fit_transform(input_data)"
   ]
  },
  {
   "cell_type": "code",
   "execution_count": 49,
   "metadata": {
    "collapsed": true
   },
   "outputs": [],
   "source": [
    "# def pandas2npMat(df_col):\n",
    "#     np_array = np.float32([df_col[0]])\n",
    "#     for i, row in enumerate(df_col):\n",
    "#         if i == 0:\n",
    "#             pass\n",
    "#         else:\n",
    "#             np_array = np.concatenate((np_array, [row]), axis=0)\n",
    "#     return np_array"
   ]
  },
  {
   "cell_type": "code",
   "execution_count": 50,
   "metadata": {
    "collapsed": true
   },
   "outputs": [],
   "source": [
    "# input_data = pandas2npMat(df['data']) # Convert pandas column to numpy matrix"
   ]
  },
  {
   "cell_type": "code",
   "execution_count": 69,
   "metadata": {
    "collapsed": true
   },
   "outputs": [],
   "source": [
    "# def normalize(x):\n",
    "#     norm = (x - np.min(x)) / (np.max(x) - np.min(x))\n",
    "#     return norm"
   ]
  },
  {
   "cell_type": "code",
   "execution_count": 98,
   "metadata": {},
   "outputs": [],
   "source": [
    "# normalized_data = normalize(input_data)\n",
    "# normalized_data.shape"
   ]
  },
  {
   "cell_type": "code",
   "execution_count": 54,
   "metadata": {
    "collapsed": true
   },
   "outputs": [],
   "source": [
    "# np.save(dataset_dir + 'normalized.npy', normalized_data)"
   ]
  },
  {
   "cell_type": "markdown",
   "metadata": {},
   "source": [
    "## Load Normalized Data From Here"
   ]
  },
  {
   "cell_type": "code",
   "execution_count": 28,
   "metadata": {},
   "outputs": [],
   "source": [
    "# normalized_data = np.load(dataset_dir + 'normalized.npy')"
   ]
  },
  {
   "cell_type": "markdown",
   "metadata": {},
   "source": [
    "#### One Hot Encode Classes"
   ]
  },
  {
   "cell_type": "code",
   "execution_count": 102,
   "metadata": {},
   "outputs": [],
   "source": [
    "n_classes = len(set(df['key']))"
   ]
  },
  {
   "cell_type": "code",
   "execution_count": 103,
   "metadata": {
    "collapsed": true
   },
   "outputs": [],
   "source": [
    "labels_str = [str(key) for key in df['key']]\n",
    "lb = preprocessing.LabelBinarizer() # Create encoder\n",
    "lb.fit(list(set(labels_str)))\n",
    "labels = lb.transform(labels_str)"
   ]
  },
  {
   "cell_type": "code",
   "execution_count": 104,
   "metadata": {},
   "outputs": [
    {
     "data": {
      "text/plain": [
       "array(['a', 'e', 'i', 'n', 'o', 's', 'space', 't'],\n",
       "      dtype='<U5')"
      ]
     },
     "execution_count": 104,
     "metadata": {},
     "output_type": "execute_result"
    }
   ],
   "source": [
    "lb.classes_"
   ]
  },
  {
   "cell_type": "markdown",
   "metadata": {},
   "source": [
    "#### Split Training and Validation Data"
   ]
  },
  {
   "cell_type": "markdown",
   "metadata": {},
   "source": [
    "Reshape to add 1 channel"
   ]
  },
  {
   "cell_type": "code",
   "execution_count": 105,
   "metadata": {},
   "outputs": [
    {
     "data": {
      "text/plain": [
       "(13896, 10240, 1)"
      ]
     },
     "execution_count": 105,
     "metadata": {},
     "output_type": "execute_result"
    }
   ],
   "source": [
    "normalized_data = normalized_data.reshape((normalized_data.shape[0], normalized_data.shape[1], 1))\n",
    "# labels = labels.reshape((labels.shape[0], labels.shape[1], 1))\n",
    "normalized_data.shape"
   ]
  },
  {
   "cell_type": "code",
   "execution_count": 106,
   "metadata": {},
   "outputs": [],
   "source": [
    "from sklearn.model_selection import train_test_split\n",
    "train_features, valid_features, train_labels, valid_labels = train_test_split(\n",
    "    normalized_data, \n",
    "    labels, \n",
    "    test_size=0.1, \n",
    "    random_state=42)"
   ]
  },
  {
   "cell_type": "markdown",
   "metadata": {},
   "source": [
    "# Define Network"
   ]
  },
  {
   "cell_type": "markdown",
   "metadata": {},
   "source": [
    "### Input"
   ]
  },
  {
   "cell_type": "code",
   "execution_count": 107,
   "metadata": {
    "collapsed": true
   },
   "outputs": [],
   "source": [
    "def model_inputs(data_width, n_classes):\n",
    "    \"\"\"\n",
    "    Create the model inputs\n",
    "    :param data_width: The total number of samples in the recorded data point\n",
    "    :param n_classes: Number of Classes\n",
    "    :return: Tuple of (tensor of input audio data, key press labels, learning rate, keep_prob)\n",
    "    \"\"\"\n",
    "    # TODO: Add audio channels to input\n",
    "    \n",
    "    with tf.name_scope(\"Inputs\"):\n",
    "        audio_inputs = tf.placeholder(tf.float32, [None, data_width, 1], name='inputs')\n",
    "    with tf.name_scope(\"Targets\"):\n",
    "        key_labels = tf.placeholder(tf.float32, [None, n_classes], name='labels')\n",
    "    learning_rate = tf.placeholder(tf.float32, name='learning_rate')\n",
    "    keep_prob = tf.placeholder(tf.float32, name='keep_probability')\n",
    "\n",
    "    return audio_inputs, key_labels, learning_rate, keep_prob"
   ]
  },
  {
   "cell_type": "markdown",
   "metadata": {},
   "source": [
    "### Get Batches"
   ]
  },
  {
   "cell_type": "code",
   "execution_count": 108,
   "metadata": {
    "collapsed": true
   },
   "outputs": [],
   "source": [
    "def get_batches(features, labels, batch_size):\n",
    "    \"\"\"\n",
    "    Split features and labels into batches\n",
    "    \"\"\"\n",
    "    for start in range(0, len(features), batch_size):\n",
    "        end = min(start + batch_size, len(features))\n",
    "        yield features[start:end], labels[start:end]"
   ]
  },
  {
   "cell_type": "markdown",
   "metadata": {},
   "source": [
    "### Network"
   ]
  },
  {
   "cell_type": "code",
   "execution_count": 109,
   "metadata": {
    "collapsed": true
   },
   "outputs": [],
   "source": [
    "def network(X, keep_prob, n_classes):\n",
    "    \"\"\"\n",
    "    Create the network\n",
    "    :param X: Tensor of input recording(s)\n",
    "    :param keep_prob: Tensor for the keep probability\n",
    "    :param n_classes: Number of Classes\n",
    "    :return: Tuple of (tensor output of the classifier, tensor logits of the classifier)\n",
    "    \"\"\"    \n",
    "    # Hyperparameters\n",
    "    alpha = 0.2\n",
    "    h_dim = 16\n",
    "    \n",
    "    #print(\"X: {}\".format(X.shape))\n",
    "     \n",
    "    with tf.name_scope(\"Hidden_Layer1\"):\n",
    "        h1 = tf.layers.dense(X, h_dim, activation=None)\n",
    "        #h1 = tf.layers.conv1d(X, h_dim, 5, 2, 'same', activation=None)\n",
    "        #h1 = tf.layers.maxpool2d(h1, 5, 2, 'same')\n",
    "        h1 = tf.nn.dropout(h1, keep_prob) # Regularization\n",
    "        h1 = tf.maximum(h1*alpha, h1) # Leaky ReLu\n",
    "        h1 = tf.layers.batch_normalization(h1)\n",
    "        \n",
    "    #print(\"h1: {}\".format(h1.shape))\n",
    "\n",
    "    with tf.name_scope(\"Hidden_Layer2\"):\n",
    "        h2 = tf.layers.dense(h1, h_dim, activation=None)\n",
    "        #h2 = tf.layers.conv1d(h1, h_dim*2, 5, 2, 'same', activation=None)\n",
    "        #h2 = tf.layers.maxpool2d(h2, 5, 2, 'same')\n",
    "        h2 = tf.nn.dropout(h2, keep_prob) # Regularization        \n",
    "        h2 = tf.maximum(h2*alpha, h2) # Leaky ReLu\n",
    "        h2 = tf.layers.batch_normalization(h2)\n",
    "        \n",
    "    #print(\"h2: {}\".format(h2.shape))\n",
    "\n",
    "    with tf.name_scope(\"Hidden_Layer3\"):\n",
    "        h3 = tf.layers.dense(h2, h_dim, activation=None)\n",
    "        #h3 = tf.layers.conv1d(h2, h_dim*4, 3, 2, 'same', activation=None)\n",
    "        #h3 = tf.layers.maxpool2d(h3, 3, 2, 'same')\n",
    "        h3 = tf.nn.dropout(h3, keep_prob) # Regularization\n",
    "        h3 = tf.maximum(h3*alpha, h3) # Leaky ReLu\n",
    "        h3 = tf.layers.batch_normalization(h3)\n",
    "        \n",
    "#     with tf.name_scope(\"Hidden_Layer4\"):\n",
    "#         h4 = tf.layers.dense(h3, h_dim, activation=None)\n",
    "#         h4 = tf.nn.dropout(h4, keep_prob) # Regularization\n",
    "#         h4 = tf.maximum(h4*alpha, h3) # Leaky ReLu\n",
    "#         h4 = tf.layers.batch_normalization(h4)\n",
    "    \n",
    "    \n",
    "    \n",
    "    with tf.name_scope(\"Output\"):\n",
    "        flat_dim = int(h3.get_shape()[1])*int(h3.get_shape()[2])\n",
    "        flat = tf.reshape(h3, [-1, flat_dim])\n",
    "        #print(\"flat: {}\".format(flat.shape))\n",
    "        logits = tf.layers.dense(flat, n_classes, activation=None, name='logits')\n",
    "        #print(\"logits: {}\".format(logits.shape))\n",
    "        #out = tf.nn.softmax(logits, name='softmax_out')\n",
    "\n",
    "    return logits"
   ]
  },
  {
   "cell_type": "markdown",
   "metadata": {},
   "source": [
    "### Show Stats"
   ]
  },
  {
   "cell_type": "code",
   "execution_count": 110,
   "metadata": {
    "collapsed": true
   },
   "outputs": [],
   "source": [
    "def print_stats(session, feature_batch, label_batch, cost, accuracy):\n",
    "    \"\"\"\n",
    "    Print information about loss and validation accuracy\n",
    "    : session: Current TensorFlow session\n",
    "    : feature_batch: Batch of Numpy image data\n",
    "    : label_batch: Batch of Numpy label data\n",
    "    : cost: TensorFlow cost function\n",
    "    : accuracy: TensorFlow accuracy function\n",
    "    \"\"\"\n",
    "    with tf.name_scope(\"Validation_Stats\"):\n",
    "        validation_loss = session.run(cost, feed_dict={x: feature_batch, y: label_batch, keep_prob: 1.0})\n",
    "        validation_accuracy = session.run(accuracy, feed_dict={x: valid_features, y: valid_labels, keep_prob: 1.0})\n",
    "        train_accuracy = session.run(accuracy, feed_dict={x: train_features[:1000], y: train_labels[:1000], keep_prob: 1.0})\n",
    "        print(\"Train Accuracy: {}, Validation Accuracy: {}, Validation Loss: {}\".format(train_accuracy, validation_accuracy, validation_loss))"
   ]
  },
  {
   "cell_type": "markdown",
   "metadata": {},
   "source": [
    "### Build Neural Network"
   ]
  },
  {
   "cell_type": "code",
   "execution_count": 111,
   "metadata": {
    "collapsed": true
   },
   "outputs": [],
   "source": [
    "# Remove previous weights, bias, inputs, etc..\n",
    "tf.reset_default_graph()\n",
    "\n",
    "# Inputs\n",
    "x, y, learn_rate, keep_prob = model_inputs(data_width, n_classes)\n",
    "\n",
    "#Model\n",
    "logits = network(x, keep_prob, n_classes)\n",
    "\n",
    "with tf.name_scope(\"Cost\"):\n",
    "    # Cost and Optimizer\n",
    "    cost = tf.reduce_mean(tf.nn.softmax_cross_entropy_with_logits(logits=logits, labels=y, name='loss'), name='cost')\n",
    "    \n",
    "with tf.name_scope(\"Train\"):\n",
    "    optimizer = tf.train.AdamOptimizer(learn_rate, name='optimizer').minimize(cost)\n",
    "\n",
    "with tf.name_scope(\"Accuracy\"):\n",
    "    # Accuracy\n",
    "    correct_pred = tf.equal(tf.argmax(logits, 1), tf.argmax(y, 1), name='prediction')\n",
    "    accuracy = tf.reduce_mean(tf.cast(correct_pred, tf.float32), name='accuracy')"
   ]
  },
  {
   "cell_type": "markdown",
   "metadata": {},
   "source": [
    "### Write out the graph for TensorBoard"
   ]
  },
  {
   "cell_type": "code",
   "execution_count": 112,
   "metadata": {
    "collapsed": true
   },
   "outputs": [],
   "source": [
    "with tf.Session() as sess:\n",
    "    sess.run(tf.global_variables_initializer())\n",
    "    file_writer = tf.summary.FileWriter('./logs/2', sess.graph)"
   ]
  },
  {
   "cell_type": "markdown",
   "metadata": {},
   "source": [
    "### Hyperparameters"
   ]
  },
  {
   "cell_type": "code",
   "execution_count": 113,
   "metadata": {
    "collapsed": true
   },
   "outputs": [],
   "source": [
    "epochs = 5000\n",
    "batch_size = 8\n",
    "keep_probability = 0.80\n",
    "learning_rate = 0.0001"
   ]
  },
  {
   "cell_type": "markdown",
   "metadata": {},
   "source": [
    "# Train Neural Network"
   ]
  },
  {
   "cell_type": "code",
   "execution_count": 114,
   "metadata": {},
   "outputs": [
    {
     "name": "stdout",
     "output_type": "stream",
     "text": [
      "12.5%\n"
     ]
    }
   ],
   "source": [
    "# Accuracy to beat (Min of 3 classes)\n",
    "print(\"{:.3}%\".format((1/n_classes)*100))"
   ]
  },
  {
   "cell_type": "code",
   "execution_count": 115,
   "metadata": {
    "scrolled": true
   },
   "outputs": [
    {
     "name": "stdout",
     "output_type": "stream",
     "text": [
      "Training...\n",
      "Epoch 0: Train Accuracy: 0.11400000005960464, Validation Accuracy: 0.11798561364412308, Validation Loss: 2.0359013080596924\n",
      "Epoch 1: Train Accuracy: 0.14299999177455902, Validation Accuracy: 0.13093525171279907, Validation Loss: 1.9764151573181152\n",
      "Epoch 2: Train Accuracy: 0.23599998652935028, Validation Accuracy: 0.16906476020812988, Validation Loss: 2.047650098800659\n",
      "Epoch 3: Train Accuracy: 0.2709999978542328, Validation Accuracy: 0.21438848972320557, Validation Loss: 2.5396804809570312\n",
      "Epoch 4: Train Accuracy: 0.29100000858306885, Validation Accuracy: 0.21942445635795593, Validation Loss: 2.873176097869873\n",
      "Epoch 5: Train Accuracy: 0.3109999895095825, Validation Accuracy: 0.22302158176898956, Validation Loss: 2.861030101776123\n",
      "Epoch 6: Train Accuracy: 0.32999998331069946, Validation Accuracy: 0.22374100983142853, Validation Loss: 2.8760361671447754\n",
      "Epoch 7: Train Accuracy: 0.34700000286102295, Validation Accuracy: 0.2223021537065506, Validation Loss: 2.768237590789795\n",
      "Epoch 8: Train Accuracy: 0.3610000014305115, Validation Accuracy: 0.22949640452861786, Validation Loss: 2.670917510986328\n",
      "Epoch 9: Train Accuracy: 0.3779999911785126, Validation Accuracy: 0.22589927911758423, Validation Loss: 2.630467414855957\n",
      "Epoch 10: Train Accuracy: 0.3890000283718109, Validation Accuracy: 0.22949640452861786, Validation Loss: 2.4813387393951416\n",
      "Epoch 11: Train Accuracy: 0.41999998688697815, Validation Accuracy: 0.23165467381477356, Validation Loss: 2.2206552028656006\n",
      "Epoch 12: Train Accuracy: 0.4360000193119049, Validation Accuracy: 0.23381294310092926, Validation Loss: 2.022409200668335\n",
      "Epoch 13: Train Accuracy: 0.46400004625320435, Validation Accuracy: 0.23381297290325165, Validation Loss: 1.838030457496643\n",
      "Epoch 14: Train Accuracy: 0.4650000035762787, Validation Accuracy: 0.23237410187721252, Validation Loss: 1.5940074920654297\n",
      "Epoch 15: Train Accuracy: 0.48000001907348633, Validation Accuracy: 0.2309352457523346, Validation Loss: 1.3342429399490356\n",
      "Epoch 16: Train Accuracy: 0.49900001287460327, Validation Accuracy: 0.23884892463684082, Validation Loss: 1.119179368019104\n",
      "Epoch 17: Train Accuracy: 0.5049999952316284, Validation Accuracy: 0.22517986595630646, Validation Loss: 0.8807803988456726\n",
      "Epoch 18: Train Accuracy: 0.5390000343322754, Validation Accuracy: 0.23525181412696838, Validation Loss: 0.7635046243667603\n",
      "Epoch 19: Train Accuracy: 0.5389999747276306, Validation Accuracy: 0.2352517992258072, Validation Loss: 0.6940505504608154\n",
      "Epoch 20: Train Accuracy: 0.5479999780654907, Validation Accuracy: 0.2266187220811844, Validation Loss: 0.6075513958930969\n"
     ]
    },
    {
     "ename": "KeyboardInterrupt",
     "evalue": "",
     "output_type": "error",
     "traceback": [
      "\u001b[1;31m---------------------------------------------------------------------------\u001b[0m",
      "\u001b[1;31mKeyboardInterrupt\u001b[0m                         Traceback (most recent call last)",
      "\u001b[1;32m<ipython-input-115-1582e972384e>\u001b[0m in \u001b[0;36m<module>\u001b[1;34m()\u001b[0m\n\u001b[0;32m     13\u001b[0m                                            \u001b[0my\u001b[0m\u001b[1;33m:\u001b[0m \u001b[0mbatch_labels\u001b[0m\u001b[1;33m,\u001b[0m\u001b[1;33m\u001b[0m\u001b[0m\n\u001b[0;32m     14\u001b[0m                                            \u001b[0mlearn_rate\u001b[0m\u001b[1;33m:\u001b[0m \u001b[0mlearning_rate\u001b[0m\u001b[1;33m,\u001b[0m\u001b[1;33m\u001b[0m\u001b[0m\n\u001b[1;32m---> 15\u001b[1;33m                                            keep_prob: keep_probability})\n\u001b[0m\u001b[0;32m     16\u001b[0m         \u001b[1;32mif\u001b[0m \u001b[0mepoch\u001b[0m \u001b[1;33m%\u001b[0m \u001b[1;36m1\u001b[0m \u001b[1;33m==\u001b[0m \u001b[1;36m0\u001b[0m\u001b[1;33m:\u001b[0m\u001b[1;33m\u001b[0m\u001b[0m\n\u001b[0;32m     17\u001b[0m             \u001b[0mprint\u001b[0m\u001b[1;33m(\u001b[0m\u001b[1;34m'Epoch {}: '\u001b[0m\u001b[1;33m.\u001b[0m\u001b[0mformat\u001b[0m\u001b[1;33m(\u001b[0m\u001b[0mepoch\u001b[0m\u001b[1;33m)\u001b[0m\u001b[1;33m,\u001b[0m \u001b[0mend\u001b[0m\u001b[1;33m=\u001b[0m\u001b[1;34m''\u001b[0m\u001b[1;33m)\u001b[0m\u001b[1;33m\u001b[0m\u001b[0m\n",
      "\u001b[1;32m~\\AppData\\Local\\conda\\conda\\envs\\tfgpu1.1\\lib\\site-packages\\tensorflow\\python\\client\\session.py\u001b[0m in \u001b[0;36mrun\u001b[1;34m(self, fetches, feed_dict, options, run_metadata)\u001b[0m\n\u001b[0;32m    776\u001b[0m     \u001b[1;32mtry\u001b[0m\u001b[1;33m:\u001b[0m\u001b[1;33m\u001b[0m\u001b[0m\n\u001b[0;32m    777\u001b[0m       result = self._run(None, fetches, feed_dict, options_ptr,\n\u001b[1;32m--> 778\u001b[1;33m                          run_metadata_ptr)\n\u001b[0m\u001b[0;32m    779\u001b[0m       \u001b[1;32mif\u001b[0m \u001b[0mrun_metadata\u001b[0m\u001b[1;33m:\u001b[0m\u001b[1;33m\u001b[0m\u001b[0m\n\u001b[0;32m    780\u001b[0m         \u001b[0mproto_data\u001b[0m \u001b[1;33m=\u001b[0m \u001b[0mtf_session\u001b[0m\u001b[1;33m.\u001b[0m\u001b[0mTF_GetBuffer\u001b[0m\u001b[1;33m(\u001b[0m\u001b[0mrun_metadata_ptr\u001b[0m\u001b[1;33m)\u001b[0m\u001b[1;33m\u001b[0m\u001b[0m\n",
      "\u001b[1;32m~\\AppData\\Local\\conda\\conda\\envs\\tfgpu1.1\\lib\\site-packages\\tensorflow\\python\\client\\session.py\u001b[0m in \u001b[0;36m_run\u001b[1;34m(self, handle, fetches, feed_dict, options, run_metadata)\u001b[0m\n\u001b[0;32m    980\u001b[0m     \u001b[1;32mif\u001b[0m \u001b[0mfinal_fetches\u001b[0m \u001b[1;32mor\u001b[0m \u001b[0mfinal_targets\u001b[0m\u001b[1;33m:\u001b[0m\u001b[1;33m\u001b[0m\u001b[0m\n\u001b[0;32m    981\u001b[0m       results = self._do_run(handle, final_targets, final_fetches,\n\u001b[1;32m--> 982\u001b[1;33m                              feed_dict_string, options, run_metadata)\n\u001b[0m\u001b[0;32m    983\u001b[0m     \u001b[1;32melse\u001b[0m\u001b[1;33m:\u001b[0m\u001b[1;33m\u001b[0m\u001b[0m\n\u001b[0;32m    984\u001b[0m       \u001b[0mresults\u001b[0m \u001b[1;33m=\u001b[0m \u001b[1;33m[\u001b[0m\u001b[1;33m]\u001b[0m\u001b[1;33m\u001b[0m\u001b[0m\n",
      "\u001b[1;32m~\\AppData\\Local\\conda\\conda\\envs\\tfgpu1.1\\lib\\site-packages\\tensorflow\\python\\client\\session.py\u001b[0m in \u001b[0;36m_do_run\u001b[1;34m(self, handle, target_list, fetch_list, feed_dict, options, run_metadata)\u001b[0m\n\u001b[0;32m   1030\u001b[0m     \u001b[1;32mif\u001b[0m \u001b[0mhandle\u001b[0m \u001b[1;32mis\u001b[0m \u001b[1;32mNone\u001b[0m\u001b[1;33m:\u001b[0m\u001b[1;33m\u001b[0m\u001b[0m\n\u001b[0;32m   1031\u001b[0m       return self._do_call(_run_fn, self._session, feed_dict, fetch_list,\n\u001b[1;32m-> 1032\u001b[1;33m                            target_list, options, run_metadata)\n\u001b[0m\u001b[0;32m   1033\u001b[0m     \u001b[1;32melse\u001b[0m\u001b[1;33m:\u001b[0m\u001b[1;33m\u001b[0m\u001b[0m\n\u001b[0;32m   1034\u001b[0m       return self._do_call(_prun_fn, self._session, handle, feed_dict,\n",
      "\u001b[1;32m~\\AppData\\Local\\conda\\conda\\envs\\tfgpu1.1\\lib\\site-packages\\tensorflow\\python\\client\\session.py\u001b[0m in \u001b[0;36m_do_call\u001b[1;34m(self, fn, *args)\u001b[0m\n\u001b[0;32m   1037\u001b[0m   \u001b[1;32mdef\u001b[0m \u001b[0m_do_call\u001b[0m\u001b[1;33m(\u001b[0m\u001b[0mself\u001b[0m\u001b[1;33m,\u001b[0m \u001b[0mfn\u001b[0m\u001b[1;33m,\u001b[0m \u001b[1;33m*\u001b[0m\u001b[0margs\u001b[0m\u001b[1;33m)\u001b[0m\u001b[1;33m:\u001b[0m\u001b[1;33m\u001b[0m\u001b[0m\n\u001b[0;32m   1038\u001b[0m     \u001b[1;32mtry\u001b[0m\u001b[1;33m:\u001b[0m\u001b[1;33m\u001b[0m\u001b[0m\n\u001b[1;32m-> 1039\u001b[1;33m       \u001b[1;32mreturn\u001b[0m \u001b[0mfn\u001b[0m\u001b[1;33m(\u001b[0m\u001b[1;33m*\u001b[0m\u001b[0margs\u001b[0m\u001b[1;33m)\u001b[0m\u001b[1;33m\u001b[0m\u001b[0m\n\u001b[0m\u001b[0;32m   1040\u001b[0m     \u001b[1;32mexcept\u001b[0m \u001b[0merrors\u001b[0m\u001b[1;33m.\u001b[0m\u001b[0mOpError\u001b[0m \u001b[1;32mas\u001b[0m \u001b[0me\u001b[0m\u001b[1;33m:\u001b[0m\u001b[1;33m\u001b[0m\u001b[0m\n\u001b[0;32m   1041\u001b[0m       \u001b[0mmessage\u001b[0m \u001b[1;33m=\u001b[0m \u001b[0mcompat\u001b[0m\u001b[1;33m.\u001b[0m\u001b[0mas_text\u001b[0m\u001b[1;33m(\u001b[0m\u001b[0me\u001b[0m\u001b[1;33m.\u001b[0m\u001b[0mmessage\u001b[0m\u001b[1;33m)\u001b[0m\u001b[1;33m\u001b[0m\u001b[0m\n",
      "\u001b[1;32m~\\AppData\\Local\\conda\\conda\\envs\\tfgpu1.1\\lib\\site-packages\\tensorflow\\python\\client\\session.py\u001b[0m in \u001b[0;36m_run_fn\u001b[1;34m(session, feed_dict, fetch_list, target_list, options, run_metadata)\u001b[0m\n\u001b[0;32m   1019\u001b[0m         return tf_session.TF_Run(session, options,\n\u001b[0;32m   1020\u001b[0m                                  \u001b[0mfeed_dict\u001b[0m\u001b[1;33m,\u001b[0m \u001b[0mfetch_list\u001b[0m\u001b[1;33m,\u001b[0m \u001b[0mtarget_list\u001b[0m\u001b[1;33m,\u001b[0m\u001b[1;33m\u001b[0m\u001b[0m\n\u001b[1;32m-> 1021\u001b[1;33m                                  status, run_metadata)\n\u001b[0m\u001b[0;32m   1022\u001b[0m \u001b[1;33m\u001b[0m\u001b[0m\n\u001b[0;32m   1023\u001b[0m     \u001b[1;32mdef\u001b[0m \u001b[0m_prun_fn\u001b[0m\u001b[1;33m(\u001b[0m\u001b[0msession\u001b[0m\u001b[1;33m,\u001b[0m \u001b[0mhandle\u001b[0m\u001b[1;33m,\u001b[0m \u001b[0mfeed_dict\u001b[0m\u001b[1;33m,\u001b[0m \u001b[0mfetch_list\u001b[0m\u001b[1;33m)\u001b[0m\u001b[1;33m:\u001b[0m\u001b[1;33m\u001b[0m\u001b[0m\n",
      "\u001b[1;31mKeyboardInterrupt\u001b[0m: "
     ]
    }
   ],
   "source": [
    "save_model_path = './key_classification'\n",
    "\n",
    "print('Training...')\n",
    "with tf.Session() as sess:\n",
    "    # Initialize the variables\n",
    "    sess.run(tf.global_variables_initializer())\n",
    "    \n",
    "    # Training cycle\n",
    "    for epoch in range(epochs):\n",
    "        # Loop over all batches\n",
    "        for batch_features, batch_labels in get_batches(train_features, train_labels, batch_size):\n",
    "            sess.run(optimizer, feed_dict={x: batch_features, \n",
    "                                           y: batch_labels, \n",
    "                                           learn_rate: learning_rate, \n",
    "                                           keep_prob: keep_probability})\n",
    "        if epoch % 1 == 0:\n",
    "            print('Epoch {}: '.format(epoch), end='')\n",
    "            print_stats(sess, batch_features, batch_labels, cost, accuracy)         \n",
    "            \n",
    "    saver = tf.train.Saver()\n",
    "    save_path = saver.save(sess, save_model_path)"
   ]
  },
  {
   "cell_type": "markdown",
   "metadata": {
    "collapsed": true
   },
   "source": [
    "### Test Model"
   ]
  },
  {
   "cell_type": "code",
   "execution_count": null,
   "metadata": {
    "collapsed": true
   },
   "outputs": [],
   "source": [
    "loaded_graph = tf.Graph()\n",
    "\n",
    "with tf.Session(graph=loaded_graph) as sess:"
   ]
  }
 ],
 "metadata": {
  "kernelspec": {
   "display_name": "Python 3",
   "language": "python",
   "name": "python3"
  },
  "language_info": {
   "codemirror_mode": {
    "name": "ipython",
    "version": 3
   },
   "file_extension": ".py",
   "mimetype": "text/x-python",
   "name": "python",
   "nbconvert_exporter": "python",
   "pygments_lexer": "ipython3",
   "version": "3.5.3"
  }
 },
 "nbformat": 4,
 "nbformat_minor": 2
}
