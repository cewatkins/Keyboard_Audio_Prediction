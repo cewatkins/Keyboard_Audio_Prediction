{
 "cells": [
  {
   "cell_type": "markdown",
   "metadata": {},
   "source": [
    "# Check the Version of TensorFlow and Access to GPU\n",
    "This will check to make sure you have the correct version of TensorFlow and access to a GPU"
   ]
  },
  {
   "cell_type": "markdown",
   "metadata": {},
   "source": [
    "# Todo List\n",
    "- Add several dense layers after convolutional layers\n",
    "- Play with learning rate and batch size"
   ]
  },
  {
   "cell_type": "code",
   "execution_count": 14,
   "metadata": {
    "collapsed": true
   },
   "outputs": [],
   "source": [
    "import pandas as pd\n",
    "import numpy as np\n",
    "from sklearn import preprocessing\n",
    "import pickle"
   ]
  },
  {
   "cell_type": "code",
   "execution_count": 15,
   "metadata": {},
   "outputs": [
    {
     "name": "stdout",
     "output_type": "stream",
     "text": [
      "TensorFlow Version: 1.1.0\n",
      "Default GPU Device: /gpu:0\n"
     ]
    }
   ],
   "source": [
    "from distutils.version import LooseVersion\n",
    "import warnings\n",
    "import tensorflow as tf\n",
    "\n",
    "# Check TensorFlow Version\n",
    "assert LooseVersion(tf.__version__) >= LooseVersion('1.0'), 'Please use TensorFlow version 1.0 or newer.  You are using {}'.format(tf.__version__)\n",
    "print('TensorFlow Version: {}'.format(tf.__version__))\n",
    "\n",
    "# Check for a GPU\n",
    "if not tf.test.gpu_device_name():\n",
    "    warnings.warn('No GPU found. Please use a GPU to train your neural network.')\n",
    "else:\n",
    "    print('Default GPU Device: {}'.format(tf.test.gpu_device_name()))"
   ]
  },
  {
   "cell_type": "markdown",
   "metadata": {},
   "source": [
    "# Import Data"
   ]
  },
  {
   "cell_type": "code",
   "execution_count": 16,
   "metadata": {
    "collapsed": true
   },
   "outputs": [],
   "source": [
    "import os\n",
    "dataset_dir = 'DataSet/'"
   ]
  },
  {
   "cell_type": "code",
   "execution_count": 17,
   "metadata": {},
   "outputs": [
    {
     "name": "stdout",
     "output_type": "stream",
     "text": [
      "File: DataSet/2018-07-13_18-39-56_0.pkl, DataSet Length: 500\n",
      "File: DataSet/2018-07-13_18-43-51_0.pkl, DataSet Length: 500\n",
      "File: DataSet/2018-07-13_18-46-04_1.pkl, DataSet Length: 500\n",
      "File: DataSet/2018-07-13_18-47-58_2.pkl, DataSet Length: 500\n",
      "File: DataSet/2018-07-13_18-49-54_3.pkl, DataSet Length: 500\n",
      "File: DataSet/2018-07-13_18-52-16_4.pkl, DataSet Length: 500\n",
      "File: DataSet/2018-07-13_18-54-29_5.pkl, DataSet Length: 500\n",
      "File: DataSet/2018-07-13_18-56-38_6.pkl, DataSet Length: 500\n",
      "File: DataSet/2018-07-13_18-58-30_7.pkl, DataSet Length: 500\n",
      "File: DataSet/2018-07-13_19-00-21_8.pkl, DataSet Length: 500\n",
      "File: DataSet/2018-07-13_19-02-36_9.pkl, DataSet Length: 500\n",
      "File: DataSet/2018-07-13_19-04-42_10.pkl, DataSet Length: 500\n",
      "File: DataSet/2018-07-13_19-06-38_11.pkl, DataSet Length: 500\n",
      "File: DataSet/2018-07-13_19-08-49_12.pkl, DataSet Length: 500\n",
      "File: DataSet/2018-07-13_19-10-48_13.pkl, DataSet Length: 500\n",
      "File: DataSet/2018-07-13_19-12-43_14.pkl, DataSet Length: 500\n",
      "File: DataSet/2018-07-13_19-14-54_15.pkl, DataSet Length: 500\n",
      "File: DataSet/2018-07-13_19-16-54_16.pkl, DataSet Length: 500\n",
      "File: DataSet/2018-07-13_19-19-01_17.pkl, DataSet Length: 500\n",
      "File: DataSet/2018-07-13_19-20-48_18.pkl, DataSet Length: 500\n",
      "File: DataSet/2018-07-13_19-22-54_19.pkl, DataSet Length: 500\n",
      "File: DataSet/data_07-08-18.pkl, DataSet Length: 7150\n",
      "File: DataSet/data_07-10-18_work.pkl, DataSet Length: 8700\n",
      "File: DataSet/data_07-13-18.pkl, DataSet Length: 5400\n",
      "File: DataSet/test_set.pkl, DataSet Length: 500\n",
      "Total Length: 32250\n"
     ]
    }
   ],
   "source": [
    "count = 0\n",
    "for filename in os.listdir(dataset_dir):\n",
    "    if filename.endswith(\".pkl\"): \n",
    "        df = pd.read_pickle(os.path.join(dataset_dir, filename))\n",
    "        \n",
    "        if count == 0:\n",
    "            raw_df = df\n",
    "        else:\n",
    "            raw_df = raw_df.append(df, ignore_index=True)\n",
    "            \n",
    "        print('File: {}, DataSet Length: {}'.format(os.path.join(dataset_dir, filename), len(df)))\n",
    "        count += 1\n",
    "    else:\n",
    "        continue\n",
    "print('Total Length: {}'.format(len(raw_df)))"
   ]
  },
  {
   "cell_type": "code",
   "execution_count": 18,
   "metadata": {
    "collapsed": true
   },
   "outputs": [],
   "source": [
    "# # Read saved list of data from object into a dataframe\n",
    "# raw_df = pd.read_pickle('DataSet/data_07-10-18.pkl')\n",
    "# print(len(raw_df))\n",
    "# raw_df.head()"
   ]
  },
  {
   "cell_type": "code",
   "execution_count": 19,
   "metadata": {
    "collapsed": true
   },
   "outputs": [],
   "source": [
    "data_width = len(raw_df['data'][0])"
   ]
  },
  {
   "cell_type": "markdown",
   "metadata": {},
   "source": [
    "# Data Preprocessing"
   ]
  },
  {
   "cell_type": "markdown",
   "metadata": {},
   "source": [
    "#### Filter out key counts less than threshold value"
   ]
  },
  {
   "cell_type": "code",
   "execution_count": 20,
   "metadata": {
    "collapsed": true
   },
   "outputs": [],
   "source": [
    "import collections\n",
    "import matplotlib.pyplot as plt\n",
    "key_count = collections.Counter(raw_df['key'])"
   ]
  },
  {
   "cell_type": "code",
   "execution_count": 21,
   "metadata": {
    "collapsed": true
   },
   "outputs": [],
   "source": [
    "width = 0.5 # Bar width\n",
    "figsize = (15, 4)\n",
    "\n",
    "def plot_key_hist(most_common):\n",
    "    if len(most_common) > 30:\n",
    "        most_common = most_common[:30]\n",
    "        \n",
    "    hist_labels, hist_values = zip(*most_common) # Show only a subset of all keys\n",
    "    indexes = np.arange(len(hist_labels))\n",
    "    plt.figure(figsize=figsize)\n",
    "    plt.bar(indexes, hist_values, width)\n",
    "    plt.xticks(indexes + width * 0.5, hist_labels, rotation='vertical')\n",
    "    plt.show()"
   ]
  },
  {
   "cell_type": "code",
   "execution_count": 22,
   "metadata": {},
   "outputs": [
    {
     "data": {
      "image/png": "[encoded data removed]",
      "text/plain": [
       "<matplotlib.figure.Figure at 0x1506e9fdbe0>"
      ]
     },
     "metadata": {},
     "output_type": "display_data"
    }
   ],
   "source": [
    "plot_key_hist(key_count.most_common())"
   ]
  },
  {
   "cell_type": "code",
   "execution_count": 23,
   "metadata": {},
   "outputs": [
    {
     "data": {
      "text/plain": [
       "<bound method Counter.most_common of Counter({'space': 5072, 'e': 3128, 't': 2451, 'a': 2167, 'i': 1883, 'o': 1802, 'n': 1790, 's': 1776, 'r': 1508, 'h': 1126, 'l': 1122, 'd': 894, 'c': 849, 'u': 641, 'm': 633, 'g': 596, 'f': 525, 'p': 488, 'w': 439, 'y': 432, 'b': 395, 'v': 318, 'backspace': 309, '.': 288, ',': 251, 'k': 193, 'enter': 150, 'shift': 120, 'x': 108, \"'\": 77, '0': 72, 'z': 67, 'ctrl_l': 60, '-': 56, '1': 45, '2': 43, 'q': 42, 'delete': 38, 'down': 38, '9': 35, 'j': 27, '3': 25, '5': 21, 'esc': 17, '/': 17, ';': 16, 'left': 16, '7': 15, '6': 14, '8': 14, '4': 14, 'up': 10, 'right': 8, 'tab': 4, '=': 4, '`': 1})>"
      ]
     },
     "execution_count": 23,
     "metadata": {},
     "output_type": "execute_result"
    }
   ],
   "source": [
    "key_count.most_common"
   ]
  },
  {
   "cell_type": "code",
   "execution_count": 24,
   "metadata": {},
   "outputs": [
    {
     "name": "stdout",
     "output_type": "stream",
     "text": [
      "Max Data Size: 14208, Class Count: 8, Threshold: 1775\n"
     ]
    }
   ],
   "source": [
    "# Maximize DataSet Size By Finding Optimal Threshold\n",
    "max_data_size = 0\n",
    "max_class_cnt = 0\n",
    "threshold_max = 0\n",
    "for _, v in key_count.most_common():\n",
    "    threshold = v - 1\n",
    "    min_thresh_cnts = [count for key, count in zip(key_count.keys(), key_count.values()) if count > threshold]\n",
    "    class_cnt = len(min_thresh_cnts)\n",
    "    data_size = min(min_thresh_cnts)*len(min_thresh_cnts)\n",
    "    if data_size > max_data_size:\n",
    "        max_data_size = data_size\n",
    "        max_class_cnt = class_cnt\n",
    "        threshold_max = threshold\n",
    "print('Max Data Size: {}, Class Count: {}, Threshold: {}'.format(max_data_size, max_class_cnt, threshold_max))"
   ]
  },
  {
   "cell_type": "code",
   "execution_count": 25,
   "metadata": {
    "collapsed": true
   },
   "outputs": [],
   "source": [
    "# Get list of keys with counts greater than threshold\n",
    "threshold = threshold_max\n",
    "min_thresh_keys = [key for key, count in zip(key_count.keys(), key_count.values()) if count > threshold]\n",
    "\n",
    "# Save list of key classes to pickle\n",
    "pickle.dump(min_thresh_keys, open(os.path.join(dataset_dir, \"key_classes.p\"), \"wb\"))"
   ]
  },
  {
   "cell_type": "code",
   "execution_count": 26,
   "metadata": {
    "collapsed": true
   },
   "outputs": [],
   "source": [
    "min_thresh_df = raw_df[raw_df['key'].isin(min_thresh_keys)] # Filter dataframe to only include keys > threshold"
   ]
  },
  {
   "cell_type": "code",
   "execution_count": 27,
   "metadata": {
    "collapsed": true
   },
   "outputs": [],
   "source": [
    "def trim_max_thresh(grouped_class):\n",
    "    return grouped_class.sample(threshold)"
   ]
  },
  {
   "cell_type": "code",
   "execution_count": 28,
   "metadata": {
    "collapsed": true
   },
   "outputs": [],
   "source": [
    "# Keep same number of samples in each class by throwing away everything past the threshold\n",
    "df = min_thresh_df.groupby(['key']).apply(trim_max_thresh)"
   ]
  },
  {
   "cell_type": "markdown",
   "metadata": {},
   "source": [
    "#### Plot truncated data"
   ]
  },
  {
   "cell_type": "code",
   "execution_count": 29,
   "metadata": {
    "collapsed": true
   },
   "outputs": [],
   "source": [
    "truncated_count = collections.Counter(df['key'])"
   ]
  },
  {
   "cell_type": "code",
   "execution_count": 30,
   "metadata": {},
   "outputs": [
    {
     "data": {
      "image/png": "[encoded data removed]",
      "text/plain": [
       "<matplotlib.figure.Figure at 0x1506dedb6a0>"
      ]
     },
     "metadata": {},
     "output_type": "display_data"
    }
   ],
   "source": [
    "plot_key_hist(truncated_count.most_common())"
   ]
  },
  {
   "cell_type": "markdown",
   "metadata": {},
   "source": [
    "### Shuffle data"
   ]
  },
  {
   "cell_type": "code",
   "execution_count": 31,
   "metadata": {
    "collapsed": true
   },
   "outputs": [],
   "source": [
    "df = df.sample(frac=1).reset_index(drop=True)"
   ]
  },
  {
   "cell_type": "markdown",
   "metadata": {},
   "source": [
    "## Skip to Load If Normalized Data Already Exists on Disk"
   ]
  },
  {
   "cell_type": "markdown",
   "metadata": {},
   "source": [
    "#### Normalize Data"
   ]
  },
  {
   "cell_type": "code",
   "execution_count": 32,
   "metadata": {
    "collapsed": true
   },
   "outputs": [],
   "source": [
    "input_data = df['data'].values\n",
    "input_data = np.stack(input_data, axis=0)"
   ]
  },
  {
   "cell_type": "code",
   "execution_count": 33,
   "metadata": {},
   "outputs": [
    {
     "name": "stderr",
     "output_type": "stream",
     "text": [
      "C:\\Users\\stephen\\AppData\\Local\\conda\\conda\\envs\\tfgpu1.1\\lib\\site-packages\\sklearn\\utils\\validation.py:444: DataConversionWarning: Data with input dtype int16 was converted to float64 by MinMaxScaler.\n",
      "  warnings.warn(msg, DataConversionWarning)\n"
     ]
    }
   ],
   "source": [
    "scaler = preprocessing.MinMaxScaler(feature_range=(0,1))\n",
    "normalized_data = scaler.fit_transform(input_data)"
   ]
  },
  {
   "cell_type": "markdown",
   "metadata": {},
   "source": [
    "#### One Hot Encode Classes"
   ]
  },
  {
   "cell_type": "code",
   "execution_count": 34,
   "metadata": {
    "collapsed": true
   },
   "outputs": [],
   "source": [
    "n_classes = len(set(df['key']))"
   ]
  },
  {
   "cell_type": "code",
   "execution_count": 35,
   "metadata": {
    "collapsed": true
   },
   "outputs": [],
   "source": [
    "labels_str = [str(key) for key in df['key']]\n",
    "lb = preprocessing.LabelBinarizer() # Create encoder\n",
    "lb.fit(list(set(labels_str)))\n",
    "labels = lb.transform(labels_str)"
   ]
  },
  {
   "cell_type": "code",
   "execution_count": 36,
   "metadata": {},
   "outputs": [
    {
     "data": {
      "text/plain": [
       "array(['a', 'e', 'i', 'n', 'o', 's', 'space', 't'],\n",
       "      dtype='<U5')"
      ]
     },
     "execution_count": 36,
     "metadata": {},
     "output_type": "execute_result"
    }
   ],
   "source": [
    "lb.classes_"
   ]
  },
  {
   "cell_type": "markdown",
   "metadata": {},
   "source": [
    "#### Split Training and Validation Data"
   ]
  },
  {
   "cell_type": "markdown",
   "metadata": {},
   "source": [
    "Reshape to add 1 channel"
   ]
  },
  {
   "cell_type": "code",
   "execution_count": 29,
   "metadata": {},
   "outputs": [
    {
     "data": {
      "text/plain": [
       "(14200, 10240, 1)"
      ]
     },
     "execution_count": 29,
     "metadata": {},
     "output_type": "execute_result"
    }
   ],
   "source": [
    "normalized_data = normalized_data.reshape((normalized_data.shape[0], normalized_data.shape[1], 1))\n",
    "# labels = labels.reshape((labels.shape[0], labels.shape[1], 1))\n",
    "normalized_data.shape"
   ]
  },
  {
   "cell_type": "code",
   "execution_count": 30,
   "metadata": {
    "collapsed": true
   },
   "outputs": [],
   "source": [
    "from sklearn.model_selection import train_test_split\n",
    "train_features, valid_features, train_labels, valid_labels = train_test_split(\n",
    "    normalized_data, \n",
    "    labels, \n",
    "    test_size=0.1, \n",
    "    random_state=42)"
   ]
  },
  {
   "cell_type": "markdown",
   "metadata": {},
   "source": [
    "# Define Network"
   ]
  },
  {
   "cell_type": "markdown",
   "metadata": {},
   "source": [
    "### Input"
   ]
  },
  {
   "cell_type": "code",
   "execution_count": 31,
   "metadata": {
    "collapsed": true
   },
   "outputs": [],
   "source": [
    "def model_inputs(data_width, n_classes):\n",
    "    \"\"\"\n",
    "    Create the model inputs\n",
    "    :param data_width: The total number of samples in the recorded data point\n",
    "    :param n_classes: Number of Classes\n",
    "    :return: Tuple of (tensor of input audio data, key press labels, learning rate, keep_prob)\n",
    "    \"\"\"\n",
    "    # TODO: Add audio channels to input\n",
    "    \n",
    "    with tf.name_scope(\"Inputs\"):\n",
    "        audio_inputs = tf.placeholder(tf.float32, [None, data_width, 1], name='inputs')\n",
    "    with tf.name_scope(\"Targets\"):\n",
    "        key_labels = tf.placeholder(tf.float32, [None, n_classes], name='labels')\n",
    "    learning_rate = tf.placeholder(tf.float32, name='learning_rate')\n",
    "    keep_prob = tf.placeholder(tf.float32, name='keep_probability')\n",
    "\n",
    "    return audio_inputs, key_labels, learning_rate, keep_prob"
   ]
  },
  {
   "cell_type": "markdown",
   "metadata": {},
   "source": [
    "### Get Batches"
   ]
  },
  {
   "cell_type": "code",
   "execution_count": 32,
   "metadata": {
    "collapsed": true
   },
   "outputs": [],
   "source": [
    "def get_batches(features, labels, batch_size):\n",
    "    \"\"\"\n",
    "    Split features and labels into batches\n",
    "    \"\"\"\n",
    "    for start in range(0, len(features), batch_size):\n",
    "        end = min(start + batch_size, len(features))\n",
    "        yield features[start:end], labels[start:end]"
   ]
  },
  {
   "cell_type": "markdown",
   "metadata": {},
   "source": [
    "### Network"
   ]
  },
  {
   "cell_type": "code",
   "execution_count": 34,
   "metadata": {
    "collapsed": true
   },
   "outputs": [],
   "source": [
    "def network(X, keep_prob, n_classes):\n",
    "    \"\"\"\n",
    "    Create the network\n",
    "    :param X: Tensor of input recording(s)\n",
    "    :param keep_prob: Tensor for the keep probability\n",
    "    :param n_classes: Number of Classes\n",
    "    :return: Tuple of (tensor output of the classifier, tensor logits of the classifier)\n",
    "    \"\"\"    \n",
    "    # Hyperparameters\n",
    "    alpha = 0.2\n",
    "    h_dim = 32\n",
    "    \n",
    "    #print(\"X: {}\".format(X.shape))\n",
    "     \n",
    "    with tf.name_scope(\"Hidden_Layer1\"):\n",
    "        #h1 = tf.layers.dense(X, h_dim, activation=None)\n",
    "        h1 = tf.layers.conv1d(X, h_dim, 200, 10, 'same', activation=None)\n",
    "        h1 = tf.layers.max_pooling1d(h1, 5, 2, 'same')\n",
    "        h1 = tf.nn.dropout(h1, keep_prob) # Regularization\n",
    "        h1 = tf.maximum(h1*alpha, h1) # Leaky ReLu\n",
    "        h1 = tf.layers.batch_normalization(h1)\n",
    "        \n",
    "    #print(\"h1: {}\".format(h1.shape))\n",
    "\n",
    "    with tf.name_scope(\"Hidden_Layer2\"):\n",
    "        #h2 = tf.layers.dense(h1, h_dim, activation=None)\n",
    "        h2 = tf.layers.conv1d(h1, h_dim*2, 50, 5, 'same', activation=None)\n",
    "        #h2 = tf.layers.maxpool2d(h2, 5, 2, 'same')\n",
    "        h2 = tf.nn.dropout(h2, keep_prob) # Regularization        \n",
    "        h2 = tf.maximum(h2*alpha, h2) # Leaky ReLu\n",
    "        h2 = tf.layers.batch_normalization(h2)\n",
    "        \n",
    "    #print(\"h2: {}\".format(h2.shape))\n",
    "\n",
    "    with tf.name_scope(\"Hidden_Layer3\"):\n",
    "        #h3 = tf.layers.dense(h2, h_dim, activation=None)\n",
    "        h3 = tf.layers.conv1d(h2, h_dim*3, 20, 2, 'same', activation=None)\n",
    "        #h3 = tf.layers.maxpool2d(h3, 3, 2, 'same')\n",
    "        h3 = tf.nn.dropout(h3, keep_prob) # Regularization\n",
    "        h3 = tf.maximum(h3*alpha, h3) # Leaky ReLu\n",
    "        h3 = tf.layers.batch_normalization(h3)\n",
    "        \n",
    "    with tf.name_scope(\"Hidden_Layer4\"):\n",
    "        h4 = tf.layers.conv1d(h3, h_dim*4, 10, 1, 'same', activation=None)\n",
    "        h4 = tf.nn.dropout(h4, keep_prob) # Regularization\n",
    "        h4 = tf.maximum(h4*alpha, h4) # Leaky ReLu\n",
    "        h4 = tf.layers.batch_normalization(h4)\n",
    "    \n",
    "    \n",
    "    \n",
    "    with tf.name_scope(\"Output\"):\n",
    "        flat_dim = int(h4.get_shape()[1])*int(h4.get_shape()[2])\n",
    "        flat = tf.reshape(h4, [-1, flat_dim])\n",
    "        #print(\"flat: {}\".format(flat.shape))\n",
    "        logits = tf.layers.dense(flat, n_classes, activation=None, name='logits')\n",
    "        #print(\"logits: {}\".format(logits.shape))\n",
    "        #out = tf.nn.softmax(logits, name='softmax_out')\n",
    "\n",
    "    return logits"
   ]
  },
  {
   "cell_type": "markdown",
   "metadata": {},
   "source": [
    "### Show Stats"
   ]
  },
  {
   "cell_type": "code",
   "execution_count": 35,
   "metadata": {
    "collapsed": true
   },
   "outputs": [],
   "source": [
    "def print_stats(session, feature_batch, label_batch, cost, accuracy, esi):\n",
    "    \"\"\"\n",
    "    Print information about loss and validation accuracy\n",
    "    : session: Current TensorFlow session\n",
    "    : feature_batch: Batch of Numpy image data\n",
    "    : label_batch: Batch of Numpy label data\n",
    "    : cost: TensorFlow cost function\n",
    "    : accuracy: TensorFlow accuracy function\n",
    "    : esi: Epochs since the last improvement\n",
    "    \"\"\"\n",
    "    with tf.name_scope(\"Validation_Stats\"):\n",
    "        validation_loss = session.run(cost, feed_dict={x: feature_batch, y: label_batch, keep_prob: 1.0})\n",
    "        validation_accuracy = session.run(accuracy, feed_dict={x: valid_features, y: valid_labels, keep_prob: 1.0})\n",
    "        train_accuracy = session.run(accuracy, feed_dict={x: train_features[:1000], y: train_labels[:1000], keep_prob: 1.0})\n",
    "        print(\"Train Accuracy: {0:0.4f}, Validation Accuracy: {1:0.4f}, Validation Loss: {2:0.4f}, ESI: {3}\".format(train_accuracy, validation_accuracy, validation_loss, esi))\n",
    "        return validation_accuracy"
   ]
  },
  {
   "cell_type": "markdown",
   "metadata": {},
   "source": [
    "### Build Neural Network"
   ]
  },
  {
   "cell_type": "code",
   "execution_count": 36,
   "metadata": {
    "collapsed": true
   },
   "outputs": [],
   "source": [
    "# Remove previous weights, bias, inputs, etc..\n",
    "tf.reset_default_graph()\n",
    "\n",
    "# Inputs\n",
    "x, y, learn_rate, keep_prob = model_inputs(data_width, n_classes)\n",
    "\n",
    "#Model\n",
    "logits = network(x, keep_prob, n_classes)\n",
    "\n",
    "with tf.name_scope(\"Cost\"):\n",
    "    # Cost and Optimizer\n",
    "    cost = tf.reduce_mean(tf.nn.softmax_cross_entropy_with_logits(logits=logits, labels=y, name='loss'), name='cost')\n",
    "    \n",
    "with tf.name_scope(\"Train\"):\n",
    "    optimizer = tf.train.AdamOptimizer(learn_rate, name='optimizer').minimize(cost)\n",
    "\n",
    "with tf.name_scope(\"Accuracy\"):\n",
    "    # Accuracy\n",
    "    correct_pred = tf.equal(tf.argmax(logits, 1), tf.argmax(y, 1), name='prediction')\n",
    "    accuracy = tf.reduce_mean(tf.cast(correct_pred, tf.float32), name='accuracy')\n",
    "    \n",
    "predicted = tf.nn.softmax(logits, name='predicted')"
   ]
  },
  {
   "cell_type": "markdown",
   "metadata": {},
   "source": [
    "### Write out the graph for TensorBoard"
   ]
  },
  {
   "cell_type": "code",
   "execution_count": 37,
   "metadata": {
    "collapsed": true
   },
   "outputs": [],
   "source": [
    "with tf.Session() as sess:\n",
    "    sess.run(tf.global_variables_initializer())\n",
    "    file_writer = tf.summary.FileWriter('./logs/2', sess.graph)"
   ]
  },
  {
   "cell_type": "markdown",
   "metadata": {},
   "source": [
    "### Hyperparameters"
   ]
  },
  {
   "cell_type": "code",
   "execution_count": 38,
   "metadata": {
    "collapsed": true
   },
   "outputs": [],
   "source": [
    "epochs = 5000\n",
    "batch_size = 16\n",
    "keep_probability = 0.70\n",
    "learning_rate = 0.0001"
   ]
  },
  {
   "cell_type": "markdown",
   "metadata": {},
   "source": [
    "# Train Neural Network"
   ]
  },
  {
   "cell_type": "code",
   "execution_count": 39,
   "metadata": {},
   "outputs": [
    {
     "name": "stdout",
     "output_type": "stream",
     "text": [
      "12.5%\n"
     ]
    }
   ],
   "source": [
    "# Accuracy to beat (Min of 3 classes)\n",
    "print(\"{:.3}%\".format((1/n_classes)*100))"
   ]
  },
  {
   "cell_type": "code",
   "execution_count": 40,
   "metadata": {
    "scrolled": true
   },
   "outputs": [
    {
     "name": "stdout",
     "output_type": "stream",
     "text": [
      "Epoch 0: Train Accuracy: 0.1310, Validation Accuracy: 0.1120, Validation Loss: 2.1193, ESI: 0\n",
      "Epoch 1: Train Accuracy: 0.2130, Validation Accuracy: 0.2106, Validation Loss: 1.8059, ESI: 0\n",
      "Epoch 2: Train Accuracy: 0.2750, Validation Accuracy: 0.2563, Validation Loss: 1.6417, ESI: 0\n",
      "Epoch 3: Train Accuracy: 0.4640, Validation Accuracy: 0.4775, Validation Loss: 1.4168, ESI: 0\n",
      "Epoch 4: Train Accuracy: 0.5160, Validation Accuracy: 0.5085, Validation Loss: 1.2052, ESI: 0\n",
      "Epoch 5: Train Accuracy: 0.5410, Validation Accuracy: 0.5303, Validation Loss: 1.1013, ESI: 0\n",
      "Epoch 6: Train Accuracy: 0.5570, Validation Accuracy: 0.5437, Validation Loss: 1.0568, ESI: 0\n",
      "Epoch 7: Train Accuracy: 0.5770, Validation Accuracy: 0.5697, Validation Loss: 1.0060, ESI: 0\n",
      "Epoch 8: Train Accuracy: 0.5840, Validation Accuracy: 0.5704, Validation Loss: 0.9793, ESI: 0\n",
      "Epoch 9: Train Accuracy: 0.5930, Validation Accuracy: 0.5746, Validation Loss: 0.9979, ESI: 0\n",
      "Epoch 10: Train Accuracy: 0.5960, Validation Accuracy: 0.5697, Validation Loss: 0.9104, ESI: 0\n",
      "Epoch 11: Train Accuracy: 0.6040, Validation Accuracy: 0.5944, Validation Loss: 0.8624, ESI: 1\n",
      "Epoch 12: Train Accuracy: 0.6250, Validation Accuracy: 0.6056, Validation Loss: 0.8769, ESI: 0\n",
      "Epoch 13: Train Accuracy: 0.6350, Validation Accuracy: 0.6141, Validation Loss: 0.8198, ESI: 0\n",
      "Epoch 14: Train Accuracy: 0.6540, Validation Accuracy: 0.6190, Validation Loss: 0.7637, ESI: 0\n",
      "Epoch 15: Train Accuracy: 0.6810, Validation Accuracy: 0.6380, Validation Loss: 0.7398, ESI: 0\n",
      "Epoch 16: Train Accuracy: 0.6960, Validation Accuracy: 0.6437, Validation Loss: 0.7773, ESI: 0\n",
      "Epoch 17: Train Accuracy: 0.7110, Validation Accuracy: 0.6641, Validation Loss: 0.7632, ESI: 0\n",
      "Epoch 18: Train Accuracy: 0.6950, Validation Accuracy: 0.6479, Validation Loss: 0.7544, ESI: 0\n",
      "Epoch 19: Train Accuracy: 0.7250, Validation Accuracy: 0.6669, Validation Loss: 0.6766, ESI: 1\n",
      "Epoch 20: Train Accuracy: 0.7360, Validation Accuracy: 0.6746, Validation Loss: 0.6473, ESI: 0\n",
      "Epoch 21: Train Accuracy: 0.7480, Validation Accuracy: 0.6796, Validation Loss: 0.5828, ESI: 0\n",
      "Epoch 22: Train Accuracy: 0.7600, Validation Accuracy: 0.6930, Validation Loss: 0.4925, ESI: 0\n",
      "Epoch 23: Train Accuracy: 0.7770, Validation Accuracy: 0.6887, Validation Loss: 0.5682, ESI: 0\n",
      "Epoch 24: Train Accuracy: 0.7710, Validation Accuracy: 0.6859, Validation Loss: 0.4973, ESI: 1\n",
      "Epoch 25: Train Accuracy: 0.7850, Validation Accuracy: 0.7113, Validation Loss: 0.4350, ESI: 2\n",
      "Epoch 26: Train Accuracy: 0.7920, Validation Accuracy: 0.7077, Validation Loss: 0.4413, ESI: 0\n",
      "Epoch 27: Train Accuracy: 0.7880, Validation Accuracy: 0.7077, Validation Loss: 0.3737, ESI: 1\n",
      "Epoch 28: Train Accuracy: 0.8080, Validation Accuracy: 0.7197, Validation Loss: 0.5061, ESI: 2\n",
      "Epoch 29: Train Accuracy: 0.8050, Validation Accuracy: 0.7225, Validation Loss: 0.4176, ESI: 0\n",
      "Epoch 30: Train Accuracy: 0.8070, Validation Accuracy: 0.7106, Validation Loss: 0.4342, ESI: 0\n",
      "Epoch 31: Train Accuracy: 0.8210, Validation Accuracy: 0.7254, Validation Loss: 0.3907, ESI: 1\n",
      "Epoch 32: Train Accuracy: 0.8170, Validation Accuracy: 0.7246, Validation Loss: 0.4073, ESI: 0\n",
      "Epoch 33: Train Accuracy: 0.8240, Validation Accuracy: 0.7190, Validation Loss: 0.3035, ESI: 1\n",
      "Epoch 34: Train Accuracy: 0.8270, Validation Accuracy: 0.7268, Validation Loss: 0.3108, ESI: 2\n",
      "Epoch 35: Train Accuracy: 0.8280, Validation Accuracy: 0.7218, Validation Loss: 0.4148, ESI: 0\n",
      "Epoch 36: Train Accuracy: 0.8390, Validation Accuracy: 0.7444, Validation Loss: 0.2710, ESI: 1\n",
      "Epoch 37: Train Accuracy: 0.8450, Validation Accuracy: 0.7430, Validation Loss: 0.3705, ESI: 0\n",
      "Epoch 38: Train Accuracy: 0.8410, Validation Accuracy: 0.7352, Validation Loss: 0.3495, ESI: 1\n",
      "Epoch 39: Train Accuracy: 0.8530, Validation Accuracy: 0.7430, Validation Loss: 0.3715, ESI: 2\n",
      "Epoch 40: Train Accuracy: 0.8460, Validation Accuracy: 0.7465, Validation Loss: 0.3708, ESI: 3\n",
      "Epoch 41: Train Accuracy: 0.8540, Validation Accuracy: 0.7514, Validation Loss: 0.2551, ESI: 0\n",
      "Epoch 42: Train Accuracy: 0.8490, Validation Accuracy: 0.7493, Validation Loss: 0.2539, ESI: 0\n",
      "Epoch 43: Train Accuracy: 0.8510, Validation Accuracy: 0.7444, Validation Loss: 0.3007, ESI: 1\n",
      "Epoch 44: Train Accuracy: 0.8540, Validation Accuracy: 0.7408, Validation Loss: 0.2724, ESI: 2\n",
      "Epoch 45: Train Accuracy: 0.8620, Validation Accuracy: 0.7437, Validation Loss: 0.2036, ESI: 3\n",
      "Epoch 46: Train Accuracy: 0.8610, Validation Accuracy: 0.7366, Validation Loss: 0.2820, ESI: 4\n",
      "Epoch 47: Train Accuracy: 0.8670, Validation Accuracy: 0.7542, Validation Loss: 0.1785, ESI: 5\n",
      "Epoch 48: Train Accuracy: 0.8610, Validation Accuracy: 0.7408, Validation Loss: 0.2437, ESI: 0\n",
      "Epoch 49: Train Accuracy: 0.8680, Validation Accuracy: 0.7387, Validation Loss: 0.2184, ESI: 1\n",
      "Epoch 50: Train Accuracy: 0.8740, Validation Accuracy: 0.7556, Validation Loss: 0.2163, ESI: 2\n",
      "Epoch 51: Train Accuracy: 0.8720, Validation Accuracy: 0.7345, Validation Loss: 0.2422, ESI: 0\n",
      "Epoch 52: Train Accuracy: 0.8730, Validation Accuracy: 0.7458, Validation Loss: 0.1570, ESI: 1\n",
      "Epoch 53: Train Accuracy: 0.8850, Validation Accuracy: 0.7613, Validation Loss: 0.1742, ESI: 2\n",
      "Epoch 54: Train Accuracy: 0.8840, Validation Accuracy: 0.7528, Validation Loss: 0.1245, ESI: 0\n",
      "Epoch 55: Train Accuracy: 0.8840, Validation Accuracy: 0.7585, Validation Loss: 0.1835, ESI: 1\n",
      "Epoch 56: Train Accuracy: 0.9000, Validation Accuracy: 0.7634, Validation Loss: 0.1858, ESI: 2\n",
      "Epoch 57: Train Accuracy: 0.8890, Validation Accuracy: 0.7570, Validation Loss: 0.1421, ESI: 0\n",
      "Epoch 58: Train Accuracy: 0.8950, Validation Accuracy: 0.7683, Validation Loss: 0.1451, ESI: 1\n",
      "Epoch 59: Train Accuracy: 0.8890, Validation Accuracy: 0.7486, Validation Loss: 0.1991, ESI: 0\n",
      "Epoch 60: Train Accuracy: 0.8960, Validation Accuracy: 0.7648, Validation Loss: 0.1814, ESI: 1\n",
      "Epoch 61: Train Accuracy: 0.8980, Validation Accuracy: 0.7641, Validation Loss: 0.2109, ESI: 2\n",
      "Epoch 62: Train Accuracy: 0.8840, Validation Accuracy: 0.7542, Validation Loss: 0.1369, ESI: 3\n",
      "Epoch 63: Train Accuracy: 0.9030, Validation Accuracy: 0.7669, Validation Loss: 0.1359, ESI: 4\n",
      "Epoch 64: Train Accuracy: 0.9020, Validation Accuracy: 0.7641, Validation Loss: 0.1520, ESI: 5\n",
      "Epoch 65: Train Accuracy: 0.9060, Validation Accuracy: 0.7662, Validation Loss: 0.1043, ESI: 6\n",
      "Epoch 66: Train Accuracy: 0.8960, Validation Accuracy: 0.7648, Validation Loss: 0.1110, ESI: 7\n",
      "Epoch 67: Train Accuracy: 0.9060, Validation Accuracy: 0.7662, Validation Loss: 0.1517, ESI: 8\n",
      "Epoch 68: Train Accuracy: 0.9160, Validation Accuracy: 0.7761, Validation Loss: 0.1688, ESI: 9\n",
      "Epoch 69: Train Accuracy: 0.9170, Validation Accuracy: 0.7824, Validation Loss: 0.0725, ESI: 0\n",
      "Epoch 70: Train Accuracy: 0.9150, Validation Accuracy: 0.7648, Validation Loss: 0.0984, ESI: 0\n",
      "Epoch 71: Train Accuracy: 0.9210, Validation Accuracy: 0.7796, Validation Loss: 0.0855, ESI: 1\n",
      "Epoch 72: Train Accuracy: 0.9220, Validation Accuracy: 0.7690, Validation Loss: 0.0945, ESI: 2\n"
     ]
    },
    {
     "ename": "KeyboardInterrupt",
     "evalue": "",
     "output_type": "error",
     "traceback": [
      "\u001b[1;31m---------------------------------------------------------------------------\u001b[0m",
      "\u001b[1;31mKeyboardInterrupt\u001b[0m                         Traceback (most recent call last)",
      "\u001b[1;32m<ipython-input-40-672a6bc189c5>\u001b[0m in \u001b[0;36m<module>\u001b[1;34m()\u001b[0m\n\u001b[0;32m     13\u001b[0m                                            \u001b[0my\u001b[0m\u001b[1;33m:\u001b[0m \u001b[0mbatch_labels\u001b[0m\u001b[1;33m,\u001b[0m\u001b[1;33m\u001b[0m\u001b[0m\n\u001b[0;32m     14\u001b[0m                                            \u001b[0mlearn_rate\u001b[0m\u001b[1;33m:\u001b[0m \u001b[0mlearning_rate\u001b[0m\u001b[1;33m,\u001b[0m\u001b[1;33m\u001b[0m\u001b[0m\n\u001b[1;32m---> 15\u001b[1;33m                                            keep_prob: keep_probability})\n\u001b[0m\u001b[0;32m     16\u001b[0m         \u001b[1;32mif\u001b[0m \u001b[0mepoch\u001b[0m \u001b[1;33m%\u001b[0m \u001b[1;36m1\u001b[0m \u001b[1;33m==\u001b[0m \u001b[1;36m0\u001b[0m\u001b[1;33m:\u001b[0m\u001b[1;33m\u001b[0m\u001b[0m\n\u001b[0;32m     17\u001b[0m             \u001b[0mprint\u001b[0m\u001b[1;33m(\u001b[0m\u001b[1;34m'Epoch {}: '\u001b[0m\u001b[1;33m.\u001b[0m\u001b[0mformat\u001b[0m\u001b[1;33m(\u001b[0m\u001b[0mepoch\u001b[0m\u001b[1;33m)\u001b[0m\u001b[1;33m,\u001b[0m \u001b[0mend\u001b[0m\u001b[1;33m=\u001b[0m\u001b[1;34m''\u001b[0m\u001b[1;33m)\u001b[0m\u001b[1;33m\u001b[0m\u001b[0m\n",
      "\u001b[1;32m~\\AppData\\Local\\conda\\conda\\envs\\tfgpu1.1\\lib\\site-packages\\tensorflow\\python\\client\\session.py\u001b[0m in \u001b[0;36mrun\u001b[1;34m(self, fetches, feed_dict, options, run_metadata)\u001b[0m\n\u001b[0;32m    776\u001b[0m     \u001b[1;32mtry\u001b[0m\u001b[1;33m:\u001b[0m\u001b[1;33m\u001b[0m\u001b[0m\n\u001b[0;32m    777\u001b[0m       result = self._run(None, fetches, feed_dict, options_ptr,\n\u001b[1;32m--> 778\u001b[1;33m                          run_metadata_ptr)\n\u001b[0m\u001b[0;32m    779\u001b[0m       \u001b[1;32mif\u001b[0m \u001b[0mrun_metadata\u001b[0m\u001b[1;33m:\u001b[0m\u001b[1;33m\u001b[0m\u001b[0m\n\u001b[0;32m    780\u001b[0m         \u001b[0mproto_data\u001b[0m \u001b[1;33m=\u001b[0m \u001b[0mtf_session\u001b[0m\u001b[1;33m.\u001b[0m\u001b[0mTF_GetBuffer\u001b[0m\u001b[1;33m(\u001b[0m\u001b[0mrun_metadata_ptr\u001b[0m\u001b[1;33m)\u001b[0m\u001b[1;33m\u001b[0m\u001b[0m\n",
      "\u001b[1;32m~\\AppData\\Local\\conda\\conda\\envs\\tfgpu1.1\\lib\\site-packages\\tensorflow\\python\\client\\session.py\u001b[0m in \u001b[0;36m_run\u001b[1;34m(self, handle, fetches, feed_dict, options, run_metadata)\u001b[0m\n\u001b[0;32m    980\u001b[0m     \u001b[1;32mif\u001b[0m \u001b[0mfinal_fetches\u001b[0m \u001b[1;32mor\u001b[0m \u001b[0mfinal_targets\u001b[0m\u001b[1;33m:\u001b[0m\u001b[1;33m\u001b[0m\u001b[0m\n\u001b[0;32m    981\u001b[0m       results = self._do_run(handle, final_targets, final_fetches,\n\u001b[1;32m--> 982\u001b[1;33m                              feed_dict_string, options, run_metadata)\n\u001b[0m\u001b[0;32m    983\u001b[0m     \u001b[1;32melse\u001b[0m\u001b[1;33m:\u001b[0m\u001b[1;33m\u001b[0m\u001b[0m\n\u001b[0;32m    984\u001b[0m       \u001b[0mresults\u001b[0m \u001b[1;33m=\u001b[0m \u001b[1;33m[\u001b[0m\u001b[1;33m]\u001b[0m\u001b[1;33m\u001b[0m\u001b[0m\n",
      "\u001b[1;32m~\\AppData\\Local\\conda\\conda\\envs\\tfgpu1.1\\lib\\site-packages\\tensorflow\\python\\client\\session.py\u001b[0m in \u001b[0;36m_do_run\u001b[1;34m(self, handle, target_list, fetch_list, feed_dict, options, run_metadata)\u001b[0m\n\u001b[0;32m   1030\u001b[0m     \u001b[1;32mif\u001b[0m \u001b[0mhandle\u001b[0m \u001b[1;32mis\u001b[0m \u001b[1;32mNone\u001b[0m\u001b[1;33m:\u001b[0m\u001b[1;33m\u001b[0m\u001b[0m\n\u001b[0;32m   1031\u001b[0m       return self._do_call(_run_fn, self._session, feed_dict, fetch_list,\n\u001b[1;32m-> 1032\u001b[1;33m                            target_list, options, run_metadata)\n\u001b[0m\u001b[0;32m   1033\u001b[0m     \u001b[1;32melse\u001b[0m\u001b[1;33m:\u001b[0m\u001b[1;33m\u001b[0m\u001b[0m\n\u001b[0;32m   1034\u001b[0m       return self._do_call(_prun_fn, self._session, handle, feed_dict,\n",
      "\u001b[1;32m~\\AppData\\Local\\conda\\conda\\envs\\tfgpu1.1\\lib\\site-packages\\tensorflow\\python\\client\\session.py\u001b[0m in \u001b[0;36m_do_call\u001b[1;34m(self, fn, *args)\u001b[0m\n\u001b[0;32m   1037\u001b[0m   \u001b[1;32mdef\u001b[0m \u001b[0m_do_call\u001b[0m\u001b[1;33m(\u001b[0m\u001b[0mself\u001b[0m\u001b[1;33m,\u001b[0m \u001b[0mfn\u001b[0m\u001b[1;33m,\u001b[0m \u001b[1;33m*\u001b[0m\u001b[0margs\u001b[0m\u001b[1;33m)\u001b[0m\u001b[1;33m:\u001b[0m\u001b[1;33m\u001b[0m\u001b[0m\n\u001b[0;32m   1038\u001b[0m     \u001b[1;32mtry\u001b[0m\u001b[1;33m:\u001b[0m\u001b[1;33m\u001b[0m\u001b[0m\n\u001b[1;32m-> 1039\u001b[1;33m       \u001b[1;32mreturn\u001b[0m \u001b[0mfn\u001b[0m\u001b[1;33m(\u001b[0m\u001b[1;33m*\u001b[0m\u001b[0margs\u001b[0m\u001b[1;33m)\u001b[0m\u001b[1;33m\u001b[0m\u001b[0m\n\u001b[0m\u001b[0;32m   1040\u001b[0m     \u001b[1;32mexcept\u001b[0m \u001b[0merrors\u001b[0m\u001b[1;33m.\u001b[0m\u001b[0mOpError\u001b[0m \u001b[1;32mas\u001b[0m \u001b[0me\u001b[0m\u001b[1;33m:\u001b[0m\u001b[1;33m\u001b[0m\u001b[0m\n\u001b[0;32m   1041\u001b[0m       \u001b[0mmessage\u001b[0m \u001b[1;33m=\u001b[0m \u001b[0mcompat\u001b[0m\u001b[1;33m.\u001b[0m\u001b[0mas_text\u001b[0m\u001b[1;33m(\u001b[0m\u001b[0me\u001b[0m\u001b[1;33m.\u001b[0m\u001b[0mmessage\u001b[0m\u001b[1;33m)\u001b[0m\u001b[1;33m\u001b[0m\u001b[0m\n",
      "\u001b[1;32m~\\AppData\\Local\\conda\\conda\\envs\\tfgpu1.1\\lib\\site-packages\\tensorflow\\python\\client\\session.py\u001b[0m in \u001b[0;36m_run_fn\u001b[1;34m(session, feed_dict, fetch_list, target_list, options, run_metadata)\u001b[0m\n\u001b[0;32m   1019\u001b[0m         return tf_session.TF_Run(session, options,\n\u001b[0;32m   1020\u001b[0m                                  \u001b[0mfeed_dict\u001b[0m\u001b[1;33m,\u001b[0m \u001b[0mfetch_list\u001b[0m\u001b[1;33m,\u001b[0m \u001b[0mtarget_list\u001b[0m\u001b[1;33m,\u001b[0m\u001b[1;33m\u001b[0m\u001b[0m\n\u001b[1;32m-> 1021\u001b[1;33m                                  status, run_metadata)\n\u001b[0m\u001b[0;32m   1022\u001b[0m \u001b[1;33m\u001b[0m\u001b[0m\n\u001b[0;32m   1023\u001b[0m     \u001b[1;32mdef\u001b[0m \u001b[0m_prun_fn\u001b[0m\u001b[1;33m(\u001b[0m\u001b[0msession\u001b[0m\u001b[1;33m,\u001b[0m \u001b[0mhandle\u001b[0m\u001b[1;33m,\u001b[0m \u001b[0mfeed_dict\u001b[0m\u001b[1;33m,\u001b[0m \u001b[0mfetch_list\u001b[0m\u001b[1;33m)\u001b[0m\u001b[1;33m:\u001b[0m\u001b[1;33m\u001b[0m\u001b[0m\n",
      "\u001b[1;31mKeyboardInterrupt\u001b[0m: "
     ]
    }
   ],
   "source": [
    "max_validation_accuracy = 0.0\n",
    "epochs_since_improvement = 0\n",
    "saver = tf.train.Saver()\n",
    "with tf.Session() as sess:\n",
    "    # Initialize the variables\n",
    "    sess.run(tf.global_variables_initializer())\n",
    "    \n",
    "    # Training cycle\n",
    "    for epoch in range(epochs):\n",
    "        # Loop over all batches\n",
    "        for batch_features, batch_labels in get_batches(train_features, train_labels, batch_size):\n",
    "            sess.run(optimizer, feed_dict={x: batch_features, \n",
    "                                           y: batch_labels, \n",
    "                                           learn_rate: learning_rate, \n",
    "                                           keep_prob: keep_probability})\n",
    "        if epoch % 1 == 0:\n",
    "            print('Epoch {}: '.format(epoch), end='')\n",
    "            validation_accuracy = print_stats(sess, batch_features, batch_labels, cost, accuracy, epochs_since_improvement)         \n",
    "        \n",
    "            if validation_accuracy > max_validation_accuracy:\n",
    "                max_validation_accuracy = validation_accuracy\n",
    "                epochs_since_improvement = 0\n",
    "                saver.save(sess, \"checkpoints/model.ckpt\")\n",
    "            else:\n",
    "                epochs_since_improvement += 1"
   ]
  },
  {
   "cell_type": "markdown",
   "metadata": {
    "collapsed": true
   },
   "source": [
    "# Test Model"
   ]
  },
  {
   "cell_type": "code",
   "execution_count": 4,
   "metadata": {
    "collapsed": true
   },
   "outputs": [],
   "source": [
    "test_set = pd.read_pickle(os.path.join(dataset_dir, \"test_set.pkl\"))\n",
    "min_thresh_keys = pickle.load(open(os.path.join(dataset_dir, \"key_classes.p\"), \"rb\"))\n",
    "test_set = test_set[test_set['key'].isin(min_thresh_keys)] # Filter dataframe to only include keys > threshold\n",
    "\n",
    "data_width = len(test_set['data'][0])"
   ]
  },
  {
   "cell_type": "code",
   "execution_count": 5,
   "metadata": {},
   "outputs": [
    {
     "name": "stderr",
     "output_type": "stream",
     "text": [
      "C:\\Users\\stephen\\AppData\\Local\\conda\\conda\\envs\\tfgpu1.1\\lib\\site-packages\\sklearn\\utils\\validation.py:444: DataConversionWarning: Data with input dtype int16 was converted to float64 by MinMaxScaler.\n",
      "  warnings.warn(msg, DataConversionWarning)\n"
     ]
    }
   ],
   "source": [
    "# Append training data to test_set for more accurate normalization\n",
    "ts_len = len(test_set)\n",
    "for filename in os.listdir(dataset_dir):\n",
    "    if filename.endswith(\".pkl\"): \n",
    "        df = pd.read_pickle(os.path.join(dataset_dir, filename))\n",
    "        break\n",
    "\n",
    "test_set.append(df, ignore_index=True)\n",
    "\n",
    "input_data = test_set['data'].values\n",
    "input_data = np.stack(input_data, axis=0)\n",
    "\n",
    "scaler = preprocessing.MinMaxScaler(feature_range=(0,1))\n",
    "normalized_data = scaler.fit_transform(input_data)\n",
    "normalized_data = normalized_data[:ts_len]\n",
    "\n",
    "normalized_data = normalized_data.reshape((normalized_data.shape[0], normalized_data.shape[1], 1))"
   ]
  },
  {
   "cell_type": "code",
   "execution_count": 9,
   "metadata": {},
   "outputs": [
    {
     "name": "stdout",
     "output_type": "stream",
     "text": [
      "INFO:tensorflow:Restoring parameters from checkpoints\\model.ckpt\n"
     ]
    }
   ],
   "source": [
    "loader = tf.train.import_meta_graph('checkpoints/model.ckpt.meta')\n",
    "with tf.Session() as sess:\n",
    "    loader.restore(sess, tf.train.latest_checkpoint('checkpoints'))\n",
    "    \n",
    "    graph = tf.get_default_graph()\n",
    "    \n",
    "    x = graph.get_tensor_by_name(\"Inputs/inputs:0\")\n",
    "    keep_prob = graph.get_tensor_by_name(\"keep_probability:0\")\n",
    "    predicted = graph.get_tensor_by_name(\"predicted:0\")\n",
    "    \n",
    "    feed_dict = {x: normalized_data, keep_prob: 1.0}\n",
    "    prediction = sess.run(predicted, feed_dict=feed_dict).squeeze()"
   ]
  },
  {
   "cell_type": "code",
   "execution_count": 63,
   "metadata": {},
   "outputs": [
    {
     "data": {
      "text/plain": [
       "'o'"
      ]
     },
     "execution_count": 63,
     "metadata": {},
     "output_type": "execute_result"
    }
   ],
   "source": [
    "test_set['key'].values[1]"
   ]
  },
  {
   "cell_type": "code",
   "execution_count": 67,
   "metadata": {},
   "outputs": [
    {
     "name": "stdout",
     "output_type": "stream",
     "text": [
      "Key: e, Prediction: e, Probability: 1.00\n",
      "Key: o, Prediction: o, Probability: 1.00\n",
      "Key: n, Prediction: n, Probability: 0.99\n",
      "Key: space, Prediction: space, Probability: 1.00\n",
      "Key: s, Prediction: space, Probability: 0.99\n",
      "Key: space, Prediction: space, Probability: 1.00\n",
      "Key: a, Prediction: s, Probability: 0.52\n",
      "Key: s, Prediction: e, Probability: 1.00\n",
      "Key: space, Prediction: space, Probability: 1.00\n",
      "Key: e, Prediction: e, Probability: 0.96\n",
      "Key: e, Prediction: e, Probability: 0.42\n",
      "Key: n, Prediction: n, Probability: 1.00\n",
      "Key: space, Prediction: space, Probability: 1.00\n",
      "Key: t, Prediction: e, Probability: 0.96\n",
      "Key: e, Prediction: n, Probability: 0.90\n",
      "Key: e, Prediction: e, Probability: 1.00\n",
      "Key: t, Prediction: space, Probability: 0.99\n",
      "Key: i, Prediction: i, Probability: 1.00\n",
      "Key: n, Prediction: n, Probability: 1.00\n",
      "Key: space, Prediction: space, Probability: 1.00\n",
      "Key: a, Prediction: a, Probability: 0.70\n",
      "Key: space, Prediction: space, Probability: 1.00\n",
      "Key: o, Prediction: o, Probability: 0.95\n",
      "Key: t, Prediction: n, Probability: 0.94\n",
      "Key: space, Prediction: space, Probability: 1.00\n",
      "Key: o, Prediction: o, Probability: 0.78\n",
      "Key: e, Prediction: n, Probability: 0.50\n",
      "Key: space, Prediction: space, Probability: 1.00\n",
      "Key: t, Prediction: n, Probability: 1.00\n",
      "Key: e, Prediction: e, Probability: 1.00\n",
      "Key: space, Prediction: space, Probability: 1.00\n",
      "Key: a, Prediction: o, Probability: 0.55\n",
      "Key: s, Prediction: s, Probability: 0.61\n",
      "Key: t, Prediction: i, Probability: 0.97\n",
      "Key: space, Prediction: space, Probability: 1.00\n",
      "Key: e, Prediction: e, Probability: 0.72\n",
      "Key: space, Prediction: space, Probability: 1.00\n",
      "Key: o, Prediction: o, Probability: 0.37\n",
      "Key: n, Prediction: n, Probability: 0.90\n",
      "Key: t, Prediction: e, Probability: 0.51\n",
      "Key: s, Prediction: e, Probability: 0.76\n",
      "Key: a, Prediction: a, Probability: 0.70\n",
      "Key: s, Prediction: e, Probability: 0.68\n",
      "Key: space, Prediction: space, Probability: 1.00\n",
      "Key: t, Prediction: e, Probability: 0.85\n",
      "Key: e, Prediction: n, Probability: 0.97\n",
      "Key: s, Prediction: s, Probability: 1.00\n",
      "Key: a, Prediction: e, Probability: 0.96\n",
      "Key: space, Prediction: space, Probability: 1.00\n",
      "Key: i, Prediction: i, Probability: 0.88\n",
      "Key: n, Prediction: n, Probability: 1.00\n",
      "Key: space, Prediction: space, Probability: 1.00\n",
      "Key: e, Prediction: n, Probability: 0.34\n",
      "Key: space, Prediction: space, Probability: 1.00\n",
      "Key: t, Prediction: space, Probability: 0.98\n",
      "Key: o, Prediction: o, Probability: 1.00\n",
      "Key: a, Prediction: i, Probability: 0.91\n",
      "Key: space, Prediction: space, Probability: 1.00\n",
      "Key: a, Prediction: e, Probability: 0.94\n",
      "Key: space, Prediction: space, Probability: 1.00\n",
      "Key: s, Prediction: e, Probability: 1.00\n",
      "Key: i, Prediction: i, Probability: 1.00\n",
      "Key: o, Prediction: n, Probability: 0.70\n",
      "Key: s, Prediction: s, Probability: 0.58\n",
      "Key: e, Prediction: space, Probability: 0.62\n",
      "Key: space, Prediction: e, Probability: 0.97\n",
      "Key: e, Prediction: e, Probability: 0.99\n",
      "Key: a, Prediction: e, Probability: 0.44\n",
      "Key: i, Prediction: i, Probability: 0.99\n",
      "Key: n, Prediction: n, Probability: 1.00\n",
      "Key: e, Prediction: n, Probability: 0.88\n",
      "Key: space, Prediction: space, Probability: 1.00\n",
      "Key: t, Prediction: i, Probability: 0.72\n",
      "Key: o, Prediction: o, Probability: 0.94\n",
      "Key: space, Prediction: space, Probability: 1.00\n",
      "Key: i, Prediction: o, Probability: 0.49\n",
      "Key: space, Prediction: space, Probability: 1.00\n",
      "Key: space, Prediction: space, Probability: 1.00\n",
      "Key: o, Prediction: o, Probability: 0.97\n",
      "Key: e, Prediction: n, Probability: 0.51\n",
      "Key: space, Prediction: space, Probability: 1.00\n",
      "Key: space, Prediction: space, Probability: 1.00\n",
      "Key: e, Prediction: space, Probability: 0.64\n",
      "Key: e, Prediction: e, Probability: 1.00\n",
      "Key: t, Prediction: a, Probability: 0.92\n",
      "Key: i, Prediction: i, Probability: 0.94\n",
      "Key: space, Prediction: space, Probability: 1.00\n",
      "Key: s, Prediction: e, Probability: 0.72\n",
      "Key: e, Prediction: e, Probability: 0.93\n",
      "Key: a, Prediction: space, Probability: 0.98\n",
      "Key: n, Prediction: n, Probability: 0.99\n",
      "Key: s, Prediction: o, Probability: 0.88\n",
      "Key: space, Prediction: space, Probability: 1.00\n",
      "Key: i, Prediction: i, Probability: 1.00\n",
      "Key: n, Prediction: n, Probability: 0.99\n",
      "Key: space, Prediction: space, Probability: 0.94\n",
      "Key: a, Prediction: e, Probability: 1.00\n",
      "Key: space, Prediction: space, Probability: 1.00\n",
      "Key: e, Prediction: e, Probability: 0.51\n",
      "Key: e, Prediction: e, Probability: 0.98\n",
      "Key: space, Prediction: space, Probability: 1.00\n",
      "Key: t, Prediction: i, Probability: 0.77\n",
      "Key: e, Prediction: e, Probability: 1.00\n",
      "Key: space, Prediction: space, Probability: 0.95\n",
      "Key: i, Prediction: i, Probability: 0.60\n",
      "Key: e, Prediction: n, Probability: 0.98\n",
      "Key: space, Prediction: space, Probability: 1.00\n",
      "Key: e, Prediction: n, Probability: 0.50\n",
      "Key: e, Prediction: e, Probability: 0.53\n",
      "Key: t, Prediction: space, Probability: 0.71\n",
      "Key: i, Prediction: i, Probability: 0.93\n",
      "Key: e, Prediction: e, Probability: 1.00\n",
      "Key: space, Prediction: space, Probability: 1.00\n",
      "Key: a, Prediction: e, Probability: 0.90\n",
      "Key: s, Prediction: n, Probability: 0.96\n",
      "Key: e, Prediction: space, Probability: 0.65\n",
      "Key: space, Prediction: space, Probability: 1.00\n",
      "Key: o, Prediction: o, Probability: 1.00\n",
      "Key: t, Prediction: e, Probability: 0.79\n",
      "Key: space, Prediction: space, Probability: 1.00\n",
      "Key: a, Prediction: e, Probability: 0.98\n",
      "Key: a, Prediction: e, Probability: 0.67\n",
      "Key: i, Prediction: i, Probability: 0.95\n",
      "Key: n, Prediction: n, Probability: 1.00\n",
      "Key: s, Prediction: n, Probability: 0.93\n",
      "Key: t, Prediction: o, Probability: 0.88\n",
      "Key: space, Prediction: space, Probability: 1.00\n",
      "Key: a, Prediction: e, Probability: 0.89\n",
      "Key: space, Prediction: space, Probability: 1.00\n",
      "Key: i, Prediction: i, Probability: 0.90\n",
      "Key: e, Prediction: o, Probability: 0.75\n",
      "Key: space, Prediction: space, Probability: 1.00\n",
      "Key: o, Prediction: i, Probability: 0.66\n",
      "Key: space, Prediction: space, Probability: 1.00\n",
      "Key: o, Prediction: o, Probability: 0.99\n",
      "Key: space, Prediction: space, Probability: 1.00\n",
      "Key: e, Prediction: e, Probability: 0.78\n",
      "Key: o, Prediction: i, Probability: 1.00\n",
      "Key: e, Prediction: e, Probability: 1.00\n",
      "Key: space, Prediction: space, Probability: 1.00\n",
      "Key: e, Prediction: e, Probability: 0.90\n",
      "Key: space, Prediction: space, Probability: 1.00\n",
      "Key: a, Prediction: a, Probability: 0.62\n",
      "Key: e, Prediction: e, Probability: 1.00\n",
      "Key: space, Prediction: space, Probability: 1.00\n",
      "Key: t, Prediction: o, Probability: 0.67\n",
      "Key: o, Prediction: o, Probability: 0.99\n",
      "Key: space, Prediction: space, Probability: 1.00\n",
      "Key: s, Prediction: e, Probability: 0.97\n",
      "Key: e, Prediction: e, Probability: 1.00\n",
      "Key: e, Prediction: e, Probability: 0.94\n",
      "Key: space, Prediction: space, Probability: 0.97\n",
      "Key: a, Prediction: a, Probability: 0.53\n",
      "Key: s, Prediction: s, Probability: 0.80\n",
      "Key: space, Prediction: space, Probability: 1.00\n",
      "Key: i, Prediction: n, Probability: 0.99\n",
      "Key: s, Prediction: e, Probability: 0.94\n",
      "Key: space, Prediction: space, Probability: 1.00\n",
      "Key: o, Prediction: i, Probability: 0.96\n",
      "Key: a, Prediction: e, Probability: 0.58\n",
      "Key: n, Prediction: n, Probability: 0.98\n",
      "Key: s, Prediction: e, Probability: 1.00\n",
      "Key: space, Prediction: space, Probability: 1.00\n",
      "Key: e, Prediction: e, Probability: 0.63\n",
      "Key: t, Prediction: i, Probability: 0.40\n",
      "Key: a, Prediction: e, Probability: 1.00\n",
      "Key: t, Prediction: i, Probability: 0.96\n",
      "Key: o, Prediction: n, Probability: 0.97\n",
      "Key: s, Prediction: i, Probability: 0.58\n",
      "Key: space, Prediction: space, Probability: 1.00\n",
      "Key: o, Prediction: o, Probability: 0.47\n",
      "Key: n, Prediction: i, Probability: 0.54\n",
      "Key: a, Prediction: e, Probability: 0.95\n",
      "Key: i, Prediction: i, Probability: 0.88\n",
      "Key: s, Prediction: e, Probability: 0.76\n",
      "Key: t, Prediction: n, Probability: 0.66\n",
      "Key: s, Prediction: e, Probability: 1.00\n",
      "Key: space, Prediction: space, Probability: 1.00\n",
      "Key: a, Prediction: a, Probability: 0.98\n",
      "Key: space, Prediction: n, Probability: 0.86\n",
      "Key: s, Prediction: e, Probability: 0.91\n",
      "Key: t, Prediction: n, Probability: 0.41\n",
      "Key: e, Prediction: n, Probability: 0.87\n",
      "Key: e, Prediction: e, Probability: 0.98\n",
      "Key: t, Prediction: e, Probability: 0.81\n",
      "Key: space, Prediction: space, Probability: 1.00\n",
      "Key: a, Prediction: e, Probability: 0.91\n",
      "Key: n, Prediction: n, Probability: 0.99\n",
      "Key: a, Prediction: e, Probability: 1.00\n",
      "Key: s, Prediction: space, Probability: 0.69\n",
      "Key: t, Prediction: n, Probability: 0.91\n",
      "Key: s, Prediction: e, Probability: 0.62\n",
      "Key: space, Prediction: space, Probability: 1.00\n",
      "Key: s, Prediction: s, Probability: 0.46\n",
      "Key: o, Prediction: o, Probability: 0.63\n",
      "Key: t, Prediction: o, Probability: 0.64\n",
      "Key: space, Prediction: space, Probability: 1.00\n",
      "Key: s, Prediction: e, Probability: 0.92\n",
      "Key: e, Prediction: e, Probability: 0.99\n",
      "Key: e, Prediction: e, Probability: 1.00\n",
      "Key: s, Prediction: space, Probability: 0.60\n",
      "Key: space, Prediction: space, Probability: 0.56\n",
      "Key: a, Prediction: e, Probability: 0.91\n",
      "Key: o, Prediction: n, Probability: 0.49\n",
      "Key: space, Prediction: space, Probability: 1.00\n",
      "Key: n, Prediction: n, Probability: 1.00\n",
      "Key: i, Prediction: n, Probability: 0.94\n",
      "Key: o, Prediction: o, Probability: 0.96\n",
      "Key: n, Prediction: n, Probability: 1.00\n",
      "Key: s, Prediction: n, Probability: 0.79\n",
      "Key: space, Prediction: space, Probability: 1.00\n",
      "Key: a, Prediction: s, Probability: 0.45\n",
      "Key: n, Prediction: i, Probability: 0.85\n",
      "Key: space, Prediction: space, Probability: 1.00\n",
      "Key: e, Prediction: space, Probability: 0.65\n",
      "Key: e, Prediction: space, Probability: 0.53\n",
      "Key: n, Prediction: n, Probability: 1.00\n",
      "Key: space, Prediction: space, Probability: 1.00\n",
      "Key: e, Prediction: e, Probability: 0.98\n",
      "Key: e, Prediction: e, Probability: 0.99\n",
      "Key: a, Prediction: e, Probability: 0.53\n",
      "Key: space, Prediction: space, Probability: 1.00\n",
      "Key: a, Prediction: a, Probability: 0.99\n",
      "Key: s, Prediction: e, Probability: 0.93\n",
      "Key: s, Prediction: space, Probability: 0.41\n",
      "Key: a, Prediction: n, Probability: 0.71\n",
      "Key: e, Prediction: e, Probability: 0.87\n",
      "Key: t, Prediction: n, Probability: 0.56\n",
      "Key: space, Prediction: space, Probability: 1.00\n",
      "Key: i, Prediction: i, Probability: 1.00\n",
      "Key: n, Prediction: i, Probability: 0.51\n",
      "Key: e, Prediction: space, Probability: 0.74\n",
      "Key: s, Prediction: n, Probability: 0.62\n",
      "Key: t, Prediction: n, Probability: 0.83\n",
      "Key: i, Prediction: i, Probability: 0.99\n",
      "Key: a, Prediction: a, Probability: 0.91\n",
      "Key: t, Prediction: n, Probability: 0.91\n",
      "Key: o, Prediction: o, Probability: 0.97\n",
      "Key: s, Prediction: e, Probability: 0.46\n",
      "Key: space, Prediction: space, Probability: 1.00\n",
      "Key: o, Prediction: i, Probability: 0.95\n",
      "Key: n, Prediction: n, Probability: 1.00\n",
      "Key: space, Prediction: space, Probability: 0.90\n",
      "Key: t, Prediction: n, Probability: 0.43\n",
      "Key: e, Prediction: e, Probability: 1.00\n",
      "Key: s, Prediction: e, Probability: 0.99\n",
      "Key: e, Prediction: e, Probability: 0.99\n",
      "Key: e, Prediction: n, Probability: 0.67\n",
      "Key: s, Prediction: s, Probability: 0.91\n",
      "Key: space, Prediction: space, Probability: 1.00\n",
      "Key: o, Prediction: o, Probability: 1.00\n",
      "Key: n, Prediction: n, Probability: 1.00\n",
      "Key: space, Prediction: space, Probability: 1.00\n",
      "Key: t, Prediction: t, Probability: 0.84\n",
      "Key: e, Prediction: space, Probability: 0.98\n",
      "Key: space, Prediction: space, Probability: 1.00\n",
      "Key: e, Prediction: space, Probability: 0.93\n",
      "Key: e, Prediction: e, Probability: 0.86\n",
      "Key: i, Prediction: i, Probability: 0.98\n",
      "Key: i, Prediction: i, Probability: 1.00\n",
      "Key: n, Prediction: n, Probability: 0.98\n",
      "Key: space, Prediction: space, Probability: 1.00\n",
      "Key: e, Prediction: e, Probability: 0.44\n",
      "Key: n, Prediction: n, Probability: 1.00\n",
      "Key: space, Prediction: space, Probability: 1.00\n",
      "Key: o, Prediction: o, Probability: 0.91\n",
      "Key: space, Prediction: space, Probability: 1.00\n",
      "Key: i, Prediction: i, Probability: 0.95\n",
      "Key: s, Prediction: e, Probability: 0.99\n",
      "Key: space, Prediction: space, Probability: 1.00\n",
      "Key: o, Prediction: o, Probability: 1.00\n",
      "Key: i, Prediction: i, Probability: 0.98\n",
      "Key: i, Prediction: i, Probability: 1.00\n",
      "Key: space, Prediction: space, Probability: 1.00\n",
      "Key: t, Prediction: n, Probability: 0.92\n",
      "Key: i, Prediction: i, Probability: 1.00\n",
      "Key: t, Prediction: n, Probability: 0.98\n",
      "Key: t, Prediction: i, Probability: 0.96\n",
      "Key: e, Prediction: e, Probability: 1.00\n",
      "Key: space, Prediction: space, Probability: 1.00\n",
      "Key: o, Prediction: i, Probability: 0.98\n",
      "Key: t, Prediction: e, Probability: 0.82\n",
      "Key: t, Prediction: o, Probability: 0.95\n",
      "Key: space, Prediction: space, Probability: 1.00\n",
      "Key: e, Prediction: o, Probability: 0.73\n",
      "Key: space, Prediction: space, Probability: 1.00\n",
      "Key: n, Prediction: n, Probability: 1.00\n",
      "Key: o, Prediction: o, Probability: 0.46\n",
      "Key: s, Prediction: e, Probability: 0.82\n",
      "Key: space, Prediction: space, Probability: 1.00\n",
      "Key: i, Prediction: n, Probability: 0.85\n",
      "Key: t, Prediction: n, Probability: 0.87\n",
      "Key: space, Prediction: space, Probability: 1.00\n",
      "Key: n, Prediction: n, Probability: 1.00\n",
      "Key: e, Prediction: n, Probability: 0.57\n",
      "Key: e, Prediction: space, Probability: 0.50\n",
      "Key: s, Prediction: s, Probability: 0.93\n",
      "Key: space, Prediction: space, Probability: 1.00\n",
      "Key: t, Prediction: n, Probability: 0.96\n",
      "Key: o, Prediction: o, Probability: 0.98\n",
      "Key: space, Prediction: space, Probability: 1.00\n",
      "Key: s, Prediction: o, Probability: 0.99\n",
      "Key: t, Prediction: n, Probability: 0.99\n",
      "Key: o, Prediction: i, Probability: 0.64\n",
      "Key: i, Prediction: n, Probability: 0.52\n",
      "Key: space, Prediction: space, Probability: 1.00\n",
      "Key: a, Prediction: a, Probability: 0.85\n",
      "Key: e, Prediction: e, Probability: 0.90\n",
      "Key: space, Prediction: space, Probability: 0.97\n",
      "Key: a, Prediction: e, Probability: 0.69\n",
      "Key: e, Prediction: e, Probability: 0.97\n",
      "Key: space, Prediction: space, Probability: 1.00\n",
      "Key: t, Prediction: e, Probability: 0.87\n",
      "Key: e, Prediction: e, Probability: 1.00\n",
      "Key: space, Prediction: space, Probability: 1.00\n",
      "Key: i, Prediction: i, Probability: 0.48\n",
      "Key: s, Prediction: s, Probability: 0.93\n",
      "Key: t, Prediction: n, Probability: 1.00\n",
      "Key: a, Prediction: e, Probability: 0.93\n",
      "Key: e, Prediction: e, Probability: 0.86\n",
      "Key: n, Prediction: n, Probability: 1.00\n",
      "Key: space, Prediction: space, Probability: 1.00\n",
      "Key: a, Prediction: n, Probability: 0.92\n",
      "Key: s, Prediction: e, Probability: 0.97\n",
      "Accuracy: 0.595679012345679\n"
     ]
    }
   ],
   "source": [
    "correct_cnt = 0\n",
    "for i, r in enumerate(prediction):\n",
    "    actual_key = test_set['key'].values[i]\n",
    "    pred_key = lb.classes_[np.argmax(r)]\n",
    "    print('Key: {0}, Prediction: {1}, Probability: {2:0.2f}'.format(actual_key, pred_key, r[np.argmax(r)]))\n",
    "    if actual_key == pred_key:\n",
    "        correct_cnt += 1\n",
    "print('Accuracy: {}'.format(correct_cnt/len(test_set)))"
   ]
  },
  {
   "cell_type": "code",
   "execution_count": 47,
   "metadata": {},
   "outputs": [
    {
     "data": {
      "text/plain": [
       "'e'"
      ]
     },
     "execution_count": 47,
     "metadata": {},
     "output_type": "execute_result"
    }
   ],
   "source": []
  },
  {
   "cell_type": "code",
   "execution_count": null,
   "metadata": {
    "collapsed": true
   },
   "outputs": [],
   "source": []
  }
 ],
 "metadata": {
  "kernelspec": {
   "display_name": "Python 3",
   "language": "python",
   "name": "python3"
  },
  "language_info": {
   "codemirror_mode": {
    "name": "ipython",
    "version": 3
   },
   "file_extension": ".py",
   "mimetype": "text/x-python",
   "name": "python",
   "nbconvert_exporter": "python",
   "pygments_lexer": "ipython3",
   "version": "3.5.3"
  }
 },
 "nbformat": 4,
 "nbformat_minor": 2
}
