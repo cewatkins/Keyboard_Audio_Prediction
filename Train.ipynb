{
 "cells": [
  {
   "cell_type": "markdown",
   "metadata": {},
   "source": [
    "# Check the Version of TensorFlow and Access to GPU\n",
    "This will check to make sure you have the correct version of TensorFlow and access to a GPU"
   ]
  },
  {
   "cell_type": "code",
   "execution_count": 1,
   "metadata": {
    "collapsed": true
   },
   "outputs": [],
   "source": [
    "import pandas as pd\n",
    "import numpy as np\n",
    "from sklearn import preprocessing"
   ]
  },
  {
   "cell_type": "code",
   "execution_count": 2,
   "metadata": {},
   "outputs": [
    {
     "name": "stdout",
     "output_type": "stream",
     "text": [
      "TensorFlow Version: 1.1.0\n",
      "Default GPU Device: /gpu:0\n"
     ]
    }
   ],
   "source": [
    "from distutils.version import LooseVersion\n",
    "import warnings\n",
    "import tensorflow as tf\n",
    "\n",
    "# Check TensorFlow Version\n",
    "assert LooseVersion(tf.__version__) >= LooseVersion('1.0'), 'Please use TensorFlow version 1.0 or newer.  You are using {}'.format(tf.__version__)\n",
    "print('TensorFlow Version: {}'.format(tf.__version__))\n",
    "\n",
    "# Check for a GPU\n",
    "if not tf.test.gpu_device_name():\n",
    "    warnings.warn('No GPU found. Please use a GPU to train your neural network.')\n",
    "else:\n",
    "    print('Default GPU Device: {}'.format(tf.test.gpu_device_name()))"
   ]
  },
  {
   "cell_type": "markdown",
   "metadata": {},
   "source": [
    "# Import Data"
   ]
  },
  {
   "cell_type": "code",
   "execution_count": 3,
   "metadata": {},
   "outputs": [
    {
     "name": "stdout",
     "output_type": "stream",
     "text": [
      "7150\n"
     ]
    },
    {
     "data": {
      "text/html": [
       "<div>\n",
       "<style>\n",
       "    .dataframe thead tr:only-child th {\n",
       "        text-align: right;\n",
       "    }\n",
       "\n",
       "    .dataframe thead th {\n",
       "        text-align: left;\n",
       "    }\n",
       "\n",
       "    .dataframe tbody tr th {\n",
       "        vertical-align: top;\n",
       "    }\n",
       "</style>\n",
       "<table border=\"1\" class=\"dataframe\">\n",
       "  <thead>\n",
       "    <tr style=\"text-align: right;\">\n",
       "      <th></th>\n",
       "      <th>data</th>\n",
       "      <th>key</th>\n",
       "      <th>raw</th>\n",
       "      <th>timestamp</th>\n",
       "    </tr>\n",
       "  </thead>\n",
       "  <tbody>\n",
       "    <tr>\n",
       "      <th>0</th>\n",
       "      <td>[-2, -16, -15, -12, 3, 2, 8, 11, -26, -21, -6,...</td>\n",
       "      <td>delete</td>\n",
       "      <td>[254, 255, 240, 255, 241, 255, 244, 255, 3, 0,...</td>\n",
       "      <td>2018-07-08 17:00:03.470304</td>\n",
       "    </tr>\n",
       "    <tr>\n",
       "      <th>1</th>\n",
       "      <td>[7, 6, 2, 17, -1, 1, -17, -9, 2, -4, 9, -6, -2...</td>\n",
       "      <td>t</td>\n",
       "      <td>[7, 0, 6, 0, 2, 0, 17, 0, 255, 255, 1, 0, 239,...</td>\n",
       "      <td>2018-07-08 17:00:10.196903</td>\n",
       "    </tr>\n",
       "    <tr>\n",
       "      <th>2</th>\n",
       "      <td>[47, 49, 47, 40, 44, 51, 43, 35, 30, 38, 35, 4...</td>\n",
       "      <td>h</td>\n",
       "      <td>[47, 0, 49, 0, 47, 0, 40, 0, 44, 0, 51, 0, 43,...</td>\n",
       "      <td>2018-07-08 17:00:10.824195</td>\n",
       "    </tr>\n",
       "    <tr>\n",
       "      <th>3</th>\n",
       "      <td>[-13, -21, -16, -12, -18, -24, -18, -25, -22, ...</td>\n",
       "      <td>i</td>\n",
       "      <td>[243, 255, 235, 255, 240, 255, 244, 255, 238, ...</td>\n",
       "      <td>2018-07-08 17:00:11.529678</td>\n",
       "    </tr>\n",
       "    <tr>\n",
       "      <th>4</th>\n",
       "      <td>[81, 79, 65, 78, 86, 85, 74, 79, 82, 103, 116,...</td>\n",
       "      <td>s</td>\n",
       "      <td>[81, 0, 79, 0, 65, 0, 78, 0, 86, 0, 85, 0, 74,...</td>\n",
       "      <td>2018-07-08 17:00:11.730209</td>\n",
       "    </tr>\n",
       "  </tbody>\n",
       "</table>\n",
       "</div>"
      ],
      "text/plain": [
       "                                                data     key  \\\n",
       "0  [-2, -16, -15, -12, 3, 2, 8, 11, -26, -21, -6,...  delete   \n",
       "1  [7, 6, 2, 17, -1, 1, -17, -9, 2, -4, 9, -6, -2...       t   \n",
       "2  [47, 49, 47, 40, 44, 51, 43, 35, 30, 38, 35, 4...       h   \n",
       "3  [-13, -21, -16, -12, -18, -24, -18, -25, -22, ...       i   \n",
       "4  [81, 79, 65, 78, 86, 85, 74, 79, 82, 103, 116,...       s   \n",
       "\n",
       "                                                 raw  \\\n",
       "0  [254, 255, 240, 255, 241, 255, 244, 255, 3, 0,...   \n",
       "1  [7, 0, 6, 0, 2, 0, 17, 0, 255, 255, 1, 0, 239,...   \n",
       "2  [47, 0, 49, 0, 47, 0, 40, 0, 44, 0, 51, 0, 43,...   \n",
       "3  [243, 255, 235, 255, 240, 255, 244, 255, 238, ...   \n",
       "4  [81, 0, 79, 0, 65, 0, 78, 0, 86, 0, 85, 0, 74,...   \n",
       "\n",
       "                   timestamp  \n",
       "0 2018-07-08 17:00:03.470304  \n",
       "1 2018-07-08 17:00:10.196903  \n",
       "2 2018-07-08 17:00:10.824195  \n",
       "3 2018-07-08 17:00:11.529678  \n",
       "4 2018-07-08 17:00:11.730209  "
      ]
     },
     "execution_count": 3,
     "metadata": {},
     "output_type": "execute_result"
    }
   ],
   "source": [
    "# Read saved list of data from object into a dataframe\n",
    "raw_df = pd.read_pickle('DataSet/data.pkl')\n",
    "print(len(raw_df))\n",
    "raw_df.head()"
   ]
  },
  {
   "cell_type": "code",
   "execution_count": 4,
   "metadata": {
    "collapsed": true
   },
   "outputs": [],
   "source": [
    "data_width = len(raw_df['data'][0])"
   ]
  },
  {
   "cell_type": "markdown",
   "metadata": {},
   "source": [
    "# Data Preprocessing"
   ]
  },
  {
   "cell_type": "markdown",
   "metadata": {},
   "source": [
    "#### Filter out key counts less than threshold value"
   ]
  },
  {
   "cell_type": "code",
   "execution_count": 5,
   "metadata": {
    "collapsed": true
   },
   "outputs": [],
   "source": [
    "import collections\n",
    "import matplotlib.pyplot as plt\n",
    "key_count = collections.Counter(raw_df['key'])"
   ]
  },
  {
   "cell_type": "code",
   "execution_count": 6,
   "metadata": {
    "collapsed": true
   },
   "outputs": [],
   "source": [
    "width = 0.5 # Bar width\n",
    "figsize = (15, 4)\n",
    "\n",
    "def plot_key_hist(most_common):\n",
    "    if len(most_common) > 30:\n",
    "        most_common = most_common[:30]\n",
    "        \n",
    "    hist_labels, hist_values = zip(*most_common) # Show only a subset of all keys\n",
    "    indexes = np.arange(len(hist_labels))\n",
    "    plt.figure(figsize=figsize)\n",
    "    plt.bar(indexes, hist_values, width)\n",
    "    plt.xticks(indexes + width * 0.5, hist_labels, rotation='vertical')\n",
    "    plt.show()"
   ]
  },
  {
   "cell_type": "code",
   "execution_count": 7,
   "metadata": {},
   "outputs": [
    {
     "data": {
      "image/png": "[encoded data removed]",
      "text/plain": [
       "<matplotlib.figure.Figure at 0x1d272162390>"
      ]
     },
     "metadata": {},
     "output_type": "display_data"
    }
   ],
   "source": [
    "plot_key_hist(key_count.most_common())"
   ]
  },
  {
   "cell_type": "markdown",
   "metadata": {},
   "source": [
    "#### Truncate DataFrame - Truncate extra key samples past threshold value"
   ]
  },
  {
   "cell_type": "code",
   "execution_count": 85,
   "metadata": {},
   "outputs": [
    {
     "data": {
      "text/plain": [
       "<bound method Counter.most_common of Counter({'space': 1148, 'e': 769, 't': 564, 'a': 460, 'n': 434, 'o': 426, 'i': 413, 'r': 397, 's': 343, 'h': 229, 'l': 224, 'm': 195, 'c': 167, 'd': 165, 'g': 155, 'u': 148, 'f': 131, 'p': 128, 'y': 98, 'b': 86, 'w': 81, 'v': 57, 'backspace': 51, '.': 41, ',': 41, 'k': 40, 'x': 24, 'q': 23, 'shift': 23, 'enter': 20, 'z': 13, '0': 11, '-': 9, \"'\": 8, '9': 8, ';': 6, '8': 3, 'j': 2, '2': 2, '1': 1, '4': 1, '7': 1, 'delete': 1, '5': 1, '=': 1, '3': 1})>"
      ]
     },
     "execution_count": 85,
     "metadata": {},
     "output_type": "execute_result"
    }
   ],
   "source": [
    "key_count.most_common"
   ]
  },
  {
   "cell_type": "code",
   "execution_count": 90,
   "metadata": {},
   "outputs": [
    {
     "data": {
      "text/plain": [
       "['t', 'o', 'n', 'space', 'a', 'r', 'i', 'e']"
      ]
     },
     "execution_count": 90,
     "metadata": {},
     "output_type": "execute_result"
    }
   ],
   "source": [
    "min_thresh_cnts"
   ]
  },
  {
   "cell_type": "code",
   "execution_count": 100,
   "metadata": {},
   "outputs": [
    {
     "name": "stdout",
     "output_type": "stream",
     "text": [
      "Max Data Size: 3176, Class Count: 8, Threshold: 396\n"
     ]
    }
   ],
   "source": [
    "# Maximize Data Size By Finding Optimal Threshold\n",
    "max_data_size = 0\n",
    "max_class_cnt = 0\n",
    "threshold_max = 0\n",
    "for _, v in key_count.most_common():\n",
    "    threshold = v - 1\n",
    "    min_thresh_cnts = [count for key, count in zip(key_count.keys(), key_count.values()) if count > threshold]\n",
    "    class_cnt = len(min_thresh_cnts)\n",
    "    data_size = min(min_thresh_cnts)*len(min_thresh_cnts)\n",
    "    if data_size > max_data_size:\n",
    "        max_data_size = data_size\n",
    "        max_class_cnt = class_cnt\n",
    "        threshold_max = threshold\n",
    "print('Max Data Size: {}, Class Count: {}, Threshold: {}'.format(max_data_size, max_class_cnt, threshold_max))"
   ]
  },
  {
   "cell_type": "code",
   "execution_count": 101,
   "metadata": {
    "collapsed": true
   },
   "outputs": [],
   "source": [
    "threshold = threshold_max\n",
    "min_thresh_keys = [key for key, count in zip(key_count.keys(), key_count.values()) if count > threshold]"
   ]
  },
  {
   "cell_type": "code",
   "execution_count": 102,
   "metadata": {
    "collapsed": true
   },
   "outputs": [],
   "source": [
    "min_thresh_df = raw_df[raw_df['key'].isin(min_thresh_keys)]"
   ]
  },
  {
   "cell_type": "code",
   "execution_count": 103,
   "metadata": {
    "collapsed": true
   },
   "outputs": [],
   "source": [
    "def trim_max_thresh(grouped_class):\n",
    "    return grouped_class.sample(threshold)"
   ]
  },
  {
   "cell_type": "code",
   "execution_count": 104,
   "metadata": {
    "collapsed": true
   },
   "outputs": [],
   "source": [
    "df = min_thresh_df.groupby(['key']).apply(trim_max_thresh)"
   ]
  },
  {
   "cell_type": "markdown",
   "metadata": {},
   "source": [
    "#### Plot truncated data"
   ]
  },
  {
   "cell_type": "code",
   "execution_count": 64,
   "metadata": {
    "collapsed": true
   },
   "outputs": [],
   "source": [
    "truncated_count = collections.Counter(df['key'])"
   ]
  },
  {
   "cell_type": "code",
   "execution_count": 65,
   "metadata": {},
   "outputs": [
    {
     "data": {
      "image/png": "[encoded data removed]",
      "text/plain": [
       "<matplotlib.figure.Figure at 0x1d2883fe828>"
      ]
     },
     "metadata": {},
     "output_type": "display_data"
    }
   ],
   "source": [
    "plot_key_hist(truncated_count.most_common())"
   ]
  },
  {
   "cell_type": "markdown",
   "metadata": {},
   "source": [
    "#### Normalize Data"
   ]
  },
  {
   "cell_type": "code",
   "execution_count": 66,
   "metadata": {
    "collapsed": true
   },
   "outputs": [],
   "source": [
    "def pandas2npMat(df_col):\n",
    "    np_array = np.float32([df_col[0]])\n",
    "    for i, row in enumerate(df_col):\n",
    "        if i == 0:\n",
    "            pass\n",
    "        else:\n",
    "            np_array = np.concatenate((np_array, [row]), axis=0)\n",
    "    return np_array"
   ]
  },
  {
   "cell_type": "code",
   "execution_count": 67,
   "metadata": {
    "collapsed": true
   },
   "outputs": [],
   "source": [
    "input_data = pandas2npMat(df['data']) # Convert pandas column to numpy matrix"
   ]
  },
  {
   "cell_type": "code",
   "execution_count": 68,
   "metadata": {
    "collapsed": true
   },
   "outputs": [],
   "source": [
    "def normalize(x):\n",
    "    norm = (x - np.min(x)) / (np.max(x) - np.min(x))\n",
    "    return norm"
   ]
  },
  {
   "cell_type": "code",
   "execution_count": 69,
   "metadata": {},
   "outputs": [
    {
     "data": {
      "text/plain": [
       "(3168, 10240)"
      ]
     },
     "execution_count": 69,
     "metadata": {},
     "output_type": "execute_result"
    }
   ],
   "source": [
    "normalized_data = normalize(input_data)\n",
    "normalized_data.shape"
   ]
  },
  {
   "cell_type": "code",
   "execution_count": 124,
   "metadata": {},
   "outputs": [
    {
     "data": {
      "text/plain": [
       "array([[ 0.51996702],\n",
       "       [ 0.52425742],\n",
       "       [ 0.52244222],\n",
       "       ..., \n",
       "       [ 0.51947194],\n",
       "       [ 0.51963699],\n",
       "       [ 0.52029705]], dtype=float32)"
      ]
     },
     "execution_count": 124,
     "metadata": {},
     "output_type": "execute_result"
    }
   ],
   "source": [
    "normalized_data[0]"
   ]
  },
  {
   "cell_type": "markdown",
   "metadata": {},
   "source": [
    "#### One Hot Encode Classes"
   ]
  },
  {
   "cell_type": "code",
   "execution_count": 105,
   "metadata": {
    "collapsed": true
   },
   "outputs": [],
   "source": [
    "n_classes = len(set(df['key']))"
   ]
  },
  {
   "cell_type": "code",
   "execution_count": 106,
   "metadata": {
    "collapsed": true
   },
   "outputs": [],
   "source": [
    "labels_str = [str(key) for key in df['key']]\n",
    "lb = preprocessing.LabelBinarizer() # Create encoder\n",
    "lb.fit(list(set(labels_str)))\n",
    "labels = lb.transform(labels_str)"
   ]
  },
  {
   "cell_type": "code",
   "execution_count": 107,
   "metadata": {},
   "outputs": [
    {
     "data": {
      "text/plain": [
       "array(['a', 'e', 'i', 'n', 'o', 'r', 'space', 't'],\n",
       "      dtype='<U5')"
      ]
     },
     "execution_count": 107,
     "metadata": {},
     "output_type": "execute_result"
    }
   ],
   "source": [
    "lb.classes_"
   ]
  },
  {
   "cell_type": "markdown",
   "metadata": {},
   "source": [
    "#### Split Training and Validation Data"
   ]
  },
  {
   "cell_type": "markdown",
   "metadata": {},
   "source": [
    "Reshape to add 1 channel"
   ]
  },
  {
   "cell_type": "code",
   "execution_count": 108,
   "metadata": {},
   "outputs": [
    {
     "data": {
      "text/plain": [
       "(3168, 10240, 1)"
      ]
     },
     "execution_count": 108,
     "metadata": {},
     "output_type": "execute_result"
    }
   ],
   "source": [
    "normalized_data = normalized_data.reshape((normalized_data.shape[0], normalized_data.shape[1], 1))\n",
    "# labels = labels.reshape((labels.shape[0], labels.shape[1], 1))\n",
    "normalized_data.shape"
   ]
  },
  {
   "cell_type": "code",
   "execution_count": 109,
   "metadata": {
    "collapsed": true
   },
   "outputs": [],
   "source": [
    "from sklearn.model_selection import train_test_split\n",
    "train_features, valid_features, train_labels, valid_labels = train_test_split(\n",
    "    normalized_data, \n",
    "    labels, \n",
    "    test_size=0.1, \n",
    "    random_state=42)"
   ]
  },
  {
   "cell_type": "markdown",
   "metadata": {},
   "source": [
    "# Define Network"
   ]
  },
  {
   "cell_type": "markdown",
   "metadata": {},
   "source": [
    "### Input"
   ]
  },
  {
   "cell_type": "code",
   "execution_count": 110,
   "metadata": {
    "collapsed": true
   },
   "outputs": [],
   "source": [
    "def model_inputs(data_width, n_classes):\n",
    "    \"\"\"\n",
    "    Create the model inputs\n",
    "    :param data_width: The total number of samples in the recorded data point\n",
    "    :param n_classes: Number of Classes\n",
    "    :return: Tuple of (tensor of input audio data, key press labels, learning rate, keep_prob)\n",
    "    \"\"\"\n",
    "    # TODO: Add audio channels to input\n",
    "    \n",
    "    with tf.name_scope(\"Inputs\"):\n",
    "        audio_inputs = tf.placeholder(tf.float32, [None, data_width, 1], name='inputs')\n",
    "    with tf.name_scope(\"Targets\"):\n",
    "        key_labels = tf.placeholder(tf.float32, [None, n_classes], name='labels')\n",
    "    learning_rate = tf.placeholder(tf.float32, name='learning_rate')\n",
    "    keep_prob = tf.placeholder(tf.float32, name='keep_probability')\n",
    "\n",
    "    return audio_inputs, key_labels, learning_rate, keep_prob"
   ]
  },
  {
   "cell_type": "markdown",
   "metadata": {},
   "source": [
    "### Get Batches"
   ]
  },
  {
   "cell_type": "code",
   "execution_count": 111,
   "metadata": {
    "collapsed": true
   },
   "outputs": [],
   "source": [
    "def get_batches(features, labels, batch_size):\n",
    "    \"\"\"\n",
    "    Split features and labels into batches\n",
    "    \"\"\"\n",
    "    for start in range(0, len(features), batch_size):\n",
    "        end = min(start + batch_size, len(features))\n",
    "        yield features[start:end], labels[start:end]"
   ]
  },
  {
   "cell_type": "markdown",
   "metadata": {},
   "source": [
    "### Network"
   ]
  },
  {
   "cell_type": "code",
   "execution_count": 112,
   "metadata": {
    "collapsed": true
   },
   "outputs": [],
   "source": [
    "def network(X, keep_prob, n_classes):\n",
    "    \"\"\"\n",
    "    Create the network\n",
    "    :param X: Tensor of input recording(s)\n",
    "    :param keep_prob: Tensor for the keep probability\n",
    "    :param n_classes: Number of Classes\n",
    "    :return: Tuple of (tensor output of the classifier, tensor logits of the classifier)\n",
    "    \"\"\"    \n",
    "    # Hyperparameters\n",
    "    alpha = 0.2\n",
    "    h_dim = 16\n",
    "    \n",
    "    #print(\"X: {}\".format(X.shape))\n",
    "     \n",
    "    with tf.name_scope(\"Hidden_Layer1\"):\n",
    "        #h1 = tf.layers.dense(X, h_dim, activation=None)\n",
    "        h1 = tf.layers.conv1d(X, h_dim, 5, 2, 'same', activation=None)\n",
    "        #h1 = tf.layers.maxpool2d(h1, 5, 2, 'same')\n",
    "        h1 = tf.layers.batch_normalization(h1)\n",
    "        h1 = tf.nn.dropout(h1, keep_prob) # Regularization\n",
    "        h1 = tf.maximum(h1*alpha, h1) # Leaky ReLu\n",
    "        \n",
    "    #print(\"h1: {}\".format(h1.shape))\n",
    "\n",
    "    with tf.name_scope(\"Hidden_Layer2\"):\n",
    "        #h2 = tf.layers.dense(h1, h_dim, activation=None)\n",
    "        h2 = tf.layers.conv1d(h1, h_dim*2, 5, 2, 'same', activation=None)\n",
    "        #h2 = tf.layers.maxpool2d(h2, 5, 2, 'same')\n",
    "        h2 = tf.layers.batch_normalization(h2)\n",
    "        h2 = tf.nn.dropout(h2, keep_prob) # Regularization        \n",
    "        h2 = tf.maximum(h2*alpha, h2) # Leaky ReLu\n",
    "        \n",
    "    #print(\"h2: {}\".format(h2.shape))\n",
    "\n",
    "    with tf.name_scope(\"Hidden_Layer3\"):\n",
    "        #h3 = tf.layers.dense(h2, h_dim, activation=None)\n",
    "        h3 = tf.layers.conv1d(h2, h_dim*4, 3, 2, 'same', activation=None)\n",
    "        #h3 = tf.layers.maxpool2d(h3, 3, 2, 'same')\n",
    "        h3 = tf.layers.batch_normalization(h3)\n",
    "        h3 = tf.nn.dropout(h3, keep_prob) # Regularization\n",
    "        h3 = tf.maximum(h3*alpha, h3) # Leaky ReLu\n",
    "        \n",
    "    #print(\"h3: {}\".format(h3.shape))\n",
    "    \n",
    "    \n",
    "    \n",
    "    with tf.name_scope(\"Output\"):\n",
    "        flat_dim = int(h3.get_shape()[1])*int(h3.get_shape()[2])\n",
    "        flat = tf.reshape(h3, [-1, flat_dim])\n",
    "        #print(\"flat: {}\".format(flat.shape))\n",
    "        logits = tf.layers.dense(flat, n_classes, activation=None, name='logits')\n",
    "        #print(\"logits: {}\".format(logits.shape))\n",
    "        #out = tf.nn.softmax(logits, name='softmax_out')\n",
    "\n",
    "    return logits"
   ]
  },
  {
   "cell_type": "markdown",
   "metadata": {},
   "source": [
    "### Show Stats"
   ]
  },
  {
   "cell_type": "code",
   "execution_count": 113,
   "metadata": {
    "collapsed": true
   },
   "outputs": [],
   "source": [
    "def print_stats(session, feature_batch, label_batch, cost, accuracy):\n",
    "    \"\"\"\n",
    "    Print information about loss and validation accuracy\n",
    "    : session: Current TensorFlow session\n",
    "    : feature_batch: Batch of Numpy image data\n",
    "    : label_batch: Batch of Numpy label data\n",
    "    : cost: TensorFlow cost function\n",
    "    : accuracy: TensorFlow accuracy function\n",
    "    \"\"\"\n",
    "    with tf.name_scope(\"Validation_Stats\"):\n",
    "        validation_loss = session.run(cost, feed_dict={x: feature_batch, y: label_batch, keep_prob: 1.0})\n",
    "        validation_accuracy = session.run(accuracy, feed_dict={x: valid_features, y: valid_labels, keep_prob: 1.0})\n",
    "        print(\"Validation Accuracy: {}, Validation Loss: {}\".format(validation_accuracy, validation_loss))"
   ]
  },
  {
   "cell_type": "markdown",
   "metadata": {},
   "source": [
    "### Build Neural Network"
   ]
  },
  {
   "cell_type": "code",
   "execution_count": 114,
   "metadata": {
    "collapsed": true
   },
   "outputs": [],
   "source": [
    "# Remove previous weights, bias, inputs, etc..\n",
    "tf.reset_default_graph()\n",
    "\n",
    "# Inputs\n",
    "x, y, learn_rate, keep_prob = model_inputs(data_width, n_classes)\n",
    "\n",
    "#Model\n",
    "logits = network(x, keep_prob, n_classes)\n",
    "\n",
    "with tf.name_scope(\"Cost\"):\n",
    "    # Cost and Optimizer\n",
    "    cost = tf.reduce_mean(tf.nn.softmax_cross_entropy_with_logits(logits=logits, labels=y, name='loss'), name='cost')\n",
    "    \n",
    "with tf.name_scope(\"Train\"):\n",
    "    optimizer = tf.train.AdamOptimizer(learn_rate, name='optimizer').minimize(cost)\n",
    "\n",
    "with tf.name_scope(\"Accuracy\"):\n",
    "    # Accuracy\n",
    "    correct_pred = tf.equal(tf.argmax(logits, 1), tf.argmax(y, 1), name='prediction')\n",
    "    accuracy = tf.reduce_mean(tf.cast(correct_pred, tf.float32), name='accuracy')"
   ]
  },
  {
   "cell_type": "markdown",
   "metadata": {},
   "source": [
    "### Write out the graph for TensorBoard"
   ]
  },
  {
   "cell_type": "code",
   "execution_count": 115,
   "metadata": {
    "collapsed": true
   },
   "outputs": [],
   "source": [
    "with tf.Session() as sess:\n",
    "    sess.run(tf.global_variables_initializer())\n",
    "    file_writer = tf.summary.FileWriter('./logs/2', sess.graph)"
   ]
  },
  {
   "cell_type": "markdown",
   "metadata": {},
   "source": [
    "### Hyperparameters"
   ]
  },
  {
   "cell_type": "code",
   "execution_count": 119,
   "metadata": {
    "collapsed": true
   },
   "outputs": [],
   "source": [
    "epochs = 500\n",
    "batch_size = 64\n",
    "keep_probability = 0.8\n",
    "learning_rate = 0.0001"
   ]
  },
  {
   "cell_type": "markdown",
   "metadata": {},
   "source": [
    "# Train Neural Network"
   ]
  },
  {
   "cell_type": "code",
   "execution_count": 120,
   "metadata": {},
   "outputs": [
    {
     "name": "stdout",
     "output_type": "stream",
     "text": [
      "12.5%\n"
     ]
    }
   ],
   "source": [
    "# Accuracy to beat (Min of 3 classes)\n",
    "print(\"{:.3}%\".format((1/n_classes)*100))"
   ]
  },
  {
   "cell_type": "code",
   "execution_count": 121,
   "metadata": {
    "scrolled": true
   },
   "outputs": [
    {
     "name": "stdout",
     "output_type": "stream",
     "text": [
      "Training...\n",
      "Epoch 0: Validation Accuracy: 0.10725552588701248, Validation Loss: 2.071289539337158\n",
      "Epoch 10: Validation Accuracy: 0.10410095006227493, Validation Loss: 2.078709125518799\n",
      "Epoch 20: Validation Accuracy: 0.11041010916233063, Validation Loss: 2.079486131668091\n",
      "Epoch 30: Validation Accuracy: 0.12618297338485718, Validation Loss: 2.077547550201416\n",
      "Epoch 40: Validation Accuracy: 0.17034702003002167, Validation Loss: 2.075068235397339\n",
      "Epoch 50: Validation Accuracy: 0.18296530842781067, Validation Loss: 2.0588581562042236\n",
      "Epoch 60: Validation Accuracy: 0.19242902100086212, Validation Loss: 1.8126684427261353\n",
      "Epoch 70: Validation Accuracy: 0.26498425006866455, Validation Loss: 1.1212928295135498\n",
      "Epoch 80: Validation Accuracy: 0.27760255336761475, Validation Loss: 0.8011883497238159\n",
      "Epoch 90: Validation Accuracy: 0.2555205225944519, Validation Loss: 0.547396719455719\n",
      "Epoch 100: Validation Accuracy: 0.25867509841918945, Validation Loss: 0.31493091583251953\n",
      "Epoch 110: Validation Accuracy: 0.23974764347076416, Validation Loss: 0.23121106624603271\n",
      "Epoch 120: Validation Accuracy: 0.24921134114265442, Validation Loss: 0.13663260638713837\n",
      "Epoch 130: Validation Accuracy: 0.22397476434707642, Validation Loss: 0.09912382066249847\n",
      "Epoch 140: Validation Accuracy: 0.23974765837192535, Validation Loss: 0.06097083538770676\n",
      "Epoch 150: Validation Accuracy: 0.2302839159965515, Validation Loss: 0.0562448650598526\n"
     ]
    },
    {
     "ename": "KeyboardInterrupt",
     "evalue": "",
     "output_type": "error",
     "traceback": [
      "\u001b[1;31m---------------------------------------------------------------------------\u001b[0m",
      "\u001b[1;31mKeyboardInterrupt\u001b[0m                         Traceback (most recent call last)",
      "\u001b[1;32m<ipython-input-121-22dc7ffa425a>\u001b[0m in \u001b[0;36m<module>\u001b[1;34m()\u001b[0m\n\u001b[0;32m     13\u001b[0m                                            \u001b[0my\u001b[0m\u001b[1;33m:\u001b[0m \u001b[0mbatch_labels\u001b[0m\u001b[1;33m,\u001b[0m\u001b[1;33m\u001b[0m\u001b[0m\n\u001b[0;32m     14\u001b[0m                                            \u001b[0mlearn_rate\u001b[0m\u001b[1;33m:\u001b[0m \u001b[0mlearning_rate\u001b[0m\u001b[1;33m,\u001b[0m\u001b[1;33m\u001b[0m\u001b[0m\n\u001b[1;32m---> 15\u001b[1;33m                                            keep_prob: keep_probability})\n\u001b[0m\u001b[0;32m     16\u001b[0m         \u001b[1;32mif\u001b[0m \u001b[0mepoch\u001b[0m \u001b[1;33m%\u001b[0m \u001b[1;36m10\u001b[0m \u001b[1;33m==\u001b[0m \u001b[1;36m0\u001b[0m\u001b[1;33m:\u001b[0m\u001b[1;33m\u001b[0m\u001b[0m\n\u001b[0;32m     17\u001b[0m             \u001b[0mprint\u001b[0m\u001b[1;33m(\u001b[0m\u001b[1;34m'Epoch {}: '\u001b[0m\u001b[1;33m.\u001b[0m\u001b[0mformat\u001b[0m\u001b[1;33m(\u001b[0m\u001b[0mepoch\u001b[0m\u001b[1;33m)\u001b[0m\u001b[1;33m,\u001b[0m \u001b[0mend\u001b[0m\u001b[1;33m=\u001b[0m\u001b[1;34m''\u001b[0m\u001b[1;33m)\u001b[0m\u001b[1;33m\u001b[0m\u001b[0m\n",
      "\u001b[1;32m~\\AppData\\Local\\conda\\conda\\envs\\tfgpu1.1\\lib\\site-packages\\tensorflow\\python\\client\\session.py\u001b[0m in \u001b[0;36mrun\u001b[1;34m(self, fetches, feed_dict, options, run_metadata)\u001b[0m\n\u001b[0;32m    776\u001b[0m     \u001b[1;32mtry\u001b[0m\u001b[1;33m:\u001b[0m\u001b[1;33m\u001b[0m\u001b[0m\n\u001b[0;32m    777\u001b[0m       result = self._run(None, fetches, feed_dict, options_ptr,\n\u001b[1;32m--> 778\u001b[1;33m                          run_metadata_ptr)\n\u001b[0m\u001b[0;32m    779\u001b[0m       \u001b[1;32mif\u001b[0m \u001b[0mrun_metadata\u001b[0m\u001b[1;33m:\u001b[0m\u001b[1;33m\u001b[0m\u001b[0m\n\u001b[0;32m    780\u001b[0m         \u001b[0mproto_data\u001b[0m \u001b[1;33m=\u001b[0m \u001b[0mtf_session\u001b[0m\u001b[1;33m.\u001b[0m\u001b[0mTF_GetBuffer\u001b[0m\u001b[1;33m(\u001b[0m\u001b[0mrun_metadata_ptr\u001b[0m\u001b[1;33m)\u001b[0m\u001b[1;33m\u001b[0m\u001b[0m\n",
      "\u001b[1;32m~\\AppData\\Local\\conda\\conda\\envs\\tfgpu1.1\\lib\\site-packages\\tensorflow\\python\\client\\session.py\u001b[0m in \u001b[0;36m_run\u001b[1;34m(self, handle, fetches, feed_dict, options, run_metadata)\u001b[0m\n\u001b[0;32m    980\u001b[0m     \u001b[1;32mif\u001b[0m \u001b[0mfinal_fetches\u001b[0m \u001b[1;32mor\u001b[0m \u001b[0mfinal_targets\u001b[0m\u001b[1;33m:\u001b[0m\u001b[1;33m\u001b[0m\u001b[0m\n\u001b[0;32m    981\u001b[0m       results = self._do_run(handle, final_targets, final_fetches,\n\u001b[1;32m--> 982\u001b[1;33m                              feed_dict_string, options, run_metadata)\n\u001b[0m\u001b[0;32m    983\u001b[0m     \u001b[1;32melse\u001b[0m\u001b[1;33m:\u001b[0m\u001b[1;33m\u001b[0m\u001b[0m\n\u001b[0;32m    984\u001b[0m       \u001b[0mresults\u001b[0m \u001b[1;33m=\u001b[0m \u001b[1;33m[\u001b[0m\u001b[1;33m]\u001b[0m\u001b[1;33m\u001b[0m\u001b[0m\n",
      "\u001b[1;32m~\\AppData\\Local\\conda\\conda\\envs\\tfgpu1.1\\lib\\site-packages\\tensorflow\\python\\client\\session.py\u001b[0m in \u001b[0;36m_do_run\u001b[1;34m(self, handle, target_list, fetch_list, feed_dict, options, run_metadata)\u001b[0m\n\u001b[0;32m   1030\u001b[0m     \u001b[1;32mif\u001b[0m \u001b[0mhandle\u001b[0m \u001b[1;32mis\u001b[0m \u001b[1;32mNone\u001b[0m\u001b[1;33m:\u001b[0m\u001b[1;33m\u001b[0m\u001b[0m\n\u001b[0;32m   1031\u001b[0m       return self._do_call(_run_fn, self._session, feed_dict, fetch_list,\n\u001b[1;32m-> 1032\u001b[1;33m                            target_list, options, run_metadata)\n\u001b[0m\u001b[0;32m   1033\u001b[0m     \u001b[1;32melse\u001b[0m\u001b[1;33m:\u001b[0m\u001b[1;33m\u001b[0m\u001b[0m\n\u001b[0;32m   1034\u001b[0m       return self._do_call(_prun_fn, self._session, handle, feed_dict,\n",
      "\u001b[1;32m~\\AppData\\Local\\conda\\conda\\envs\\tfgpu1.1\\lib\\site-packages\\tensorflow\\python\\client\\session.py\u001b[0m in \u001b[0;36m_do_call\u001b[1;34m(self, fn, *args)\u001b[0m\n\u001b[0;32m   1037\u001b[0m   \u001b[1;32mdef\u001b[0m \u001b[0m_do_call\u001b[0m\u001b[1;33m(\u001b[0m\u001b[0mself\u001b[0m\u001b[1;33m,\u001b[0m \u001b[0mfn\u001b[0m\u001b[1;33m,\u001b[0m \u001b[1;33m*\u001b[0m\u001b[0margs\u001b[0m\u001b[1;33m)\u001b[0m\u001b[1;33m:\u001b[0m\u001b[1;33m\u001b[0m\u001b[0m\n\u001b[0;32m   1038\u001b[0m     \u001b[1;32mtry\u001b[0m\u001b[1;33m:\u001b[0m\u001b[1;33m\u001b[0m\u001b[0m\n\u001b[1;32m-> 1039\u001b[1;33m       \u001b[1;32mreturn\u001b[0m \u001b[0mfn\u001b[0m\u001b[1;33m(\u001b[0m\u001b[1;33m*\u001b[0m\u001b[0margs\u001b[0m\u001b[1;33m)\u001b[0m\u001b[1;33m\u001b[0m\u001b[0m\n\u001b[0m\u001b[0;32m   1040\u001b[0m     \u001b[1;32mexcept\u001b[0m \u001b[0merrors\u001b[0m\u001b[1;33m.\u001b[0m\u001b[0mOpError\u001b[0m \u001b[1;32mas\u001b[0m \u001b[0me\u001b[0m\u001b[1;33m:\u001b[0m\u001b[1;33m\u001b[0m\u001b[0m\n\u001b[0;32m   1041\u001b[0m       \u001b[0mmessage\u001b[0m \u001b[1;33m=\u001b[0m \u001b[0mcompat\u001b[0m\u001b[1;33m.\u001b[0m\u001b[0mas_text\u001b[0m\u001b[1;33m(\u001b[0m\u001b[0me\u001b[0m\u001b[1;33m.\u001b[0m\u001b[0mmessage\u001b[0m\u001b[1;33m)\u001b[0m\u001b[1;33m\u001b[0m\u001b[0m\n",
      "\u001b[1;32m~\\AppData\\Local\\conda\\conda\\envs\\tfgpu1.1\\lib\\site-packages\\tensorflow\\python\\client\\session.py\u001b[0m in \u001b[0;36m_run_fn\u001b[1;34m(session, feed_dict, fetch_list, target_list, options, run_metadata)\u001b[0m\n\u001b[0;32m   1019\u001b[0m         return tf_session.TF_Run(session, options,\n\u001b[0;32m   1020\u001b[0m                                  \u001b[0mfeed_dict\u001b[0m\u001b[1;33m,\u001b[0m \u001b[0mfetch_list\u001b[0m\u001b[1;33m,\u001b[0m \u001b[0mtarget_list\u001b[0m\u001b[1;33m,\u001b[0m\u001b[1;33m\u001b[0m\u001b[0m\n\u001b[1;32m-> 1021\u001b[1;33m                                  status, run_metadata)\n\u001b[0m\u001b[0;32m   1022\u001b[0m \u001b[1;33m\u001b[0m\u001b[0m\n\u001b[0;32m   1023\u001b[0m     \u001b[1;32mdef\u001b[0m \u001b[0m_prun_fn\u001b[0m\u001b[1;33m(\u001b[0m\u001b[0msession\u001b[0m\u001b[1;33m,\u001b[0m \u001b[0mhandle\u001b[0m\u001b[1;33m,\u001b[0m \u001b[0mfeed_dict\u001b[0m\u001b[1;33m,\u001b[0m \u001b[0mfetch_list\u001b[0m\u001b[1;33m)\u001b[0m\u001b[1;33m:\u001b[0m\u001b[1;33m\u001b[0m\u001b[0m\n",
      "\u001b[1;31mKeyboardInterrupt\u001b[0m: "
     ]
    }
   ],
   "source": [
    "save_model_path = './key_classification'\n",
    "\n",
    "print('Training...')\n",
    "with tf.Session() as sess:\n",
    "    # Initialize the variables\n",
    "    sess.run(tf.global_variables_initializer())\n",
    "    \n",
    "    # Training cycle\n",
    "    for epoch in range(epochs):\n",
    "        # Loop over all batches\n",
    "        for batch_features, batch_labels in get_batches(train_features, train_labels, batch_size):\n",
    "            sess.run(optimizer, feed_dict={x: batch_features, \n",
    "                                           y: batch_labels, \n",
    "                                           learn_rate: learning_rate, \n",
    "                                           keep_prob: keep_probability})\n",
    "        if epoch % 10 == 0:\n",
    "            print('Epoch {}: '.format(epoch), end='')\n",
    "            print_stats(sess, batch_features, batch_labels, cost, accuracy)         \n",
    "            \n",
    "    saver = tf.train.Saver()\n",
    "    save_path = saver.save(sess, save_model_path)"
   ]
  },
  {
   "cell_type": "markdown",
   "metadata": {
    "collapsed": true
   },
   "source": [
    "### Test Model"
   ]
  },
  {
   "cell_type": "code",
   "execution_count": null,
   "metadata": {
    "collapsed": true
   },
   "outputs": [],
   "source": [
    "loaded_graph = tf.Graph()\n",
    "\n",
    "with tf.Session(graph=loaded_graph) as sess:"
   ]
  }
 ],
 "metadata": {
  "kernelspec": {
   "display_name": "Python 3",
   "language": "python",
   "name": "python3"
  },
  "language_info": {
   "codemirror_mode": {
    "name": "ipython",
    "version": 3
   },
   "file_extension": ".py",
   "mimetype": "text/x-python",
   "name": "python",
   "nbconvert_exporter": "python",
   "pygments_lexer": "ipython3",
   "version": "3.5.3"
  }
 },
 "nbformat": 4,
 "nbformat_minor": 2
}
