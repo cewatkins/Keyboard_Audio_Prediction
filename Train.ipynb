{
 "cells": [
  {
   "cell_type": "markdown",
   "metadata": {},
   "source": [
    "# Check the Version of TensorFlow and Access to GPU\n",
    "This will check to make sure you have the correct version of TensorFlow and access to a GPU"
   ]
  },
  {
   "cell_type": "code",
   "execution_count": 1,
   "metadata": {
    "collapsed": true
   },
   "outputs": [],
   "source": [
    "import pandas as pd\n",
    "import numpy as np\n",
    "from sklearn import preprocessing"
   ]
  },
  {
   "cell_type": "code",
   "execution_count": 2,
   "metadata": {},
   "outputs": [
    {
     "name": "stdout",
     "output_type": "stream",
     "text": [
      "TensorFlow Version: 1.1.0\n",
      "Default GPU Device: /gpu:0\n"
     ]
    }
   ],
   "source": [
    "from distutils.version import LooseVersion\n",
    "import warnings\n",
    "import tensorflow as tf\n",
    "\n",
    "# Check TensorFlow Version\n",
    "assert LooseVersion(tf.__version__) >= LooseVersion('1.0'), 'Please use TensorFlow version 1.0 or newer.  You are using {}'.format(tf.__version__)\n",
    "print('TensorFlow Version: {}'.format(tf.__version__))\n",
    "\n",
    "# Check for a GPU\n",
    "if not tf.test.gpu_device_name():\n",
    "    warnings.warn('No GPU found. Please use a GPU to train your neural network.')\n",
    "else:\n",
    "    print('Default GPU Device: {}'.format(tf.test.gpu_device_name()))"
   ]
  },
  {
   "cell_type": "markdown",
   "metadata": {},
   "source": [
    "# Import Data"
   ]
  },
  {
   "cell_type": "code",
   "execution_count": 3,
   "metadata": {},
   "outputs": [
    {
     "name": "stdout",
     "output_type": "stream",
     "text": [
      "200\n"
     ]
    },
    {
     "data": {
      "text/html": [
       "<div>\n",
       "<style>\n",
       "    .dataframe thead tr:only-child th {\n",
       "        text-align: right;\n",
       "    }\n",
       "\n",
       "    .dataframe thead th {\n",
       "        text-align: left;\n",
       "    }\n",
       "\n",
       "    .dataframe tbody tr th {\n",
       "        vertical-align: top;\n",
       "    }\n",
       "</style>\n",
       "<table border=\"1\" class=\"dataframe\">\n",
       "  <thead>\n",
       "    <tr style=\"text-align: right;\">\n",
       "      <th></th>\n",
       "      <th>data</th>\n",
       "      <th>key</th>\n",
       "      <th>raw</th>\n",
       "      <th>timestamp</th>\n",
       "    </tr>\n",
       "  </thead>\n",
       "  <tbody>\n",
       "    <tr>\n",
       "      <th>0</th>\n",
       "      <td>[-2, -16, -15, -12, 3, 2, 8, 11, -26, -21, -6,...</td>\n",
       "      <td>delete</td>\n",
       "      <td>[254, 255, 240, 255, 241, 255, 244, 255, 3, 0,...</td>\n",
       "      <td>2018-07-08 17:00:03.470304</td>\n",
       "    </tr>\n",
       "    <tr>\n",
       "      <th>1</th>\n",
       "      <td>[7, 6, 2, 17, -1, 1, -17, -9, 2, -4, 9, -6, -2...</td>\n",
       "      <td>t</td>\n",
       "      <td>[7, 0, 6, 0, 2, 0, 17, 0, 255, 255, 1, 0, 239,...</td>\n",
       "      <td>2018-07-08 17:00:10.196903</td>\n",
       "    </tr>\n",
       "    <tr>\n",
       "      <th>2</th>\n",
       "      <td>[47, 49, 47, 40, 44, 51, 43, 35, 30, 38, 35, 4...</td>\n",
       "      <td>h</td>\n",
       "      <td>[47, 0, 49, 0, 47, 0, 40, 0, 44, 0, 51, 0, 43,...</td>\n",
       "      <td>2018-07-08 17:00:10.824195</td>\n",
       "    </tr>\n",
       "    <tr>\n",
       "      <th>3</th>\n",
       "      <td>[-13, -21, -16, -12, -18, -24, -18, -25, -22, ...</td>\n",
       "      <td>i</td>\n",
       "      <td>[243, 255, 235, 255, 240, 255, 244, 255, 238, ...</td>\n",
       "      <td>2018-07-08 17:00:11.529678</td>\n",
       "    </tr>\n",
       "    <tr>\n",
       "      <th>4</th>\n",
       "      <td>[81, 79, 65, 78, 86, 85, 74, 79, 82, 103, 116,...</td>\n",
       "      <td>s</td>\n",
       "      <td>[81, 0, 79, 0, 65, 0, 78, 0, 86, 0, 85, 0, 74,...</td>\n",
       "      <td>2018-07-08 17:00:11.730209</td>\n",
       "    </tr>\n",
       "  </tbody>\n",
       "</table>\n",
       "</div>"
      ],
      "text/plain": [
       "                                                data     key  \\\n",
       "0  [-2, -16, -15, -12, 3, 2, 8, 11, -26, -21, -6,...  delete   \n",
       "1  [7, 6, 2, 17, -1, 1, -17, -9, 2, -4, 9, -6, -2...       t   \n",
       "2  [47, 49, 47, 40, 44, 51, 43, 35, 30, 38, 35, 4...       h   \n",
       "3  [-13, -21, -16, -12, -18, -24, -18, -25, -22, ...       i   \n",
       "4  [81, 79, 65, 78, 86, 85, 74, 79, 82, 103, 116,...       s   \n",
       "\n",
       "                                                 raw  \\\n",
       "0  [254, 255, 240, 255, 241, 255, 244, 255, 3, 0,...   \n",
       "1  [7, 0, 6, 0, 2, 0, 17, 0, 255, 255, 1, 0, 239,...   \n",
       "2  [47, 0, 49, 0, 47, 0, 40, 0, 44, 0, 51, 0, 43,...   \n",
       "3  [243, 255, 235, 255, 240, 255, 244, 255, 238, ...   \n",
       "4  [81, 0, 79, 0, 65, 0, 78, 0, 86, 0, 85, 0, 74,...   \n",
       "\n",
       "                   timestamp  \n",
       "0 2018-07-08 17:00:03.470304  \n",
       "1 2018-07-08 17:00:10.196903  \n",
       "2 2018-07-08 17:00:10.824195  \n",
       "3 2018-07-08 17:00:11.529678  \n",
       "4 2018-07-08 17:00:11.730209  "
      ]
     },
     "execution_count": 3,
     "metadata": {},
     "output_type": "execute_result"
    }
   ],
   "source": [
    "# Read saved list of data from object into a dataframe\n",
    "raw_df = pd.read_pickle('DataSet/data.pkl')\n",
    "print(len(raw_df))\n",
    "raw_df.head()"
   ]
  },
  {
   "cell_type": "code",
   "execution_count": 4,
   "metadata": {
    "collapsed": true
   },
   "outputs": [],
   "source": [
    "data_width = len(raw_df['data'][0])"
   ]
  },
  {
   "cell_type": "markdown",
   "metadata": {},
   "source": [
    "# Data Preprocessing"
   ]
  },
  {
   "cell_type": "markdown",
   "metadata": {},
   "source": [
    "#### Filter out key counts less than threshold value"
   ]
  },
  {
   "cell_type": "code",
   "execution_count": 7,
   "metadata": {},
   "outputs": [],
   "source": [
    "import collections\n",
    "import matplotlib.pyplot as plt\n",
    "key_count = collections.Counter(raw_df['key'])"
   ]
  },
  {
   "cell_type": "code",
   "execution_count": 12,
   "metadata": {
    "collapsed": true
   },
   "outputs": [],
   "source": [
    "width = 0.5 # Bar width\n",
    "figsize = (15, 4)\n",
    "\n",
    "def plot_key_hist(most_common):\n",
    "    if len(most_common) > 30:\n",
    "        most_common = most_common[:30]\n",
    "        \n",
    "    hist_labels, hist_values = zip(*most_common) # Show only a subset of all keys\n",
    "    indexes = np.arange(len(hist_labels))\n",
    "    plt.figure(figsize=figsize)\n",
    "    plt.bar(indexes, hist_values, width)\n",
    "    plt.xticks(indexes + width * 0.5, hist_labels, rotation='vertical')\n",
    "    plt.show()"
   ]
  },
  {
   "cell_type": "code",
   "execution_count": 13,
   "metadata": {},
   "outputs": [
    {
     "data": {
      "image/png": "[encoded data removed]",
      "text/plain": [
       "<matplotlib.figure.Figure at 0x1845b3a44e0>"
      ]
     },
     "metadata": {},
     "output_type": "display_data"
    }
   ],
   "source": [
    "plot_key_hist(key_count.most_common())"
   ]
  },
  {
   "cell_type": "markdown",
   "metadata": {},
   "source": [
    "#### Truncate DataFrame - Truncate extra key samples past threshold value"
   ]
  },
  {
   "cell_type": "code",
   "execution_count": 14,
   "metadata": {},
   "outputs": [
    {
     "data": {
      "text/plain": [
       "<bound method Counter.most_common of Counter({'space': 40, 'e': 16, 't': 15, 'o': 14, 'i': 13, 'n': 10, 'h': 9, 'a': 9, 's': 8, 'y': 7, 'r': 7, 'p': 6, 'c': 5, 'g': 5, 'd': 4, 'u': 4, 'k': 4, 'w': 4, 'm': 3, 'f': 3, 'l': 3, '.': 2, 'shift': 2, 'b': 2, 'v': 2, 'enter': 1, ',': 1, 'delete': 1})>"
      ]
     },
     "execution_count": 14,
     "metadata": {},
     "output_type": "execute_result"
    }
   ],
   "source": [
    "key_count.most_common"
   ]
  },
  {
   "cell_type": "code",
   "execution_count": 15,
   "metadata": {
    "collapsed": true
   },
   "outputs": [],
   "source": [
    "threshold = 16\n",
    "min_thresh_keys = [key for key, count in zip(key_count.keys(), key_count.values()) if count > threshold]"
   ]
  },
  {
   "cell_type": "code",
   "execution_count": 17,
   "metadata": {},
   "outputs": [],
   "source": [
    "min_thresh_df = raw_df[raw_df['key'].isin(min_thresh_keys)]"
   ]
  },
  {
   "cell_type": "code",
   "execution_count": 18,
   "metadata": {
    "collapsed": true
   },
   "outputs": [],
   "source": [
    "def trim_max_thresh(grouped_class):\n",
    "    return grouped_class.sample(threshold)"
   ]
  },
  {
   "cell_type": "code",
   "execution_count": 40,
   "metadata": {
    "collapsed": true
   },
   "outputs": [],
   "source": [
    "df = min_thresh_df.groupby(['key']).apply(trim_max_thresh)"
   ]
  },
  {
   "cell_type": "markdown",
   "metadata": {},
   "source": [
    "#### Plot truncated data"
   ]
  },
  {
   "cell_type": "code",
   "execution_count": 41,
   "metadata": {
    "collapsed": true
   },
   "outputs": [],
   "source": [
    "truncated_count = collections.Counter(df['key'])"
   ]
  },
  {
   "cell_type": "code",
   "execution_count": 42,
   "metadata": {},
   "outputs": [
    {
     "data": {
      "image/png": "[encoded data removed]",
      "text/plain": [
       "<matplotlib.figure.Figure at 0x2f0d96179b0>"
      ]
     },
     "metadata": {},
     "output_type": "display_data"
    }
   ],
   "source": [
    "plot_key_hist(truncated_count.most_common())"
   ]
  },
  {
   "cell_type": "markdown",
   "metadata": {},
   "source": [
    "#### Normalize Data"
   ]
  },
  {
   "cell_type": "code",
   "execution_count": 43,
   "metadata": {
    "collapsed": true
   },
   "outputs": [],
   "source": [
    "def pandas2npMat(df_col):\n",
    "    np_array = np.float32([df_col[0]])\n",
    "    for i, row in enumerate(df_col):\n",
    "        if i == 0:\n",
    "            pass\n",
    "        else:\n",
    "            np_array = np.concatenate((np_array, [row]), axis=0)\n",
    "    return np_array"
   ]
  },
  {
   "cell_type": "code",
   "execution_count": 44,
   "metadata": {
    "collapsed": true
   },
   "outputs": [],
   "source": [
    "input_data = pandas2npMat(df['data']) # Convert pandas column to numpy matrix"
   ]
  },
  {
   "cell_type": "code",
   "execution_count": 45,
   "metadata": {
    "collapsed": true
   },
   "outputs": [],
   "source": [
    "def normalize(x):\n",
    "    norm = (x - np.min(x)) / (np.max(x) - np.min(x))\n",
    "    return norm"
   ]
  },
  {
   "cell_type": "code",
   "execution_count": 46,
   "metadata": {},
   "outputs": [
    {
     "data": {
      "text/plain": [
       "(6456, 4096)"
      ]
     },
     "execution_count": 46,
     "metadata": {},
     "output_type": "execute_result"
    }
   ],
   "source": [
    "normalized_data = normalize(input_data)\n",
    "normalized_data.shape"
   ]
  },
  {
   "cell_type": "markdown",
   "metadata": {},
   "source": [
    "#### One Hot Encode Classes"
   ]
  },
  {
   "cell_type": "code",
   "execution_count": 47,
   "metadata": {
    "collapsed": true
   },
   "outputs": [],
   "source": [
    "n_classes = len(set(df['key']))"
   ]
  },
  {
   "cell_type": "code",
   "execution_count": 48,
   "metadata": {
    "collapsed": true
   },
   "outputs": [],
   "source": [
    "labels_str = [str(key) for key in df['key']]\n",
    "lb = preprocessing.LabelBinarizer() # Create encoder\n",
    "lb.fit(list(set(labels_str)))\n",
    "labels = lb.transform(labels_str)"
   ]
  },
  {
   "cell_type": "code",
   "execution_count": 49,
   "metadata": {},
   "outputs": [
    {
     "data": {
      "text/plain": [
       "array(['a', 'e', 'space'], \n",
       "      dtype='<U5')"
      ]
     },
     "execution_count": 49,
     "metadata": {},
     "output_type": "execute_result"
    }
   ],
   "source": [
    "lb.classes_"
   ]
  },
  {
   "cell_type": "markdown",
   "metadata": {},
   "source": [
    "#### Split Training and Validation Data"
   ]
  },
  {
   "cell_type": "markdown",
   "metadata": {},
   "source": [
    "Reshape to add 1 channel"
   ]
  },
  {
   "cell_type": "code",
   "execution_count": 50,
   "metadata": {},
   "outputs": [
    {
     "data": {
      "text/plain": [
       "(6456, 4096, 1)"
      ]
     },
     "execution_count": 50,
     "metadata": {},
     "output_type": "execute_result"
    }
   ],
   "source": [
    "normalized_data = normalized_data.reshape((normalized_data.shape[0], normalized_data.shape[1], 1))\n",
    "# labels = labels.reshape((labels.shape[0], labels.shape[1], 1))\n",
    "normalized_data.shape"
   ]
  },
  {
   "cell_type": "code",
   "execution_count": 51,
   "metadata": {
    "collapsed": true
   },
   "outputs": [],
   "source": [
    "from sklearn.model_selection import train_test_split\n",
    "train_features, valid_features, train_labels, valid_labels = train_test_split(\n",
    "    normalized_data, \n",
    "    labels, \n",
    "    test_size=0.1, \n",
    "    random_state=42)"
   ]
  },
  {
   "cell_type": "markdown",
   "metadata": {},
   "source": [
    "# Define Network"
   ]
  },
  {
   "cell_type": "markdown",
   "metadata": {},
   "source": [
    "### Input"
   ]
  },
  {
   "cell_type": "code",
   "execution_count": 52,
   "metadata": {
    "collapsed": true
   },
   "outputs": [],
   "source": [
    "def model_inputs(data_width, n_classes):\n",
    "    \"\"\"\n",
    "    Create the model inputs\n",
    "    :param data_width: The total number of samples in the recorded data point\n",
    "    :param n_classes: Number of Classes\n",
    "    :return: Tuple of (tensor of input audio data, key press labels, learning rate, keep_prob)\n",
    "    \"\"\"\n",
    "    # TODO: Add audio channels to input\n",
    "    \n",
    "    with tf.name_scope(\"Inputs\"):\n",
    "        audio_inputs = tf.placeholder(tf.float32, [None, data_width, 1], name='inputs')\n",
    "    with tf.name_scope(\"Targets\"):\n",
    "        key_labels = tf.placeholder(tf.float32, [None, n_classes], name='labels')\n",
    "    learning_rate = tf.placeholder(tf.float32, name='learning_rate')\n",
    "    keep_prob = tf.placeholder(tf.float32, name='keep_probability')\n",
    "\n",
    "    return audio_inputs, key_labels, learning_rate, keep_prob"
   ]
  },
  {
   "cell_type": "markdown",
   "metadata": {},
   "source": [
    "### Get Batches"
   ]
  },
  {
   "cell_type": "code",
   "execution_count": 53,
   "metadata": {
    "collapsed": true
   },
   "outputs": [],
   "source": [
    "def get_batches(features, labels, batch_size):\n",
    "    \"\"\"\n",
    "    Split features and labels into batches\n",
    "    \"\"\"\n",
    "    for start in range(0, len(features), batch_size):\n",
    "        end = min(start + batch_size, len(features))\n",
    "        yield features[start:end], labels[start:end]"
   ]
  },
  {
   "cell_type": "markdown",
   "metadata": {},
   "source": [
    "### Network"
   ]
  },
  {
   "cell_type": "code",
   "execution_count": 54,
   "metadata": {
    "collapsed": true
   },
   "outputs": [],
   "source": [
    "def network(X, keep_prob, n_classes):\n",
    "    \"\"\"\n",
    "    Create the network\n",
    "    :param X: Tensor of input recording(s)\n",
    "    :param keep_prob: Tensor for the keep probability\n",
    "    :param n_classes: Number of Classes\n",
    "    :return: Tuple of (tensor output of the classifier, tensor logits of the classifier)\n",
    "    \"\"\"    \n",
    "    # Hyperparameters\n",
    "    alpha = 0.2\n",
    "    h_dim = 16\n",
    "    \n",
    "    #print(\"X: {}\".format(X.shape))\n",
    "     \n",
    "    with tf.name_scope(\"Hidden_Layer1\"):\n",
    "        #h1 = tf.layers.dense(X, h_dim, activation=None)\n",
    "        h1 = tf.layers.conv1d(X, h_dim, 5, 2, 'same', activation=None)\n",
    "        #h1 = tf.layers.maxpool2d(h1, 5, 2, 'same')\n",
    "        h1 = tf.layers.batch_normalization(h1)\n",
    "        h1 = tf.nn.dropout(h1, keep_prob) # Regularization\n",
    "        h1 = tf.maximum(h1*alpha, h1) # Leaky ReLu\n",
    "        \n",
    "    #print(\"h1: {}\".format(h1.shape))\n",
    "\n",
    "    with tf.name_scope(\"Hidden_Layer2\"):\n",
    "        #h2 = tf.layers.dense(h1, h_dim, activation=None)\n",
    "        h2 = tf.layers.conv1d(h1, h_dim*2, 5, 2, 'same', activation=None)\n",
    "        #h2 = tf.layers.maxpool2d(h2, 5, 2, 'same')\n",
    "        h2 = tf.layers.batch_normalization(h2)\n",
    "        h2 = tf.nn.dropout(h2, keep_prob) # Regularization        \n",
    "        h2 = tf.maximum(h2*alpha, h2) # Leaky ReLu\n",
    "        \n",
    "    #print(\"h2: {}\".format(h2.shape))\n",
    "\n",
    "    with tf.name_scope(\"Hidden_Layer3\"):\n",
    "        #h3 = tf.layers.dense(h2, h_dim, activation=None)\n",
    "        h3 = tf.layers.conv1d(h2, h_dim*4, 3, 2, 'same', activation=None)\n",
    "        #h3 = tf.layers.maxpool2d(h3, 3, 2, 'same')\n",
    "        h3 = tf.layers.batch_normalization(h3)\n",
    "        h3 = tf.nn.dropout(h3, keep_prob) # Regularization\n",
    "        h3 = tf.maximum(h3*alpha, h3) # Leaky ReLu\n",
    "        \n",
    "    #print(\"h3: {}\".format(h3.shape))\n",
    "    \n",
    "    \n",
    "    \n",
    "    with tf.name_scope(\"Output\"):\n",
    "        flat_dim = int(h3.get_shape()[1])*int(h3.get_shape()[2])\n",
    "        flat = tf.reshape(h3, [-1, flat_dim])\n",
    "        #print(\"flat: {}\".format(flat.shape))\n",
    "        logits = tf.layers.dense(flat, n_classes, activation=None, name='logits')\n",
    "        #print(\"logits: {}\".format(logits.shape))\n",
    "        #out = tf.nn.softmax(logits, name='softmax_out')\n",
    "\n",
    "    return logits"
   ]
  },
  {
   "cell_type": "markdown",
   "metadata": {},
   "source": [
    "### Show Stats"
   ]
  },
  {
   "cell_type": "code",
   "execution_count": 55,
   "metadata": {
    "collapsed": true
   },
   "outputs": [],
   "source": [
    "def print_stats(session, feature_batch, label_batch, cost, accuracy):\n",
    "    \"\"\"\n",
    "    Print information about loss and validation accuracy\n",
    "    : session: Current TensorFlow session\n",
    "    : feature_batch: Batch of Numpy image data\n",
    "    : label_batch: Batch of Numpy label data\n",
    "    : cost: TensorFlow cost function\n",
    "    : accuracy: TensorFlow accuracy function\n",
    "    \"\"\"\n",
    "    with tf.name_scope(\"Validation_Stats\"):\n",
    "        validation_loss = session.run(cost, feed_dict={x: feature_batch, y: label_batch, keep_prob: 1.0})\n",
    "        validation_accuracy = session.run(accuracy, feed_dict={x: valid_features, y: valid_labels, keep_prob: 1.0})\n",
    "        print(\"Validation Accuracy: {}, Validation Loss: {}\".format(validation_accuracy, validation_loss))"
   ]
  },
  {
   "cell_type": "markdown",
   "metadata": {},
   "source": [
    "### Build Neural Network"
   ]
  },
  {
   "cell_type": "code",
   "execution_count": 56,
   "metadata": {
    "collapsed": true
   },
   "outputs": [],
   "source": [
    "# Remove previous weights, bias, inputs, etc..\n",
    "tf.reset_default_graph()\n",
    "\n",
    "# Inputs\n",
    "x, y, learn_rate, keep_prob = model_inputs(data_width, n_classes)\n",
    "\n",
    "#Model\n",
    "logits = network(x, keep_prob, n_classes)\n",
    "\n",
    "with tf.name_scope(\"Cost\"):\n",
    "    # Cost and Optimizer\n",
    "    cost = tf.reduce_mean(tf.nn.softmax_cross_entropy_with_logits(logits=logits, labels=y, name='loss'), name='cost')\n",
    "    \n",
    "with tf.name_scope(\"Train\"):\n",
    "    optimizer = tf.train.AdamOptimizer(learn_rate, name='optimizer').minimize(cost)\n",
    "\n",
    "with tf.name_scope(\"Accuracy\"):\n",
    "    # Accuracy\n",
    "    correct_pred = tf.equal(tf.argmax(logits, 1), tf.argmax(y, 1), name='prediction')\n",
    "    accuracy = tf.reduce_mean(tf.cast(correct_pred, tf.float32), name='accuracy')"
   ]
  },
  {
   "cell_type": "markdown",
   "metadata": {},
   "source": [
    "### Write out the graph for TensorBoard"
   ]
  },
  {
   "cell_type": "code",
   "execution_count": 57,
   "metadata": {
    "collapsed": true
   },
   "outputs": [],
   "source": [
    "with tf.Session() as sess:\n",
    "    sess.run(tf.global_variables_initializer())\n",
    "    file_writer = tf.summary.FileWriter('./logs/2', sess.graph)"
   ]
  },
  {
   "cell_type": "markdown",
   "metadata": {},
   "source": [
    "### Hyperparameters"
   ]
  },
  {
   "cell_type": "code",
   "execution_count": 58,
   "metadata": {
    "collapsed": true
   },
   "outputs": [],
   "source": [
    "epochs = 1000000\n",
    "batch_size = 256\n",
    "keep_probability = 0.9\n",
    "learning_rate = 0.0001"
   ]
  },
  {
   "cell_type": "markdown",
   "metadata": {},
   "source": [
    "# Train Neural Network"
   ]
  },
  {
   "cell_type": "code",
   "execution_count": 59,
   "metadata": {},
   "outputs": [
    {
     "name": "stdout",
     "output_type": "stream",
     "text": [
      "33.3%\n"
     ]
    }
   ],
   "source": [
    "# Accuracy to beat\n",
    "print(\"{:.3}%\".format((1/n_classes)*100))"
   ]
  },
  {
   "cell_type": "code",
   "execution_count": 36,
   "metadata": {
    "scrolled": true
   },
   "outputs": [
    {
     "name": "stdout",
     "output_type": "stream",
     "text": [
      "Training...\n",
      "Epoch 0: Validation Accuracy: 0.24303796887397766, Validation Loss: 1.3855090141296387\n",
      "Epoch 50: Validation Accuracy: 0.23797467350959778, Validation Loss: 1.3860313892364502\n",
      "Epoch 100: Validation Accuracy: 0.23797467350959778, Validation Loss: 1.385907530784607\n",
      "Epoch 150: Validation Accuracy: 0.23797467350959778, Validation Loss: 1.385672926902771\n",
      "Epoch 200: Validation Accuracy: 0.24303796887397766, Validation Loss: 1.3838170766830444\n",
      "Epoch 250: Validation Accuracy: 0.2329113781452179, Validation Loss: 1.3653600215911865\n",
      "Epoch 300: Validation Accuracy: 0.25569623708724976, Validation Loss: 1.2504725456237793\n",
      "Epoch 350: Validation Accuracy: 0.2797468304634094, Validation Loss: 1.1018407344818115\n",
      "Epoch 400: Validation Accuracy: 0.2886075973510742, Validation Loss: 0.9681572914123535\n",
      "Epoch 450: Validation Accuracy: 0.28734177350997925, Validation Loss: 0.8449752330780029\n",
      "Epoch 500: Validation Accuracy: 0.2886075973510742, Validation Loss: 0.7319187521934509\n",
      "Epoch 550: Validation Accuracy: 0.2860759496688843, Validation Loss: 0.6408105492591858\n",
      "Epoch 600: Validation Accuracy: 0.2898734211921692, Validation Loss: 0.5730186104774475\n",
      "Epoch 650: Validation Accuracy: 0.3126582205295563, Validation Loss: 0.5101324319839478\n",
      "Epoch 700: Validation Accuracy: 0.3063291013240814, Validation Loss: 0.44801390171051025\n",
      "Epoch 750: Validation Accuracy: 0.3012658357620239, Validation Loss: 0.39223581552505493\n",
      "Epoch 800: Validation Accuracy: 0.2886075973510742, Validation Loss: 0.3595617115497589\n",
      "Epoch 850: Validation Accuracy: 0.30000001192092896, Validation Loss: 0.3224872350692749\n",
      "Epoch 900: Validation Accuracy: 0.31392404437065125, Validation Loss: 0.33064740896224976\n",
      "Epoch 950: Validation Accuracy: 0.3075949549674988, Validation Loss: 0.29674309492111206\n",
      "Epoch 1000: Validation Accuracy: 0.3025316596031189, Validation Loss: 0.2569165825843811\n",
      "Epoch 1050: Validation Accuracy: 0.3012658357620239, Validation Loss: 0.22741490602493286\n",
      "Epoch 1100: Validation Accuracy: 0.3063291013240814, Validation Loss: 0.21539928019046783\n",
      "Epoch 1150: Validation Accuracy: 0.30379748344421387, Validation Loss: 0.19798308610916138\n",
      "Epoch 1200: Validation Accuracy: 0.3101266026496887, Validation Loss: 0.17356014251708984\n",
      "Epoch 1250: Validation Accuracy: 0.3063291311264038, Validation Loss: 0.1631017029285431\n",
      "Epoch 1300: Validation Accuracy: 0.3012658357620239, Validation Loss: 0.16482923924922943\n",
      "Epoch 1350: Validation Accuracy: 0.30000001192092896, Validation Loss: 0.17180758714675903\n",
      "Epoch 1400: Validation Accuracy: 0.3075949549674988, Validation Loss: 0.16823428869247437\n",
      "Epoch 1450: Validation Accuracy: 0.31518983840942383, Validation Loss: 0.14768223464488983\n",
      "Epoch 1500: Validation Accuracy: 0.3126582205295563, Validation Loss: 0.12811867892742157\n",
      "Epoch 1550: Validation Accuracy: 0.3101266026496887, Validation Loss: 0.1296146661043167\n",
      "Epoch 1600: Validation Accuracy: 0.30000001192092896, Validation Loss: 0.10597705096006393\n",
      "Epoch 1650: Validation Accuracy: 0.2949367165565491, Validation Loss: 0.11408049613237381\n",
      "Epoch 1700: Validation Accuracy: 0.3063291013240814, Validation Loss: 0.13099978864192963\n",
      "Epoch 1750: Validation Accuracy: 0.3025316298007965, Validation Loss: 0.10246292501688004\n",
      "Epoch 1800: Validation Accuracy: 0.2949367165565491, Validation Loss: 0.11077948659658432\n",
      "Epoch 1850: Validation Accuracy: 0.3012658357620239, Validation Loss: 0.13183724880218506\n",
      "Epoch 1900: Validation Accuracy: 0.3025316298007965, Validation Loss: 0.11337544023990631\n",
      "Epoch 1950: Validation Accuracy: 0.3075949549674988, Validation Loss: 0.1080983504652977\n",
      "Epoch 2000: Validation Accuracy: 0.31392407417297363, Validation Loss: 0.10405004024505615\n",
      "Epoch 2050: Validation Accuracy: 0.30506330728530884, Validation Loss: 0.08612016588449478\n",
      "Epoch 2100: Validation Accuracy: 0.30886077880859375, Validation Loss: 0.08556508272886276\n",
      "Epoch 2150: Validation Accuracy: 0.3063291311264038, Validation Loss: 0.08171049505472183\n",
      "Epoch 2200: Validation Accuracy: 0.3063291013240814, Validation Loss: 0.0730116218328476\n",
      "Epoch 2250: Validation Accuracy: 0.30379748344421387, Validation Loss: 0.07817135751247406\n",
      "Epoch 2300: Validation Accuracy: 0.2936708927154541, Validation Loss: 0.06826315820217133\n",
      "Epoch 2350: Validation Accuracy: 0.29620254039764404, Validation Loss: 0.06741871684789658\n",
      "Epoch 2400: Validation Accuracy: 0.30000001192092896, Validation Loss: 0.059299174696207047\n",
      "Epoch 2450: Validation Accuracy: 0.298734188079834, Validation Loss: 0.05289369076490402\n",
      "Epoch 2500: Validation Accuracy: 0.29620254039764404, Validation Loss: 0.06540696322917938\n",
      "Epoch 2550: Validation Accuracy: 0.3075949549674988, Validation Loss: 0.05577820912003517\n",
      "Epoch 2600: Validation Accuracy: 0.30506330728530884, Validation Loss: 0.05272312089800835\n",
      "Epoch 2650: Validation Accuracy: 0.3101266026496887, Validation Loss: 0.062050797045230865\n",
      "Epoch 2700: Validation Accuracy: 0.30886077880859375, Validation Loss: 0.05493281036615372\n",
      "Epoch 2750: Validation Accuracy: 0.298734188079834, Validation Loss: 0.08387608081102371\n",
      "Epoch 2800: Validation Accuracy: 0.3025316596031189, Validation Loss: 0.07530811429023743\n",
      "Epoch 2850: Validation Accuracy: 0.3126581907272339, Validation Loss: 0.07427066564559937\n",
      "Epoch 2900: Validation Accuracy: 0.30506327748298645, Validation Loss: 0.059794750064611435\n",
      "Epoch 2950: Validation Accuracy: 0.3151898980140686, Validation Loss: 0.06582991033792496\n",
      "Epoch 3000: Validation Accuracy: 0.31265825033187866, Validation Loss: 0.06868547946214676\n",
      "Epoch 3050: Validation Accuracy: 0.3075949549674988, Validation Loss: 0.059021398425102234\n",
      "Epoch 3100: Validation Accuracy: 0.3164556622505188, Validation Loss: 0.05175756290555\n",
      "Epoch 3150: Validation Accuracy: 0.31392404437065125, Validation Loss: 0.06093280017375946\n",
      "Epoch 3200: Validation Accuracy: 0.31518983840942383, Validation Loss: 0.051064010709524155\n",
      "Epoch 3250: Validation Accuracy: 0.3025316596031189, Validation Loss: 0.05344276502728462\n",
      "Epoch 3300: Validation Accuracy: 0.3012658357620239, Validation Loss: 0.06778349727392197\n",
      "Epoch 3350: Validation Accuracy: 0.30886077880859375, Validation Loss: 0.04315953329205513\n",
      "Epoch 3400: Validation Accuracy: 0.31012657284736633, Validation Loss: 0.05769725143909454\n",
      "Epoch 3450: Validation Accuracy: 0.32151898741722107, Validation Loss: 0.05849600210785866\n",
      "Epoch 3500: Validation Accuracy: 0.31392407417297363, Validation Loss: 0.05496121942996979\n",
      "Epoch 3550: Validation Accuracy: 0.31772151589393616, Validation Loss: 0.05015390366315842\n",
      "Epoch 3600: Validation Accuracy: 0.30506330728530884, Validation Loss: 0.039348699152469635\n",
      "Epoch 3650: Validation Accuracy: 0.3151898682117462, Validation Loss: 0.03970552608370781\n",
      "Epoch 3700: Validation Accuracy: 0.3075949549674988, Validation Loss: 0.04136330261826515\n",
      "Epoch 3750: Validation Accuracy: 0.3101266026496887, Validation Loss: 0.03186476230621338\n",
      "Epoch 3800: Validation Accuracy: 0.3215189576148987, Validation Loss: 0.032988179475069046\n",
      "Epoch 3850: Validation Accuracy: 0.3215189576148987, Validation Loss: 0.033555805683135986\n",
      "Epoch 3900: Validation Accuracy: 0.3025316596031189, Validation Loss: 0.04006524756550789\n",
      "Epoch 3950: Validation Accuracy: 0.30126580595970154, Validation Loss: 0.027817249298095703\n",
      "Epoch 4000: Validation Accuracy: 0.3075949549674988, Validation Loss: 0.035642676055431366\n",
      "Epoch 4050: Validation Accuracy: 0.29999998211860657, Validation Loss: 0.03130088746547699\n",
      "Epoch 4100: Validation Accuracy: 0.29999998211860657, Validation Loss: 0.02784067392349243\n",
      "Epoch 4150: Validation Accuracy: 0.3075949251651764, Validation Loss: 0.028420625254511833\n",
      "Epoch 4200: Validation Accuracy: 0.3063291013240814, Validation Loss: 0.03950149565935135\n",
      "Epoch 4250: Validation Accuracy: 0.2949367165565491, Validation Loss: 0.05501718819141388\n"
     ]
    },
    {
     "ename": "KeyboardInterrupt",
     "evalue": "",
     "output_type": "error",
     "traceback": [
      "\u001b[1;31m---------------------------------------------------------------------------\u001b[0m",
      "\u001b[1;31mKeyboardInterrupt\u001b[0m                         Traceback (most recent call last)",
      "\u001b[1;32m<ipython-input-36-70f500edfb9a>\u001b[0m in \u001b[0;36m<module>\u001b[1;34m()\u001b[0m\n\u001b[0;32m     13\u001b[0m                                            \u001b[0my\u001b[0m\u001b[1;33m:\u001b[0m \u001b[0mbatch_labels\u001b[0m\u001b[1;33m,\u001b[0m\u001b[1;33m\u001b[0m\u001b[0m\n\u001b[0;32m     14\u001b[0m                                            \u001b[0mlearn_rate\u001b[0m\u001b[1;33m:\u001b[0m \u001b[0mlearning_rate\u001b[0m\u001b[1;33m,\u001b[0m\u001b[1;33m\u001b[0m\u001b[0m\n\u001b[1;32m---> 15\u001b[1;33m                                            keep_prob: keep_probability})\n\u001b[0m\u001b[0;32m     16\u001b[0m         \u001b[1;32mif\u001b[0m \u001b[0mepoch\u001b[0m \u001b[1;33m%\u001b[0m \u001b[1;36m50\u001b[0m \u001b[1;33m==\u001b[0m \u001b[1;36m0\u001b[0m\u001b[1;33m:\u001b[0m\u001b[1;33m\u001b[0m\u001b[0m\n\u001b[0;32m     17\u001b[0m             \u001b[0mprint\u001b[0m\u001b[1;33m(\u001b[0m\u001b[1;34m'Epoch {}: '\u001b[0m\u001b[1;33m.\u001b[0m\u001b[0mformat\u001b[0m\u001b[1;33m(\u001b[0m\u001b[0mepoch\u001b[0m\u001b[1;33m)\u001b[0m\u001b[1;33m,\u001b[0m \u001b[0mend\u001b[0m\u001b[1;33m=\u001b[0m\u001b[1;34m''\u001b[0m\u001b[1;33m)\u001b[0m\u001b[1;33m\u001b[0m\u001b[0m\n",
      "\u001b[1;32mC:\\Users\\stephen\\AppData\\Local\\conda\\conda\\envs\\tfgpu\\lib\\site-packages\\tensorflow\\python\\client\\session.py\u001b[0m in \u001b[0;36mrun\u001b[1;34m(self, fetches, feed_dict, options, run_metadata)\u001b[0m\n\u001b[0;32m    765\u001b[0m     \u001b[1;32mtry\u001b[0m\u001b[1;33m:\u001b[0m\u001b[1;33m\u001b[0m\u001b[0m\n\u001b[0;32m    766\u001b[0m       result = self._run(None, fetches, feed_dict, options_ptr,\n\u001b[1;32m--> 767\u001b[1;33m                          run_metadata_ptr)\n\u001b[0m\u001b[0;32m    768\u001b[0m       \u001b[1;32mif\u001b[0m \u001b[0mrun_metadata\u001b[0m\u001b[1;33m:\u001b[0m\u001b[1;33m\u001b[0m\u001b[0m\n\u001b[0;32m    769\u001b[0m         \u001b[0mproto_data\u001b[0m \u001b[1;33m=\u001b[0m \u001b[0mtf_session\u001b[0m\u001b[1;33m.\u001b[0m\u001b[0mTF_GetBuffer\u001b[0m\u001b[1;33m(\u001b[0m\u001b[0mrun_metadata_ptr\u001b[0m\u001b[1;33m)\u001b[0m\u001b[1;33m\u001b[0m\u001b[0m\n",
      "\u001b[1;32mC:\\Users\\stephen\\AppData\\Local\\conda\\conda\\envs\\tfgpu\\lib\\site-packages\\tensorflow\\python\\client\\session.py\u001b[0m in \u001b[0;36m_run\u001b[1;34m(self, handle, fetches, feed_dict, options, run_metadata)\u001b[0m\n\u001b[0;32m    963\u001b[0m     \u001b[1;32mif\u001b[0m \u001b[0mfinal_fetches\u001b[0m \u001b[1;32mor\u001b[0m \u001b[0mfinal_targets\u001b[0m\u001b[1;33m:\u001b[0m\u001b[1;33m\u001b[0m\u001b[0m\n\u001b[0;32m    964\u001b[0m       results = self._do_run(handle, final_targets, final_fetches,\n\u001b[1;32m--> 965\u001b[1;33m                              feed_dict_string, options, run_metadata)\n\u001b[0m\u001b[0;32m    966\u001b[0m     \u001b[1;32melse\u001b[0m\u001b[1;33m:\u001b[0m\u001b[1;33m\u001b[0m\u001b[0m\n\u001b[0;32m    967\u001b[0m       \u001b[0mresults\u001b[0m \u001b[1;33m=\u001b[0m \u001b[1;33m[\u001b[0m\u001b[1;33m]\u001b[0m\u001b[1;33m\u001b[0m\u001b[0m\n",
      "\u001b[1;32mC:\\Users\\stephen\\AppData\\Local\\conda\\conda\\envs\\tfgpu\\lib\\site-packages\\tensorflow\\python\\client\\session.py\u001b[0m in \u001b[0;36m_do_run\u001b[1;34m(self, handle, target_list, fetch_list, feed_dict, options, run_metadata)\u001b[0m\n\u001b[0;32m   1013\u001b[0m     \u001b[1;32mif\u001b[0m \u001b[0mhandle\u001b[0m \u001b[1;32mis\u001b[0m \u001b[1;32mNone\u001b[0m\u001b[1;33m:\u001b[0m\u001b[1;33m\u001b[0m\u001b[0m\n\u001b[0;32m   1014\u001b[0m       return self._do_call(_run_fn, self._session, feed_dict, fetch_list,\n\u001b[1;32m-> 1015\u001b[1;33m                            target_list, options, run_metadata)\n\u001b[0m\u001b[0;32m   1016\u001b[0m     \u001b[1;32melse\u001b[0m\u001b[1;33m:\u001b[0m\u001b[1;33m\u001b[0m\u001b[0m\n\u001b[0;32m   1017\u001b[0m       return self._do_call(_prun_fn, self._session, handle, feed_dict,\n",
      "\u001b[1;32mC:\\Users\\stephen\\AppData\\Local\\conda\\conda\\envs\\tfgpu\\lib\\site-packages\\tensorflow\\python\\client\\session.py\u001b[0m in \u001b[0;36m_do_call\u001b[1;34m(self, fn, *args)\u001b[0m\n\u001b[0;32m   1020\u001b[0m   \u001b[1;32mdef\u001b[0m \u001b[0m_do_call\u001b[0m\u001b[1;33m(\u001b[0m\u001b[0mself\u001b[0m\u001b[1;33m,\u001b[0m \u001b[0mfn\u001b[0m\u001b[1;33m,\u001b[0m \u001b[1;33m*\u001b[0m\u001b[0margs\u001b[0m\u001b[1;33m)\u001b[0m\u001b[1;33m:\u001b[0m\u001b[1;33m\u001b[0m\u001b[0m\n\u001b[0;32m   1021\u001b[0m     \u001b[1;32mtry\u001b[0m\u001b[1;33m:\u001b[0m\u001b[1;33m\u001b[0m\u001b[0m\n\u001b[1;32m-> 1022\u001b[1;33m       \u001b[1;32mreturn\u001b[0m \u001b[0mfn\u001b[0m\u001b[1;33m(\u001b[0m\u001b[1;33m*\u001b[0m\u001b[0margs\u001b[0m\u001b[1;33m)\u001b[0m\u001b[1;33m\u001b[0m\u001b[0m\n\u001b[0m\u001b[0;32m   1023\u001b[0m     \u001b[1;32mexcept\u001b[0m \u001b[0merrors\u001b[0m\u001b[1;33m.\u001b[0m\u001b[0mOpError\u001b[0m \u001b[1;32mas\u001b[0m \u001b[0me\u001b[0m\u001b[1;33m:\u001b[0m\u001b[1;33m\u001b[0m\u001b[0m\n\u001b[0;32m   1024\u001b[0m       \u001b[0mmessage\u001b[0m \u001b[1;33m=\u001b[0m \u001b[0mcompat\u001b[0m\u001b[1;33m.\u001b[0m\u001b[0mas_text\u001b[0m\u001b[1;33m(\u001b[0m\u001b[0me\u001b[0m\u001b[1;33m.\u001b[0m\u001b[0mmessage\u001b[0m\u001b[1;33m)\u001b[0m\u001b[1;33m\u001b[0m\u001b[0m\n",
      "\u001b[1;32mC:\\Users\\stephen\\AppData\\Local\\conda\\conda\\envs\\tfgpu\\lib\\site-packages\\tensorflow\\python\\client\\session.py\u001b[0m in \u001b[0;36m_run_fn\u001b[1;34m(session, feed_dict, fetch_list, target_list, options, run_metadata)\u001b[0m\n\u001b[0;32m   1002\u001b[0m         return tf_session.TF_Run(session, options,\n\u001b[0;32m   1003\u001b[0m                                  \u001b[0mfeed_dict\u001b[0m\u001b[1;33m,\u001b[0m \u001b[0mfetch_list\u001b[0m\u001b[1;33m,\u001b[0m \u001b[0mtarget_list\u001b[0m\u001b[1;33m,\u001b[0m\u001b[1;33m\u001b[0m\u001b[0m\n\u001b[1;32m-> 1004\u001b[1;33m                                  status, run_metadata)\n\u001b[0m\u001b[0;32m   1005\u001b[0m \u001b[1;33m\u001b[0m\u001b[0m\n\u001b[0;32m   1006\u001b[0m     \u001b[1;32mdef\u001b[0m \u001b[0m_prun_fn\u001b[0m\u001b[1;33m(\u001b[0m\u001b[0msession\u001b[0m\u001b[1;33m,\u001b[0m \u001b[0mhandle\u001b[0m\u001b[1;33m,\u001b[0m \u001b[0mfeed_dict\u001b[0m\u001b[1;33m,\u001b[0m \u001b[0mfetch_list\u001b[0m\u001b[1;33m)\u001b[0m\u001b[1;33m:\u001b[0m\u001b[1;33m\u001b[0m\u001b[0m\n",
      "\u001b[1;31mKeyboardInterrupt\u001b[0m: "
     ]
    }
   ],
   "source": [
    "save_model_path = './key_classification'\n",
    "\n",
    "print('Training...')\n",
    "with tf.Session() as sess:\n",
    "    # Initialize the variables\n",
    "    sess.run(tf.global_variables_initializer())\n",
    "    \n",
    "    # Training cycle\n",
    "    for epoch in range(epochs):\n",
    "        # Loop over all batches\n",
    "        for batch_features, batch_labels in get_batches(train_features, train_labels, batch_size):\n",
    "            sess.run(optimizer, feed_dict={x: batch_features, \n",
    "                                           y: batch_labels, \n",
    "                                           learn_rate: learning_rate, \n",
    "                                           keep_prob: keep_probability})\n",
    "        if epoch % 50 == 0:\n",
    "            print('Epoch {}: '.format(epoch), end='')\n",
    "            print_stats(sess, batch_features, batch_labels, cost, accuracy)         \n",
    "            \n",
    "    saver = tf.train.Saver()\n",
    "    save_path = saver.save(sess, save_model_path)"
   ]
  },
  {
   "cell_type": "markdown",
   "metadata": {
    "collapsed": true
   },
   "source": [
    "### Test Model"
   ]
  },
  {
   "cell_type": "code",
   "execution_count": null,
   "metadata": {
    "collapsed": true
   },
   "outputs": [],
   "source": [
    "loaded_graph = tf.Graph()\n",
    "\n",
    "with tf.Session(graph=loaded_graph) as sess:"
   ]
  }
 ],
 "metadata": {
  "kernelspec": {
   "display_name": "Python 3",
   "language": "python",
   "name": "python3"
  },
  "language_info": {
   "codemirror_mode": {
    "name": "ipython",
    "version": 3
   },
   "file_extension": ".py",
   "mimetype": "text/x-python",
   "name": "python",
   "nbconvert_exporter": "python",
   "pygments_lexer": "ipython3",
   "version": "3.5.3"
  }
 },
 "nbformat": 4,
 "nbformat_minor": 2
}
