{
 "cells": [
  {
   "cell_type": "markdown",
   "metadata": {},
   "source": [
    "# Check the Version of TensorFlow and Access to GPU\n",
    "This will check to make sure you have the correct version of TensorFlow and access to a GPU"
   ]
  },
  {
   "cell_type": "markdown",
   "metadata": {},
   "source": [
    "# Todo List\n",
    "- Add several dense layers after convolutional layers\n",
    "- Play with learning rate and batch size"
   ]
  },
  {
   "cell_type": "code",
   "execution_count": 1,
   "metadata": {
    "collapsed": true
   },
   "outputs": [],
   "source": [
    "import pandas as pd\n",
    "import numpy as np\n",
    "from sklearn import preprocessing\n",
    "import pickle"
   ]
  },
  {
   "cell_type": "code",
   "execution_count": 2,
   "metadata": {},
   "outputs": [
    {
     "name": "stdout",
     "output_type": "stream",
     "text": [
      "TensorFlow Version: 1.1.0\n",
      "Default GPU Device: /gpu:0\n"
     ]
    }
   ],
   "source": [
    "from distutils.version import LooseVersion\n",
    "import warnings\n",
    "import tensorflow as tf\n",
    "\n",
    "# Check TensorFlow Version\n",
    "assert LooseVersion(tf.__version__) >= LooseVersion('1.0'), 'Please use TensorFlow version 1.0 or newer.  You are using {}'.format(tf.__version__)\n",
    "print('TensorFlow Version: {}'.format(tf.__version__))\n",
    "\n",
    "# Check for a GPU\n",
    "if not tf.test.gpu_device_name():\n",
    "    warnings.warn('No GPU found. Please use a GPU to train your neural network.')\n",
    "else:\n",
    "    print('Default GPU Device: {}'.format(tf.test.gpu_device_name()))"
   ]
  },
  {
   "cell_type": "markdown",
   "metadata": {},
   "source": [
    "# Import Data"
   ]
  },
  {
   "cell_type": "code",
   "execution_count": 3,
   "metadata": {
    "collapsed": true
   },
   "outputs": [],
   "source": [
    "import os\n",
    "dataset_dir = 'DataSet/'"
   ]
  },
  {
   "cell_type": "code",
   "execution_count": 4,
   "metadata": {},
   "outputs": [
    {
     "name": "stdout",
     "output_type": "stream",
     "text": [
      "File: DataSet/2018-07-13_18-39-56_0.pkl, DataSet Length: 500\n",
      "File: DataSet/2018-07-13_18-43-51_0.pkl, DataSet Length: 500\n",
      "File: DataSet/2018-07-13_18-46-04_1.pkl, DataSet Length: 500\n",
      "File: DataSet/2018-07-13_18-47-58_2.pkl, DataSet Length: 500\n",
      "File: DataSet/2018-07-13_18-49-54_3.pkl, DataSet Length: 500\n",
      "File: DataSet/2018-07-13_18-52-16_4.pkl, DataSet Length: 500\n",
      "File: DataSet/2018-07-13_18-54-29_5.pkl, DataSet Length: 500\n",
      "File: DataSet/2018-07-13_18-56-38_6.pkl, DataSet Length: 500\n",
      "File: DataSet/2018-07-13_18-58-30_7.pkl, DataSet Length: 500\n",
      "File: DataSet/2018-07-13_19-00-21_8.pkl, DataSet Length: 500\n",
      "File: DataSet/2018-07-13_19-02-36_9.pkl, DataSet Length: 500\n",
      "File: DataSet/2018-07-13_19-04-42_10.pkl, DataSet Length: 500\n",
      "File: DataSet/2018-07-13_19-06-38_11.pkl, DataSet Length: 500\n",
      "File: DataSet/2018-07-13_19-08-49_12.pkl, DataSet Length: 500\n",
      "File: DataSet/2018-07-13_19-10-48_13.pkl, DataSet Length: 500\n",
      "File: DataSet/2018-07-13_19-12-43_14.pkl, DataSet Length: 500\n",
      "File: DataSet/2018-07-13_19-14-54_15.pkl, DataSet Length: 500\n",
      "File: DataSet/2018-07-13_19-16-54_16.pkl, DataSet Length: 500\n",
      "File: DataSet/2018-07-13_19-19-01_17.pkl, DataSet Length: 500\n",
      "File: DataSet/2018-07-13_19-20-48_18.pkl, DataSet Length: 500\n",
      "File: DataSet/2018-07-13_19-22-54_19.pkl, DataSet Length: 500\n",
      "File: DataSet/2018-07-13_19-22-54_20.pkl, DataSet Length: 500\n",
      "File: DataSet/data_07-08-18.pkl, DataSet Length: 7150\n",
      "File: DataSet/data_07-10-18_work.pkl, DataSet Length: 8700\n",
      "File: DataSet/data_07-13-18.pkl, DataSet Length: 5400\n",
      "Total Length: 32250\n"
     ]
    }
   ],
   "source": [
    "count = 0\n",
    "for filename in os.listdir(dataset_dir):\n",
    "    if filename.endswith(\"test_set.pkl\"):\n",
    "        continue\n",
    "    if filename.endswith(\".pkl\"): \n",
    "        df = pd.read_pickle(os.path.join(dataset_dir, filename))\n",
    "        \n",
    "        if count == 0:\n",
    "            raw_df = df\n",
    "        else:\n",
    "            raw_df = raw_df.append(df, ignore_index=True)\n",
    "            \n",
    "        print('File: {}, DataSet Length: {}'.format(os.path.join(dataset_dir, filename), len(df)))\n",
    "        count += 1\n",
    "    else:\n",
    "        continue\n",
    "print('Total Length: {}'.format(len(raw_df)))"
   ]
  },
  {
   "cell_type": "code",
   "execution_count": 5,
   "metadata": {
    "collapsed": true
   },
   "outputs": [],
   "source": [
    "# # Read saved list of data from object into a dataframe\n",
    "# raw_df = pd.read_pickle('DataSet/data_07-10-18.pkl')\n",
    "# print(len(raw_df))\n",
    "# raw_df.head()"
   ]
  },
  {
   "cell_type": "code",
   "execution_count": 6,
   "metadata": {
    "collapsed": true
   },
   "outputs": [],
   "source": [
    "data_width = len(raw_df['data'][0])"
   ]
  },
  {
   "cell_type": "markdown",
   "metadata": {},
   "source": [
    "# Data Preprocessing"
   ]
  },
  {
   "cell_type": "markdown",
   "metadata": {},
   "source": [
    "#### Filter out key counts less than threshold value"
   ]
  },
  {
   "cell_type": "code",
   "execution_count": 7,
   "metadata": {
    "collapsed": true
   },
   "outputs": [],
   "source": [
    "import collections\n",
    "import matplotlib.pyplot as plt\n",
    "key_count = collections.Counter(raw_df['key'])"
   ]
  },
  {
   "cell_type": "code",
   "execution_count": 8,
   "metadata": {
    "collapsed": true
   },
   "outputs": [],
   "source": [
    "width = 0.5 # Bar width\n",
    "figsize = (15, 4)\n",
    "\n",
    "def plot_key_hist(most_common):\n",
    "    if len(most_common) > 30:\n",
    "        most_common = most_common[:30]\n",
    "        \n",
    "    hist_labels, hist_values = zip(*most_common) # Show only a subset of all keys\n",
    "    indexes = np.arange(len(hist_labels))\n",
    "    plt.figure(figsize=figsize)\n",
    "    plt.bar(indexes, hist_values, width)\n",
    "    plt.xticks(indexes + width * 0.5, hist_labels, rotation='vertical')\n",
    "    plt.show()"
   ]
  },
  {
   "cell_type": "code",
   "execution_count": 9,
   "metadata": {},
   "outputs": [
    {
     "data": {
      "image/png": "[encoded data removed]",
      "text/plain": [
       "<matplotlib.figure.Figure at 0x22ffbc3a8d0>"
      ]
     },
     "metadata": {},
     "output_type": "display_data"
    }
   ],
   "source": [
    "plot_key_hist(key_count.most_common())"
   ]
  },
  {
   "cell_type": "code",
   "execution_count": 10,
   "metadata": {},
   "outputs": [
    {
     "data": {
      "text/plain": [
       "<bound method Counter.most_common of Counter({'space': 5072, 'e': 3128, 't': 2451, 'a': 2167, 'i': 1883, 'o': 1802, 'n': 1790, 's': 1776, 'r': 1508, 'h': 1126, 'l': 1122, 'd': 894, 'c': 849, 'u': 641, 'm': 633, 'g': 596, 'f': 525, 'p': 488, 'w': 439, 'y': 432, 'b': 395, 'v': 318, 'backspace': 309, '.': 288, ',': 251, 'k': 193, 'enter': 150, 'shift': 120, 'x': 108, \"'\": 77, '0': 72, 'z': 67, 'ctrl_l': 60, '-': 56, '1': 45, '2': 43, 'q': 42, 'delete': 38, 'down': 38, '9': 35, 'j': 27, '3': 25, '5': 21, '/': 17, 'esc': 17, ';': 16, 'left': 16, '7': 15, '8': 14, '4': 14, '6': 14, 'up': 10, 'right': 8, '=': 4, 'tab': 4, '`': 1})>"
      ]
     },
     "execution_count": 10,
     "metadata": {},
     "output_type": "execute_result"
    }
   ],
   "source": [
    "key_count.most_common"
   ]
  },
  {
   "cell_type": "code",
   "execution_count": 11,
   "metadata": {},
   "outputs": [
    {
     "name": "stdout",
     "output_type": "stream",
     "text": [
      "Max Data Size: 14208, Class Count: 8, Threshold: 1775\n"
     ]
    }
   ],
   "source": [
    "# Maximize DataSet Size By Finding Optimal Threshold\n",
    "max_data_size = 0\n",
    "max_class_cnt = 0\n",
    "threshold_max = 0\n",
    "for _, v in key_count.most_common():\n",
    "    threshold = v - 1\n",
    "    min_thresh_cnts = [count for key, count in zip(key_count.keys(), key_count.values()) if count > threshold]\n",
    "    class_cnt = len(min_thresh_cnts)\n",
    "    data_size = min(min_thresh_cnts)*len(min_thresh_cnts)\n",
    "    if data_size > max_data_size:\n",
    "        max_data_size = data_size\n",
    "        max_class_cnt = class_cnt\n",
    "        threshold_max = threshold\n",
    "print('Max Data Size: {}, Class Count: {}, Threshold: {}'.format(max_data_size, max_class_cnt, threshold_max))"
   ]
  },
  {
   "cell_type": "code",
   "execution_count": 12,
   "metadata": {
    "collapsed": true
   },
   "outputs": [],
   "source": [
    "# Manually define threshold\n",
    "#threshold_max = 2166"
   ]
  },
  {
   "cell_type": "code",
   "execution_count": 13,
   "metadata": {
    "collapsed": true
   },
   "outputs": [],
   "source": [
    "# Get list of keys with counts greater than threshold\n",
    "threshold = threshold_max\n",
    "min_thresh_keys = [key for key, count in zip(key_count.keys(), key_count.values()) if count > threshold]\n",
    "\n",
    "# Save list of key classes to pickle\n",
    "pickle.dump(min_thresh_keys, open(os.path.join(dataset_dir, \"key_classes.p\"), \"wb\"))"
   ]
  },
  {
   "cell_type": "code",
   "execution_count": 14,
   "metadata": {
    "collapsed": true
   },
   "outputs": [],
   "source": [
    "min_thresh_df = raw_df[raw_df['key'].isin(min_thresh_keys)] # Filter dataframe to only include keys > threshold"
   ]
  },
  {
   "cell_type": "code",
   "execution_count": 15,
   "metadata": {
    "collapsed": true
   },
   "outputs": [],
   "source": [
    "def trim_max_thresh(grouped_class):\n",
    "    return grouped_class.sample(threshold)"
   ]
  },
  {
   "cell_type": "code",
   "execution_count": 16,
   "metadata": {
    "collapsed": true
   },
   "outputs": [],
   "source": [
    "# Keep same number of samples in each class by throwing away everything past the threshold\n",
    "df = min_thresh_df.groupby(['key']).apply(trim_max_thresh)"
   ]
  },
  {
   "cell_type": "markdown",
   "metadata": {},
   "source": [
    "#### Plot truncated data"
   ]
  },
  {
   "cell_type": "code",
   "execution_count": 17,
   "metadata": {
    "collapsed": true
   },
   "outputs": [],
   "source": [
    "truncated_count = collections.Counter(df['key'])"
   ]
  },
  {
   "cell_type": "code",
   "execution_count": 18,
   "metadata": {},
   "outputs": [
    {
     "data": {
      "image/png": "[encoded data removed]",
      "text/plain": [
       "<matplotlib.figure.Figure at 0x23000b70e10>"
      ]
     },
     "metadata": {},
     "output_type": "display_data"
    }
   ],
   "source": [
    "plot_key_hist(truncated_count.most_common())"
   ]
  },
  {
   "cell_type": "markdown",
   "metadata": {},
   "source": [
    "### Shuffle data"
   ]
  },
  {
   "cell_type": "code",
   "execution_count": 19,
   "metadata": {
    "collapsed": true
   },
   "outputs": [],
   "source": [
    "df = df.sample(frac=1).reset_index(drop=True)"
   ]
  },
  {
   "cell_type": "markdown",
   "metadata": {},
   "source": [
    "## Skip to Load If Normalized Data Already Exists on Disk"
   ]
  },
  {
   "cell_type": "markdown",
   "metadata": {},
   "source": [
    "#### Normalize Data"
   ]
  },
  {
   "cell_type": "code",
   "execution_count": 20,
   "metadata": {
    "collapsed": true
   },
   "outputs": [],
   "source": [
    "input_data = df['data'].values\n",
    "input_data = np.stack(input_data, axis=0)"
   ]
  },
  {
   "cell_type": "code",
   "execution_count": 21,
   "metadata": {},
   "outputs": [
    {
     "name": "stderr",
     "output_type": "stream",
     "text": [
      "C:\\Users\\stephen\\AppData\\Local\\conda\\conda\\envs\\tfgpu1.1\\lib\\site-packages\\sklearn\\utils\\validation.py:444: DataConversionWarning: Data with input dtype int16 was converted to float64 by MinMaxScaler.\n",
      "  warnings.warn(msg, DataConversionWarning)\n"
     ]
    }
   ],
   "source": [
    "scaler = preprocessing.MinMaxScaler(feature_range=(0,1))\n",
    "scaler.fit(input_data) # Compute the minimum and maximum to be used for later scaling.\n",
    "normalized_data = scaler.fit_transform(input_data)"
   ]
  },
  {
   "cell_type": "code",
   "execution_count": 22,
   "metadata": {},
   "outputs": [
    {
     "data": {
      "text/plain": [
       "(14200, 10240)"
      ]
     },
     "execution_count": 22,
     "metadata": {},
     "output_type": "execute_result"
    }
   ],
   "source": [
    "normalized_data.shape"
   ]
  },
  {
   "cell_type": "code",
   "execution_count": 23,
   "metadata": {
    "collapsed": true
   },
   "outputs": [],
   "source": [
    "# Save scaler for later scaling on test set. scaler.fit() saved the min max values\n",
    "pickle.dump(scaler, open(os.path.join(dataset_dir, 'scaler.p'), \"wb\"))"
   ]
  },
  {
   "cell_type": "markdown",
   "metadata": {},
   "source": [
    "#### One Hot Encode Classes"
   ]
  },
  {
   "cell_type": "code",
   "execution_count": 24,
   "metadata": {
    "collapsed": true
   },
   "outputs": [],
   "source": [
    "n_classes = len(set(df['key']))"
   ]
  },
  {
   "cell_type": "code",
   "execution_count": 25,
   "metadata": {
    "collapsed": true
   },
   "outputs": [],
   "source": [
    "labels_str = [str(key) for key in df['key']]\n",
    "lb = preprocessing.LabelBinarizer() # Create encoder\n",
    "lb.fit(list(set(labels_str)))\n",
    "labels = lb.transform(labels_str)"
   ]
  },
  {
   "cell_type": "code",
   "execution_count": 26,
   "metadata": {},
   "outputs": [
    {
     "data": {
      "text/plain": [
       "array(['a', 'e', 'i', 'n', 'o', 's', 'space', 't'],\n",
       "      dtype='<U5')"
      ]
     },
     "execution_count": 26,
     "metadata": {},
     "output_type": "execute_result"
    }
   ],
   "source": [
    "lb.classes_"
   ]
  },
  {
   "cell_type": "code",
   "execution_count": 27,
   "metadata": {
    "collapsed": true
   },
   "outputs": [],
   "source": [
    "# Save label set\n",
    "pickle.dump(lb.classes_, open(os.path.join(dataset_dir, 'labels.p'), \"wb\"))"
   ]
  },
  {
   "cell_type": "markdown",
   "metadata": {},
   "source": [
    "#### Split Training and Validation Data"
   ]
  },
  {
   "cell_type": "markdown",
   "metadata": {},
   "source": [
    "Reshape to add 1 channel"
   ]
  },
  {
   "cell_type": "code",
   "execution_count": 28,
   "metadata": {},
   "outputs": [
    {
     "data": {
      "text/plain": [
       "(14200, 10240, 1)"
      ]
     },
     "execution_count": 28,
     "metadata": {},
     "output_type": "execute_result"
    }
   ],
   "source": [
    "normalized_data = normalized_data.reshape((normalized_data.shape[0], normalized_data.shape[1], 1))\n",
    "# labels = labels.reshape((labels.shape[0], labels.shape[1], 1))\n",
    "normalized_data.shape"
   ]
  },
  {
   "cell_type": "code",
   "execution_count": 29,
   "metadata": {
    "collapsed": true
   },
   "outputs": [],
   "source": [
    "from sklearn.model_selection import train_test_split\n",
    "train_features, temp_features, train_labels, temp_labels = train_test_split(normalized_data, labels, test_size=0.2, random_state=42)\n",
    "test_features, valid_features, test_labels, valid_labels = train_test_split(normalized_data, labels, test_size=0.5, random_state=42)"
   ]
  },
  {
   "cell_type": "markdown",
   "metadata": {},
   "source": [
    "# Define Network"
   ]
  },
  {
   "cell_type": "markdown",
   "metadata": {},
   "source": [
    "### Input"
   ]
  },
  {
   "cell_type": "code",
   "execution_count": 30,
   "metadata": {
    "collapsed": true
   },
   "outputs": [],
   "source": [
    "def model_inputs(data_width, n_classes):\n",
    "    \"\"\"\n",
    "    Create the model inputs\n",
    "    :param data_width: The total number of samples in the recorded data point\n",
    "    :param n_classes: Number of Classes\n",
    "    :return: Tuple of (tensor of input audio data, key press labels, learning rate, keep_prob)\n",
    "    \"\"\"\n",
    "    # TODO: Add audio channels to input\n",
    "    \n",
    "    with tf.name_scope(\"Inputs\"):\n",
    "        audio_inputs = tf.placeholder(tf.float32, [None, data_width, 1], name='inputs')\n",
    "    with tf.name_scope(\"Targets\"):\n",
    "        key_labels = tf.placeholder(tf.float32, [None, n_classes], name='labels')\n",
    "    learning_rate = tf.placeholder(tf.float32, name='learning_rate')\n",
    "    keep_prob = tf.placeholder(tf.float32, name='keep_probability')\n",
    "\n",
    "    return audio_inputs, key_labels, learning_rate, keep_prob"
   ]
  },
  {
   "cell_type": "markdown",
   "metadata": {},
   "source": [
    "### Get Batches"
   ]
  },
  {
   "cell_type": "code",
   "execution_count": 31,
   "metadata": {
    "collapsed": true
   },
   "outputs": [],
   "source": [
    "def get_batches(features, labels, batch_size):\n",
    "    \"\"\"\n",
    "    Split features and labels into batches\n",
    "    \"\"\"\n",
    "    for start in range(0, len(features), batch_size):\n",
    "        end = min(start + batch_size, len(features))\n",
    "        yield features[start:end], labels[start:end]"
   ]
  },
  {
   "cell_type": "markdown",
   "metadata": {},
   "source": [
    "### Network"
   ]
  },
  {
   "cell_type": "code",
   "execution_count": 32,
   "metadata": {
    "collapsed": true
   },
   "outputs": [],
   "source": [
    "def network(X, keep_prob, n_classes):\n",
    "    \"\"\"\n",
    "    Create the network\n",
    "    :param X: Tensor of input recording(s)\n",
    "    :param keep_prob: Tensor for the keep probability\n",
    "    :param n_classes: Number of Classes\n",
    "    :return: Tuple of (tensor output of the classifier, tensor logits of the classifier)\n",
    "    \"\"\"    \n",
    "    # Hyperparameters\n",
    "    alpha = 0.2\n",
    "    h_dim = 32\n",
    "    \n",
    "    #print(\"X: {}\".format(X.shape))\n",
    "     \n",
    "    with tf.name_scope(\"Hidden_Layer1\"):\n",
    "        #h1 = tf.layers.dense(X, h_dim, activation=None)\n",
    "        h1 = tf.layers.conv1d(X, h_dim, 200, 10, 'same', activation=None)\n",
    "        h1 = tf.layers.max_pooling1d(h1, 5, 2, 'same')\n",
    "        h1 = tf.nn.dropout(h1, keep_prob) # Regularization\n",
    "        h1 = tf.maximum(h1*alpha, h1) # Leaky ReLu\n",
    "        h1 = tf.layers.batch_normalization(h1)\n",
    "        \n",
    "    #print(\"h1: {}\".format(h1.shape))\n",
    "\n",
    "    with tf.name_scope(\"Hidden_Layer2\"):\n",
    "        #h2 = tf.layers.dense(h1, h_dim, activation=None)\n",
    "        h2 = tf.layers.conv1d(h1, h_dim*2, 50, 5, 'same', activation=None)\n",
    "        #h2 = tf.layers.maxpool2d(h2, 5, 2, 'same')\n",
    "        h2 = tf.nn.dropout(h2, keep_prob) # Regularization        \n",
    "        h2 = tf.maximum(h2*alpha, h2) # Leaky ReLu\n",
    "        h2 = tf.layers.batch_normalization(h2)\n",
    "        \n",
    "    #print(\"h2: {}\".format(h2.shape))\n",
    "\n",
    "    with tf.name_scope(\"Hidden_Layer3\"):\n",
    "        #h3 = tf.layers.dense(h2, h_dim, activation=None)\n",
    "        h3 = tf.layers.conv1d(h2, h_dim*3, 20, 2, 'same', activation=None)\n",
    "        #h3 = tf.layers.maxpool2d(h3, 3, 2, 'same')\n",
    "        h3 = tf.nn.dropout(h3, keep_prob) # Regularization\n",
    "        h3 = tf.maximum(h3*alpha, h3) # Leaky ReLu\n",
    "        h3 = tf.layers.batch_normalization(h3)\n",
    "        \n",
    "    with tf.name_scope(\"Hidden_Layer4\"):\n",
    "        h4 = tf.layers.conv1d(h3, h_dim*4, 10, 1, 'same', activation=None)\n",
    "        h4 = tf.nn.dropout(h4, keep_prob) # Regularization\n",
    "        h4 = tf.maximum(h4*alpha, h4) # Leaky ReLu\n",
    "        h4 = tf.layers.batch_normalization(h4)\n",
    "    \n",
    "    \n",
    "    \n",
    "    with tf.name_scope(\"Output\"):\n",
    "        flat_dim = int(h4.get_shape()[1])*int(h4.get_shape()[2])\n",
    "        flat = tf.reshape(h4, [-1, flat_dim])\n",
    "        #print(\"flat: {}\".format(flat.shape))\n",
    "        logits = tf.layers.dense(flat, n_classes, activation=None, name='logits')\n",
    "        #print(\"logits: {}\".format(logits.shape))\n",
    "        #out = tf.nn.softmax(logits, name='softmax_out')\n",
    "\n",
    "    return logits"
   ]
  },
  {
   "cell_type": "markdown",
   "metadata": {},
   "source": [
    "### Show Stats"
   ]
  },
  {
   "cell_type": "code",
   "execution_count": 33,
   "metadata": {
    "collapsed": true
   },
   "outputs": [],
   "source": [
    "def print_stats(session, feature_batch, label_batch, cost, accuracy, esi):\n",
    "    \"\"\"\n",
    "    Print information about loss and validation accuracy\n",
    "    : session: Current TensorFlow session\n",
    "    : feature_batch: Batch of Numpy image data\n",
    "    : label_batch: Batch of Numpy label data\n",
    "    : cost: TensorFlow cost function\n",
    "    : accuracy: TensorFlow accuracy function\n",
    "    : esi: Epochs since the last improvement\n",
    "    \"\"\"\n",
    "    with tf.name_scope(\"Validation_Stats\"):\n",
    "        validation_loss = session.run(cost, feed_dict={x: feature_batch, y: label_batch, keep_prob: 1.0})\n",
    "        validation_accuracy = session.run(accuracy, feed_dict={x: valid_features, y: valid_labels, keep_prob: 1.0})\n",
    "        train_accuracy = session.run(accuracy, feed_dict={x: train_features[:1000], y: train_labels[:1000], keep_prob: 1.0})\n",
    "        print(\"Train Accuracy: {0:0.4f}, Validation Accuracy: {1:0.4f}, Validation Loss: {2:0.4f}, ESI: {3}\".format(train_accuracy, validation_accuracy, validation_loss, esi))\n",
    "        return validation_accuracy"
   ]
  },
  {
   "cell_type": "markdown",
   "metadata": {},
   "source": [
    "### Build Neural Network"
   ]
  },
  {
   "cell_type": "code",
   "execution_count": 34,
   "metadata": {
    "collapsed": true
   },
   "outputs": [],
   "source": [
    "# Remove previous weights, bias, inputs, etc..\n",
    "tf.reset_default_graph()\n",
    "\n",
    "# Inputs\n",
    "x, y, learn_rate, keep_prob = model_inputs(data_width, n_classes)\n",
    "\n",
    "#Model\n",
    "logits = network(x, keep_prob, n_classes)\n",
    "\n",
    "with tf.name_scope(\"Cost\"):\n",
    "    # Cost and Optimizer\n",
    "    cost = tf.reduce_mean(tf.nn.softmax_cross_entropy_with_logits(logits=logits, labels=y, name='loss'), name='cost')\n",
    "    \n",
    "with tf.name_scope(\"Train\"):\n",
    "    optimizer = tf.train.AdamOptimizer(learn_rate, name='optimizer').minimize(cost)\n",
    "\n",
    "with tf.name_scope(\"Accuracy\"):\n",
    "    # Accuracy\n",
    "    correct_pred = tf.equal(tf.argmax(logits, 1), tf.argmax(y, 1), name='prediction')\n",
    "    accuracy = tf.reduce_mean(tf.cast(correct_pred, tf.float32), name='accuracy')\n",
    "    \n",
    "predicted = tf.nn.softmax(logits, name='predicted')"
   ]
  },
  {
   "cell_type": "markdown",
   "metadata": {},
   "source": [
    "### Write out the graph for TensorBoard"
   ]
  },
  {
   "cell_type": "code",
   "execution_count": 35,
   "metadata": {
    "collapsed": true
   },
   "outputs": [],
   "source": [
    "with tf.Session() as sess:\n",
    "    sess.run(tf.global_variables_initializer())\n",
    "    file_writer = tf.summary.FileWriter('./logs/2', sess.graph)"
   ]
  },
  {
   "cell_type": "markdown",
   "metadata": {},
   "source": [
    "### Hyperparameters"
   ]
  },
  {
   "cell_type": "code",
   "execution_count": 36,
   "metadata": {
    "collapsed": true
   },
   "outputs": [],
   "source": [
    "epochs = 5000\n",
    "batch_size = 16\n",
    "keep_probability = 0.40\n",
    "learning_rate = 0.0001"
   ]
  },
  {
   "cell_type": "markdown",
   "metadata": {},
   "source": [
    "# Train Neural Network"
   ]
  },
  {
   "cell_type": "code",
   "execution_count": 37,
   "metadata": {},
   "outputs": [
    {
     "name": "stdout",
     "output_type": "stream",
     "text": [
      "12.5%\n"
     ]
    }
   ],
   "source": [
    "# Accuracy to beat (Min of 3 classes)\n",
    "print(\"{:.3}%\".format((1/n_classes)*100))"
   ]
  },
  {
   "cell_type": "code",
   "execution_count": 38,
   "metadata": {
    "scrolled": true
   },
   "outputs": [
    {
     "name": "stdout",
     "output_type": "stream",
     "text": [
      "Epoch 0: Train Accuracy: 0.1180, Validation Accuracy: 0.1203, Validation Loss: 2.0835, ESI: 0\n",
      "Epoch 1: Train Accuracy: 0.1360, Validation Accuracy: 0.1207, Validation Loss: 2.0829, ESI: 0\n",
      "Epoch 2: Train Accuracy: 0.1360, Validation Accuracy: 0.1207, Validation Loss: 2.0813, ESI: 0\n",
      "Epoch 3: Train Accuracy: 0.1360, Validation Accuracy: 0.1207, Validation Loss: 2.0803, ESI: 1\n",
      "Epoch 4: Train Accuracy: 0.1220, Validation Accuracy: 0.1234, Validation Loss: 2.0777, ESI: 2\n",
      "Epoch 5: Train Accuracy: 0.1600, Validation Accuracy: 0.1472, Validation Loss: 2.0748, ESI: 0\n",
      "Epoch 6: Train Accuracy: 0.2610, Validation Accuracy: 0.2562, Validation Loss: 1.9029, ESI: 0\n",
      "Epoch 7: Train Accuracy: 0.3100, Validation Accuracy: 0.3018, Validation Loss: 1.6834, ESI: 0\n",
      "Epoch 8: Train Accuracy: 0.3270, Validation Accuracy: 0.3182, Validation Loss: 1.6058, ESI: 0\n",
      "Epoch 9: Train Accuracy: 0.3960, Validation Accuracy: 0.3820, Validation Loss: 1.5329, ESI: 0\n",
      "Epoch 10: Train Accuracy: 0.4510, Validation Accuracy: 0.4230, Validation Loss: 1.4887, ESI: 0\n",
      "Epoch 11: Train Accuracy: 0.4980, Validation Accuracy: 0.4899, Validation Loss: 1.3475, ESI: 0\n",
      "Epoch 12: Train Accuracy: 0.5160, Validation Accuracy: 0.5013, Validation Loss: 1.3172, ESI: 0\n",
      "Epoch 13: Train Accuracy: 0.5260, Validation Accuracy: 0.5141, Validation Loss: 1.3136, ESI: 0\n",
      "Epoch 14: Train Accuracy: 0.5340, Validation Accuracy: 0.5308, Validation Loss: 1.3155, ESI: 0\n",
      "Epoch 15: Train Accuracy: 0.5370, Validation Accuracy: 0.5285, Validation Loss: 1.2747, ESI: 0\n",
      "Epoch 16: Train Accuracy: 0.5230, Validation Accuracy: 0.5089, Validation Loss: 1.2658, ESI: 1\n",
      "Epoch 17: Train Accuracy: 0.5400, Validation Accuracy: 0.5400, Validation Loss: 1.2418, ESI: 2\n",
      "Epoch 18: Train Accuracy: 0.5630, Validation Accuracy: 0.5596, Validation Loss: 1.2092, ESI: 0\n",
      "Epoch 19: Train Accuracy: 0.5690, Validation Accuracy: 0.5600, Validation Loss: 1.2476, ESI: 0\n",
      "Epoch 20: Train Accuracy: 0.5560, Validation Accuracy: 0.5599, Validation Loss: 1.1844, ESI: 0\n",
      "Epoch 21: Train Accuracy: 0.5490, Validation Accuracy: 0.5606, Validation Loss: 1.1648, ESI: 1\n",
      "Epoch 22: Train Accuracy: 0.5760, Validation Accuracy: 0.5651, Validation Loss: 1.1624, ESI: 0\n",
      "Epoch 23: Train Accuracy: 0.5610, Validation Accuracy: 0.5699, Validation Loss: 1.1360, ESI: 0\n",
      "Epoch 24: Train Accuracy: 0.5870, Validation Accuracy: 0.5748, Validation Loss: 1.1645, ESI: 0\n",
      "Epoch 25: Train Accuracy: 0.5900, Validation Accuracy: 0.5911, Validation Loss: 1.1406, ESI: 0\n",
      "Epoch 26: Train Accuracy: 0.5650, Validation Accuracy: 0.5577, Validation Loss: 1.1360, ESI: 0\n",
      "Epoch 27: Train Accuracy: 0.5960, Validation Accuracy: 0.5908, Validation Loss: 1.1270, ESI: 1\n",
      "Epoch 28: Train Accuracy: 0.6070, Validation Accuracy: 0.5976, Validation Loss: 1.1081, ESI: 2\n",
      "Epoch 29: Train Accuracy: 0.6050, Validation Accuracy: 0.5907, Validation Loss: 1.1108, ESI: 0\n",
      "Epoch 30: Train Accuracy: 0.6220, Validation Accuracy: 0.6186, Validation Loss: 1.0325, ESI: 1\n",
      "Epoch 31: Train Accuracy: 0.6160, Validation Accuracy: 0.6094, Validation Loss: 1.0405, ESI: 0\n",
      "Epoch 32: Train Accuracy: 0.6180, Validation Accuracy: 0.6113, Validation Loss: 1.0173, ESI: 1\n",
      "Epoch 33: Train Accuracy: 0.6200, Validation Accuracy: 0.6215, Validation Loss: 1.0265, ESI: 2\n",
      "Epoch 34: Train Accuracy: 0.6370, Validation Accuracy: 0.6248, Validation Loss: 0.9929, ESI: 0\n",
      "Epoch 35: Train Accuracy: 0.6310, Validation Accuracy: 0.6196, Validation Loss: 0.9656, ESI: 0\n",
      "Epoch 36: Train Accuracy: 0.6440, Validation Accuracy: 0.6358, Validation Loss: 0.9699, ESI: 1\n",
      "Epoch 37: Train Accuracy: 0.6420, Validation Accuracy: 0.6394, Validation Loss: 0.9859, ESI: 0\n",
      "Epoch 38: Train Accuracy: 0.6570, Validation Accuracy: 0.6472, Validation Loss: 0.9306, ESI: 0\n",
      "Epoch 39: Train Accuracy: 0.6450, Validation Accuracy: 0.6435, Validation Loss: 0.9049, ESI: 0\n",
      "Epoch 40: Train Accuracy: 0.6600, Validation Accuracy: 0.6506, Validation Loss: 0.8922, ESI: 1\n",
      "Epoch 41: Train Accuracy: 0.6520, Validation Accuracy: 0.6428, Validation Loss: 0.8807, ESI: 0\n",
      "Epoch 42: Train Accuracy: 0.6580, Validation Accuracy: 0.6572, Validation Loss: 0.8784, ESI: 1\n",
      "Epoch 43: Train Accuracy: 0.6690, Validation Accuracy: 0.6586, Validation Loss: 0.8724, ESI: 0\n",
      "Epoch 44: Train Accuracy: 0.6730, Validation Accuracy: 0.6579, Validation Loss: 0.8727, ESI: 0\n",
      "Epoch 45: Train Accuracy: 0.6690, Validation Accuracy: 0.6670, Validation Loss: 0.8135, ESI: 1\n",
      "Epoch 46: Train Accuracy: 0.6620, Validation Accuracy: 0.6637, Validation Loss: 0.8285, ESI: 0\n",
      "Epoch 47: Train Accuracy: 0.6640, Validation Accuracy: 0.6623, Validation Loss: 0.8765, ESI: 1\n",
      "Epoch 48: Train Accuracy: 0.6630, Validation Accuracy: 0.6469, Validation Loss: 0.9033, ESI: 2\n",
      "Epoch 49: Train Accuracy: 0.6850, Validation Accuracy: 0.6761, Validation Loss: 0.7860, ESI: 3\n",
      "Epoch 50: Train Accuracy: 0.6760, Validation Accuracy: 0.6589, Validation Loss: 0.8289, ESI: 0\n",
      "Epoch 51: Train Accuracy: 0.6880, Validation Accuracy: 0.6861, Validation Loss: 0.7270, ESI: 1\n",
      "Epoch 52: Train Accuracy: 0.7010, Validation Accuracy: 0.6917, Validation Loss: 0.7633, ESI: 0\n",
      "Epoch 53: Train Accuracy: 0.6950, Validation Accuracy: 0.6841, Validation Loss: 0.7448, ESI: 0\n",
      "Epoch 54: Train Accuracy: 0.7010, Validation Accuracy: 0.6930, Validation Loss: 0.7383, ESI: 1\n",
      "Epoch 55: Train Accuracy: 0.7050, Validation Accuracy: 0.6932, Validation Loss: 0.7060, ESI: 0\n",
      "Epoch 56: Train Accuracy: 0.7100, Validation Accuracy: 0.6977, Validation Loss: 0.7044, ESI: 0\n",
      "Epoch 57: Train Accuracy: 0.7090, Validation Accuracy: 0.6975, Validation Loss: 0.6937, ESI: 0\n",
      "Epoch 58: Train Accuracy: 0.7150, Validation Accuracy: 0.7025, Validation Loss: 0.6680, ESI: 1\n",
      "Epoch 59: Train Accuracy: 0.7170, Validation Accuracy: 0.7048, Validation Loss: 0.6566, ESI: 0\n",
      "Epoch 60: Train Accuracy: 0.7290, Validation Accuracy: 0.7110, Validation Loss: 0.6949, ESI: 0\n",
      "Epoch 61: Train Accuracy: 0.7310, Validation Accuracy: 0.7141, Validation Loss: 0.6793, ESI: 0\n",
      "Epoch 62: Train Accuracy: 0.7150, Validation Accuracy: 0.7024, Validation Loss: 0.6718, ESI: 0\n",
      "Epoch 63: Train Accuracy: 0.7390, Validation Accuracy: 0.7214, Validation Loss: 0.6254, ESI: 1\n",
      "Epoch 64: Train Accuracy: 0.7250, Validation Accuracy: 0.7111, Validation Loss: 0.6550, ESI: 0\n",
      "Epoch 65: Train Accuracy: 0.7420, Validation Accuracy: 0.7204, Validation Loss: 0.6675, ESI: 1\n",
      "Epoch 66: Train Accuracy: 0.7250, Validation Accuracy: 0.7104, Validation Loss: 0.6497, ESI: 2\n",
      "Epoch 67: Train Accuracy: 0.7100, Validation Accuracy: 0.7013, Validation Loss: 0.7057, ESI: 3\n",
      "Epoch 68: Train Accuracy: 0.7270, Validation Accuracy: 0.7131, Validation Loss: 0.6240, ESI: 4\n",
      "Epoch 69: Train Accuracy: 0.7450, Validation Accuracy: 0.7251, Validation Loss: 0.6218, ESI: 5\n",
      "Epoch 70: Train Accuracy: 0.7310, Validation Accuracy: 0.7265, Validation Loss: 0.6220, ESI: 0\n",
      "Epoch 71: Train Accuracy: 0.7440, Validation Accuracy: 0.7244, Validation Loss: 0.5906, ESI: 0\n",
      "Epoch 72: Train Accuracy: 0.7360, Validation Accuracy: 0.7235, Validation Loss: 0.5748, ESI: 1\n",
      "Epoch 73: Train Accuracy: 0.7570, Validation Accuracy: 0.7279, Validation Loss: 0.6065, ESI: 2\n",
      "Epoch 74: Train Accuracy: 0.7520, Validation Accuracy: 0.7358, Validation Loss: 0.5332, ESI: 0\n",
      "Epoch 75: Train Accuracy: 0.7510, Validation Accuracy: 0.7325, Validation Loss: 0.5808, ESI: 0\n",
      "Epoch 76: Train Accuracy: 0.7710, Validation Accuracy: 0.7456, Validation Loss: 0.5542, ESI: 1\n",
      "Epoch 77: Train Accuracy: 0.7670, Validation Accuracy: 0.7477, Validation Loss: 0.5612, ESI: 0\n",
      "Epoch 78: Train Accuracy: 0.7470, Validation Accuracy: 0.7256, Validation Loss: 0.5851, ESI: 0\n",
      "Epoch 79: Train Accuracy: 0.7430, Validation Accuracy: 0.7280, Validation Loss: 0.5353, ESI: 1\n",
      "Epoch 80: Train Accuracy: 0.7550, Validation Accuracy: 0.7383, Validation Loss: 0.5508, ESI: 2\n",
      "Epoch 81: Train Accuracy: 0.7640, Validation Accuracy: 0.7451, Validation Loss: 0.5455, ESI: 3\n",
      "Epoch 82: Train Accuracy: 0.7550, Validation Accuracy: 0.7394, Validation Loss: 0.5268, ESI: 4\n",
      "Epoch 83: Train Accuracy: 0.7630, Validation Accuracy: 0.7425, Validation Loss: 0.5606, ESI: 5\n",
      "Epoch 84: Train Accuracy: 0.7580, Validation Accuracy: 0.7407, Validation Loss: 0.5870, ESI: 6\n",
      "Epoch 85: Train Accuracy: 0.7630, Validation Accuracy: 0.7431, Validation Loss: 0.5369, ESI: 7\n",
      "Epoch 86: Train Accuracy: 0.7780, Validation Accuracy: 0.7477, Validation Loss: 0.5378, ESI: 8\n"
     ]
    },
    {
     "name": "stdout",
     "output_type": "stream",
     "text": [
      "Epoch 87: Train Accuracy: 0.7600, Validation Accuracy: 0.7470, Validation Loss: 0.5060, ESI: 9\n",
      "Epoch 88: Train Accuracy: 0.7720, Validation Accuracy: 0.7480, Validation Loss: 0.5431, ESI: 10\n",
      "Epoch 89: Train Accuracy: 0.7800, Validation Accuracy: 0.7532, Validation Loss: 0.5021, ESI: 0\n",
      "Epoch 90: Train Accuracy: 0.7730, Validation Accuracy: 0.7418, Validation Loss: 0.5102, ESI: 0\n",
      "Epoch 91: Train Accuracy: 0.7890, Validation Accuracy: 0.7520, Validation Loss: 0.4628, ESI: 1\n",
      "Epoch 92: Train Accuracy: 0.7800, Validation Accuracy: 0.7556, Validation Loss: 0.4961, ESI: 2\n",
      "Epoch 93: Train Accuracy: 0.7870, Validation Accuracy: 0.7648, Validation Loss: 0.4931, ESI: 0\n",
      "Epoch 94: Train Accuracy: 0.7710, Validation Accuracy: 0.7463, Validation Loss: 0.5448, ESI: 0\n",
      "Epoch 95: Train Accuracy: 0.7890, Validation Accuracy: 0.7589, Validation Loss: 0.4745, ESI: 1\n",
      "Epoch 96: Train Accuracy: 0.7870, Validation Accuracy: 0.7642, Validation Loss: 0.5099, ESI: 2\n",
      "Epoch 97: Train Accuracy: 0.7830, Validation Accuracy: 0.7600, Validation Loss: 0.5276, ESI: 3\n",
      "Epoch 98: Train Accuracy: 0.7970, Validation Accuracy: 0.7675, Validation Loss: 0.4833, ESI: 4\n",
      "Epoch 99: Train Accuracy: 0.7860, Validation Accuracy: 0.7628, Validation Loss: 0.4941, ESI: 0\n",
      "Epoch 100: Train Accuracy: 0.7820, Validation Accuracy: 0.7546, Validation Loss: 0.4980, ESI: 1\n",
      "Epoch 101: Train Accuracy: 0.7900, Validation Accuracy: 0.7635, Validation Loss: 0.5021, ESI: 2\n",
      "Epoch 102: Train Accuracy: 0.7970, Validation Accuracy: 0.7655, Validation Loss: 0.4757, ESI: 3\n",
      "Epoch 103: Train Accuracy: 0.7920, Validation Accuracy: 0.7604, Validation Loss: 0.4708, ESI: 4\n",
      "Epoch 104: Train Accuracy: 0.7990, Validation Accuracy: 0.7713, Validation Loss: 0.4771, ESI: 5\n",
      "Epoch 105: Train Accuracy: 0.7860, Validation Accuracy: 0.7590, Validation Loss: 0.4617, ESI: 0\n",
      "Epoch 106: Train Accuracy: 0.7870, Validation Accuracy: 0.7645, Validation Loss: 0.4769, ESI: 1\n",
      "Epoch 107: Train Accuracy: 0.8010, Validation Accuracy: 0.7685, Validation Loss: 0.4799, ESI: 2\n",
      "Epoch 108: Train Accuracy: 0.7890, Validation Accuracy: 0.7652, Validation Loss: 0.4560, ESI: 3\n",
      "Epoch 109: Train Accuracy: 0.8030, Validation Accuracy: 0.7754, Validation Loss: 0.4615, ESI: 4\n",
      "Epoch 110: Train Accuracy: 0.7980, Validation Accuracy: 0.7693, Validation Loss: 0.4684, ESI: 0\n",
      "Epoch 111: Train Accuracy: 0.8010, Validation Accuracy: 0.7793, Validation Loss: 0.4238, ESI: 1\n",
      "Epoch 112: Train Accuracy: 0.8030, Validation Accuracy: 0.7742, Validation Loss: 0.4178, ESI: 0\n",
      "Epoch 113: Train Accuracy: 0.8040, Validation Accuracy: 0.7748, Validation Loss: 0.4431, ESI: 1\n",
      "Epoch 114: Train Accuracy: 0.7910, Validation Accuracy: 0.7654, Validation Loss: 0.4415, ESI: 2\n",
      "Epoch 115: Train Accuracy: 0.8010, Validation Accuracy: 0.7801, Validation Loss: 0.4546, ESI: 3\n",
      "Epoch 116: Train Accuracy: 0.8080, Validation Accuracy: 0.7820, Validation Loss: 0.4391, ESI: 0\n",
      "Epoch 117: Train Accuracy: 0.8070, Validation Accuracy: 0.7779, Validation Loss: 0.4311, ESI: 0\n",
      "Epoch 118: Train Accuracy: 0.8060, Validation Accuracy: 0.7804, Validation Loss: 0.4146, ESI: 1\n",
      "Epoch 119: Train Accuracy: 0.8060, Validation Accuracy: 0.7824, Validation Loss: 0.3943, ESI: 2\n",
      "Epoch 120: Train Accuracy: 0.8140, Validation Accuracy: 0.7851, Validation Loss: 0.3863, ESI: 0\n",
      "Epoch 121: Train Accuracy: 0.8170, Validation Accuracy: 0.7852, Validation Loss: 0.3801, ESI: 0\n",
      "Epoch 122: Train Accuracy: 0.8180, Validation Accuracy: 0.7841, Validation Loss: 0.4169, ESI: 0\n",
      "Epoch 123: Train Accuracy: 0.8120, Validation Accuracy: 0.7817, Validation Loss: 0.4028, ESI: 1\n",
      "Epoch 124: Train Accuracy: 0.8060, Validation Accuracy: 0.7732, Validation Loss: 0.4198, ESI: 2\n",
      "Epoch 125: Train Accuracy: 0.8050, Validation Accuracy: 0.7707, Validation Loss: 0.4280, ESI: 3\n",
      "Epoch 126: Train Accuracy: 0.8230, Validation Accuracy: 0.7915, Validation Loss: 0.4375, ESI: 4\n",
      "Epoch 127: Train Accuracy: 0.7990, Validation Accuracy: 0.7763, Validation Loss: 0.3722, ESI: 0\n",
      "Epoch 128: Train Accuracy: 0.8030, Validation Accuracy: 0.7727, Validation Loss: 0.4228, ESI: 1\n",
      "Epoch 129: Train Accuracy: 0.8160, Validation Accuracy: 0.7907, Validation Loss: 0.3988, ESI: 2\n",
      "Epoch 130: Train Accuracy: 0.8250, Validation Accuracy: 0.7897, Validation Loss: 0.4026, ESI: 3\n",
      "Epoch 131: Train Accuracy: 0.8130, Validation Accuracy: 0.7862, Validation Loss: 0.3786, ESI: 4\n",
      "Epoch 132: Train Accuracy: 0.8190, Validation Accuracy: 0.7830, Validation Loss: 0.3794, ESI: 5\n",
      "Epoch 133: Train Accuracy: 0.8100, Validation Accuracy: 0.7790, Validation Loss: 0.3816, ESI: 6\n",
      "Epoch 134: Train Accuracy: 0.8080, Validation Accuracy: 0.7810, Validation Loss: 0.3860, ESI: 7\n",
      "Epoch 135: Train Accuracy: 0.8150, Validation Accuracy: 0.7928, Validation Loss: 0.3871, ESI: 8\n",
      "Epoch 136: Train Accuracy: 0.8310, Validation Accuracy: 0.8055, Validation Loss: 0.3915, ESI: 0\n",
      "Epoch 137: Train Accuracy: 0.8180, Validation Accuracy: 0.7965, Validation Loss: 0.3740, ESI: 0\n",
      "Epoch 138: Train Accuracy: 0.8120, Validation Accuracy: 0.7858, Validation Loss: 0.4025, ESI: 1\n",
      "Epoch 139: Train Accuracy: 0.8200, Validation Accuracy: 0.7906, Validation Loss: 0.3849, ESI: 2\n",
      "Epoch 140: Train Accuracy: 0.8230, Validation Accuracy: 0.7979, Validation Loss: 0.3942, ESI: 3\n",
      "Epoch 141: Train Accuracy: 0.8280, Validation Accuracy: 0.8007, Validation Loss: 0.3732, ESI: 4\n",
      "Epoch 142: Train Accuracy: 0.8300, Validation Accuracy: 0.8001, Validation Loss: 0.3815, ESI: 5\n",
      "Epoch 143: Train Accuracy: 0.8190, Validation Accuracy: 0.7990, Validation Loss: 0.3775, ESI: 6\n",
      "Epoch 144: Train Accuracy: 0.8340, Validation Accuracy: 0.8004, Validation Loss: 0.4041, ESI: 7\n",
      "Epoch 145: Train Accuracy: 0.8280, Validation Accuracy: 0.7990, Validation Loss: 0.3884, ESI: 8\n",
      "Epoch 146: Train Accuracy: 0.8350, Validation Accuracy: 0.8008, Validation Loss: 0.3857, ESI: 9\n",
      "Epoch 147: Train Accuracy: 0.8250, Validation Accuracy: 0.7973, Validation Loss: 0.4117, ESI: 10\n",
      "Epoch 148: Train Accuracy: 0.8270, Validation Accuracy: 0.7982, Validation Loss: 0.3749, ESI: 11\n",
      "Epoch 149: Train Accuracy: 0.8350, Validation Accuracy: 0.8010, Validation Loss: 0.3881, ESI: 12\n",
      "Epoch 150: Train Accuracy: 0.8380, Validation Accuracy: 0.7993, Validation Loss: 0.4059, ESI: 13\n",
      "Epoch 151: Train Accuracy: 0.8230, Validation Accuracy: 0.7900, Validation Loss: 0.3991, ESI: 14\n",
      "Epoch 152: Train Accuracy: 0.8230, Validation Accuracy: 0.7949, Validation Loss: 0.3863, ESI: 15\n",
      "Epoch 153: Train Accuracy: 0.8220, Validation Accuracy: 0.8006, Validation Loss: 0.3942, ESI: 16\n",
      "Epoch 154: Train Accuracy: 0.8320, Validation Accuracy: 0.8021, Validation Loss: 0.3470, ESI: 17\n",
      "Epoch 155: Train Accuracy: 0.8340, Validation Accuracy: 0.8010, Validation Loss: 0.3842, ESI: 18\n",
      "Epoch 156: Train Accuracy: 0.8420, Validation Accuracy: 0.8037, Validation Loss: 0.3604, ESI: 19\n",
      "Epoch 157: Train Accuracy: 0.8420, Validation Accuracy: 0.8118, Validation Loss: 0.3754, ESI: 20\n",
      "Epoch 158: Train Accuracy: 0.8280, Validation Accuracy: 0.7987, Validation Loss: 0.3380, ESI: 0\n",
      "Epoch 159: Train Accuracy: 0.8430, Validation Accuracy: 0.8120, Validation Loss: 0.3501, ESI: 1\n",
      "Epoch 160: Train Accuracy: 0.8290, Validation Accuracy: 0.8024, Validation Loss: 0.3723, ESI: 0\n",
      "Epoch 161: Train Accuracy: 0.8290, Validation Accuracy: 0.7941, Validation Loss: 0.3880, ESI: 1\n",
      "Epoch 162: Train Accuracy: 0.8400, Validation Accuracy: 0.8031, Validation Loss: 0.3697, ESI: 2\n",
      "Epoch 163: Train Accuracy: 0.8330, Validation Accuracy: 0.7987, Validation Loss: 0.3569, ESI: 3\n",
      "Epoch 164: Train Accuracy: 0.8300, Validation Accuracy: 0.7955, Validation Loss: 0.3493, ESI: 4\n",
      "Epoch 165: Train Accuracy: 0.8350, Validation Accuracy: 0.8011, Validation Loss: 0.3312, ESI: 5\n",
      "Epoch 166: Train Accuracy: 0.8340, Validation Accuracy: 0.7948, Validation Loss: 0.3686, ESI: 6\n",
      "Epoch 167: Train Accuracy: 0.8440, Validation Accuracy: 0.8086, Validation Loss: 0.3228, ESI: 7\n",
      "Epoch 168: Train Accuracy: 0.8380, Validation Accuracy: 0.8069, Validation Loss: 0.3197, ESI: 8\n",
      "Epoch 169: Train Accuracy: 0.8510, Validation Accuracy: 0.8158, Validation Loss: 0.3456, ESI: 9\n",
      "Epoch 170: Train Accuracy: 0.8480, Validation Accuracy: 0.8134, Validation Loss: 0.3437, ESI: 0\n",
      "Epoch 171: Train Accuracy: 0.8450, Validation Accuracy: 0.8086, Validation Loss: 0.3182, ESI: 1\n",
      "Epoch 172: Train Accuracy: 0.8380, Validation Accuracy: 0.8132, Validation Loss: 0.3451, ESI: 2\n"
     ]
    },
    {
     "name": "stdout",
     "output_type": "stream",
     "text": [
      "Epoch 173: Train Accuracy: 0.8490, Validation Accuracy: 0.8118, Validation Loss: 0.3374, ESI: 3\n",
      "Epoch 174: Train Accuracy: 0.8390, Validation Accuracy: 0.8092, Validation Loss: 0.3447, ESI: 4\n",
      "Epoch 175: Train Accuracy: 0.8360, Validation Accuracy: 0.8048, Validation Loss: 0.3624, ESI: 5\n",
      "Epoch 176: Train Accuracy: 0.8320, Validation Accuracy: 0.7986, Validation Loss: 0.3639, ESI: 6\n",
      "Epoch 177: Train Accuracy: 0.8410, Validation Accuracy: 0.8062, Validation Loss: 0.3082, ESI: 7\n",
      "Epoch 178: Train Accuracy: 0.8460, Validation Accuracy: 0.8068, Validation Loss: 0.3594, ESI: 8\n",
      "Epoch 179: Train Accuracy: 0.8490, Validation Accuracy: 0.8124, Validation Loss: 0.3253, ESI: 9\n",
      "Epoch 180: Train Accuracy: 0.8500, Validation Accuracy: 0.8052, Validation Loss: 0.3438, ESI: 10\n",
      "Epoch 181: Train Accuracy: 0.8330, Validation Accuracy: 0.7939, Validation Loss: 0.3493, ESI: 11\n",
      "Epoch 182: Train Accuracy: 0.8420, Validation Accuracy: 0.8175, Validation Loss: 0.3530, ESI: 12\n",
      "Epoch 183: Train Accuracy: 0.8410, Validation Accuracy: 0.8085, Validation Loss: 0.3618, ESI: 0\n",
      "Epoch 184: Train Accuracy: 0.8400, Validation Accuracy: 0.8051, Validation Loss: 0.3705, ESI: 1\n",
      "Epoch 185: Train Accuracy: 0.8530, Validation Accuracy: 0.8179, Validation Loss: 0.3258, ESI: 2\n",
      "Epoch 186: Train Accuracy: 0.8470, Validation Accuracy: 0.8203, Validation Loss: 0.3165, ESI: 0\n",
      "Epoch 187: Train Accuracy: 0.8490, Validation Accuracy: 0.8206, Validation Loss: 0.3139, ESI: 0\n",
      "Epoch 188: Train Accuracy: 0.8450, Validation Accuracy: 0.8138, Validation Loss: 0.3582, ESI: 0\n",
      "Epoch 189: Train Accuracy: 0.8540, Validation Accuracy: 0.8169, Validation Loss: 0.3287, ESI: 1\n",
      "Epoch 190: Train Accuracy: 0.8450, Validation Accuracy: 0.8128, Validation Loss: 0.3192, ESI: 2\n",
      "Epoch 191: Train Accuracy: 0.8510, Validation Accuracy: 0.8176, Validation Loss: 0.3271, ESI: 3\n",
      "Epoch 192: Train Accuracy: 0.8560, Validation Accuracy: 0.8221, Validation Loss: 0.3249, ESI: 4\n",
      "Epoch 193: Train Accuracy: 0.8530, Validation Accuracy: 0.8200, Validation Loss: 0.3245, ESI: 0\n",
      "Epoch 194: Train Accuracy: 0.8520, Validation Accuracy: 0.8161, Validation Loss: 0.3418, ESI: 1\n",
      "Epoch 195: Train Accuracy: 0.8380, Validation Accuracy: 0.8099, Validation Loss: 0.3371, ESI: 2\n",
      "Epoch 196: Train Accuracy: 0.8640, Validation Accuracy: 0.8307, Validation Loss: 0.3246, ESI: 3\n",
      "Epoch 197: Train Accuracy: 0.8510, Validation Accuracy: 0.8235, Validation Loss: 0.3157, ESI: 0\n",
      "Epoch 198: Train Accuracy: 0.8480, Validation Accuracy: 0.8113, Validation Loss: 0.3089, ESI: 1\n",
      "Epoch 199: Train Accuracy: 0.8540, Validation Accuracy: 0.8155, Validation Loss: 0.3448, ESI: 2\n",
      "Epoch 200: Train Accuracy: 0.8590, Validation Accuracy: 0.8235, Validation Loss: 0.3445, ESI: 3\n",
      "Epoch 201: Train Accuracy: 0.8560, Validation Accuracy: 0.8246, Validation Loss: 0.3341, ESI: 4\n",
      "Epoch 202: Train Accuracy: 0.8540, Validation Accuracy: 0.8224, Validation Loss: 0.3261, ESI: 5\n",
      "Epoch 203: Train Accuracy: 0.8410, Validation Accuracy: 0.8035, Validation Loss: 0.3560, ESI: 6\n",
      "Epoch 204: Train Accuracy: 0.8560, Validation Accuracy: 0.8176, Validation Loss: 0.2955, ESI: 7\n",
      "Epoch 205: Train Accuracy: 0.8560, Validation Accuracy: 0.8230, Validation Loss: 0.2974, ESI: 8\n",
      "Epoch 206: Train Accuracy: 0.8540, Validation Accuracy: 0.8266, Validation Loss: 0.3083, ESI: 9\n",
      "Epoch 207: Train Accuracy: 0.8620, Validation Accuracy: 0.8224, Validation Loss: 0.3126, ESI: 10\n",
      "Epoch 208: Train Accuracy: 0.8410, Validation Accuracy: 0.8249, Validation Loss: 0.2783, ESI: 11\n",
      "Epoch 209: Train Accuracy: 0.8550, Validation Accuracy: 0.8176, Validation Loss: 0.3044, ESI: 12\n",
      "Epoch 210: Train Accuracy: 0.8570, Validation Accuracy: 0.8204, Validation Loss: 0.3277, ESI: 13\n",
      "Epoch 211: Train Accuracy: 0.8650, Validation Accuracy: 0.8262, Validation Loss: 0.3339, ESI: 14\n",
      "Epoch 212: Train Accuracy: 0.8530, Validation Accuracy: 0.8258, Validation Loss: 0.3158, ESI: 15\n",
      "Epoch 213: Train Accuracy: 0.8510, Validation Accuracy: 0.8249, Validation Loss: 0.2985, ESI: 16\n",
      "Epoch 214: Train Accuracy: 0.8560, Validation Accuracy: 0.8161, Validation Loss: 0.3552, ESI: 17\n",
      "Epoch 215: Train Accuracy: 0.8640, Validation Accuracy: 0.8324, Validation Loss: 0.3007, ESI: 18\n",
      "Epoch 216: Train Accuracy: 0.8660, Validation Accuracy: 0.8323, Validation Loss: 0.2884, ESI: 0\n",
      "Epoch 217: Train Accuracy: 0.8540, Validation Accuracy: 0.8137, Validation Loss: 0.3290, ESI: 1\n",
      "Epoch 218: Train Accuracy: 0.8670, Validation Accuracy: 0.8313, Validation Loss: 0.3227, ESI: 2\n",
      "Epoch 219: Train Accuracy: 0.8650, Validation Accuracy: 0.8277, Validation Loss: 0.2967, ESI: 3\n",
      "Epoch 220: Train Accuracy: 0.8490, Validation Accuracy: 0.8204, Validation Loss: 0.3027, ESI: 4\n",
      "Epoch 221: Train Accuracy: 0.8550, Validation Accuracy: 0.8190, Validation Loss: 0.3209, ESI: 5\n",
      "Epoch 222: Train Accuracy: 0.8640, Validation Accuracy: 0.8255, Validation Loss: 0.3325, ESI: 6\n",
      "Epoch 223: Train Accuracy: 0.8400, Validation Accuracy: 0.8149, Validation Loss: 0.2842, ESI: 7\n",
      "Epoch 224: Train Accuracy: 0.8520, Validation Accuracy: 0.8273, Validation Loss: 0.2884, ESI: 8\n",
      "Epoch 225: Train Accuracy: 0.8630, Validation Accuracy: 0.8269, Validation Loss: 0.2857, ESI: 9\n",
      "Epoch 226: Train Accuracy: 0.8550, Validation Accuracy: 0.8269, Validation Loss: 0.3067, ESI: 10\n",
      "Epoch 227: Train Accuracy: 0.8660, Validation Accuracy: 0.8254, Validation Loss: 0.2997, ESI: 11\n",
      "Epoch 228: Train Accuracy: 0.8650, Validation Accuracy: 0.8307, Validation Loss: 0.3193, ESI: 12\n",
      "Epoch 229: Train Accuracy: 0.8630, Validation Accuracy: 0.8277, Validation Loss: 0.3005, ESI: 13\n",
      "Epoch 230: Train Accuracy: 0.8580, Validation Accuracy: 0.8265, Validation Loss: 0.3191, ESI: 14\n",
      "Epoch 231: Train Accuracy: 0.8690, Validation Accuracy: 0.8354, Validation Loss: 0.3029, ESI: 15\n",
      "Epoch 232: Train Accuracy: 0.8590, Validation Accuracy: 0.8292, Validation Loss: 0.2909, ESI: 0\n",
      "Epoch 233: Train Accuracy: 0.8620, Validation Accuracy: 0.8311, Validation Loss: 0.3063, ESI: 1\n",
      "Epoch 234: Train Accuracy: 0.8740, Validation Accuracy: 0.8345, Validation Loss: 0.2890, ESI: 2\n",
      "Epoch 235: Train Accuracy: 0.8540, Validation Accuracy: 0.8211, Validation Loss: 0.2920, ESI: 3\n",
      "Epoch 236: Train Accuracy: 0.8640, Validation Accuracy: 0.8332, Validation Loss: 0.2909, ESI: 4\n",
      "Epoch 237: Train Accuracy: 0.8660, Validation Accuracy: 0.8341, Validation Loss: 0.2911, ESI: 5\n",
      "Epoch 238: Train Accuracy: 0.8620, Validation Accuracy: 0.8303, Validation Loss: 0.2810, ESI: 6\n",
      "Epoch 239: Train Accuracy: 0.8550, Validation Accuracy: 0.8272, Validation Loss: 0.2692, ESI: 7\n",
      "Epoch 240: Train Accuracy: 0.8610, Validation Accuracy: 0.8303, Validation Loss: 0.2942, ESI: 8\n",
      "Epoch 241: Train Accuracy: 0.8590, Validation Accuracy: 0.8238, Validation Loss: 0.2927, ESI: 9\n",
      "Epoch 242: Train Accuracy: 0.8620, Validation Accuracy: 0.8325, Validation Loss: 0.2697, ESI: 10\n",
      "Epoch 243: Train Accuracy: 0.8610, Validation Accuracy: 0.8362, Validation Loss: 0.2827, ESI: 11\n",
      "Epoch 244: Train Accuracy: 0.8640, Validation Accuracy: 0.8280, Validation Loss: 0.2787, ESI: 0\n",
      "Epoch 245: Train Accuracy: 0.8690, Validation Accuracy: 0.8268, Validation Loss: 0.2929, ESI: 1\n",
      "Epoch 246: Train Accuracy: 0.8690, Validation Accuracy: 0.8383, Validation Loss: 0.2846, ESI: 2\n",
      "Epoch 247: Train Accuracy: 0.8680, Validation Accuracy: 0.8325, Validation Loss: 0.2794, ESI: 0\n",
      "Epoch 248: Train Accuracy: 0.8680, Validation Accuracy: 0.8321, Validation Loss: 0.2880, ESI: 1\n",
      "Epoch 249: Train Accuracy: 0.8630, Validation Accuracy: 0.8227, Validation Loss: 0.3104, ESI: 2\n",
      "Epoch 250: Train Accuracy: 0.8610, Validation Accuracy: 0.8337, Validation Loss: 0.2784, ESI: 3\n",
      "Epoch 251: Train Accuracy: 0.8720, Validation Accuracy: 0.8368, Validation Loss: 0.2959, ESI: 4\n",
      "Epoch 252: Train Accuracy: 0.8690, Validation Accuracy: 0.8380, Validation Loss: 0.2692, ESI: 5\n",
      "Epoch 253: Train Accuracy: 0.8740, Validation Accuracy: 0.8389, Validation Loss: 0.3183, ESI: 6\n",
      "Epoch 254: Train Accuracy: 0.8680, Validation Accuracy: 0.8310, Validation Loss: 0.2888, ESI: 0\n",
      "Epoch 255: Train Accuracy: 0.8690, Validation Accuracy: 0.8317, Validation Loss: 0.2917, ESI: 1\n",
      "Epoch 256: Train Accuracy: 0.8740, Validation Accuracy: 0.8403, Validation Loss: 0.2939, ESI: 2\n",
      "Epoch 257: Train Accuracy: 0.8720, Validation Accuracy: 0.8392, Validation Loss: 0.2680, ESI: 0\n",
      "Epoch 258: Train Accuracy: 0.8680, Validation Accuracy: 0.8342, Validation Loss: 0.3015, ESI: 1\n"
     ]
    },
    {
     "name": "stdout",
     "output_type": "stream",
     "text": [
      "Epoch 259: Train Accuracy: 0.8640, Validation Accuracy: 0.8286, Validation Loss: 0.3162, ESI: 2\n",
      "Epoch 260: Train Accuracy: 0.8680, Validation Accuracy: 0.8373, Validation Loss: 0.3181, ESI: 3\n",
      "Epoch 261: Train Accuracy: 0.8700, Validation Accuracy: 0.8373, Validation Loss: 0.3061, ESI: 4\n",
      "Epoch 262: Train Accuracy: 0.8690, Validation Accuracy: 0.8403, Validation Loss: 0.2796, ESI: 5\n",
      "Epoch 263: "
     ]
    },
    {
     "ename": "KeyboardInterrupt",
     "evalue": "",
     "output_type": "error",
     "traceback": [
      "\u001b[1;31m---------------------------------------------------------------------------\u001b[0m",
      "\u001b[1;31mKeyboardInterrupt\u001b[0m                         Traceback (most recent call last)",
      "\u001b[1;32m<ipython-input-38-672a6bc189c5>\u001b[0m in \u001b[0;36m<module>\u001b[1;34m()\u001b[0m\n\u001b[0;32m     16\u001b[0m         \u001b[1;32mif\u001b[0m \u001b[0mepoch\u001b[0m \u001b[1;33m%\u001b[0m \u001b[1;36m1\u001b[0m \u001b[1;33m==\u001b[0m \u001b[1;36m0\u001b[0m\u001b[1;33m:\u001b[0m\u001b[1;33m\u001b[0m\u001b[0m\n\u001b[0;32m     17\u001b[0m             \u001b[0mprint\u001b[0m\u001b[1;33m(\u001b[0m\u001b[1;34m'Epoch {}: '\u001b[0m\u001b[1;33m.\u001b[0m\u001b[0mformat\u001b[0m\u001b[1;33m(\u001b[0m\u001b[0mepoch\u001b[0m\u001b[1;33m)\u001b[0m\u001b[1;33m,\u001b[0m \u001b[0mend\u001b[0m\u001b[1;33m=\u001b[0m\u001b[1;34m''\u001b[0m\u001b[1;33m)\u001b[0m\u001b[1;33m\u001b[0m\u001b[0m\n\u001b[1;32m---> 18\u001b[1;33m             \u001b[0mvalidation_accuracy\u001b[0m \u001b[1;33m=\u001b[0m \u001b[0mprint_stats\u001b[0m\u001b[1;33m(\u001b[0m\u001b[0msess\u001b[0m\u001b[1;33m,\u001b[0m \u001b[0mbatch_features\u001b[0m\u001b[1;33m,\u001b[0m \u001b[0mbatch_labels\u001b[0m\u001b[1;33m,\u001b[0m \u001b[0mcost\u001b[0m\u001b[1;33m,\u001b[0m \u001b[0maccuracy\u001b[0m\u001b[1;33m,\u001b[0m \u001b[0mepochs_since_improvement\u001b[0m\u001b[1;33m)\u001b[0m\u001b[1;33m\u001b[0m\u001b[0m\n\u001b[0m\u001b[0;32m     19\u001b[0m \u001b[1;33m\u001b[0m\u001b[0m\n\u001b[0;32m     20\u001b[0m             \u001b[1;32mif\u001b[0m \u001b[0mvalidation_accuracy\u001b[0m \u001b[1;33m>\u001b[0m \u001b[0mmax_validation_accuracy\u001b[0m\u001b[1;33m:\u001b[0m\u001b[1;33m\u001b[0m\u001b[0m\n",
      "\u001b[1;32m<ipython-input-33-85278f6a1e2f>\u001b[0m in \u001b[0;36mprint_stats\u001b[1;34m(session, feature_batch, label_batch, cost, accuracy, esi)\u001b[0m\n\u001b[0;32m     12\u001b[0m         \u001b[0mvalidation_loss\u001b[0m \u001b[1;33m=\u001b[0m \u001b[0msession\u001b[0m\u001b[1;33m.\u001b[0m\u001b[0mrun\u001b[0m\u001b[1;33m(\u001b[0m\u001b[0mcost\u001b[0m\u001b[1;33m,\u001b[0m \u001b[0mfeed_dict\u001b[0m\u001b[1;33m=\u001b[0m\u001b[1;33m{\u001b[0m\u001b[0mx\u001b[0m\u001b[1;33m:\u001b[0m \u001b[0mfeature_batch\u001b[0m\u001b[1;33m,\u001b[0m \u001b[0my\u001b[0m\u001b[1;33m:\u001b[0m \u001b[0mlabel_batch\u001b[0m\u001b[1;33m,\u001b[0m \u001b[0mkeep_prob\u001b[0m\u001b[1;33m:\u001b[0m \u001b[1;36m1.0\u001b[0m\u001b[1;33m}\u001b[0m\u001b[1;33m)\u001b[0m\u001b[1;33m\u001b[0m\u001b[0m\n\u001b[0;32m     13\u001b[0m         \u001b[0mvalidation_accuracy\u001b[0m \u001b[1;33m=\u001b[0m \u001b[0msession\u001b[0m\u001b[1;33m.\u001b[0m\u001b[0mrun\u001b[0m\u001b[1;33m(\u001b[0m\u001b[0maccuracy\u001b[0m\u001b[1;33m,\u001b[0m \u001b[0mfeed_dict\u001b[0m\u001b[1;33m=\u001b[0m\u001b[1;33m{\u001b[0m\u001b[0mx\u001b[0m\u001b[1;33m:\u001b[0m \u001b[0mvalid_features\u001b[0m\u001b[1;33m,\u001b[0m \u001b[0my\u001b[0m\u001b[1;33m:\u001b[0m \u001b[0mvalid_labels\u001b[0m\u001b[1;33m,\u001b[0m \u001b[0mkeep_prob\u001b[0m\u001b[1;33m:\u001b[0m \u001b[1;36m1.0\u001b[0m\u001b[1;33m}\u001b[0m\u001b[1;33m)\u001b[0m\u001b[1;33m\u001b[0m\u001b[0m\n\u001b[1;32m---> 14\u001b[1;33m         \u001b[0mtrain_accuracy\u001b[0m \u001b[1;33m=\u001b[0m \u001b[0msession\u001b[0m\u001b[1;33m.\u001b[0m\u001b[0mrun\u001b[0m\u001b[1;33m(\u001b[0m\u001b[0maccuracy\u001b[0m\u001b[1;33m,\u001b[0m \u001b[0mfeed_dict\u001b[0m\u001b[1;33m=\u001b[0m\u001b[1;33m{\u001b[0m\u001b[0mx\u001b[0m\u001b[1;33m:\u001b[0m \u001b[0mtrain_features\u001b[0m\u001b[1;33m[\u001b[0m\u001b[1;33m:\u001b[0m\u001b[1;36m1000\u001b[0m\u001b[1;33m]\u001b[0m\u001b[1;33m,\u001b[0m \u001b[0my\u001b[0m\u001b[1;33m:\u001b[0m \u001b[0mtrain_labels\u001b[0m\u001b[1;33m[\u001b[0m\u001b[1;33m:\u001b[0m\u001b[1;36m1000\u001b[0m\u001b[1;33m]\u001b[0m\u001b[1;33m,\u001b[0m \u001b[0mkeep_prob\u001b[0m\u001b[1;33m:\u001b[0m \u001b[1;36m1.0\u001b[0m\u001b[1;33m}\u001b[0m\u001b[1;33m)\u001b[0m\u001b[1;33m\u001b[0m\u001b[0m\n\u001b[0m\u001b[0;32m     15\u001b[0m         \u001b[0mprint\u001b[0m\u001b[1;33m(\u001b[0m\u001b[1;34m\"Train Accuracy: {0:0.4f}, Validation Accuracy: {1:0.4f}, Validation Loss: {2:0.4f}, ESI: {3}\"\u001b[0m\u001b[1;33m.\u001b[0m\u001b[0mformat\u001b[0m\u001b[1;33m(\u001b[0m\u001b[0mtrain_accuracy\u001b[0m\u001b[1;33m,\u001b[0m \u001b[0mvalidation_accuracy\u001b[0m\u001b[1;33m,\u001b[0m \u001b[0mvalidation_loss\u001b[0m\u001b[1;33m,\u001b[0m \u001b[0mesi\u001b[0m\u001b[1;33m)\u001b[0m\u001b[1;33m)\u001b[0m\u001b[1;33m\u001b[0m\u001b[0m\n\u001b[0;32m     16\u001b[0m         \u001b[1;32mreturn\u001b[0m \u001b[0mvalidation_accuracy\u001b[0m\u001b[1;33m\u001b[0m\u001b[0m\n",
      "\u001b[1;32m~\\AppData\\Local\\conda\\conda\\envs\\tfgpu1.1\\lib\\site-packages\\tensorflow\\python\\client\\session.py\u001b[0m in \u001b[0;36mrun\u001b[1;34m(self, fetches, feed_dict, options, run_metadata)\u001b[0m\n\u001b[0;32m    776\u001b[0m     \u001b[1;32mtry\u001b[0m\u001b[1;33m:\u001b[0m\u001b[1;33m\u001b[0m\u001b[0m\n\u001b[0;32m    777\u001b[0m       result = self._run(None, fetches, feed_dict, options_ptr,\n\u001b[1;32m--> 778\u001b[1;33m                          run_metadata_ptr)\n\u001b[0m\u001b[0;32m    779\u001b[0m       \u001b[1;32mif\u001b[0m \u001b[0mrun_metadata\u001b[0m\u001b[1;33m:\u001b[0m\u001b[1;33m\u001b[0m\u001b[0m\n\u001b[0;32m    780\u001b[0m         \u001b[0mproto_data\u001b[0m \u001b[1;33m=\u001b[0m \u001b[0mtf_session\u001b[0m\u001b[1;33m.\u001b[0m\u001b[0mTF_GetBuffer\u001b[0m\u001b[1;33m(\u001b[0m\u001b[0mrun_metadata_ptr\u001b[0m\u001b[1;33m)\u001b[0m\u001b[1;33m\u001b[0m\u001b[0m\n",
      "\u001b[1;32m~\\AppData\\Local\\conda\\conda\\envs\\tfgpu1.1\\lib\\site-packages\\tensorflow\\python\\client\\session.py\u001b[0m in \u001b[0;36m_run\u001b[1;34m(self, handle, fetches, feed_dict, options, run_metadata)\u001b[0m\n\u001b[0;32m    952\u001b[0m             \u001b[0mnp_val\u001b[0m \u001b[1;33m=\u001b[0m \u001b[0msubfeed_val\u001b[0m\u001b[1;33m.\u001b[0m\u001b[0mto_numpy_array\u001b[0m\u001b[1;33m(\u001b[0m\u001b[1;33m)\u001b[0m\u001b[1;33m\u001b[0m\u001b[0m\n\u001b[0;32m    953\u001b[0m           \u001b[1;32melse\u001b[0m\u001b[1;33m:\u001b[0m\u001b[1;33m\u001b[0m\u001b[0m\n\u001b[1;32m--> 954\u001b[1;33m             \u001b[0mnp_val\u001b[0m \u001b[1;33m=\u001b[0m \u001b[0mnp\u001b[0m\u001b[1;33m.\u001b[0m\u001b[0masarray\u001b[0m\u001b[1;33m(\u001b[0m\u001b[0msubfeed_val\u001b[0m\u001b[1;33m,\u001b[0m \u001b[0mdtype\u001b[0m\u001b[1;33m=\u001b[0m\u001b[0msubfeed_dtype\u001b[0m\u001b[1;33m)\u001b[0m\u001b[1;33m\u001b[0m\u001b[0m\n\u001b[0m\u001b[0;32m    955\u001b[0m \u001b[1;33m\u001b[0m\u001b[0m\n\u001b[0;32m    956\u001b[0m           if (not is_tensor_handle_feed and\n",
      "\u001b[1;32m~\\AppData\\Local\\conda\\conda\\envs\\tfgpu1.1\\lib\\site-packages\\numpy\\core\\numeric.py\u001b[0m in \u001b[0;36masarray\u001b[1;34m(a, dtype, order)\u001b[0m\n\u001b[0;32m    529\u001b[0m \u001b[1;33m\u001b[0m\u001b[0m\n\u001b[0;32m    530\u001b[0m     \"\"\"\n\u001b[1;32m--> 531\u001b[1;33m     \u001b[1;32mreturn\u001b[0m \u001b[0marray\u001b[0m\u001b[1;33m(\u001b[0m\u001b[0ma\u001b[0m\u001b[1;33m,\u001b[0m \u001b[0mdtype\u001b[0m\u001b[1;33m,\u001b[0m \u001b[0mcopy\u001b[0m\u001b[1;33m=\u001b[0m\u001b[1;32mFalse\u001b[0m\u001b[1;33m,\u001b[0m \u001b[0morder\u001b[0m\u001b[1;33m=\u001b[0m\u001b[0morder\u001b[0m\u001b[1;33m)\u001b[0m\u001b[1;33m\u001b[0m\u001b[0m\n\u001b[0m\u001b[0;32m    532\u001b[0m \u001b[1;33m\u001b[0m\u001b[0m\n\u001b[0;32m    533\u001b[0m \u001b[1;33m\u001b[0m\u001b[0m\n",
      "\u001b[1;31mKeyboardInterrupt\u001b[0m: "
     ]
    }
   ],
   "source": [
    "max_validation_accuracy = 0.0\n",
    "epochs_since_improvement = 0\n",
    "saver = tf.train.Saver()\n",
    "with tf.Session() as sess:\n",
    "    # Initialize the variables\n",
    "    sess.run(tf.global_variables_initializer())\n",
    "    \n",
    "    # Training cycle\n",
    "    for epoch in range(epochs):\n",
    "        # Loop over all batches\n",
    "        for batch_features, batch_labels in get_batches(train_features, train_labels, batch_size):\n",
    "            sess.run(optimizer, feed_dict={x: batch_features, \n",
    "                                           y: batch_labels, \n",
    "                                           learn_rate: learning_rate, \n",
    "                                           keep_prob: keep_probability})\n",
    "        if epoch % 1 == 0:\n",
    "            print('Epoch {}: '.format(epoch), end='')\n",
    "            validation_accuracy = print_stats(sess, batch_features, batch_labels, cost, accuracy, epochs_since_improvement)         \n",
    "        \n",
    "            if validation_accuracy > max_validation_accuracy:\n",
    "                max_validation_accuracy = validation_accuracy\n",
    "                epochs_since_improvement = 0\n",
    "                saver.save(sess, \"checkpoints/model.ckpt\")\n",
    "            else:\n",
    "                epochs_since_improvement += 1"
   ]
  },
  {
   "cell_type": "markdown",
   "metadata": {},
   "source": [
    "# Test Set Accuracy"
   ]
  },
  {
   "cell_type": "code",
   "execution_count": 43,
   "metadata": {},
   "outputs": [
    {
     "name": "stdout",
     "output_type": "stream",
     "text": [
      "INFO:tensorflow:Restoring parameters from checkpoints\\model.ckpt\n",
      "Test Accuracy: 0.875\n"
     ]
    }
   ],
   "source": [
    "tf.reset_default_graph()\n",
    "\n",
    "loader = tf.train.import_meta_graph('checkpoints/model.ckpt.meta')\n",
    "with tf.Session() as sess:\n",
    "    loader.restore(sess, tf.train.latest_checkpoint('checkpoints'))\n",
    "    \n",
    "    graph = tf.get_default_graph()\n",
    "    \n",
    "    x = graph.get_tensor_by_name(\"Inputs/inputs:0\")\n",
    "    y = graph.get_tensor_by_name(\"Targets/labels:0\")\n",
    "    keep_prob = graph.get_tensor_by_name(\"keep_probability:0\")\n",
    "    accuracy = graph.get_tensor_by_name(\"Accuracy/accuracy:0\")\n",
    "    \n",
    "    test_accuracy = sess.run(accuracy, feed_dict={x: test_features, y: test_labels, keep_prob: 1.0})\n",
    "    print(\"Test Accuracy: {0:0.3f}\".format(test_accuracy))\n",
    "        "
   ]
  },
  {
   "cell_type": "markdown",
   "metadata": {
    "collapsed": true
   },
   "source": [
    "# Test Model"
   ]
  },
  {
   "cell_type": "code",
   "execution_count": 4,
   "metadata": {
    "collapsed": true
   },
   "outputs": [],
   "source": [
    "test_set = pd.read_pickle(os.path.join(dataset_dir, \"test_set.pkl\"))\n",
    "min_thresh_keys = pickle.load(open(os.path.join(dataset_dir, \"key_classes.p\"), \"rb\"))\n",
    "test_set = test_set[test_set['key'].isin(min_thresh_keys)] # Filter dataframe to only include keys > threshold\n",
    "data_width = len(test_set['data'].values[0])"
   ]
  },
  {
   "cell_type": "code",
   "execution_count": 23,
   "metadata": {
    "collapsed": true
   },
   "outputs": [],
   "source": [
    "input_data = test_set['data'].values[3:4]\n",
    "input_data = np.stack(input_data, axis=0)\n",
    "\n",
    "scaler = pickle.load(open(os.path.join(dataset_dir, 'scaler.p'), \"rb\"))\n",
    "normalized_data = scaler.transform(input_data)\n",
    "\n",
    "normalized_data = normalized_data.reshape((normalized_data.shape[0], normalized_data.shape[1], 1))"
   ]
  },
  {
   "cell_type": "code",
   "execution_count": 19,
   "metadata": {
    "collapsed": true
   },
   "outputs": [],
   "source": [
    "# normalized_data[0]"
   ]
  },
  {
   "cell_type": "code",
   "execution_count": null,
   "metadata": {
    "collapsed": true
   },
   "outputs": [],
   "source": []
  },
  {
   "cell_type": "code",
   "execution_count": null,
   "metadata": {
    "collapsed": true
   },
   "outputs": [],
   "source": []
  },
  {
   "cell_type": "code",
   "execution_count": 6,
   "metadata": {},
   "outputs": [
    {
     "name": "stderr",
     "output_type": "stream",
     "text": [
      "C:\\Users\\stephen\\AppData\\Local\\conda\\conda\\envs\\tfgpu1.1\\lib\\site-packages\\sklearn\\utils\\validation.py:444: DataConversionWarning: Data with input dtype int16 was converted to float64 by MinMaxScaler.\n",
      "  warnings.warn(msg, DataConversionWarning)\n"
     ]
    }
   ],
   "source": [
    "input_data = test_set['data'].values\n",
    "input_data = np.stack(input_data, axis=0)\n",
    "\n",
    "scaler = pickle.load(open(os.path.join(dataset_dir, 'scaler.p'), \"rb\"))\n",
    "normalized_data = scaler.fit_transform(input_data)\n",
    "\n",
    "normalized_data = normalized_data.reshape((normalized_data.shape[0], normalized_data.shape[1], 1))"
   ]
  },
  {
   "cell_type": "code",
   "execution_count": 24,
   "metadata": {},
   "outputs": [
    {
     "name": "stdout",
     "output_type": "stream",
     "text": [
      "INFO:tensorflow:Restoring parameters from checkpoints\\model.ckpt\n"
     ]
    }
   ],
   "source": [
    "loader = tf.train.import_meta_graph('checkpoints/model.ckpt.meta')\n",
    "with tf.Session() as sess:\n",
    "    loader.restore(sess, tf.train.latest_checkpoint('checkpoints'))\n",
    "    \n",
    "    graph = tf.get_default_graph()\n",
    "    \n",
    "    x = graph.get_tensor_by_name(\"Inputs/inputs:0\")\n",
    "    keep_prob = graph.get_tensor_by_name(\"keep_probability:0\")\n",
    "    predicted = graph.get_tensor_by_name(\"predicted:0\")\n",
    "    \n",
    "    feed_dict = {x: normalized_data, keep_prob: 1.0}\n",
    "    prediction = sess.run(predicted, feed_dict=feed_dict).squeeze()"
   ]
  },
  {
   "cell_type": "code",
   "execution_count": 25,
   "metadata": {},
   "outputs": [
    {
     "data": {
      "text/plain": [
       "array(['e'], dtype=object)"
      ]
     },
     "execution_count": 25,
     "metadata": {},
     "output_type": "execute_result"
    }
   ],
   "source": [
    "test_set['key'].values[3:4]"
   ]
  },
  {
   "cell_type": "code",
   "execution_count": 26,
   "metadata": {},
   "outputs": [
    {
     "data": {
      "text/plain": [
       "'e'"
      ]
     },
     "execution_count": 26,
     "metadata": {},
     "output_type": "execute_result"
    }
   ],
   "source": [
    "labels[np.argmax(prediction)]"
   ]
  },
  {
   "cell_type": "code",
   "execution_count": 10,
   "metadata": {
    "collapsed": true
   },
   "outputs": [],
   "source": [
    "labels = pickle.load(open(os.path.join(dataset_dir, 'labels.p'), \"rb\"))"
   ]
  },
  {
   "cell_type": "code",
   "execution_count": 11,
   "metadata": {},
   "outputs": [
    {
     "name": "stdout",
     "output_type": "stream",
     "text": [
      "Key: a, Prediction: a, Probability: 0.99\n",
      "Key: t, Prediction: e, Probability: 0.99\n",
      "Key: space, Prediction: space, Probability: 1.00\n",
      "Key: e, Prediction: e, Probability: 1.00\n",
      "Key: a, Prediction: a, Probability: 1.00\n",
      "Key: e, Prediction: e, Probability: 1.00\n",
      "Key: space, Prediction: space, Probability: 1.00\n",
      "Key: e, Prediction: e, Probability: 1.00\n",
      "Key: t, Prediction: t, Probability: 0.99\n",
      "Key: space, Prediction: space, Probability: 1.00\n",
      "Key: a, Prediction: a, Probability: 1.00\n",
      "Key: space, Prediction: space, Probability: 1.00\n",
      "Key: e, Prediction: a, Probability: 0.57\n",
      "Key: space, Prediction: space, Probability: 1.00\n",
      "Key: e, Prediction: e, Probability: 0.99\n",
      "Key: space, Prediction: space, Probability: 0.85\n",
      "Key: t, Prediction: e, Probability: 0.96\n",
      "Key: a, Prediction: a, Probability: 1.00\n",
      "Key: space, Prediction: space, Probability: 1.00\n",
      "Key: e, Prediction: e, Probability: 0.97\n",
      "Key: a, Prediction: a, Probability: 0.87\n",
      "Key: a, Prediction: e, Probability: 1.00\n",
      "Key: space, Prediction: space, Probability: 1.00\n",
      "Key: e, Prediction: t, Probability: 0.67\n",
      "Key: e, Prediction: e, Probability: 0.86\n",
      "Key: space, Prediction: space, Probability: 1.00\n",
      "Key: space, Prediction: space, Probability: 1.00\n",
      "Key: space, Prediction: space, Probability: 1.00\n",
      "Key: e, Prediction: e, Probability: 0.69\n",
      "Key: e, Prediction: e, Probability: 1.00\n",
      "Key: space, Prediction: space, Probability: 1.00\n",
      "Key: e, Prediction: e, Probability: 0.99\n",
      "Key: space, Prediction: space, Probability: 0.94\n",
      "Key: t, Prediction: t, Probability: 0.59\n",
      "Key: a, Prediction: a, Probability: 0.84\n",
      "Key: space, Prediction: space, Probability: 0.93\n",
      "Key: t, Prediction: e, Probability: 0.94\n",
      "Key: e, Prediction: e, Probability: 0.98\n",
      "Key: space, Prediction: space, Probability: 0.96\n",
      "Key: t, Prediction: e, Probability: 1.00\n",
      "Key: e, Prediction: e, Probability: 1.00\n",
      "Key: e, Prediction: e, Probability: 0.99\n",
      "Key: space, Prediction: space, Probability: 1.00\n",
      "Key: e, Prediction: e, Probability: 0.45\n",
      "Key: space, Prediction: space, Probability: 1.00\n",
      "Key: t, Prediction: e, Probability: 0.96\n",
      "Key: a, Prediction: a, Probability: 1.00\n",
      "Key: space, Prediction: space, Probability: 1.00\n",
      "Key: t, Prediction: e, Probability: 0.98\n",
      "Key: e, Prediction: e, Probability: 1.00\n",
      "Key: space, Prediction: space, Probability: 1.00\n",
      "Key: t, Prediction: space, Probability: 0.69\n",
      "Key: a, Prediction: a, Probability: 0.98\n",
      "Key: space, Prediction: space, Probability: 1.00\n",
      "Key: space, Prediction: space, Probability: 1.00\n",
      "Key: e, Prediction: e, Probability: 0.67\n",
      "Key: space, Prediction: space, Probability: 0.93\n",
      "Key: a, Prediction: e, Probability: 0.99\n",
      "Key: space, Prediction: space, Probability: 1.00\n",
      "Key: e, Prediction: e, Probability: 1.00\n",
      "Key: e, Prediction: space, Probability: 0.60\n",
      "Key: e, Prediction: e, Probability: 1.00\n",
      "Key: t, Prediction: t, Probability: 1.00\n",
      "Key: space, Prediction: space, Probability: 1.00\n",
      "Key: a, Prediction: a, Probability: 1.00\n",
      "Key: space, Prediction: space, Probability: 1.00\n",
      "Key: t, Prediction: t, Probability: 0.98\n",
      "Key: a, Prediction: a, Probability: 1.00\n",
      "Key: e, Prediction: e, Probability: 1.00\n",
      "Key: space, Prediction: space, Probability: 0.88\n",
      "Key: e, Prediction: e, Probability: 1.00\n",
      "Key: space, Prediction: space, Probability: 0.97\n",
      "Key: e, Prediction: e, Probability: 1.00\n",
      "Key: space, Prediction: space, Probability: 1.00\n",
      "Key: t, Prediction: t, Probability: 0.94\n",
      "Key: space, Prediction: space, Probability: 1.00\n",
      "Key: a, Prediction: a, Probability: 1.00\n",
      "Key: space, Prediction: space, Probability: 1.00\n",
      "Key: a, Prediction: a, Probability: 1.00\n",
      "Key: e, Prediction: e, Probability: 0.99\n",
      "Key: space, Prediction: e, Probability: 0.92\n",
      "Key: space, Prediction: space, Probability: 1.00\n",
      "Key: e, Prediction: e, Probability: 1.00\n",
      "Key: e, Prediction: e, Probability: 1.00\n",
      "Key: t, Prediction: e, Probability: 0.99\n",
      "Key: space, Prediction: space, Probability: 0.99\n",
      "Key: a, Prediction: a, Probability: 1.00\n",
      "Key: space, Prediction: space, Probability: 1.00\n",
      "Key: t, Prediction: t, Probability: 0.93\n",
      "Key: a, Prediction: a, Probability: 1.00\n",
      "Key: space, Prediction: space, Probability: 1.00\n",
      "Key: a, Prediction: a, Probability: 1.00\n",
      "Key: a, Prediction: a, Probability: 1.00\n",
      "Key: a, Prediction: e, Probability: 1.00\n",
      "Key: space, Prediction: space, Probability: 1.00\n",
      "Key: t, Prediction: e, Probability: 1.00\n",
      "Key: a, Prediction: a, Probability: 1.00\n",
      "Key: e, Prediction: e, Probability: 1.00\n",
      "Key: space, Prediction: space, Probability: 1.00\n",
      "Key: e, Prediction: a, Probability: 0.67\n",
      "Key: space, Prediction: space, Probability: 1.00\n",
      "Key: e, Prediction: e, Probability: 1.00\n",
      "Key: space, Prediction: space, Probability: 1.00\n",
      "Key: t, Prediction: e, Probability: 0.96\n",
      "Key: space, Prediction: space, Probability: 1.00\n",
      "Key: a, Prediction: a, Probability: 1.00\n",
      "Key: a, Prediction: a, Probability: 1.00\n",
      "Key: space, Prediction: space, Probability: 1.00\n",
      "Key: space, Prediction: space, Probability: 0.95\n",
      "Key: e, Prediction: e, Probability: 0.99\n",
      "Key: e, Prediction: e, Probability: 0.80\n",
      "Key: space, Prediction: e, Probability: 0.95\n",
      "Key: a, Prediction: a, Probability: 0.72\n",
      "Key: t, Prediction: space, Probability: 0.56\n",
      "Key: e, Prediction: e, Probability: 1.00\n",
      "Key: space, Prediction: space, Probability: 1.00\n",
      "Key: a, Prediction: a, Probability: 1.00\n",
      "Key: space, Prediction: space, Probability: 1.00\n",
      "Key: e, Prediction: e, Probability: 1.00\n",
      "Key: space, Prediction: space, Probability: 0.99\n",
      "Key: e, Prediction: e, Probability: 0.73\n",
      "Key: space, Prediction: space, Probability: 1.00\n",
      "Key: a, Prediction: a, Probability: 1.00\n",
      "Key: space, Prediction: space, Probability: 1.00\n",
      "Key: t, Prediction: e, Probability: 0.57\n",
      "Key: a, Prediction: a, Probability: 0.78\n",
      "Key: e, Prediction: e, Probability: 1.00\n",
      "Key: space, Prediction: space, Probability: 1.00\n",
      "Key: t, Prediction: t, Probability: 0.98\n",
      "Key: space, Prediction: space, Probability: 1.00\n",
      "Key: e, Prediction: e, Probability: 1.00\n",
      "Key: space, Prediction: space, Probability: 1.00\n",
      "Key: a, Prediction: a, Probability: 1.00\n",
      "Key: t, Prediction: e, Probability: 0.91\n",
      "Key: e, Prediction: e, Probability: 1.00\n",
      "Key: a, Prediction: a, Probability: 0.97\n",
      "Key: space, Prediction: space, Probability: 1.00\n",
      "Key: a, Prediction: a, Probability: 1.00\n",
      "Key: space, Prediction: space, Probability: 1.00\n",
      "Key: t, Prediction: t, Probability: 0.96\n",
      "Key: space, Prediction: space, Probability: 1.00\n",
      "Key: a, Prediction: a, Probability: 0.99\n",
      "Key: t, Prediction: t, Probability: 0.65\n",
      "Key: e, Prediction: e, Probability: 1.00\n",
      "Key: space, Prediction: e, Probability: 1.00\n",
      "Key: space, Prediction: space, Probability: 1.00\n",
      "Key: t, Prediction: t, Probability: 0.54\n",
      "Key: e, Prediction: e, Probability: 1.00\n",
      "Key: space, Prediction: space, Probability: 1.00\n",
      "Key: space, Prediction: space, Probability: 1.00\n",
      "Key: t, Prediction: space, Probability: 0.81\n",
      "Key: space, Prediction: space, Probability: 1.00\n",
      "Key: t, Prediction: space, Probability: 0.60\n",
      "Key: a, Prediction: a, Probability: 1.00\n",
      "Key: t, Prediction: e, Probability: 0.79\n",
      "Key: t, Prediction: a, Probability: 0.99\n",
      "Key: e, Prediction: e, Probability: 0.75\n",
      "Key: space, Prediction: space, Probability: 1.00\n",
      "Key: space, Prediction: space, Probability: 1.00\n",
      "Key: e, Prediction: e, Probability: 1.00\n",
      "Key: space, Prediction: space, Probability: 1.00\n",
      "Key: t, Prediction: a, Probability: 0.82\n",
      "Key: e, Prediction: e, Probability: 0.93\n",
      "Key: a, Prediction: e, Probability: 0.85\n",
      "Key: space, Prediction: space, Probability: 1.00\n",
      "Key: space, Prediction: space, Probability: 1.00\n",
      "Key: space, Prediction: e, Probability: 0.84\n",
      "Key: e, Prediction: e, Probability: 1.00\n",
      "Key: e, Prediction: e, Probability: 1.00\n",
      "Key: t, Prediction: e, Probability: 0.57\n",
      "Key: space, Prediction: space, Probability: 1.00\n",
      "Key: a, Prediction: a, Probability: 1.00\n",
      "Key: space, Prediction: space, Probability: 0.92\n",
      "Key: t, Prediction: e, Probability: 1.00\n",
      "Key: a, Prediction: a, Probability: 1.00\n",
      "Key: e, Prediction: e, Probability: 1.00\n",
      "Key: space, Prediction: e, Probability: 0.97\n",
      "Key: e, Prediction: e, Probability: 1.00\n",
      "Key: space, Prediction: space, Probability: 1.00\n",
      "Key: e, Prediction: e, Probability: 1.00\n",
      "Key: space, Prediction: space, Probability: 1.00\n",
      "Key: t, Prediction: e, Probability: 0.75\n",
      "Key: space, Prediction: space, Probability: 0.99\n",
      "Key: a, Prediction: a, Probability: 1.00\n",
      "Key: space, Prediction: space, Probability: 1.00\n",
      "Key: a, Prediction: a, Probability: 0.54\n",
      "Key: e, Prediction: e, Probability: 1.00\n",
      "Key: space, Prediction: space, Probability: 1.00\n",
      "Key: space, Prediction: space, Probability: 1.00\n",
      "Key: e, Prediction: a, Probability: 0.90\n",
      "Key: space, Prediction: space, Probability: 1.00\n",
      "Key: e, Prediction: a, Probability: 1.00\n",
      "Key: t, Prediction: space, Probability: 0.80\n",
      "Key: space, Prediction: space, Probability: 0.98\n",
      "Key: a, Prediction: a, Probability: 1.00\n",
      "Key: space, Prediction: space, Probability: 1.00\n",
      "Key: t, Prediction: a, Probability: 1.00\n",
      "Key: a, Prediction: a, Probability: 1.00\n",
      "Accuracy: 0.8080808080808081\n"
     ]
    }
   ],
   "source": [
    "correct_cnt = 0\n",
    "for i, r in enumerate(prediction):\n",
    "    actual_key = test_set['key'].values[i]\n",
    "    pred_key = labels[np.argmax(r)]\n",
    "    print('Key: {0}, Prediction: {1}, Probability: {2:0.2f}'.format(actual_key, pred_key, r[np.argmax(r)]))\n",
    "    if actual_key == pred_key:\n",
    "        correct_cnt += 1\n",
    "print('Accuracy: {}'.format(correct_cnt/len(test_set)))"
   ]
  },
  {
   "cell_type": "code",
   "execution_count": null,
   "metadata": {
    "collapsed": true
   },
   "outputs": [],
   "source": []
  },
  {
   "cell_type": "code",
   "execution_count": null,
   "metadata": {
    "collapsed": true
   },
   "outputs": [],
   "source": []
  },
  {
   "cell_type": "code",
   "execution_count": null,
   "metadata": {
    "collapsed": true
   },
   "outputs": [],
   "source": []
  }
 ],
 "metadata": {
  "kernelspec": {
   "display_name": "Python 3",
   "language": "python",
   "name": "python3"
  },
  "language_info": {
   "codemirror_mode": {
    "name": "ipython",
    "version": 3
   },
   "file_extension": ".py",
   "mimetype": "text/x-python",
   "name": "python",
   "nbconvert_exporter": "python",
   "pygments_lexer": "ipython3",
   "version": "3.5.3"
  }
 },
 "nbformat": 4,
 "nbformat_minor": 2
}
