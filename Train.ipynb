{
 "cells": [
  {
   "cell_type": "markdown",
   "metadata": {},
   "source": [
    "# Check the Version of TensorFlow and Access to GPU\n",
    "This will check to make sure you have the correct version of TensorFlow and access to a GPU"
   ]
  },
  {
   "cell_type": "markdown",
   "metadata": {},
   "source": [
    "# Todo List\n",
    "- Add several dense layers after convolutional layers\n",
    "- Play with learning rate and batch size"
   ]
  },
  {
   "cell_type": "code",
   "execution_count": 1,
   "metadata": {
    "collapsed": true
   },
   "outputs": [],
   "source": [
    "import pandas as pd\n",
    "import numpy as np\n",
    "from sklearn import preprocessing"
   ]
  },
  {
   "cell_type": "code",
   "execution_count": 2,
   "metadata": {},
   "outputs": [
    {
     "name": "stdout",
     "output_type": "stream",
     "text": [
      "TensorFlow Version: 1.1.0\n",
      "Default GPU Device: /gpu:0\n"
     ]
    }
   ],
   "source": [
    "from distutils.version import LooseVersion\n",
    "import warnings\n",
    "import tensorflow as tf\n",
    "\n",
    "# Check TensorFlow Version\n",
    "assert LooseVersion(tf.__version__) >= LooseVersion('1.0'), 'Please use TensorFlow version 1.0 or newer.  You are using {}'.format(tf.__version__)\n",
    "print('TensorFlow Version: {}'.format(tf.__version__))\n",
    "\n",
    "# Check for a GPU\n",
    "if not tf.test.gpu_device_name():\n",
    "    warnings.warn('No GPU found. Please use a GPU to train your neural network.')\n",
    "else:\n",
    "    print('Default GPU Device: {}'.format(tf.test.gpu_device_name()))"
   ]
  },
  {
   "cell_type": "markdown",
   "metadata": {},
   "source": [
    "# Import Data"
   ]
  },
  {
   "cell_type": "code",
   "execution_count": 3,
   "metadata": {
    "collapsed": true
   },
   "outputs": [],
   "source": [
    "import os\n",
    "dataset_dir = 'DataSet/'"
   ]
  },
  {
   "cell_type": "code",
   "execution_count": 4,
   "metadata": {},
   "outputs": [
    {
     "name": "stdout",
     "output_type": "stream",
     "text": [
      "File: DataSet/2018-07-13_18-39-56_0.pkl, DataSet Length: 500\n",
      "File: DataSet/2018-07-13_18-43-51_0.pkl, DataSet Length: 500\n",
      "File: DataSet/2018-07-13_18-46-04_1.pkl, DataSet Length: 500\n",
      "File: DataSet/2018-07-13_18-47-58_2.pkl, DataSet Length: 500\n",
      "File: DataSet/2018-07-13_18-49-54_3.pkl, DataSet Length: 500\n",
      "File: DataSet/2018-07-13_18-52-16_4.pkl, DataSet Length: 500\n",
      "File: DataSet/2018-07-13_18-54-29_5.pkl, DataSet Length: 500\n",
      "File: DataSet/2018-07-13_18-56-38_6.pkl, DataSet Length: 500\n",
      "File: DataSet/2018-07-13_18-58-30_7.pkl, DataSet Length: 500\n",
      "File: DataSet/2018-07-13_19-00-21_8.pkl, DataSet Length: 500\n",
      "File: DataSet/2018-07-13_19-02-36_9.pkl, DataSet Length: 500\n",
      "File: DataSet/2018-07-13_19-04-42_10.pkl, DataSet Length: 500\n",
      "File: DataSet/2018-07-13_19-06-38_11.pkl, DataSet Length: 500\n",
      "File: DataSet/2018-07-13_19-08-49_12.pkl, DataSet Length: 500\n",
      "File: DataSet/2018-07-13_19-10-48_13.pkl, DataSet Length: 500\n",
      "File: DataSet/2018-07-13_19-12-43_14.pkl, DataSet Length: 500\n",
      "File: DataSet/2018-07-13_19-14-54_15.pkl, DataSet Length: 500\n",
      "File: DataSet/2018-07-13_19-16-54_16.pkl, DataSet Length: 500\n",
      "File: DataSet/2018-07-13_19-19-01_17.pkl, DataSet Length: 500\n",
      "File: DataSet/2018-07-13_19-20-48_18.pkl, DataSet Length: 500\n",
      "File: DataSet/2018-07-13_19-22-54_19.pkl, DataSet Length: 500\n",
      "File: DataSet/data_07-08-18.pkl, DataSet Length: 7150\n",
      "File: DataSet/data_07-10-18_work.pkl, DataSet Length: 8700\n",
      "File: DataSet/data_07-13-18.pkl, DataSet Length: 5400\n",
      "Total Length: 31750\n"
     ]
    }
   ],
   "source": [
    "count = 0\n",
    "for filename in os.listdir(dataset_dir):\n",
    "    if filename.endswith(\".pkl\"): \n",
    "        df = pd.read_pickle(os.path.join(dataset_dir, filename))\n",
    "        \n",
    "        if count == 0:\n",
    "            raw_df = df\n",
    "        else:\n",
    "            raw_df = raw_df.append(df, ignore_index=True)\n",
    "            \n",
    "        print('File: {}, DataSet Length: {}'.format(os.path.join(dataset_dir, filename), len(df)))\n",
    "        count += 1\n",
    "    else:\n",
    "        continue\n",
    "print('Total Length: {}'.format(len(raw_df)))"
   ]
  },
  {
   "cell_type": "code",
   "execution_count": 5,
   "metadata": {
    "collapsed": true
   },
   "outputs": [],
   "source": [
    "# # Read saved list of data from object into a dataframe\n",
    "# raw_df = pd.read_pickle('DataSet/data_07-10-18.pkl')\n",
    "# print(len(raw_df))\n",
    "# raw_df.head()"
   ]
  },
  {
   "cell_type": "code",
   "execution_count": 6,
   "metadata": {
    "collapsed": true
   },
   "outputs": [],
   "source": [
    "data_width = len(raw_df['data'][0])"
   ]
  },
  {
   "cell_type": "markdown",
   "metadata": {},
   "source": [
    "# Data Preprocessing"
   ]
  },
  {
   "cell_type": "markdown",
   "metadata": {},
   "source": [
    "#### Filter out key counts less than threshold value"
   ]
  },
  {
   "cell_type": "code",
   "execution_count": 7,
   "metadata": {
    "collapsed": true
   },
   "outputs": [],
   "source": [
    "import collections\n",
    "import matplotlib.pyplot as plt\n",
    "key_count = collections.Counter(raw_df['key'])"
   ]
  },
  {
   "cell_type": "code",
   "execution_count": 8,
   "metadata": {
    "collapsed": true
   },
   "outputs": [],
   "source": [
    "width = 0.5 # Bar width\n",
    "figsize = (15, 4)\n",
    "\n",
    "def plot_key_hist(most_common):\n",
    "    if len(most_common) > 30:\n",
    "        most_common = most_common[:30]\n",
    "        \n",
    "    hist_labels, hist_values = zip(*most_common) # Show only a subset of all keys\n",
    "    indexes = np.arange(len(hist_labels))\n",
    "    plt.figure(figsize=figsize)\n",
    "    plt.bar(indexes, hist_values, width)\n",
    "    plt.xticks(indexes + width * 0.5, hist_labels, rotation='vertical')\n",
    "    plt.show()"
   ]
  },
  {
   "cell_type": "code",
   "execution_count": 9,
   "metadata": {},
   "outputs": [
    {
     "data": {
      "image/png": "[encoded data removed]",
      "text/plain": [
       "<matplotlib.figure.Figure at 0x1d57c0fcb00>"
      ]
     },
     "metadata": {},
     "output_type": "display_data"
    }
   ],
   "source": [
    "plot_key_hist(key_count.most_common())"
   ]
  },
  {
   "cell_type": "code",
   "execution_count": 10,
   "metadata": {},
   "outputs": [
    {
     "data": {
      "text/plain": [
       "<bound method Counter.most_common of Counter({'space': 4990, 'e': 3070, 't': 2414, 'a': 2135, 'i': 1858, 'o': 1774, 'n': 1766, 's': 1738, 'r': 1490, 'h': 1109, 'l': 1102, 'd': 877, 'c': 837, 'u': 629, 'm': 623, 'g': 591, 'f': 517, 'p': 479, 'w': 431, 'y': 429, 'b': 392, 'v': 311, 'backspace': 309, '.': 283, ',': 246, 'k': 188, 'enter': 148, 'shift': 120, 'x': 107, \"'\": 76, '0': 69, 'z': 67, 'ctrl_l': 60, '-': 54, '1': 45, '2': 43, 'q': 42, 'delete': 38, 'down': 38, '9': 35, 'j': 26, '3': 24, '5': 20, 'esc': 17, '/': 17, 'left': 16, ';': 16, '7': 15, '8': 14, '6': 14, '4': 14, 'up': 10, 'right': 8, 'tab': 4, '=': 4, '`': 1})>"
      ]
     },
     "execution_count": 10,
     "metadata": {},
     "output_type": "execute_result"
    }
   ],
   "source": [
    "key_count.most_common"
   ]
  },
  {
   "cell_type": "code",
   "execution_count": 11,
   "metadata": {},
   "outputs": [
    {
     "name": "stdout",
     "output_type": "stream",
     "text": [
      "Max Data Size: 13904, Class Count: 8, Threshold: 1737\n"
     ]
    }
   ],
   "source": [
    "# Maximize DataSet Size By Finding Optimal Threshold\n",
    "max_data_size = 0\n",
    "max_class_cnt = 0\n",
    "threshold_max = 0\n",
    "for _, v in key_count.most_common():\n",
    "    threshold = v - 1\n",
    "    min_thresh_cnts = [count for key, count in zip(key_count.keys(), key_count.values()) if count > threshold]\n",
    "    class_cnt = len(min_thresh_cnts)\n",
    "    data_size = min(min_thresh_cnts)*len(min_thresh_cnts)\n",
    "    if data_size > max_data_size:\n",
    "        max_data_size = data_size\n",
    "        max_class_cnt = class_cnt\n",
    "        threshold_max = threshold\n",
    "print('Max Data Size: {}, Class Count: {}, Threshold: {}'.format(max_data_size, max_class_cnt, threshold_max))"
   ]
  },
  {
   "cell_type": "code",
   "execution_count": 12,
   "metadata": {
    "collapsed": true
   },
   "outputs": [],
   "source": [
    "# Get list of keys with counts greater than threshold\n",
    "threshold = threshold_max\n",
    "min_thresh_keys = [key for key, count in zip(key_count.keys(), key_count.values()) if count > threshold]"
   ]
  },
  {
   "cell_type": "code",
   "execution_count": 13,
   "metadata": {
    "collapsed": true
   },
   "outputs": [],
   "source": [
    "min_thresh_df = raw_df[raw_df['key'].isin(min_thresh_keys)] # Filter dataframe to only include keys > threshold"
   ]
  },
  {
   "cell_type": "code",
   "execution_count": 14,
   "metadata": {
    "collapsed": true
   },
   "outputs": [],
   "source": [
    "def trim_max_thresh(grouped_class):\n",
    "    return grouped_class.sample(threshold)"
   ]
  },
  {
   "cell_type": "code",
   "execution_count": 15,
   "metadata": {
    "collapsed": true
   },
   "outputs": [],
   "source": [
    "# Keep same number of samples in each class by throwing away everything past the threshold\n",
    "df = min_thresh_df.groupby(['key']).apply(trim_max_thresh)"
   ]
  },
  {
   "cell_type": "markdown",
   "metadata": {},
   "source": [
    "#### Plot truncated data"
   ]
  },
  {
   "cell_type": "code",
   "execution_count": 16,
   "metadata": {
    "collapsed": true
   },
   "outputs": [],
   "source": [
    "truncated_count = collections.Counter(df['key'])"
   ]
  },
  {
   "cell_type": "code",
   "execution_count": 17,
   "metadata": {},
   "outputs": [
    {
     "data": {
      "image/png": "[encoded data removed]",
      "text/plain": [
       "<matplotlib.figure.Figure at 0x1d576b650b8>"
      ]
     },
     "metadata": {},
     "output_type": "display_data"
    }
   ],
   "source": [
    "plot_key_hist(truncated_count.most_common())"
   ]
  },
  {
   "cell_type": "markdown",
   "metadata": {},
   "source": [
    "### Shuffle data"
   ]
  },
  {
   "cell_type": "code",
   "execution_count": 18,
   "metadata": {
    "collapsed": true
   },
   "outputs": [],
   "source": [
    "df = df.sample(frac=1).reset_index(drop=True)"
   ]
  },
  {
   "cell_type": "markdown",
   "metadata": {},
   "source": [
    "## Skip to Load If Normalized Data Already Exists on Disk"
   ]
  },
  {
   "cell_type": "markdown",
   "metadata": {},
   "source": [
    "#### Normalize Data"
   ]
  },
  {
   "cell_type": "code",
   "execution_count": 19,
   "metadata": {},
   "outputs": [
    {
     "data": {
      "text/plain": [
       "numpy.ndarray"
      ]
     },
     "execution_count": 19,
     "metadata": {},
     "output_type": "execute_result"
    }
   ],
   "source": [
    "type(df['data'][0])"
   ]
  },
  {
   "cell_type": "code",
   "execution_count": 20,
   "metadata": {
    "collapsed": true
   },
   "outputs": [],
   "source": [
    "input_data = df['data'].values\n",
    "input_data = np.stack(input_data, axis=0)"
   ]
  },
  {
   "cell_type": "code",
   "execution_count": 21,
   "metadata": {},
   "outputs": [
    {
     "name": "stderr",
     "output_type": "stream",
     "text": [
      "C:\\Users\\stephen\\AppData\\Local\\conda\\conda\\envs\\tfgpu1.1\\lib\\site-packages\\sklearn\\utils\\validation.py:444: DataConversionWarning: Data with input dtype int16 was converted to float64 by MinMaxScaler.\n",
      "  warnings.warn(msg, DataConversionWarning)\n"
     ]
    }
   ],
   "source": [
    "scaler = preprocessing.MinMaxScaler(feature_range=(0,1))\n",
    "normalized_data = scaler.fit_transform(input_data)"
   ]
  },
  {
   "cell_type": "markdown",
   "metadata": {},
   "source": [
    "#### One Hot Encode Classes"
   ]
  },
  {
   "cell_type": "code",
   "execution_count": 22,
   "metadata": {
    "collapsed": true
   },
   "outputs": [],
   "source": [
    "n_classes = len(set(df['key']))"
   ]
  },
  {
   "cell_type": "code",
   "execution_count": 23,
   "metadata": {
    "collapsed": true
   },
   "outputs": [],
   "source": [
    "labels_str = [str(key) for key in df['key']]\n",
    "lb = preprocessing.LabelBinarizer() # Create encoder\n",
    "lb.fit(list(set(labels_str)))\n",
    "labels = lb.transform(labels_str)"
   ]
  },
  {
   "cell_type": "code",
   "execution_count": 24,
   "metadata": {},
   "outputs": [
    {
     "data": {
      "text/plain": [
       "array(['a', 'e', 'i', 'n', 'o', 's', 'space', 't'],\n",
       "      dtype='<U5')"
      ]
     },
     "execution_count": 24,
     "metadata": {},
     "output_type": "execute_result"
    }
   ],
   "source": [
    "lb.classes_"
   ]
  },
  {
   "cell_type": "markdown",
   "metadata": {},
   "source": [
    "#### Split Training and Validation Data"
   ]
  },
  {
   "cell_type": "markdown",
   "metadata": {},
   "source": [
    "Reshape to add 1 channel"
   ]
  },
  {
   "cell_type": "code",
   "execution_count": 25,
   "metadata": {},
   "outputs": [
    {
     "data": {
      "text/plain": [
       "(13896, 10240, 1)"
      ]
     },
     "execution_count": 25,
     "metadata": {},
     "output_type": "execute_result"
    }
   ],
   "source": [
    "normalized_data = normalized_data.reshape((normalized_data.shape[0], normalized_data.shape[1], 1))\n",
    "# labels = labels.reshape((labels.shape[0], labels.shape[1], 1))\n",
    "normalized_data.shape"
   ]
  },
  {
   "cell_type": "code",
   "execution_count": 26,
   "metadata": {
    "collapsed": true
   },
   "outputs": [],
   "source": [
    "from sklearn.model_selection import train_test_split\n",
    "train_features, valid_features, train_labels, valid_labels = train_test_split(\n",
    "    normalized_data, \n",
    "    labels, \n",
    "    test_size=0.1, \n",
    "    random_state=42)"
   ]
  },
  {
   "cell_type": "markdown",
   "metadata": {},
   "source": [
    "# Define Network"
   ]
  },
  {
   "cell_type": "markdown",
   "metadata": {},
   "source": [
    "### Input"
   ]
  },
  {
   "cell_type": "code",
   "execution_count": 27,
   "metadata": {
    "collapsed": true
   },
   "outputs": [],
   "source": [
    "def model_inputs(data_width, n_classes):\n",
    "    \"\"\"\n",
    "    Create the model inputs\n",
    "    :param data_width: The total number of samples in the recorded data point\n",
    "    :param n_classes: Number of Classes\n",
    "    :return: Tuple of (tensor of input audio data, key press labels, learning rate, keep_prob)\n",
    "    \"\"\"\n",
    "    # TODO: Add audio channels to input\n",
    "    \n",
    "    with tf.name_scope(\"Inputs\"):\n",
    "        audio_inputs = tf.placeholder(tf.float32, [None, data_width, 1], name='inputs')\n",
    "    with tf.name_scope(\"Targets\"):\n",
    "        key_labels = tf.placeholder(tf.float32, [None, n_classes], name='labels')\n",
    "    learning_rate = tf.placeholder(tf.float32, name='learning_rate')\n",
    "    keep_prob = tf.placeholder(tf.float32, name='keep_probability')\n",
    "\n",
    "    return audio_inputs, key_labels, learning_rate, keep_prob"
   ]
  },
  {
   "cell_type": "markdown",
   "metadata": {},
   "source": [
    "### Get Batches"
   ]
  },
  {
   "cell_type": "code",
   "execution_count": 28,
   "metadata": {
    "collapsed": true
   },
   "outputs": [],
   "source": [
    "def get_batches(features, labels, batch_size):\n",
    "    \"\"\"\n",
    "    Split features and labels into batches\n",
    "    \"\"\"\n",
    "    for start in range(0, len(features), batch_size):\n",
    "        end = min(start + batch_size, len(features))\n",
    "        yield features[start:end], labels[start:end]"
   ]
  },
  {
   "cell_type": "markdown",
   "metadata": {},
   "source": [
    "### Network"
   ]
  },
  {
   "cell_type": "code",
   "execution_count": 80,
   "metadata": {
    "collapsed": true
   },
   "outputs": [],
   "source": [
    "def network(X, keep_prob, n_classes):\n",
    "    \"\"\"\n",
    "    Create the network\n",
    "    :param X: Tensor of input recording(s)\n",
    "    :param keep_prob: Tensor for the keep probability\n",
    "    :param n_classes: Number of Classes\n",
    "    :return: Tuple of (tensor output of the classifier, tensor logits of the classifier)\n",
    "    \"\"\"    \n",
    "    # Hyperparameters\n",
    "    alpha = 0.2\n",
    "    h_dim = 32\n",
    "    \n",
    "    #print(\"X: {}\".format(X.shape))\n",
    "     \n",
    "    with tf.name_scope(\"Hidden_Layer1\"):\n",
    "        #h1 = tf.layers.dense(X, h_dim, activation=None)\n",
    "        h1 = tf.layers.conv1d(X, h_dim, 100, 10, 'same', activation=None)\n",
    "        h1 = tf.layers.max_pooling1d(h1, 5, 2, 'same')\n",
    "        h1 = tf.nn.dropout(h1, keep_prob) # Regularization\n",
    "        h1 = tf.maximum(h1*alpha, h1) # Leaky ReLu\n",
    "        h1 = tf.layers.batch_normalization(h1)\n",
    "        \n",
    "    #print(\"h1: {}\".format(h1.shape))\n",
    "\n",
    "    with tf.name_scope(\"Hidden_Layer2\"):\n",
    "        #h2 = tf.layers.dense(h1, h_dim, activation=None)\n",
    "        h2 = tf.layers.conv1d(h1, h_dim*2, 50, 5, 'same', activation=None)\n",
    "        #h2 = tf.layers.maxpool2d(h2, 5, 2, 'same')\n",
    "        h2 = tf.nn.dropout(h2, keep_prob) # Regularization        \n",
    "        h2 = tf.maximum(h2*alpha, h2) # Leaky ReLu\n",
    "        h2 = tf.layers.batch_normalization(h2)\n",
    "        \n",
    "    #print(\"h2: {}\".format(h2.shape))\n",
    "\n",
    "    with tf.name_scope(\"Hidden_Layer3\"):\n",
    "        #h3 = tf.layers.dense(h2, h_dim, activation=None)\n",
    "        h3 = tf.layers.conv1d(h2, h_dim*3, 25, 2, 'same', activation=None)\n",
    "        #h3 = tf.layers.maxpool2d(h3, 3, 2, 'same')\n",
    "        h3 = tf.nn.dropout(h3, keep_prob) # Regularization\n",
    "        h3 = tf.maximum(h3*alpha, h3) # Leaky ReLu\n",
    "        h3 = tf.layers.batch_normalization(h3)\n",
    "        \n",
    "    with tf.name_scope(\"Hidden_Layer4\"):\n",
    "        h4 = tf.layers.conv1d(h3, h_dim*4, 10, 1, 'same', activation=None)\n",
    "        h4 = tf.nn.dropout(h4, keep_prob) # Regularization\n",
    "        h4 = tf.maximum(h4*alpha, h4) # Leaky ReLu\n",
    "        h4 = tf.layers.batch_normalization(h4)\n",
    "    \n",
    "    \n",
    "    \n",
    "    with tf.name_scope(\"Output\"):\n",
    "        flat_dim = int(h4.get_shape()[1])*int(h4.get_shape()[2])\n",
    "        flat = tf.reshape(h4, [-1, flat_dim])\n",
    "        #print(\"flat: {}\".format(flat.shape))\n",
    "        logits = tf.layers.dense(flat, n_classes, activation=None, name='logits')\n",
    "        #print(\"logits: {}\".format(logits.shape))\n",
    "        #out = tf.nn.softmax(logits, name='softmax_out')\n",
    "\n",
    "    return logits"
   ]
  },
  {
   "cell_type": "markdown",
   "metadata": {},
   "source": [
    "### Show Stats"
   ]
  },
  {
   "cell_type": "code",
   "execution_count": 81,
   "metadata": {
    "collapsed": true
   },
   "outputs": [],
   "source": [
    "def print_stats(session, feature_batch, label_batch, cost, accuracy):\n",
    "    \"\"\"\n",
    "    Print information about loss and validation accuracy\n",
    "    : session: Current TensorFlow session\n",
    "    : feature_batch: Batch of Numpy image data\n",
    "    : label_batch: Batch of Numpy label data\n",
    "    : cost: TensorFlow cost function\n",
    "    : accuracy: TensorFlow accuracy function\n",
    "    \"\"\"\n",
    "    with tf.name_scope(\"Validation_Stats\"):\n",
    "        validation_loss = session.run(cost, feed_dict={x: feature_batch, y: label_batch, keep_prob: 1.0})\n",
    "        validation_accuracy = session.run(accuracy, feed_dict={x: valid_features, y: valid_labels, keep_prob: 1.0})\n",
    "        train_accuracy = session.run(accuracy, feed_dict={x: train_features[:1000], y: train_labels[:1000], keep_prob: 1.0})\n",
    "        print(\"Train Accuracy: {}, Validation Accuracy: {}, Validation Loss: {}\".format(train_accuracy, validation_accuracy, validation_loss))"
   ]
  },
  {
   "cell_type": "markdown",
   "metadata": {},
   "source": [
    "### Build Neural Network"
   ]
  },
  {
   "cell_type": "code",
   "execution_count": 82,
   "metadata": {},
   "outputs": [],
   "source": [
    "# Remove previous weights, bias, inputs, etc..\n",
    "tf.reset_default_graph()\n",
    "\n",
    "# Inputs\n",
    "x, y, learn_rate, keep_prob = model_inputs(data_width, n_classes)\n",
    "\n",
    "#Model\n",
    "logits = network(x, keep_prob, n_classes)\n",
    "\n",
    "with tf.name_scope(\"Cost\"):\n",
    "    # Cost and Optimizer\n",
    "    cost = tf.reduce_mean(tf.nn.softmax_cross_entropy_with_logits(logits=logits, labels=y, name='loss'), name='cost')\n",
    "    \n",
    "with tf.name_scope(\"Train\"):\n",
    "    optimizer = tf.train.AdamOptimizer(learn_rate, name='optimizer').minimize(cost)\n",
    "\n",
    "with tf.name_scope(\"Accuracy\"):\n",
    "    # Accuracy\n",
    "    correct_pred = tf.equal(tf.argmax(logits, 1), tf.argmax(y, 1), name='prediction')\n",
    "    accuracy = tf.reduce_mean(tf.cast(correct_pred, tf.float32), name='accuracy')"
   ]
  },
  {
   "cell_type": "markdown",
   "metadata": {},
   "source": [
    "### Write out the graph for TensorBoard"
   ]
  },
  {
   "cell_type": "code",
   "execution_count": 83,
   "metadata": {
    "collapsed": true
   },
   "outputs": [],
   "source": [
    "with tf.Session() as sess:\n",
    "    sess.run(tf.global_variables_initializer())\n",
    "    file_writer = tf.summary.FileWriter('./logs/2', sess.graph)"
   ]
  },
  {
   "cell_type": "markdown",
   "metadata": {},
   "source": [
    "### Hyperparameters"
   ]
  },
  {
   "cell_type": "code",
   "execution_count": 84,
   "metadata": {
    "collapsed": true
   },
   "outputs": [],
   "source": [
    "epochs = 5000\n",
    "batch_size = 16\n",
    "keep_probability = 0.70\n",
    "learning_rate = 0.0001"
   ]
  },
  {
   "cell_type": "markdown",
   "metadata": {},
   "source": [
    "# Train Neural Network"
   ]
  },
  {
   "cell_type": "code",
   "execution_count": 85,
   "metadata": {},
   "outputs": [
    {
     "name": "stdout",
     "output_type": "stream",
     "text": [
      "12.5%\n"
     ]
    }
   ],
   "source": [
    "# Accuracy to beat (Min of 3 classes)\n",
    "print(\"{:.3}%\".format((1/n_classes)*100))"
   ]
  },
  {
   "cell_type": "code",
   "execution_count": 86,
   "metadata": {
    "scrolled": true
   },
   "outputs": [
    {
     "name": "stdout",
     "output_type": "stream",
     "text": [
      "Training...\n",
      "Epoch 0: Train Accuracy: 0.13199999928474426, Validation Accuracy: 0.1258992850780487, Validation Loss: 2.073786973953247\n",
      "Epoch 1: Train Accuracy: 0.27400001883506775, Validation Accuracy: 0.2755395770072937, Validation Loss: 1.568467617034912\n",
      "Epoch 2: Train Accuracy: 0.30800002813339233, Validation Accuracy: 0.3050360083580017, Validation Loss: 1.4813799858093262\n",
      "Epoch 3: Train Accuracy: 0.4399999976158142, Validation Accuracy: 0.4374100863933563, Validation Loss: 0.9968374967575073\n",
      "Epoch 4: Train Accuracy: 0.4710000157356262, Validation Accuracy: 0.4705035984516144, Validation Loss: 0.7620723247528076\n",
      "Epoch 5: Train Accuracy: 0.5049999356269836, Validation Accuracy: 0.5151079297065735, Validation Loss: 0.7107069492340088\n",
      "Epoch 6: Train Accuracy: 0.5379999876022339, Validation Accuracy: 0.5244604349136353, Validation Loss: 0.6349624395370483\n",
      "Epoch 7: Train Accuracy: 0.5359999537467957, Validation Accuracy: 0.533812940120697, Validation Loss: 0.5715106129646301\n",
      "Epoch 8: Train Accuracy: 0.5719999670982361, Validation Accuracy: 0.5546762943267822, Validation Loss: 0.5418459177017212\n",
      "Epoch 9: Train Accuracy: 0.5830000042915344, Validation Accuracy: 0.5654675960540771, Validation Loss: 0.484868586063385\n",
      "Epoch 10: Train Accuracy: 0.5879999995231628, Validation Accuracy: 0.5741007328033447, Validation Loss: 0.509524405002594\n",
      "Epoch 11: Train Accuracy: 0.6039999723434448, Validation Accuracy: 0.5805755257606506, Validation Loss: 0.4989507794380188\n",
      "Epoch 12: Train Accuracy: 0.6249999403953552, Validation Accuracy: 0.5920863151550293, Validation Loss: 0.4396919012069702\n",
      "Epoch 13: Train Accuracy: 0.6269999742507935, Validation Accuracy: 0.5942445993423462, Validation Loss: 0.4557180404663086\n",
      "Epoch 14: Train Accuracy: 0.6480000019073486, Validation Accuracy: 0.6014388203620911, Validation Loss: 0.37739795446395874\n",
      "Epoch 15: Train Accuracy: 0.6389999389648438, Validation Accuracy: 0.6086331605911255, Validation Loss: 0.36083629727363586\n",
      "Epoch 16: Train Accuracy: 0.6579999327659607, Validation Accuracy: 0.6187050342559814, Validation Loss: 0.3204546272754669\n",
      "Epoch 17: Train Accuracy: 0.6629999876022339, Validation Accuracy: 0.6230216026306152, Validation Loss: 0.35074788331985474\n",
      "Epoch 18: Train Accuracy: 0.6759999394416809, Validation Accuracy: 0.6352517604827881, Validation Loss: 0.3386096954345703\n",
      "Epoch 19: Train Accuracy: 0.6839999556541443, Validation Accuracy: 0.6410071849822998, Validation Loss: 0.29353266954421997\n",
      "Epoch 20: Train Accuracy: 0.6930000185966492, Validation Accuracy: 0.633093535900116, Validation Loss: 0.26227396726608276\n",
      "Epoch 21: Train Accuracy: 0.7120000720024109, Validation Accuracy: 0.6625900268554688, Validation Loss: 0.24727289378643036\n",
      "Epoch 22: Train Accuracy: 0.7130000591278076, Validation Accuracy: 0.661151111125946, Validation Loss: 0.2463855892419815\n",
      "Epoch 23: Train Accuracy: 0.7269999980926514, Validation Accuracy: 0.6733813285827637, Validation Loss: 0.24913665652275085\n",
      "Epoch 24: Train Accuracy: 0.7350000143051147, Validation Accuracy: 0.6863309144973755, Validation Loss: 0.23336157202720642\n",
      "Epoch 25: Train Accuracy: 0.7300000190734863, Validation Accuracy: 0.6928057670593262, Validation Loss: 0.18449988961219788\n",
      "Epoch 26: Train Accuracy: 0.7450000047683716, Validation Accuracy: 0.6942445635795593, Validation Loss: 0.16866770386695862\n",
      "Epoch 27: Train Accuracy: 0.7499999403953552, Validation Accuracy: 0.6964027881622314, Validation Loss: 0.15446817874908447\n",
      "Epoch 28: Train Accuracy: 0.7540000081062317, Validation Accuracy: 0.6956834197044373, Validation Loss: 0.1760762631893158\n",
      "Epoch 29: Train Accuracy: 0.7749999761581421, Validation Accuracy: 0.7093525528907776, Validation Loss: 0.15390446782112122\n",
      "Epoch 30: Train Accuracy: 0.7790000438690186, Validation Accuracy: 0.7194244861602783, Validation Loss: 0.15968090295791626\n",
      "Epoch 31: Train Accuracy: 0.781000018119812, Validation Accuracy: 0.7100719213485718, Validation Loss: 0.15920314192771912\n",
      "Epoch 32: Train Accuracy: 0.7820000052452087, Validation Accuracy: 0.7179856300354004, Validation Loss: 0.12353788316249847\n",
      "Epoch 33: Train Accuracy: 0.7890000343322754, Validation Accuracy: 0.7143884897232056, Validation Loss: 0.1703740954399109\n",
      "Epoch 34: Train Accuracy: 0.800000011920929, Validation Accuracy: 0.7287770509719849, Validation Loss: 0.1173279881477356\n",
      "Epoch 35: Train Accuracy: 0.796000063419342, Validation Accuracy: 0.7187050580978394, Validation Loss: 0.1344691663980484\n",
      "Epoch 36: Train Accuracy: 0.7960000038146973, Validation Accuracy: 0.7237410545349121, Validation Loss: 0.13874630630016327\n",
      "Epoch 37: Train Accuracy: 0.8050000667572021, Validation Accuracy: 0.7215827703475952, Validation Loss: 0.13353773951530457\n",
      "Epoch 38: Train Accuracy: 0.7960000038146973, Validation Accuracy: 0.7151079177856445, Validation Loss: 0.1346178948879242\n",
      "Epoch 39: Train Accuracy: 0.8230000138282776, Validation Accuracy: 0.7352519035339355, Validation Loss: 0.14199241995811462\n",
      "Epoch 40: Train Accuracy: 0.8050000071525574, Validation Accuracy: 0.7287769913673401, Validation Loss: 0.16831915080547333\n",
      "Epoch 41: Train Accuracy: 0.8149999380111694, Validation Accuracy: 0.735251784324646, Validation Loss: 0.09875363111495972\n",
      "Epoch 42: Train Accuracy: 0.8240000605583191, Validation Accuracy: 0.7381294369697571, Validation Loss: 0.10673059523105621\n",
      "Epoch 43: Train Accuracy: 0.8309999704360962, Validation Accuracy: 0.7381294965744019, Validation Loss: 0.08108708262443542\n",
      "Epoch 44: Train Accuracy: 0.8199999332427979, Validation Accuracy: 0.7395683526992798, Validation Loss: 0.15948724746704102\n",
      "Epoch 45: Train Accuracy: 0.8300000429153442, Validation Accuracy: 0.7561150789260864, Validation Loss: 0.12233682721853256\n",
      "Epoch 46: Train Accuracy: 0.8289999961853027, Validation Accuracy: 0.7424460053443909, Validation Loss: 0.1024148017168045\n",
      "Epoch 47: Train Accuracy: 0.8270000219345093, Validation Accuracy: 0.7395683526992798, Validation Loss: 0.07124576717615128\n",
      "Epoch 48: Train Accuracy: 0.8289999961853027, Validation Accuracy: 0.7460431456565857, Validation Loss: 0.08838700503110886\n",
      "Epoch 49: Train Accuracy: 0.8450000286102295, Validation Accuracy: 0.7517985105514526, Validation Loss: 0.07739539444446564\n",
      "Epoch 50: Train Accuracy: 0.8500000238418579, Validation Accuracy: 0.7575539350509644, Validation Loss: 0.13477444648742676\n",
      "Epoch 51: Train Accuracy: 0.8500000834465027, Validation Accuracy: 0.7525179386138916, Validation Loss: 0.09642846882343292\n",
      "Epoch 52: Train Accuracy: 0.8529999852180481, Validation Accuracy: 0.743884801864624, Validation Loss: 0.06501012295484543\n",
      "Epoch 53: Train Accuracy: 0.8469999432563782, Validation Accuracy: 0.7618705034255981, Validation Loss: 0.08023902773857117\n",
      "Epoch 54: Train Accuracy: 0.8580000400543213, Validation Accuracy: 0.7510790824890137, Validation Loss: 0.05753706768155098\n",
      "Epoch 55: Train Accuracy: 0.8520000576972961, Validation Accuracy: 0.7532373666763306, Validation Loss: 0.10416637361049652\n",
      "Epoch 56: Train Accuracy: 0.8640000224113464, Validation Accuracy: 0.7604316473007202, Validation Loss: 0.08900892734527588\n",
      "Epoch 57: Train Accuracy: 0.8650000095367432, Validation Accuracy: 0.7589927911758423, Validation Loss: 0.06045522540807724\n",
      "Epoch 58: Train Accuracy: 0.8750001192092896, Validation Accuracy: 0.7625899314880371, Validation Loss: 0.0662192553281784\n",
      "Epoch 59: Train Accuracy: 0.8859999775886536, Validation Accuracy: 0.7633092999458313, Validation Loss: 0.03846655413508415\n",
      "Epoch 60: Train Accuracy: 0.8730000257492065, Validation Accuracy: 0.7517985105514526, Validation Loss: 0.041756533086299896\n",
      "Epoch 61: Train Accuracy: 0.8830000162124634, Validation Accuracy: 0.7618705034255981, Validation Loss: 0.0504852719604969\n",
      "Epoch 62: Train Accuracy: 0.8709999918937683, Validation Accuracy: 0.7503597140312195, Validation Loss: 0.037276480346918106\n",
      "Epoch 63: Train Accuracy: 0.8769999742507935, Validation Accuracy: 0.7618704438209534, Validation Loss: 0.037041060626506805\n",
      "Epoch 64: Train Accuracy: 0.8920000791549683, Validation Accuracy: 0.7633093595504761, Validation Loss: 0.06366610527038574\n",
      "Epoch 65: Train Accuracy: 0.8999999761581421, Validation Accuracy: 0.765467643737793, Validation Loss: 0.04135884717106819\n",
      "Epoch 66: Train Accuracy: 0.8820000290870667, Validation Accuracy: 0.7546762228012085, Validation Loss: 0.048953909426927567\n"
     ]
    },
    {
     "name": "stdout",
     "output_type": "stream",
     "text": [
      "Epoch 67: Train Accuracy: 0.8820000290870667, Validation Accuracy: 0.7669064998626709, Validation Loss: 0.048953283578157425\n",
      "Epoch 68: Train Accuracy: 0.9049999713897705, Validation Accuracy: 0.7755395174026489, Validation Loss: 0.0366734080016613\n",
      "Epoch 69: Train Accuracy: 0.893000066280365, Validation Accuracy: 0.7597122192382812, Validation Loss: 0.0528397299349308\n",
      "Epoch 70: Train Accuracy: 0.9070000648498535, Validation Accuracy: 0.7769784331321716, Validation Loss: 0.044560112059116364\n",
      "Epoch 71: Train Accuracy: 0.8970000743865967, Validation Accuracy: 0.7669064998626709, Validation Loss: 0.0359061174094677\n",
      "Epoch 72: Train Accuracy: 0.8959999680519104, Validation Accuracy: 0.764748215675354, Validation Loss: 0.016153384000062943\n",
      "Epoch 73: Train Accuracy: 0.8959999680519104, Validation Accuracy: 0.770503580570221, Validation Loss: 0.021857034415006638\n",
      "Epoch 74: Train Accuracy: 0.9040000438690186, Validation Accuracy: 0.7726618051528931, Validation Loss: 0.04115051031112671\n",
      "Epoch 75: Train Accuracy: 0.8930000066757202, Validation Accuracy: 0.768345296382904, Validation Loss: 0.0641196221113205\n",
      "Epoch 76: Train Accuracy: 0.9010000228881836, Validation Accuracy: 0.7733812928199768, Validation Loss: 0.07173284888267517\n",
      "Epoch 77: Train Accuracy: 0.9030000567436218, Validation Accuracy: 0.7748201489448547, Validation Loss: 0.031237013638019562\n",
      "Epoch 78: Train Accuracy: 0.9070000052452087, Validation Accuracy: 0.7741007208824158, Validation Loss: 0.01811045967042446\n",
      "Epoch 79: Train Accuracy: 0.9180000424385071, Validation Accuracy: 0.7820143699645996, Validation Loss: 0.030520770698785782\n",
      "Epoch 80: Train Accuracy: 0.9010000228881836, Validation Accuracy: 0.7712229490280151, Validation Loss: 0.05456521362066269\n",
      "Epoch 81: Train Accuracy: 0.8970000147819519, Validation Accuracy: 0.768345296382904, Validation Loss: 0.027741845697164536\n",
      "Epoch 82: Train Accuracy: 0.9270000457763672, Validation Accuracy: 0.7870503067970276, Validation Loss: 0.010328573174774647\n",
      "Epoch 83: Train Accuracy: 0.9169999957084656, Validation Accuracy: 0.7827338576316833, Validation Loss: 0.011980672366917133\n",
      "Epoch 84: Train Accuracy: 0.9270000457763672, Validation Accuracy: 0.7877697944641113, Validation Loss: 0.01282936055213213\n",
      "Epoch 85: Train Accuracy: 0.9300000667572021, Validation Accuracy: 0.7791366577148438, Validation Loss: 0.0184551440179348\n",
      "Epoch 86: Train Accuracy: 0.9290000796318054, Validation Accuracy: 0.7834532260894775, Validation Loss: 0.022781802341341972\n",
      "Epoch 87: Train Accuracy: 0.9260000586509705, Validation Accuracy: 0.7884891629219055, Validation Loss: 0.025345077738165855\n",
      "Epoch 88: Train Accuracy: 0.9259999990463257, Validation Accuracy: 0.773381233215332, Validation Loss: 0.012215583585202694\n",
      "Epoch 89: Train Accuracy: 0.921000063419342, Validation Accuracy: 0.7812950015068054, Validation Loss: 0.020196782425045967\n",
      "Epoch 90: Train Accuracy: 0.9210000038146973, Validation Accuracy: 0.7776978015899658, Validation Loss: 0.012212524190545082\n",
      "Epoch 91: Train Accuracy: 0.9390000700950623, Validation Accuracy: 0.7863309383392334, Validation Loss: 0.02612384781241417\n",
      "Epoch 92: Train Accuracy: 0.9340000152587891, Validation Accuracy: 0.7805755138397217, Validation Loss: 0.018570508807897568\n",
      "Epoch 93: Train Accuracy: 0.9290000200271606, Validation Accuracy: 0.7755395770072937, Validation Loss: 0.020324818789958954\n",
      "Epoch 94: Train Accuracy: 0.9380000233650208, Validation Accuracy: 0.7834532260894775, Validation Loss: 0.04471985995769501\n",
      "Epoch 95: Train Accuracy: 0.9320000410079956, Validation Accuracy: 0.7784172296524048, Validation Loss: 0.024039341136813164\n",
      "Epoch 96: Train Accuracy: 0.9309999942779541, Validation Accuracy: 0.7884891629219055, Validation Loss: 0.02476869523525238\n",
      "Epoch 97: Train Accuracy: 0.9380000829696655, Validation Accuracy: 0.7920863032341003, Validation Loss: 0.039821039885282516\n",
      "Epoch 98: Train Accuracy: 0.924000084400177, Validation Accuracy: 0.7877697944641113, Validation Loss: 0.053019244223833084\n",
      "Epoch 99: Train Accuracy: 0.9420000314712524, Validation Accuracy: 0.7848920822143555, Validation Loss: 0.00705471308901906\n",
      "Epoch 100: Train Accuracy: 0.9199999570846558, Validation Accuracy: 0.7798560857772827, Validation Loss: 0.005869431421160698\n",
      "Epoch 101: Train Accuracy: 0.9399999976158142, Validation Accuracy: 0.7805755138397217, Validation Loss: 0.00964600220322609\n",
      "Epoch 102: Train Accuracy: 0.952000081539154, Validation Accuracy: 0.794964075088501, Validation Loss: 0.01760898157954216\n",
      "Epoch 103: Train Accuracy: 0.9510000348091125, Validation Accuracy: 0.7870503664016724, Validation Loss: 0.022504787892103195\n",
      "Epoch 104: Train Accuracy: 0.9450000524520874, Validation Accuracy: 0.7870503664016724, Validation Loss: 0.018502861261367798\n",
      "Epoch 105: Train Accuracy: 0.9590000510215759, Validation Accuracy: 0.7856115102767944, Validation Loss: 0.005791518371552229\n",
      "Epoch 106: Train Accuracy: 0.9559999704360962, Validation Accuracy: 0.7820143699645996, Validation Loss: 0.006661722436547279\n",
      "Epoch 107: Train Accuracy: 0.9440000653266907, Validation Accuracy: 0.7870503664016724, Validation Loss: 0.008434217423200607\n",
      "Epoch 108: Train Accuracy: 0.9309999942779541, Validation Accuracy: 0.7769783735275269, Validation Loss: 0.0307460930198431\n",
      "Epoch 109: Train Accuracy: 0.9549999833106995, Validation Accuracy: 0.7884892225265503, Validation Loss: 0.006640562787652016\n",
      "Epoch 110: Train Accuracy: 0.9610000848770142, Validation Accuracy: 0.7906475067138672, Validation Loss: 0.0066887084394693375\n",
      "Epoch 111: Train Accuracy: 0.9540001153945923, Validation Accuracy: 0.7877697944641113, Validation Loss: 0.007635687477886677\n",
      "Epoch 112: Train Accuracy: 0.9480000138282776, Validation Accuracy: 0.7834532856941223, Validation Loss: 0.004160042852163315\n",
      "Epoch 113: Train Accuracy: 0.9630001187324524, Validation Accuracy: 0.7949639558792114, Validation Loss: 0.008603011257946491\n",
      "Epoch 114: Train Accuracy: 0.9540001153945923, Validation Accuracy: 0.7870503664016724, Validation Loss: 0.015315581113100052\n",
      "Epoch 115: Train Accuracy: 0.9490001201629639, Validation Accuracy: 0.7870503664016724, Validation Loss: 0.009304186329245567\n",
      "Epoch 116: Train Accuracy: 0.9630001187324524, Validation Accuracy: 0.7978417873382568, Validation Loss: 0.006755777634680271\n",
      "Epoch 117: Train Accuracy: 0.9480000734329224, Validation Accuracy: 0.7884891629219055, Validation Loss: 0.010800512507557869\n",
      "Epoch 118: Train Accuracy: 0.9760000109672546, Validation Accuracy: 0.7949639558792114, Validation Loss: 0.010797609575092793\n",
      "Epoch 119: Train Accuracy: 0.9739999771118164, Validation Accuracy: 0.7913669347763062, Validation Loss: 0.005673224106431007\n",
      "Epoch 120: Train Accuracy: 0.9720000624656677, Validation Accuracy: 0.7999999523162842, Validation Loss: 0.007296424824744463\n",
      "Epoch 121: Train Accuracy: 0.9479999542236328, Validation Accuracy: 0.7827337980270386, Validation Loss: 0.0031351265497505665\n",
      "Epoch 122: Train Accuracy: 0.9720000624656677, Validation Accuracy: 0.7964029312133789, Validation Loss: 0.0025625224225223064\n",
      "Epoch 123: Train Accuracy: 0.9630000591278076, Validation Accuracy: 0.7769784331321716, Validation Loss: 0.00851487461477518\n",
      "Epoch 124: Train Accuracy: 0.9640001058578491, Validation Accuracy: 0.7971222400665283, Validation Loss: 0.005631741136312485\n",
      "Epoch 125: Train Accuracy: 0.9720000624656677, Validation Accuracy: 0.7870503664016724, Validation Loss: 0.038334839046001434\n",
      "Epoch 126: Train Accuracy: 0.9690000414848328, Validation Accuracy: 0.7884891629219055, Validation Loss: 0.0023166309110820293\n",
      "Epoch 127: Train Accuracy: 0.9740000367164612, Validation Accuracy: 0.7892086505889893, Validation Loss: 0.001338415197096765\n",
      "Epoch 128: Train Accuracy: 0.968000054359436, Validation Accuracy: 0.7949640154838562, Validation Loss: 0.0031242589466273785\n",
      "Epoch 129: Train Accuracy: 0.9779999852180481, Validation Accuracy: 0.7856115102767944, Validation Loss: 0.0030672946013510227\n",
      "Epoch 130: Train Accuracy: 0.9650000333786011, Validation Accuracy: 0.7956833839416504, Validation Loss: 0.009515475481748581\n",
      "Epoch 131: Train Accuracy: 0.9650000929832458, Validation Accuracy: 0.7892086505889893, Validation Loss: 0.004488032311201096\n",
      "Epoch 132: Train Accuracy: 0.9620000123977661, Validation Accuracy: 0.793525218963623, Validation Loss: 0.0027478125412017107\n"
     ]
    },
    {
     "name": "stdout",
     "output_type": "stream",
     "text": [
      "Epoch 133: Train Accuracy: 0.9620000720024109, Validation Accuracy: 0.7913669347763062, Validation Loss: 0.003483843756839633\n",
      "Epoch 134: Train Accuracy: 0.9670000076293945, Validation Accuracy: 0.7964028716087341, Validation Loss: 0.001979847438633442\n",
      "Epoch 135: Train Accuracy: 0.9660000205039978, Validation Accuracy: 0.7906475067138672, Validation Loss: 0.0011053240159526467\n",
      "Epoch 136: Train Accuracy: 0.9800000786781311, Validation Accuracy: 0.798561155796051, Validation Loss: 0.0023178430274128914\n",
      "Epoch 137: Train Accuracy: 0.9709999561309814, Validation Accuracy: 0.7956833839416504, Validation Loss: 0.0024570815730839968\n",
      "Epoch 138: Train Accuracy: 0.9790000319480896, Validation Accuracy: 0.7964028716087341, Validation Loss: 0.002053885255008936\n",
      "Epoch 139: Train Accuracy: 0.9800000190734863, Validation Accuracy: 0.7978417277336121, Validation Loss: 0.00297602079808712\n",
      "Epoch 140: Train Accuracy: 0.9790000319480896, Validation Accuracy: 0.798561155796051, Validation Loss: 0.0024371116887778044\n",
      "Epoch 141: Train Accuracy: 0.9780000448226929, Validation Accuracy: 0.7978417277336121, Validation Loss: 0.001574622350744903\n",
      "Epoch 142: Train Accuracy: 0.9829999208450317, Validation Accuracy: 0.7978417873382568, Validation Loss: 0.0015996546717360616\n",
      "Epoch 143: Train Accuracy: 0.9740000367164612, Validation Accuracy: 0.7935251593589783, Validation Loss: 0.001852388959378004\n",
      "Epoch 144: Train Accuracy: 0.9740000367164612, Validation Accuracy: 0.7899280190467834, Validation Loss: 0.005056312307715416\n",
      "Epoch 145: Train Accuracy: 0.9739999771118164, Validation Accuracy: 0.7942445874214172, Validation Loss: 0.0035098539665341377\n",
      "Epoch 146: Train Accuracy: 0.9470000863075256, Validation Accuracy: 0.774100661277771, Validation Loss: 0.005533641669899225\n",
      "Epoch 147: Train Accuracy: 0.9850000143051147, Validation Accuracy: 0.7935251593589783, Validation Loss: 0.004908729810267687\n",
      "Epoch 148: Train Accuracy: 0.9760000705718994, Validation Accuracy: 0.7942445874214172, Validation Loss: 0.005079076625406742\n",
      "Epoch 149: Train Accuracy: 0.9760000109672546, Validation Accuracy: 0.7999999523162842, Validation Loss: 0.0017182512674480677\n",
      "Epoch 150: Train Accuracy: 0.9769999980926514, Validation Accuracy: 0.7964028716087341, Validation Loss: 0.0027490488719195127\n",
      "Epoch 151: Train Accuracy: 0.9880000352859497, Validation Accuracy: 0.7863308787345886, Validation Loss: 0.002587856724858284\n",
      "Epoch 152: Train Accuracy: 0.9819999933242798, Validation Accuracy: 0.7964028716087341, Validation Loss: 0.001493783318437636\n",
      "Epoch 153: Train Accuracy: 0.9880000352859497, Validation Accuracy: 0.8014388084411621, Validation Loss: 0.003861997276544571\n",
      "Epoch 154: Train Accuracy: 0.984000027179718, Validation Accuracy: 0.7971222996711731, Validation Loss: 0.0026635201647877693\n"
     ]
    },
    {
     "ename": "KeyboardInterrupt",
     "evalue": "",
     "output_type": "error",
     "traceback": [
      "\u001b[1;31m---------------------------------------------------------------------------\u001b[0m",
      "\u001b[1;31mKeyboardInterrupt\u001b[0m                         Traceback (most recent call last)",
      "\u001b[1;32m<ipython-input-86-1582e972384e>\u001b[0m in \u001b[0;36m<module>\u001b[1;34m()\u001b[0m\n\u001b[0;32m     13\u001b[0m                                            \u001b[0my\u001b[0m\u001b[1;33m:\u001b[0m \u001b[0mbatch_labels\u001b[0m\u001b[1;33m,\u001b[0m\u001b[1;33m\u001b[0m\u001b[0m\n\u001b[0;32m     14\u001b[0m                                            \u001b[0mlearn_rate\u001b[0m\u001b[1;33m:\u001b[0m \u001b[0mlearning_rate\u001b[0m\u001b[1;33m,\u001b[0m\u001b[1;33m\u001b[0m\u001b[0m\n\u001b[1;32m---> 15\u001b[1;33m                                            keep_prob: keep_probability})\n\u001b[0m\u001b[0;32m     16\u001b[0m         \u001b[1;32mif\u001b[0m \u001b[0mepoch\u001b[0m \u001b[1;33m%\u001b[0m \u001b[1;36m1\u001b[0m \u001b[1;33m==\u001b[0m \u001b[1;36m0\u001b[0m\u001b[1;33m:\u001b[0m\u001b[1;33m\u001b[0m\u001b[0m\n\u001b[0;32m     17\u001b[0m             \u001b[0mprint\u001b[0m\u001b[1;33m(\u001b[0m\u001b[1;34m'Epoch {}: '\u001b[0m\u001b[1;33m.\u001b[0m\u001b[0mformat\u001b[0m\u001b[1;33m(\u001b[0m\u001b[0mepoch\u001b[0m\u001b[1;33m)\u001b[0m\u001b[1;33m,\u001b[0m \u001b[0mend\u001b[0m\u001b[1;33m=\u001b[0m\u001b[1;34m''\u001b[0m\u001b[1;33m)\u001b[0m\u001b[1;33m\u001b[0m\u001b[0m\n",
      "\u001b[1;32m~\\AppData\\Local\\conda\\conda\\envs\\tfgpu1.1\\lib\\site-packages\\tensorflow\\python\\client\\session.py\u001b[0m in \u001b[0;36mrun\u001b[1;34m(self, fetches, feed_dict, options, run_metadata)\u001b[0m\n\u001b[0;32m    776\u001b[0m     \u001b[1;32mtry\u001b[0m\u001b[1;33m:\u001b[0m\u001b[1;33m\u001b[0m\u001b[0m\n\u001b[0;32m    777\u001b[0m       result = self._run(None, fetches, feed_dict, options_ptr,\n\u001b[1;32m--> 778\u001b[1;33m                          run_metadata_ptr)\n\u001b[0m\u001b[0;32m    779\u001b[0m       \u001b[1;32mif\u001b[0m \u001b[0mrun_metadata\u001b[0m\u001b[1;33m:\u001b[0m\u001b[1;33m\u001b[0m\u001b[0m\n\u001b[0;32m    780\u001b[0m         \u001b[0mproto_data\u001b[0m \u001b[1;33m=\u001b[0m \u001b[0mtf_session\u001b[0m\u001b[1;33m.\u001b[0m\u001b[0mTF_GetBuffer\u001b[0m\u001b[1;33m(\u001b[0m\u001b[0mrun_metadata_ptr\u001b[0m\u001b[1;33m)\u001b[0m\u001b[1;33m\u001b[0m\u001b[0m\n",
      "\u001b[1;32m~\\AppData\\Local\\conda\\conda\\envs\\tfgpu1.1\\lib\\site-packages\\tensorflow\\python\\client\\session.py\u001b[0m in \u001b[0;36m_run\u001b[1;34m(self, handle, fetches, feed_dict, options, run_metadata)\u001b[0m\n\u001b[0;32m    980\u001b[0m     \u001b[1;32mif\u001b[0m \u001b[0mfinal_fetches\u001b[0m \u001b[1;32mor\u001b[0m \u001b[0mfinal_targets\u001b[0m\u001b[1;33m:\u001b[0m\u001b[1;33m\u001b[0m\u001b[0m\n\u001b[0;32m    981\u001b[0m       results = self._do_run(handle, final_targets, final_fetches,\n\u001b[1;32m--> 982\u001b[1;33m                              feed_dict_string, options, run_metadata)\n\u001b[0m\u001b[0;32m    983\u001b[0m     \u001b[1;32melse\u001b[0m\u001b[1;33m:\u001b[0m\u001b[1;33m\u001b[0m\u001b[0m\n\u001b[0;32m    984\u001b[0m       \u001b[0mresults\u001b[0m \u001b[1;33m=\u001b[0m \u001b[1;33m[\u001b[0m\u001b[1;33m]\u001b[0m\u001b[1;33m\u001b[0m\u001b[0m\n",
      "\u001b[1;32m~\\AppData\\Local\\conda\\conda\\envs\\tfgpu1.1\\lib\\site-packages\\tensorflow\\python\\client\\session.py\u001b[0m in \u001b[0;36m_do_run\u001b[1;34m(self, handle, target_list, fetch_list, feed_dict, options, run_metadata)\u001b[0m\n\u001b[0;32m   1030\u001b[0m     \u001b[1;32mif\u001b[0m \u001b[0mhandle\u001b[0m \u001b[1;32mis\u001b[0m \u001b[1;32mNone\u001b[0m\u001b[1;33m:\u001b[0m\u001b[1;33m\u001b[0m\u001b[0m\n\u001b[0;32m   1031\u001b[0m       return self._do_call(_run_fn, self._session, feed_dict, fetch_list,\n\u001b[1;32m-> 1032\u001b[1;33m                            target_list, options, run_metadata)\n\u001b[0m\u001b[0;32m   1033\u001b[0m     \u001b[1;32melse\u001b[0m\u001b[1;33m:\u001b[0m\u001b[1;33m\u001b[0m\u001b[0m\n\u001b[0;32m   1034\u001b[0m       return self._do_call(_prun_fn, self._session, handle, feed_dict,\n",
      "\u001b[1;32m~\\AppData\\Local\\conda\\conda\\envs\\tfgpu1.1\\lib\\site-packages\\tensorflow\\python\\client\\session.py\u001b[0m in \u001b[0;36m_do_call\u001b[1;34m(self, fn, *args)\u001b[0m\n\u001b[0;32m   1037\u001b[0m   \u001b[1;32mdef\u001b[0m \u001b[0m_do_call\u001b[0m\u001b[1;33m(\u001b[0m\u001b[0mself\u001b[0m\u001b[1;33m,\u001b[0m \u001b[0mfn\u001b[0m\u001b[1;33m,\u001b[0m \u001b[1;33m*\u001b[0m\u001b[0margs\u001b[0m\u001b[1;33m)\u001b[0m\u001b[1;33m:\u001b[0m\u001b[1;33m\u001b[0m\u001b[0m\n\u001b[0;32m   1038\u001b[0m     \u001b[1;32mtry\u001b[0m\u001b[1;33m:\u001b[0m\u001b[1;33m\u001b[0m\u001b[0m\n\u001b[1;32m-> 1039\u001b[1;33m       \u001b[1;32mreturn\u001b[0m \u001b[0mfn\u001b[0m\u001b[1;33m(\u001b[0m\u001b[1;33m*\u001b[0m\u001b[0margs\u001b[0m\u001b[1;33m)\u001b[0m\u001b[1;33m\u001b[0m\u001b[0m\n\u001b[0m\u001b[0;32m   1040\u001b[0m     \u001b[1;32mexcept\u001b[0m \u001b[0merrors\u001b[0m\u001b[1;33m.\u001b[0m\u001b[0mOpError\u001b[0m \u001b[1;32mas\u001b[0m \u001b[0me\u001b[0m\u001b[1;33m:\u001b[0m\u001b[1;33m\u001b[0m\u001b[0m\n\u001b[0;32m   1041\u001b[0m       \u001b[0mmessage\u001b[0m \u001b[1;33m=\u001b[0m \u001b[0mcompat\u001b[0m\u001b[1;33m.\u001b[0m\u001b[0mas_text\u001b[0m\u001b[1;33m(\u001b[0m\u001b[0me\u001b[0m\u001b[1;33m.\u001b[0m\u001b[0mmessage\u001b[0m\u001b[1;33m)\u001b[0m\u001b[1;33m\u001b[0m\u001b[0m\n",
      "\u001b[1;32m~\\AppData\\Local\\conda\\conda\\envs\\tfgpu1.1\\lib\\site-packages\\tensorflow\\python\\client\\session.py\u001b[0m in \u001b[0;36m_run_fn\u001b[1;34m(session, feed_dict, fetch_list, target_list, options, run_metadata)\u001b[0m\n\u001b[0;32m   1019\u001b[0m         return tf_session.TF_Run(session, options,\n\u001b[0;32m   1020\u001b[0m                                  \u001b[0mfeed_dict\u001b[0m\u001b[1;33m,\u001b[0m \u001b[0mfetch_list\u001b[0m\u001b[1;33m,\u001b[0m \u001b[0mtarget_list\u001b[0m\u001b[1;33m,\u001b[0m\u001b[1;33m\u001b[0m\u001b[0m\n\u001b[1;32m-> 1021\u001b[1;33m                                  status, run_metadata)\n\u001b[0m\u001b[0;32m   1022\u001b[0m \u001b[1;33m\u001b[0m\u001b[0m\n\u001b[0;32m   1023\u001b[0m     \u001b[1;32mdef\u001b[0m \u001b[0m_prun_fn\u001b[0m\u001b[1;33m(\u001b[0m\u001b[0msession\u001b[0m\u001b[1;33m,\u001b[0m \u001b[0mhandle\u001b[0m\u001b[1;33m,\u001b[0m \u001b[0mfeed_dict\u001b[0m\u001b[1;33m,\u001b[0m \u001b[0mfetch_list\u001b[0m\u001b[1;33m)\u001b[0m\u001b[1;33m:\u001b[0m\u001b[1;33m\u001b[0m\u001b[0m\n",
      "\u001b[1;31mKeyboardInterrupt\u001b[0m: "
     ]
    }
   ],
   "source": [
    "save_model_path = './key_classification'\n",
    "\n",
    "print('Training...')\n",
    "with tf.Session() as sess:\n",
    "    # Initialize the variables\n",
    "    sess.run(tf.global_variables_initializer())\n",
    "    \n",
    "    # Training cycle\n",
    "    for epoch in range(epochs):\n",
    "        # Loop over all batches\n",
    "        for batch_features, batch_labels in get_batches(train_features, train_labels, batch_size):\n",
    "            sess.run(optimizer, feed_dict={x: batch_features, \n",
    "                                           y: batch_labels, \n",
    "                                           learn_rate: learning_rate, \n",
    "                                           keep_prob: keep_probability})\n",
    "        if epoch % 1 == 0:\n",
    "            print('Epoch {}: '.format(epoch), end='')\n",
    "            print_stats(sess, batch_features, batch_labels, cost, accuracy)         \n",
    "            \n",
    "    saver = tf.train.Saver()\n",
    "    save_path = saver.save(sess, save_model_path)"
   ]
  },
  {
   "cell_type": "markdown",
   "metadata": {
    "collapsed": true
   },
   "source": [
    "### Test Model"
   ]
  },
  {
   "cell_type": "code",
   "execution_count": null,
   "metadata": {
    "collapsed": true
   },
   "outputs": [],
   "source": [
    "loaded_graph = tf.Graph()\n",
    "\n",
    "with tf.Session(graph=loaded_graph) as sess:"
   ]
  }
 ],
 "metadata": {
  "kernelspec": {
   "display_name": "Python 3",
   "language": "python",
   "name": "python3"
  },
  "language_info": {
   "codemirror_mode": {
    "name": "ipython",
    "version": 3
   },
   "file_extension": ".py",
   "mimetype": "text/x-python",
   "name": "python",
   "nbconvert_exporter": "python",
   "pygments_lexer": "ipython3",
   "version": "3.5.3"
  }
 },
 "nbformat": 4,
 "nbformat_minor": 2
}
